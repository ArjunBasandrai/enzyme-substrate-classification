{
 "cells": [
  {
   "cell_type": "markdown",
   "id": "f9ef1670",
   "metadata": {
    "papermill": {
     "duration": 0.016395,
     "end_time": "2023-06-28T11:46:48.783014",
     "exception": false,
     "start_time": "2023-06-28T11:46:48.766619",
     "status": "completed"
    },
    "tags": []
   },
   "source": [
    "# 1. Importing necessary libraries "
   ]
  },
  {
   "cell_type": "code",
   "execution_count": 1,
   "id": "81211138",
   "metadata": {
    "_cell_guid": "b1076dfc-b9ad-4769-8c92-a6c4dae69d19",
    "_uuid": "8f2839f25d086af736a60e9eeb907d3b93b6e0e5",
    "execution": {
     "iopub.execute_input": "2023-06-28T11:46:48.817405Z",
     "iopub.status.busy": "2023-06-28T11:46:48.817026Z",
     "iopub.status.idle": "2023-06-28T11:46:52.930193Z",
     "shell.execute_reply": "2023-06-28T11:46:52.928956Z"
    },
    "papermill": {
     "duration": 4.134034,
     "end_time": "2023-06-28T11:46:52.933103",
     "exception": false,
     "start_time": "2023-06-28T11:46:48.799069",
     "status": "completed"
    },
    "tags": []
   },
   "outputs": [],
   "source": [
    "import numpy as np\n",
    "import pandas as pd\n",
    "\n",
    "from sklearn.model_selection import train_test_split\n",
    "from sklearn.preprocessing import MinMaxScaler\n",
    "from sklearn.metrics import roc_auc_score\n",
    "from sklearn.ensemble import VotingClassifier\n",
    "pd.set_option(\"display.max_columns\",500)\n",
    "\n",
    "from catboost import CatBoostClassifier\n",
    "from lightgbm import LGBMClassifier\n",
    "from xgboost import XGBClassifier\n",
    "\n",
    "import optuna"
   ]
  },
  {
   "cell_type": "markdown",
   "id": "626622c9",
   "metadata": {
    "papermill": {
     "duration": 0.015502,
     "end_time": "2023-06-28T11:46:52.965055",
     "exception": false,
     "start_time": "2023-06-28T11:46:52.949553",
     "status": "completed"
    },
    "tags": []
   },
   "source": [
    "# 2. Importing the dataset"
   ]
  },
  {
   "cell_type": "code",
   "execution_count": 2,
   "id": "5bd74a64",
   "metadata": {
    "execution": {
     "iopub.execute_input": "2023-06-28T11:46:52.999175Z",
     "iopub.status.busy": "2023-06-28T11:46:52.998746Z",
     "iopub.status.idle": "2023-06-28T11:46:53.269230Z",
     "shell.execute_reply": "2023-06-28T11:46:53.268396Z"
    },
    "papermill": {
     "duration": 0.291261,
     "end_time": "2023-06-28T11:46:53.272212",
     "exception": false,
     "start_time": "2023-06-28T11:46:52.980951",
     "status": "completed"
    },
    "tags": []
   },
   "outputs": [],
   "source": [
    "train = pd.read_csv('/kaggle/input/playground-series-s3e18/train.csv')\n",
    "test = pd.read_csv('/kaggle/input/playground-series-s3e18/test.csv')"
   ]
  },
  {
   "cell_type": "code",
   "execution_count": 3,
   "id": "c82b332c",
   "metadata": {
    "execution": {
     "iopub.execute_input": "2023-06-28T11:46:53.306144Z",
     "iopub.status.busy": "2023-06-28T11:46:53.305197Z",
     "iopub.status.idle": "2023-06-28T11:46:53.374363Z",
     "shell.execute_reply": "2023-06-28T11:46:53.373283Z"
    },
    "papermill": {
     "duration": 0.089225,
     "end_time": "2023-06-28T11:46:53.377290",
     "exception": false,
     "start_time": "2023-06-28T11:46:53.288065",
     "status": "completed"
    },
    "tags": []
   },
   "outputs": [
    {
     "data": {
      "text/html": [
       "<div>\n",
       "<style scoped>\n",
       "    .dataframe tbody tr th:only-of-type {\n",
       "        vertical-align: middle;\n",
       "    }\n",
       "\n",
       "    .dataframe tbody tr th {\n",
       "        vertical-align: top;\n",
       "    }\n",
       "\n",
       "    .dataframe thead th {\n",
       "        text-align: right;\n",
       "    }\n",
       "</style>\n",
       "<table border=\"1\" class=\"dataframe\">\n",
       "  <thead>\n",
       "    <tr style=\"text-align: right;\">\n",
       "      <th></th>\n",
       "      <th>id</th>\n",
       "      <th>BertzCT</th>\n",
       "      <th>Chi1</th>\n",
       "      <th>Chi1n</th>\n",
       "      <th>Chi1v</th>\n",
       "      <th>Chi2n</th>\n",
       "      <th>Chi2v</th>\n",
       "      <th>Chi3v</th>\n",
       "      <th>Chi4n</th>\n",
       "      <th>EState_VSA1</th>\n",
       "      <th>EState_VSA2</th>\n",
       "      <th>ExactMolWt</th>\n",
       "      <th>FpDensityMorgan1</th>\n",
       "      <th>FpDensityMorgan2</th>\n",
       "      <th>FpDensityMorgan3</th>\n",
       "      <th>HallKierAlpha</th>\n",
       "      <th>HeavyAtomMolWt</th>\n",
       "      <th>Kappa3</th>\n",
       "      <th>MaxAbsEStateIndex</th>\n",
       "      <th>MinEStateIndex</th>\n",
       "      <th>NumHeteroatoms</th>\n",
       "      <th>PEOE_VSA10</th>\n",
       "      <th>PEOE_VSA14</th>\n",
       "      <th>PEOE_VSA6</th>\n",
       "      <th>PEOE_VSA7</th>\n",
       "      <th>PEOE_VSA8</th>\n",
       "      <th>SMR_VSA10</th>\n",
       "      <th>SMR_VSA5</th>\n",
       "      <th>SlogP_VSA3</th>\n",
       "      <th>VSA_EState9</th>\n",
       "      <th>fr_COO</th>\n",
       "      <th>fr_COO2</th>\n",
       "      <th>EC1</th>\n",
       "      <th>EC2</th>\n",
       "      <th>EC3</th>\n",
       "      <th>EC4</th>\n",
       "      <th>EC5</th>\n",
       "      <th>EC6</th>\n",
       "    </tr>\n",
       "  </thead>\n",
       "  <tbody>\n",
       "    <tr>\n",
       "      <th>0</th>\n",
       "      <td>0</td>\n",
       "      <td>323.390782</td>\n",
       "      <td>9.879918</td>\n",
       "      <td>5.875576</td>\n",
       "      <td>5.875576</td>\n",
       "      <td>4.304757</td>\n",
       "      <td>4.304757</td>\n",
       "      <td>2.754513</td>\n",
       "      <td>1.749203</td>\n",
       "      <td>0.000000</td>\n",
       "      <td>11.938294</td>\n",
       "      <td>222.068080</td>\n",
       "      <td>1.181818</td>\n",
       "      <td>1.727273</td>\n",
       "      <td>2.363636</td>\n",
       "      <td>-0.24</td>\n",
       "      <td>212.163</td>\n",
       "      <td>8.170000</td>\n",
       "      <td>11.922504</td>\n",
       "      <td>0.171585</td>\n",
       "      <td>4</td>\n",
       "      <td>0.000000</td>\n",
       "      <td>91.536492</td>\n",
       "      <td>0.000000</td>\n",
       "      <td>0.000000</td>\n",
       "      <td>0.000000</td>\n",
       "      <td>17.744066</td>\n",
       "      <td>0.000000</td>\n",
       "      <td>4.794537</td>\n",
       "      <td>35.527357</td>\n",
       "      <td>0</td>\n",
       "      <td>0</td>\n",
       "      <td>1</td>\n",
       "      <td>1</td>\n",
       "      <td>0</td>\n",
       "      <td>0</td>\n",
       "      <td>0</td>\n",
       "      <td>0</td>\n",
       "    </tr>\n",
       "    <tr>\n",
       "      <th>1</th>\n",
       "      <td>1</td>\n",
       "      <td>273.723798</td>\n",
       "      <td>7.259037</td>\n",
       "      <td>4.441467</td>\n",
       "      <td>5.834958</td>\n",
       "      <td>3.285046</td>\n",
       "      <td>4.485235</td>\n",
       "      <td>2.201375</td>\n",
       "      <td>1.289775</td>\n",
       "      <td>45.135471</td>\n",
       "      <td>0.000000</td>\n",
       "      <td>260.029719</td>\n",
       "      <td>1.346154</td>\n",
       "      <td>2.076923</td>\n",
       "      <td>2.769231</td>\n",
       "      <td>-0.09</td>\n",
       "      <td>247.031</td>\n",
       "      <td>3.201491</td>\n",
       "      <td>10.932338</td>\n",
       "      <td>-4.830450</td>\n",
       "      <td>10</td>\n",
       "      <td>24.415866</td>\n",
       "      <td>7.822697</td>\n",
       "      <td>0.000000</td>\n",
       "      <td>0.000000</td>\n",
       "      <td>0.000000</td>\n",
       "      <td>7.822697</td>\n",
       "      <td>30.705892</td>\n",
       "      <td>13.825658</td>\n",
       "      <td>44.707310</td>\n",
       "      <td>0</td>\n",
       "      <td>0</td>\n",
       "      <td>0</td>\n",
       "      <td>1</td>\n",
       "      <td>1</td>\n",
       "      <td>0</td>\n",
       "      <td>0</td>\n",
       "      <td>0</td>\n",
       "    </tr>\n",
       "    <tr>\n",
       "      <th>2</th>\n",
       "      <td>2</td>\n",
       "      <td>521.643822</td>\n",
       "      <td>10.911303</td>\n",
       "      <td>8.527859</td>\n",
       "      <td>11.050864</td>\n",
       "      <td>6.665291</td>\n",
       "      <td>9.519706</td>\n",
       "      <td>5.824822</td>\n",
       "      <td>1.770579</td>\n",
       "      <td>15.645394</td>\n",
       "      <td>6.606882</td>\n",
       "      <td>382.131027</td>\n",
       "      <td>1.085714</td>\n",
       "      <td>1.742857</td>\n",
       "      <td>2.400000</td>\n",
       "      <td>-0.78</td>\n",
       "      <td>354.106</td>\n",
       "      <td>15.033890</td>\n",
       "      <td>11.238048</td>\n",
       "      <td>-5.066255</td>\n",
       "      <td>9</td>\n",
       "      <td>0.000000</td>\n",
       "      <td>15.645394</td>\n",
       "      <td>0.000000</td>\n",
       "      <td>53.378235</td>\n",
       "      <td>0.000000</td>\n",
       "      <td>15.645394</td>\n",
       "      <td>73.143616</td>\n",
       "      <td>17.964475</td>\n",
       "      <td>45.660120</td>\n",
       "      <td>0</td>\n",
       "      <td>0</td>\n",
       "      <td>1</td>\n",
       "      <td>1</td>\n",
       "      <td>0</td>\n",
       "      <td>0</td>\n",
       "      <td>1</td>\n",
       "      <td>0</td>\n",
       "    </tr>\n",
       "    <tr>\n",
       "      <th>3</th>\n",
       "      <td>3</td>\n",
       "      <td>567.431166</td>\n",
       "      <td>12.453343</td>\n",
       "      <td>7.089119</td>\n",
       "      <td>12.833709</td>\n",
       "      <td>6.478023</td>\n",
       "      <td>10.978151</td>\n",
       "      <td>7.914542</td>\n",
       "      <td>3.067181</td>\n",
       "      <td>95.639554</td>\n",
       "      <td>0.000000</td>\n",
       "      <td>530.070277</td>\n",
       "      <td>1.162791</td>\n",
       "      <td>1.573770</td>\n",
       "      <td>2.270270</td>\n",
       "      <td>-1.30</td>\n",
       "      <td>506.124</td>\n",
       "      <td>6.724301</td>\n",
       "      <td>11.171170</td>\n",
       "      <td>-5.276575</td>\n",
       "      <td>19</td>\n",
       "      <td>42.727765</td>\n",
       "      <td>21.335138</td>\n",
       "      <td>0.000000</td>\n",
       "      <td>0.000000</td>\n",
       "      <td>6.420822</td>\n",
       "      <td>15.645394</td>\n",
       "      <td>62.107304</td>\n",
       "      <td>31.961948</td>\n",
       "      <td>87.509997</td>\n",
       "      <td>0</td>\n",
       "      <td>0</td>\n",
       "      <td>1</td>\n",
       "      <td>1</td>\n",
       "      <td>0</td>\n",
       "      <td>0</td>\n",
       "      <td>0</td>\n",
       "      <td>0</td>\n",
       "    </tr>\n",
       "    <tr>\n",
       "      <th>4</th>\n",
       "      <td>4</td>\n",
       "      <td>112.770735</td>\n",
       "      <td>4.414719</td>\n",
       "      <td>2.866236</td>\n",
       "      <td>2.866236</td>\n",
       "      <td>1.875634</td>\n",
       "      <td>1.875634</td>\n",
       "      <td>1.036450</td>\n",
       "      <td>0.727664</td>\n",
       "      <td>17.980451</td>\n",
       "      <td>12.841643</td>\n",
       "      <td>118.062994</td>\n",
       "      <td>1.444444</td>\n",
       "      <td>2.111111</td>\n",
       "      <td>2.555556</td>\n",
       "      <td>-1.10</td>\n",
       "      <td>108.056</td>\n",
       "      <td>3.931272</td>\n",
       "      <td>9.855741</td>\n",
       "      <td>-1.676296</td>\n",
       "      <td>4</td>\n",
       "      <td>6.041841</td>\n",
       "      <td>11.938611</td>\n",
       "      <td>6.923737</td>\n",
       "      <td>19.386400</td>\n",
       "      <td>0.000000</td>\n",
       "      <td>11.938611</td>\n",
       "      <td>18.883484</td>\n",
       "      <td>9.589074</td>\n",
       "      <td>33.333333</td>\n",
       "      <td>2</td>\n",
       "      <td>2</td>\n",
       "      <td>1</td>\n",
       "      <td>0</td>\n",
       "      <td>1</td>\n",
       "      <td>1</td>\n",
       "      <td>1</td>\n",
       "      <td>0</td>\n",
       "    </tr>\n",
       "    <tr>\n",
       "      <th>...</th>\n",
       "      <td>...</td>\n",
       "      <td>...</td>\n",
       "      <td>...</td>\n",
       "      <td>...</td>\n",
       "      <td>...</td>\n",
       "      <td>...</td>\n",
       "      <td>...</td>\n",
       "      <td>...</td>\n",
       "      <td>...</td>\n",
       "      <td>...</td>\n",
       "      <td>...</td>\n",
       "      <td>...</td>\n",
       "      <td>...</td>\n",
       "      <td>...</td>\n",
       "      <td>...</td>\n",
       "      <td>...</td>\n",
       "      <td>...</td>\n",
       "      <td>...</td>\n",
       "      <td>...</td>\n",
       "      <td>...</td>\n",
       "      <td>...</td>\n",
       "      <td>...</td>\n",
       "      <td>...</td>\n",
       "      <td>...</td>\n",
       "      <td>...</td>\n",
       "      <td>...</td>\n",
       "      <td>...</td>\n",
       "      <td>...</td>\n",
       "      <td>...</td>\n",
       "      <td>...</td>\n",
       "      <td>...</td>\n",
       "      <td>...</td>\n",
       "      <td>...</td>\n",
       "      <td>...</td>\n",
       "      <td>...</td>\n",
       "      <td>...</td>\n",
       "      <td>...</td>\n",
       "      <td>...</td>\n",
       "    </tr>\n",
       "    <tr>\n",
       "      <th>14833</th>\n",
       "      <td>14833</td>\n",
       "      <td>632.207041</td>\n",
       "      <td>10.911303</td>\n",
       "      <td>6.579933</td>\n",
       "      <td>9.179964</td>\n",
       "      <td>4.653583</td>\n",
       "      <td>6.030052</td>\n",
       "      <td>3.670528</td>\n",
       "      <td>1.770579</td>\n",
       "      <td>32.971529</td>\n",
       "      <td>6.606882</td>\n",
       "      <td>347.063084</td>\n",
       "      <td>1.562500</td>\n",
       "      <td>2.187500</td>\n",
       "      <td>2.687500</td>\n",
       "      <td>-1.87</td>\n",
       "      <td>333.112</td>\n",
       "      <td>4.879408</td>\n",
       "      <td>11.426427</td>\n",
       "      <td>-5.077909</td>\n",
       "      <td>16</td>\n",
       "      <td>17.248535</td>\n",
       "      <td>15.645394</td>\n",
       "      <td>0.000000</td>\n",
       "      <td>13.847474</td>\n",
       "      <td>6.923737</td>\n",
       "      <td>34.407699</td>\n",
       "      <td>32.607024</td>\n",
       "      <td>18.947452</td>\n",
       "      <td>61.376610</td>\n",
       "      <td>0</td>\n",
       "      <td>0</td>\n",
       "      <td>1</td>\n",
       "      <td>1</td>\n",
       "      <td>0</td>\n",
       "      <td>0</td>\n",
       "      <td>0</td>\n",
       "      <td>0</td>\n",
       "    </tr>\n",
       "    <tr>\n",
       "      <th>14834</th>\n",
       "      <td>14834</td>\n",
       "      <td>62.568425</td>\n",
       "      <td>2.642734</td>\n",
       "      <td>1.446898</td>\n",
       "      <td>1.446898</td>\n",
       "      <td>0.879497</td>\n",
       "      <td>0.879497</td>\n",
       "      <td>0.174620</td>\n",
       "      <td>0.000000</td>\n",
       "      <td>0.000000</td>\n",
       "      <td>0.000000</td>\n",
       "      <td>74.024203</td>\n",
       "      <td>2.666667</td>\n",
       "      <td>2.666667</td>\n",
       "      <td>2.666667</td>\n",
       "      <td>-0.53</td>\n",
       "      <td>70.027</td>\n",
       "      <td>0.729375</td>\n",
       "      <td>5.506944</td>\n",
       "      <td>0.250000</td>\n",
       "      <td>0</td>\n",
       "      <td>0.000000</td>\n",
       "      <td>0.000000</td>\n",
       "      <td>0.000000</td>\n",
       "      <td>0.000000</td>\n",
       "      <td>6.066367</td>\n",
       "      <td>0.000000</td>\n",
       "      <td>6.420822</td>\n",
       "      <td>0.000000</td>\n",
       "      <td>10.000000</td>\n",
       "      <td>0</td>\n",
       "      <td>0</td>\n",
       "      <td>0</td>\n",
       "      <td>1</td>\n",
       "      <td>0</td>\n",
       "      <td>1</td>\n",
       "      <td>0</td>\n",
       "      <td>0</td>\n",
       "    </tr>\n",
       "    <tr>\n",
       "      <th>14835</th>\n",
       "      <td>14835</td>\n",
       "      <td>981.327476</td>\n",
       "      <td>10.363081</td>\n",
       "      <td>6.146219</td>\n",
       "      <td>6.146219</td>\n",
       "      <td>4.700576</td>\n",
       "      <td>4.700576</td>\n",
       "      <td>3.064846</td>\n",
       "      <td>2.133897</td>\n",
       "      <td>17.248535</td>\n",
       "      <td>0.000000</td>\n",
       "      <td>297.089560</td>\n",
       "      <td>1.461538</td>\n",
       "      <td>2.153846</td>\n",
       "      <td>2.769231</td>\n",
       "      <td>-3.15</td>\n",
       "      <td>282.220</td>\n",
       "      <td>2.045502</td>\n",
       "      <td>12.118907</td>\n",
       "      <td>-0.446105</td>\n",
       "      <td>8</td>\n",
       "      <td>34.480943</td>\n",
       "      <td>0.000000</td>\n",
       "      <td>0.000000</td>\n",
       "      <td>0.000000</td>\n",
       "      <td>23.762553</td>\n",
       "      <td>10.969244</td>\n",
       "      <td>0.000000</td>\n",
       "      <td>0.000000</td>\n",
       "      <td>66.666667</td>\n",
       "      <td>0</td>\n",
       "      <td>0</td>\n",
       "      <td>1</td>\n",
       "      <td>1</td>\n",
       "      <td>0</td>\n",
       "      <td>0</td>\n",
       "      <td>0</td>\n",
       "      <td>0</td>\n",
       "    </tr>\n",
       "    <tr>\n",
       "      <th>14836</th>\n",
       "      <td>14836</td>\n",
       "      <td>299.171248</td>\n",
       "      <td>9.949161</td>\n",
       "      <td>6.589761</td>\n",
       "      <td>7.848913</td>\n",
       "      <td>5.276568</td>\n",
       "      <td>5.476436</td>\n",
       "      <td>3.978973</td>\n",
       "      <td>2.299833</td>\n",
       "      <td>45.623794</td>\n",
       "      <td>0.000000</td>\n",
       "      <td>265.959270</td>\n",
       "      <td>0.950000</td>\n",
       "      <td>1.400000</td>\n",
       "      <td>1.950000</td>\n",
       "      <td>-0.44</td>\n",
       "      <td>257.119</td>\n",
       "      <td>8.424399</td>\n",
       "      <td>10.909292</td>\n",
       "      <td>-4.181527</td>\n",
       "      <td>7</td>\n",
       "      <td>0.000000</td>\n",
       "      <td>7.822697</td>\n",
       "      <td>19.420579</td>\n",
       "      <td>0.000000</td>\n",
       "      <td>0.000000</td>\n",
       "      <td>7.822697</td>\n",
       "      <td>108.961047</td>\n",
       "      <td>9.088795</td>\n",
       "      <td>45.583333</td>\n",
       "      <td>0</td>\n",
       "      <td>0</td>\n",
       "      <td>0</td>\n",
       "      <td>1</td>\n",
       "      <td>1</td>\n",
       "      <td>0</td>\n",
       "      <td>0</td>\n",
       "      <td>0</td>\n",
       "    </tr>\n",
       "    <tr>\n",
       "      <th>14837</th>\n",
       "      <td>14837</td>\n",
       "      <td>785.394062</td>\n",
       "      <td>15.671142</td>\n",
       "      <td>9.896164</td>\n",
       "      <td>10.234264</td>\n",
       "      <td>7.860296</td>\n",
       "      <td>8.522605</td>\n",
       "      <td>5.645502</td>\n",
       "      <td>3.312893</td>\n",
       "      <td>82.448246</td>\n",
       "      <td>5.687386</td>\n",
       "      <td>437.234828</td>\n",
       "      <td>1.041667</td>\n",
       "      <td>1.750000</td>\n",
       "      <td>2.500000</td>\n",
       "      <td>-1.36</td>\n",
       "      <td>402.326</td>\n",
       "      <td>5.178431</td>\n",
       "      <td>12.211804</td>\n",
       "      <td>-5.394920</td>\n",
       "      <td>16</td>\n",
       "      <td>0.000000</td>\n",
       "      <td>15.645394</td>\n",
       "      <td>0.000000</td>\n",
       "      <td>37.107112</td>\n",
       "      <td>0.000000</td>\n",
       "      <td>32.757611</td>\n",
       "      <td>38.704130</td>\n",
       "      <td>22.701338</td>\n",
       "      <td>71.127044</td>\n",
       "      <td>0</td>\n",
       "      <td>0</td>\n",
       "      <td>0</td>\n",
       "      <td>1</td>\n",
       "      <td>0</td>\n",
       "      <td>1</td>\n",
       "      <td>0</td>\n",
       "      <td>0</td>\n",
       "    </tr>\n",
       "  </tbody>\n",
       "</table>\n",
       "<p>14838 rows × 38 columns</p>\n",
       "</div>"
      ],
      "text/plain": [
       "          id     BertzCT       Chi1     Chi1n      Chi1v     Chi2n      Chi2v  \\\n",
       "0          0  323.390782   9.879918  5.875576   5.875576  4.304757   4.304757   \n",
       "1          1  273.723798   7.259037  4.441467   5.834958  3.285046   4.485235   \n",
       "2          2  521.643822  10.911303  8.527859  11.050864  6.665291   9.519706   \n",
       "3          3  567.431166  12.453343  7.089119  12.833709  6.478023  10.978151   \n",
       "4          4  112.770735   4.414719  2.866236   2.866236  1.875634   1.875634   \n",
       "...      ...         ...        ...       ...        ...       ...        ...   \n",
       "14833  14833  632.207041  10.911303  6.579933   9.179964  4.653583   6.030052   \n",
       "14834  14834   62.568425   2.642734  1.446898   1.446898  0.879497   0.879497   \n",
       "14835  14835  981.327476  10.363081  6.146219   6.146219  4.700576   4.700576   \n",
       "14836  14836  299.171248   9.949161  6.589761   7.848913  5.276568   5.476436   \n",
       "14837  14837  785.394062  15.671142  9.896164  10.234264  7.860296   8.522605   \n",
       "\n",
       "          Chi3v     Chi4n  EState_VSA1  EState_VSA2  ExactMolWt  \\\n",
       "0      2.754513  1.749203     0.000000    11.938294  222.068080   \n",
       "1      2.201375  1.289775    45.135471     0.000000  260.029719   \n",
       "2      5.824822  1.770579    15.645394     6.606882  382.131027   \n",
       "3      7.914542  3.067181    95.639554     0.000000  530.070277   \n",
       "4      1.036450  0.727664    17.980451    12.841643  118.062994   \n",
       "...         ...       ...          ...          ...         ...   \n",
       "14833  3.670528  1.770579    32.971529     6.606882  347.063084   \n",
       "14834  0.174620  0.000000     0.000000     0.000000   74.024203   \n",
       "14835  3.064846  2.133897    17.248535     0.000000  297.089560   \n",
       "14836  3.978973  2.299833    45.623794     0.000000  265.959270   \n",
       "14837  5.645502  3.312893    82.448246     5.687386  437.234828   \n",
       "\n",
       "       FpDensityMorgan1  FpDensityMorgan2  FpDensityMorgan3  HallKierAlpha  \\\n",
       "0              1.181818          1.727273          2.363636          -0.24   \n",
       "1              1.346154          2.076923          2.769231          -0.09   \n",
       "2              1.085714          1.742857          2.400000          -0.78   \n",
       "3              1.162791          1.573770          2.270270          -1.30   \n",
       "4              1.444444          2.111111          2.555556          -1.10   \n",
       "...                 ...               ...               ...            ...   \n",
       "14833          1.562500          2.187500          2.687500          -1.87   \n",
       "14834          2.666667          2.666667          2.666667          -0.53   \n",
       "14835          1.461538          2.153846          2.769231          -3.15   \n",
       "14836          0.950000          1.400000          1.950000          -0.44   \n",
       "14837          1.041667          1.750000          2.500000          -1.36   \n",
       "\n",
       "       HeavyAtomMolWt     Kappa3  MaxAbsEStateIndex  MinEStateIndex  \\\n",
       "0             212.163   8.170000          11.922504        0.171585   \n",
       "1             247.031   3.201491          10.932338       -4.830450   \n",
       "2             354.106  15.033890          11.238048       -5.066255   \n",
       "3             506.124   6.724301          11.171170       -5.276575   \n",
       "4             108.056   3.931272           9.855741       -1.676296   \n",
       "...               ...        ...                ...             ...   \n",
       "14833         333.112   4.879408          11.426427       -5.077909   \n",
       "14834          70.027   0.729375           5.506944        0.250000   \n",
       "14835         282.220   2.045502          12.118907       -0.446105   \n",
       "14836         257.119   8.424399          10.909292       -4.181527   \n",
       "14837         402.326   5.178431          12.211804       -5.394920   \n",
       "\n",
       "       NumHeteroatoms  PEOE_VSA10  PEOE_VSA14  PEOE_VSA6  PEOE_VSA7  \\\n",
       "0                   4    0.000000   91.536492   0.000000   0.000000   \n",
       "1                  10   24.415866    7.822697   0.000000   0.000000   \n",
       "2                   9    0.000000   15.645394   0.000000  53.378235   \n",
       "3                  19   42.727765   21.335138   0.000000   0.000000   \n",
       "4                   4    6.041841   11.938611   6.923737  19.386400   \n",
       "...               ...         ...         ...        ...        ...   \n",
       "14833              16   17.248535   15.645394   0.000000  13.847474   \n",
       "14834               0    0.000000    0.000000   0.000000   0.000000   \n",
       "14835               8   34.480943    0.000000   0.000000   0.000000   \n",
       "14836               7    0.000000    7.822697  19.420579   0.000000   \n",
       "14837              16    0.000000   15.645394   0.000000  37.107112   \n",
       "\n",
       "       PEOE_VSA8  SMR_VSA10    SMR_VSA5  SlogP_VSA3  VSA_EState9  fr_COO  \\\n",
       "0       0.000000  17.744066    0.000000    4.794537    35.527357       0   \n",
       "1       0.000000   7.822697   30.705892   13.825658    44.707310       0   \n",
       "2       0.000000  15.645394   73.143616   17.964475    45.660120       0   \n",
       "3       6.420822  15.645394   62.107304   31.961948    87.509997       0   \n",
       "4       0.000000  11.938611   18.883484    9.589074    33.333333       2   \n",
       "...          ...        ...         ...         ...          ...     ...   \n",
       "14833   6.923737  34.407699   32.607024   18.947452    61.376610       0   \n",
       "14834   6.066367   0.000000    6.420822    0.000000    10.000000       0   \n",
       "14835  23.762553  10.969244    0.000000    0.000000    66.666667       0   \n",
       "14836   0.000000   7.822697  108.961047    9.088795    45.583333       0   \n",
       "14837   0.000000  32.757611   38.704130   22.701338    71.127044       0   \n",
       "\n",
       "       fr_COO2  EC1  EC2  EC3  EC4  EC5  EC6  \n",
       "0            0    1    1    0    0    0    0  \n",
       "1            0    0    1    1    0    0    0  \n",
       "2            0    1    1    0    0    1    0  \n",
       "3            0    1    1    0    0    0    0  \n",
       "4            2    1    0    1    1    1    0  \n",
       "...        ...  ...  ...  ...  ...  ...  ...  \n",
       "14833        0    1    1    0    0    0    0  \n",
       "14834        0    0    1    0    1    0    0  \n",
       "14835        0    1    1    0    0    0    0  \n",
       "14836        0    0    1    1    0    0    0  \n",
       "14837        0    0    1    0    1    0    0  \n",
       "\n",
       "[14838 rows x 38 columns]"
      ]
     },
     "execution_count": 3,
     "metadata": {},
     "output_type": "execute_result"
    }
   ],
   "source": [
    "train"
   ]
  },
  {
   "cell_type": "code",
   "execution_count": 4,
   "id": "e0bf61a4",
   "metadata": {
    "execution": {
     "iopub.execute_input": "2023-06-28T11:46:53.415084Z",
     "iopub.status.busy": "2023-06-28T11:46:53.414245Z",
     "iopub.status.idle": "2023-06-28T11:46:53.424601Z",
     "shell.execute_reply": "2023-06-28T11:46:53.423543Z"
    },
    "papermill": {
     "duration": 0.032773,
     "end_time": "2023-06-28T11:46:53.427149",
     "exception": false,
     "start_time": "2023-06-28T11:46:53.394376",
     "status": "completed"
    },
    "tags": []
   },
   "outputs": [
    {
     "data": {
      "text/plain": [
       "id                   0\n",
       "BertzCT              0\n",
       "Chi1                 0\n",
       "Chi1n                0\n",
       "Chi1v                0\n",
       "Chi2n                0\n",
       "Chi2v                0\n",
       "Chi3v                0\n",
       "Chi4n                0\n",
       "EState_VSA1          0\n",
       "EState_VSA2          0\n",
       "ExactMolWt           0\n",
       "FpDensityMorgan1     0\n",
       "FpDensityMorgan2     0\n",
       "FpDensityMorgan3     0\n",
       "HallKierAlpha        0\n",
       "HeavyAtomMolWt       0\n",
       "Kappa3               0\n",
       "MaxAbsEStateIndex    0\n",
       "MinEStateIndex       0\n",
       "NumHeteroatoms       0\n",
       "PEOE_VSA10           0\n",
       "PEOE_VSA14           0\n",
       "PEOE_VSA6            0\n",
       "PEOE_VSA7            0\n",
       "PEOE_VSA8            0\n",
       "SMR_VSA10            0\n",
       "SMR_VSA5             0\n",
       "SlogP_VSA3           0\n",
       "VSA_EState9          0\n",
       "fr_COO               0\n",
       "fr_COO2              0\n",
       "EC1                  0\n",
       "EC2                  0\n",
       "EC3                  0\n",
       "EC4                  0\n",
       "EC5                  0\n",
       "EC6                  0\n",
       "dtype: int64"
      ]
     },
     "execution_count": 4,
     "metadata": {},
     "output_type": "execute_result"
    }
   ],
   "source": [
    "train.isna().sum()"
   ]
  },
  {
   "cell_type": "code",
   "execution_count": 5,
   "id": "d5ba8661",
   "metadata": {
    "execution": {
     "iopub.execute_input": "2023-06-28T11:46:53.463533Z",
     "iopub.status.busy": "2023-06-28T11:46:53.463048Z",
     "iopub.status.idle": "2023-06-28T11:46:53.472743Z",
     "shell.execute_reply": "2023-06-28T11:46:53.471528Z"
    },
    "papermill": {
     "duration": 0.030426,
     "end_time": "2023-06-28T11:46:53.475077",
     "exception": false,
     "start_time": "2023-06-28T11:46:53.444651",
     "status": "completed"
    },
    "tags": []
   },
   "outputs": [
    {
     "data": {
      "text/plain": [
       "id                     int64\n",
       "BertzCT              float64\n",
       "Chi1                 float64\n",
       "Chi1n                float64\n",
       "Chi1v                float64\n",
       "Chi2n                float64\n",
       "Chi2v                float64\n",
       "Chi3v                float64\n",
       "Chi4n                float64\n",
       "EState_VSA1          float64\n",
       "EState_VSA2          float64\n",
       "ExactMolWt           float64\n",
       "FpDensityMorgan1     float64\n",
       "FpDensityMorgan2     float64\n",
       "FpDensityMorgan3     float64\n",
       "HallKierAlpha        float64\n",
       "HeavyAtomMolWt       float64\n",
       "Kappa3               float64\n",
       "MaxAbsEStateIndex    float64\n",
       "MinEStateIndex       float64\n",
       "NumHeteroatoms         int64\n",
       "PEOE_VSA10           float64\n",
       "PEOE_VSA14           float64\n",
       "PEOE_VSA6            float64\n",
       "PEOE_VSA7            float64\n",
       "PEOE_VSA8            float64\n",
       "SMR_VSA10            float64\n",
       "SMR_VSA5             float64\n",
       "SlogP_VSA3           float64\n",
       "VSA_EState9          float64\n",
       "fr_COO                 int64\n",
       "fr_COO2                int64\n",
       "EC1                    int64\n",
       "EC2                    int64\n",
       "EC3                    int64\n",
       "EC4                    int64\n",
       "EC5                    int64\n",
       "EC6                    int64\n",
       "dtype: object"
      ]
     },
     "execution_count": 5,
     "metadata": {},
     "output_type": "execute_result"
    }
   ],
   "source": [
    "train.dtypes"
   ]
  },
  {
   "cell_type": "code",
   "execution_count": 6,
   "id": "ab49f3f4",
   "metadata": {
    "execution": {
     "iopub.execute_input": "2023-06-28T11:46:53.513005Z",
     "iopub.status.busy": "2023-06-28T11:46:53.512604Z",
     "iopub.status.idle": "2023-06-28T11:46:53.668666Z",
     "shell.execute_reply": "2023-06-28T11:46:53.667519Z"
    },
    "papermill": {
     "duration": 0.178234,
     "end_time": "2023-06-28T11:46:53.671279",
     "exception": false,
     "start_time": "2023-06-28T11:46:53.493045",
     "status": "completed"
    },
    "tags": []
   },
   "outputs": [
    {
     "data": {
      "text/html": [
       "<div>\n",
       "<style scoped>\n",
       "    .dataframe tbody tr th:only-of-type {\n",
       "        vertical-align: middle;\n",
       "    }\n",
       "\n",
       "    .dataframe tbody tr th {\n",
       "        vertical-align: top;\n",
       "    }\n",
       "\n",
       "    .dataframe thead th {\n",
       "        text-align: right;\n",
       "    }\n",
       "</style>\n",
       "<table border=\"1\" class=\"dataframe\">\n",
       "  <thead>\n",
       "    <tr style=\"text-align: right;\">\n",
       "      <th></th>\n",
       "      <th>id</th>\n",
       "      <th>BertzCT</th>\n",
       "      <th>Chi1</th>\n",
       "      <th>Chi1n</th>\n",
       "      <th>Chi1v</th>\n",
       "      <th>Chi2n</th>\n",
       "      <th>Chi2v</th>\n",
       "      <th>Chi3v</th>\n",
       "      <th>Chi4n</th>\n",
       "      <th>EState_VSA1</th>\n",
       "      <th>EState_VSA2</th>\n",
       "      <th>ExactMolWt</th>\n",
       "      <th>FpDensityMorgan1</th>\n",
       "      <th>FpDensityMorgan2</th>\n",
       "      <th>FpDensityMorgan3</th>\n",
       "      <th>HallKierAlpha</th>\n",
       "      <th>HeavyAtomMolWt</th>\n",
       "      <th>Kappa3</th>\n",
       "      <th>MaxAbsEStateIndex</th>\n",
       "      <th>MinEStateIndex</th>\n",
       "      <th>NumHeteroatoms</th>\n",
       "      <th>PEOE_VSA10</th>\n",
       "      <th>PEOE_VSA14</th>\n",
       "      <th>PEOE_VSA6</th>\n",
       "      <th>PEOE_VSA7</th>\n",
       "      <th>PEOE_VSA8</th>\n",
       "      <th>SMR_VSA10</th>\n",
       "      <th>SMR_VSA5</th>\n",
       "      <th>SlogP_VSA3</th>\n",
       "      <th>VSA_EState9</th>\n",
       "      <th>fr_COO</th>\n",
       "      <th>fr_COO2</th>\n",
       "      <th>EC1</th>\n",
       "      <th>EC2</th>\n",
       "      <th>EC3</th>\n",
       "      <th>EC4</th>\n",
       "      <th>EC5</th>\n",
       "      <th>EC6</th>\n",
       "    </tr>\n",
       "  </thead>\n",
       "  <tbody>\n",
       "    <tr>\n",
       "      <th>count</th>\n",
       "      <td>14838.000000</td>\n",
       "      <td>14838.000000</td>\n",
       "      <td>14838.000000</td>\n",
       "      <td>14838.000000</td>\n",
       "      <td>14838.000000</td>\n",
       "      <td>14838.000000</td>\n",
       "      <td>14838.000000</td>\n",
       "      <td>14838.000000</td>\n",
       "      <td>14838.000000</td>\n",
       "      <td>14838.000000</td>\n",
       "      <td>14838.000000</td>\n",
       "      <td>14838.000000</td>\n",
       "      <td>14838.000000</td>\n",
       "      <td>14838.000000</td>\n",
       "      <td>14838.000000</td>\n",
       "      <td>14838.000000</td>\n",
       "      <td>14838.000000</td>\n",
       "      <td>14838.000000</td>\n",
       "      <td>14838.000000</td>\n",
       "      <td>14838.000000</td>\n",
       "      <td>14838.000000</td>\n",
       "      <td>14838.000000</td>\n",
       "      <td>14838.000000</td>\n",
       "      <td>14838.000000</td>\n",
       "      <td>14838.000000</td>\n",
       "      <td>14838.000000</td>\n",
       "      <td>14838.000000</td>\n",
       "      <td>14838.000000</td>\n",
       "      <td>14838.000000</td>\n",
       "      <td>14838.000000</td>\n",
       "      <td>14838.000000</td>\n",
       "      <td>14838.000000</td>\n",
       "      <td>14838.000000</td>\n",
       "      <td>14838.000000</td>\n",
       "      <td>14838.000000</td>\n",
       "      <td>14838.000000</td>\n",
       "      <td>14838.000000</td>\n",
       "      <td>14838.000000</td>\n",
       "    </tr>\n",
       "    <tr>\n",
       "      <th>mean</th>\n",
       "      <td>7418.500000</td>\n",
       "      <td>515.153604</td>\n",
       "      <td>9.135189</td>\n",
       "      <td>5.854307</td>\n",
       "      <td>6.738497</td>\n",
       "      <td>4.432570</td>\n",
       "      <td>5.253221</td>\n",
       "      <td>3.418749</td>\n",
       "      <td>1.773472</td>\n",
       "      <td>29.202823</td>\n",
       "      <td>10.435316</td>\n",
       "      <td>292.623087</td>\n",
       "      <td>1.236774</td>\n",
       "      <td>1.812070</td>\n",
       "      <td>2.255470</td>\n",
       "      <td>-1.207776</td>\n",
       "      <td>274.950211</td>\n",
       "      <td>5.874372</td>\n",
       "      <td>10.556443</td>\n",
       "      <td>-2.119772</td>\n",
       "      <td>8.584108</td>\n",
       "      <td>11.021644</td>\n",
       "      <td>17.790011</td>\n",
       "      <td>8.962440</td>\n",
       "      <td>11.318811</td>\n",
       "      <td>6.704487</td>\n",
       "      <td>15.666766</td>\n",
       "      <td>31.066423</td>\n",
       "      <td>13.636941</td>\n",
       "      <td>49.309959</td>\n",
       "      <td>0.458215</td>\n",
       "      <td>0.459226</td>\n",
       "      <td>0.667745</td>\n",
       "      <td>0.798962</td>\n",
       "      <td>0.313789</td>\n",
       "      <td>0.279081</td>\n",
       "      <td>0.144831</td>\n",
       "      <td>0.151570</td>\n",
       "    </tr>\n",
       "    <tr>\n",
       "      <th>std</th>\n",
       "      <td>4283.505982</td>\n",
       "      <td>542.456370</td>\n",
       "      <td>6.819989</td>\n",
       "      <td>4.647064</td>\n",
       "      <td>5.866444</td>\n",
       "      <td>3.760516</td>\n",
       "      <td>4.925065</td>\n",
       "      <td>3.436208</td>\n",
       "      <td>1.865898</td>\n",
       "      <td>31.728679</td>\n",
       "      <td>13.651843</td>\n",
       "      <td>225.384140</td>\n",
       "      <td>5.491284</td>\n",
       "      <td>5.495565</td>\n",
       "      <td>5.501200</td>\n",
       "      <td>0.935314</td>\n",
       "      <td>212.678755</td>\n",
       "      <td>45.730226</td>\n",
       "      <td>1.559331</td>\n",
       "      <td>2.066415</td>\n",
       "      <td>7.643769</td>\n",
       "      <td>13.958962</td>\n",
       "      <td>34.561655</td>\n",
       "      <td>19.756727</td>\n",
       "      <td>20.169745</td>\n",
       "      <td>10.865415</td>\n",
       "      <td>18.080208</td>\n",
       "      <td>33.896638</td>\n",
       "      <td>14.598554</td>\n",
       "      <td>29.174824</td>\n",
       "      <td>0.667948</td>\n",
       "      <td>0.668111</td>\n",
       "      <td>0.471038</td>\n",
       "      <td>0.400790</td>\n",
       "      <td>0.464047</td>\n",
       "      <td>0.448562</td>\n",
       "      <td>0.351942</td>\n",
       "      <td>0.358616</td>\n",
       "    </tr>\n",
       "    <tr>\n",
       "      <th>min</th>\n",
       "      <td>0.000000</td>\n",
       "      <td>0.000000</td>\n",
       "      <td>0.000000</td>\n",
       "      <td>0.000000</td>\n",
       "      <td>0.000000</td>\n",
       "      <td>0.000000</td>\n",
       "      <td>0.000000</td>\n",
       "      <td>0.000000</td>\n",
       "      <td>0.000000</td>\n",
       "      <td>0.000000</td>\n",
       "      <td>0.000000</td>\n",
       "      <td>1.007276</td>\n",
       "      <td>-666.000000</td>\n",
       "      <td>-666.000000</td>\n",
       "      <td>-666.000000</td>\n",
       "      <td>-7.730000</td>\n",
       "      <td>0.000000</td>\n",
       "      <td>-104.040000</td>\n",
       "      <td>0.000000</td>\n",
       "      <td>-6.327514</td>\n",
       "      <td>0.000000</td>\n",
       "      <td>0.000000</td>\n",
       "      <td>0.000000</td>\n",
       "      <td>0.000000</td>\n",
       "      <td>0.000000</td>\n",
       "      <td>0.000000</td>\n",
       "      <td>0.000000</td>\n",
       "      <td>0.000000</td>\n",
       "      <td>0.000000</td>\n",
       "      <td>-5.430556</td>\n",
       "      <td>0.000000</td>\n",
       "      <td>0.000000</td>\n",
       "      <td>0.000000</td>\n",
       "      <td>0.000000</td>\n",
       "      <td>0.000000</td>\n",
       "      <td>0.000000</td>\n",
       "      <td>0.000000</td>\n",
       "      <td>0.000000</td>\n",
       "    </tr>\n",
       "    <tr>\n",
       "      <th>25%</th>\n",
       "      <td>3709.250000</td>\n",
       "      <td>149.103601</td>\n",
       "      <td>4.680739</td>\n",
       "      <td>2.844556</td>\n",
       "      <td>2.932842</td>\n",
       "      <td>1.949719</td>\n",
       "      <td>2.034468</td>\n",
       "      <td>1.160763</td>\n",
       "      <td>0.503897</td>\n",
       "      <td>5.969305</td>\n",
       "      <td>0.000000</td>\n",
       "      <td>148.037173</td>\n",
       "      <td>1.045455</td>\n",
       "      <td>1.690909</td>\n",
       "      <td>2.100000</td>\n",
       "      <td>-1.660000</td>\n",
       "      <td>136.109000</td>\n",
       "      <td>1.784008</td>\n",
       "      <td>9.926190</td>\n",
       "      <td>-4.659604</td>\n",
       "      <td>4.000000</td>\n",
       "      <td>0.000000</td>\n",
       "      <td>0.000000</td>\n",
       "      <td>0.000000</td>\n",
       "      <td>0.000000</td>\n",
       "      <td>0.000000</td>\n",
       "      <td>5.969305</td>\n",
       "      <td>6.420822</td>\n",
       "      <td>4.794537</td>\n",
       "      <td>30.000000</td>\n",
       "      <td>0.000000</td>\n",
       "      <td>0.000000</td>\n",
       "      <td>0.000000</td>\n",
       "      <td>1.000000</td>\n",
       "      <td>0.000000</td>\n",
       "      <td>0.000000</td>\n",
       "      <td>0.000000</td>\n",
       "      <td>0.000000</td>\n",
       "    </tr>\n",
       "    <tr>\n",
       "      <th>50%</th>\n",
       "      <td>7418.500000</td>\n",
       "      <td>290.987941</td>\n",
       "      <td>6.485270</td>\n",
       "      <td>4.052701</td>\n",
       "      <td>4.392859</td>\n",
       "      <td>2.970427</td>\n",
       "      <td>3.242775</td>\n",
       "      <td>1.948613</td>\n",
       "      <td>1.073261</td>\n",
       "      <td>17.353601</td>\n",
       "      <td>6.420822</td>\n",
       "      <td>206.042653</td>\n",
       "      <td>1.250000</td>\n",
       "      <td>1.865152</td>\n",
       "      <td>2.358491</td>\n",
       "      <td>-1.100000</td>\n",
       "      <td>194.276500</td>\n",
       "      <td>3.261011</td>\n",
       "      <td>10.421334</td>\n",
       "      <td>-1.265370</td>\n",
       "      <td>6.000000</td>\n",
       "      <td>6.041841</td>\n",
       "      <td>5.969305</td>\n",
       "      <td>0.000000</td>\n",
       "      <td>0.000000</td>\n",
       "      <td>0.000000</td>\n",
       "      <td>11.752550</td>\n",
       "      <td>20.075376</td>\n",
       "      <td>9.589074</td>\n",
       "      <td>41.666667</td>\n",
       "      <td>0.000000</td>\n",
       "      <td>0.000000</td>\n",
       "      <td>1.000000</td>\n",
       "      <td>1.000000</td>\n",
       "      <td>0.000000</td>\n",
       "      <td>0.000000</td>\n",
       "      <td>0.000000</td>\n",
       "      <td>0.000000</td>\n",
       "    </tr>\n",
       "    <tr>\n",
       "      <th>75%</th>\n",
       "      <td>11127.750000</td>\n",
       "      <td>652.652585</td>\n",
       "      <td>11.170477</td>\n",
       "      <td>7.486791</td>\n",
       "      <td>8.527859</td>\n",
       "      <td>5.788793</td>\n",
       "      <td>6.609350</td>\n",
       "      <td>4.502070</td>\n",
       "      <td>2.534281</td>\n",
       "      <td>44.876559</td>\n",
       "      <td>12.841643</td>\n",
       "      <td>343.090331</td>\n",
       "      <td>1.500000</td>\n",
       "      <td>2.062153</td>\n",
       "      <td>2.500000</td>\n",
       "      <td>-0.570000</td>\n",
       "      <td>326.002000</td>\n",
       "      <td>5.848400</td>\n",
       "      <td>11.539743</td>\n",
       "      <td>-0.787037</td>\n",
       "      <td>10.000000</td>\n",
       "      <td>18.311899</td>\n",
       "      <td>15.645394</td>\n",
       "      <td>12.132734</td>\n",
       "      <td>13.847474</td>\n",
       "      <td>6.923737</td>\n",
       "      <td>17.721856</td>\n",
       "      <td>42.727765</td>\n",
       "      <td>14.912664</td>\n",
       "      <td>56.090650</td>\n",
       "      <td>1.000000</td>\n",
       "      <td>1.000000</td>\n",
       "      <td>1.000000</td>\n",
       "      <td>1.000000</td>\n",
       "      <td>1.000000</td>\n",
       "      <td>1.000000</td>\n",
       "      <td>0.000000</td>\n",
       "      <td>0.000000</td>\n",
       "    </tr>\n",
       "    <tr>\n",
       "      <th>max</th>\n",
       "      <td>14837.000000</td>\n",
       "      <td>4069.959780</td>\n",
       "      <td>69.551167</td>\n",
       "      <td>50.174588</td>\n",
       "      <td>53.431954</td>\n",
       "      <td>32.195368</td>\n",
       "      <td>34.579313</td>\n",
       "      <td>22.880836</td>\n",
       "      <td>16.072810</td>\n",
       "      <td>363.705954</td>\n",
       "      <td>99.936429</td>\n",
       "      <td>2237.318490</td>\n",
       "      <td>3.000000</td>\n",
       "      <td>3.200000</td>\n",
       "      <td>3.400000</td>\n",
       "      <td>0.820000</td>\n",
       "      <td>2035.133000</td>\n",
       "      <td>1512.242231</td>\n",
       "      <td>15.630251</td>\n",
       "      <td>6.000000</td>\n",
       "      <td>42.000000</td>\n",
       "      <td>97.663462</td>\n",
       "      <td>482.434223</td>\n",
       "      <td>375.425148</td>\n",
       "      <td>211.501279</td>\n",
       "      <td>100.348416</td>\n",
       "      <td>80.742293</td>\n",
       "      <td>492.729739</td>\n",
       "      <td>115.406157</td>\n",
       "      <td>384.450519</td>\n",
       "      <td>8.000000</td>\n",
       "      <td>8.000000</td>\n",
       "      <td>1.000000</td>\n",
       "      <td>1.000000</td>\n",
       "      <td>1.000000</td>\n",
       "      <td>1.000000</td>\n",
       "      <td>1.000000</td>\n",
       "      <td>1.000000</td>\n",
       "    </tr>\n",
       "  </tbody>\n",
       "</table>\n",
       "</div>"
      ],
      "text/plain": [
       "                 id       BertzCT          Chi1         Chi1n         Chi1v  \\\n",
       "count  14838.000000  14838.000000  14838.000000  14838.000000  14838.000000   \n",
       "mean    7418.500000    515.153604      9.135189      5.854307      6.738497   \n",
       "std     4283.505982    542.456370      6.819989      4.647064      5.866444   \n",
       "min        0.000000      0.000000      0.000000      0.000000      0.000000   \n",
       "25%     3709.250000    149.103601      4.680739      2.844556      2.932842   \n",
       "50%     7418.500000    290.987941      6.485270      4.052701      4.392859   \n",
       "75%    11127.750000    652.652585     11.170477      7.486791      8.527859   \n",
       "max    14837.000000   4069.959780     69.551167     50.174588     53.431954   \n",
       "\n",
       "              Chi2n         Chi2v         Chi3v         Chi4n   EState_VSA1  \\\n",
       "count  14838.000000  14838.000000  14838.000000  14838.000000  14838.000000   \n",
       "mean       4.432570      5.253221      3.418749      1.773472     29.202823   \n",
       "std        3.760516      4.925065      3.436208      1.865898     31.728679   \n",
       "min        0.000000      0.000000      0.000000      0.000000      0.000000   \n",
       "25%        1.949719      2.034468      1.160763      0.503897      5.969305   \n",
       "50%        2.970427      3.242775      1.948613      1.073261     17.353601   \n",
       "75%        5.788793      6.609350      4.502070      2.534281     44.876559   \n",
       "max       32.195368     34.579313     22.880836     16.072810    363.705954   \n",
       "\n",
       "        EState_VSA2    ExactMolWt  FpDensityMorgan1  FpDensityMorgan2  \\\n",
       "count  14838.000000  14838.000000      14838.000000      14838.000000   \n",
       "mean      10.435316    292.623087          1.236774          1.812070   \n",
       "std       13.651843    225.384140          5.491284          5.495565   \n",
       "min        0.000000      1.007276       -666.000000       -666.000000   \n",
       "25%        0.000000    148.037173          1.045455          1.690909   \n",
       "50%        6.420822    206.042653          1.250000          1.865152   \n",
       "75%       12.841643    343.090331          1.500000          2.062153   \n",
       "max       99.936429   2237.318490          3.000000          3.200000   \n",
       "\n",
       "       FpDensityMorgan3  HallKierAlpha  HeavyAtomMolWt        Kappa3  \\\n",
       "count      14838.000000   14838.000000    14838.000000  14838.000000   \n",
       "mean           2.255470      -1.207776      274.950211      5.874372   \n",
       "std            5.501200       0.935314      212.678755     45.730226   \n",
       "min         -666.000000      -7.730000        0.000000   -104.040000   \n",
       "25%            2.100000      -1.660000      136.109000      1.784008   \n",
       "50%            2.358491      -1.100000      194.276500      3.261011   \n",
       "75%            2.500000      -0.570000      326.002000      5.848400   \n",
       "max            3.400000       0.820000     2035.133000   1512.242231   \n",
       "\n",
       "       MaxAbsEStateIndex  MinEStateIndex  NumHeteroatoms    PEOE_VSA10  \\\n",
       "count       14838.000000    14838.000000    14838.000000  14838.000000   \n",
       "mean           10.556443       -2.119772        8.584108     11.021644   \n",
       "std             1.559331        2.066415        7.643769     13.958962   \n",
       "min             0.000000       -6.327514        0.000000      0.000000   \n",
       "25%             9.926190       -4.659604        4.000000      0.000000   \n",
       "50%            10.421334       -1.265370        6.000000      6.041841   \n",
       "75%            11.539743       -0.787037       10.000000     18.311899   \n",
       "max            15.630251        6.000000       42.000000     97.663462   \n",
       "\n",
       "         PEOE_VSA14     PEOE_VSA6     PEOE_VSA7     PEOE_VSA8     SMR_VSA10  \\\n",
       "count  14838.000000  14838.000000  14838.000000  14838.000000  14838.000000   \n",
       "mean      17.790011      8.962440     11.318811      6.704487     15.666766   \n",
       "std       34.561655     19.756727     20.169745     10.865415     18.080208   \n",
       "min        0.000000      0.000000      0.000000      0.000000      0.000000   \n",
       "25%        0.000000      0.000000      0.000000      0.000000      5.969305   \n",
       "50%        5.969305      0.000000      0.000000      0.000000     11.752550   \n",
       "75%       15.645394     12.132734     13.847474      6.923737     17.721856   \n",
       "max      482.434223    375.425148    211.501279    100.348416     80.742293   \n",
       "\n",
       "           SMR_VSA5    SlogP_VSA3   VSA_EState9        fr_COO       fr_COO2  \\\n",
       "count  14838.000000  14838.000000  14838.000000  14838.000000  14838.000000   \n",
       "mean      31.066423     13.636941     49.309959      0.458215      0.459226   \n",
       "std       33.896638     14.598554     29.174824      0.667948      0.668111   \n",
       "min        0.000000      0.000000     -5.430556      0.000000      0.000000   \n",
       "25%        6.420822      4.794537     30.000000      0.000000      0.000000   \n",
       "50%       20.075376      9.589074     41.666667      0.000000      0.000000   \n",
       "75%       42.727765     14.912664     56.090650      1.000000      1.000000   \n",
       "max      492.729739    115.406157    384.450519      8.000000      8.000000   \n",
       "\n",
       "                EC1           EC2           EC3           EC4           EC5  \\\n",
       "count  14838.000000  14838.000000  14838.000000  14838.000000  14838.000000   \n",
       "mean       0.667745      0.798962      0.313789      0.279081      0.144831   \n",
       "std        0.471038      0.400790      0.464047      0.448562      0.351942   \n",
       "min        0.000000      0.000000      0.000000      0.000000      0.000000   \n",
       "25%        0.000000      1.000000      0.000000      0.000000      0.000000   \n",
       "50%        1.000000      1.000000      0.000000      0.000000      0.000000   \n",
       "75%        1.000000      1.000000      1.000000      1.000000      0.000000   \n",
       "max        1.000000      1.000000      1.000000      1.000000      1.000000   \n",
       "\n",
       "                EC6  \n",
       "count  14838.000000  \n",
       "mean       0.151570  \n",
       "std        0.358616  \n",
       "min        0.000000  \n",
       "25%        0.000000  \n",
       "50%        0.000000  \n",
       "75%        0.000000  \n",
       "max        1.000000  "
      ]
     },
     "execution_count": 6,
     "metadata": {},
     "output_type": "execute_result"
    }
   ],
   "source": [
    "train.describe()"
   ]
  },
  {
   "cell_type": "code",
   "execution_count": 7,
   "id": "555079a9",
   "metadata": {
    "execution": {
     "iopub.execute_input": "2023-06-28T11:46:53.709887Z",
     "iopub.status.busy": "2023-06-28T11:46:53.709513Z",
     "iopub.status.idle": "2023-06-28T11:46:53.717522Z",
     "shell.execute_reply": "2023-06-28T11:46:53.716625Z"
    },
    "papermill": {
     "duration": 0.030225,
     "end_time": "2023-06-28T11:46:53.719720",
     "exception": false,
     "start_time": "2023-06-28T11:46:53.689495",
     "status": "completed"
    },
    "tags": []
   },
   "outputs": [],
   "source": [
    "cols = train.drop(['id','EC1','EC2','EC3','EC4','EC5','EC6'],axis=1).columns"
   ]
  },
  {
   "cell_type": "markdown",
   "id": "7b581d3a",
   "metadata": {
    "papermill": {
     "duration": 0.018116,
     "end_time": "2023-06-28T11:46:53.755770",
     "exception": false,
     "start_time": "2023-06-28T11:46:53.737654",
     "status": "completed"
    },
    "tags": []
   },
   "source": [
    "# 3. Scaling the data"
   ]
  },
  {
   "cell_type": "code",
   "execution_count": 8,
   "id": "8b46ed1d",
   "metadata": {
    "execution": {
     "iopub.execute_input": "2023-06-28T11:46:53.793479Z",
     "iopub.status.busy": "2023-06-28T11:46:53.793067Z",
     "iopub.status.idle": "2023-06-28T11:46:53.830566Z",
     "shell.execute_reply": "2023-06-28T11:46:53.829671Z"
    },
    "papermill": {
     "duration": 0.059608,
     "end_time": "2023-06-28T11:46:53.833217",
     "exception": false,
     "start_time": "2023-06-28T11:46:53.773609",
     "status": "completed"
    },
    "tags": []
   },
   "outputs": [],
   "source": [
    "ms = MinMaxScaler()\n",
    "train[cols] = ms.fit_transform(train[cols])"
   ]
  },
  {
   "cell_type": "code",
   "execution_count": 9,
   "id": "40cd25d5",
   "metadata": {
    "execution": {
     "iopub.execute_input": "2023-06-28T11:46:53.871687Z",
     "iopub.status.busy": "2023-06-28T11:46:53.871205Z",
     "iopub.status.idle": "2023-06-28T11:46:54.037491Z",
     "shell.execute_reply": "2023-06-28T11:46:54.036348Z"
    },
    "papermill": {
     "duration": 0.18881,
     "end_time": "2023-06-28T11:46:54.040063",
     "exception": false,
     "start_time": "2023-06-28T11:46:53.851253",
     "status": "completed"
    },
    "tags": []
   },
   "outputs": [
    {
     "data": {
      "text/html": [
       "<div>\n",
       "<style scoped>\n",
       "    .dataframe tbody tr th:only-of-type {\n",
       "        vertical-align: middle;\n",
       "    }\n",
       "\n",
       "    .dataframe tbody tr th {\n",
       "        vertical-align: top;\n",
       "    }\n",
       "\n",
       "    .dataframe thead th {\n",
       "        text-align: right;\n",
       "    }\n",
       "</style>\n",
       "<table border=\"1\" class=\"dataframe\">\n",
       "  <thead>\n",
       "    <tr style=\"text-align: right;\">\n",
       "      <th></th>\n",
       "      <th>id</th>\n",
       "      <th>BertzCT</th>\n",
       "      <th>Chi1</th>\n",
       "      <th>Chi1n</th>\n",
       "      <th>Chi1v</th>\n",
       "      <th>Chi2n</th>\n",
       "      <th>Chi2v</th>\n",
       "      <th>Chi3v</th>\n",
       "      <th>Chi4n</th>\n",
       "      <th>EState_VSA1</th>\n",
       "      <th>EState_VSA2</th>\n",
       "      <th>ExactMolWt</th>\n",
       "      <th>FpDensityMorgan1</th>\n",
       "      <th>FpDensityMorgan2</th>\n",
       "      <th>FpDensityMorgan3</th>\n",
       "      <th>HallKierAlpha</th>\n",
       "      <th>HeavyAtomMolWt</th>\n",
       "      <th>Kappa3</th>\n",
       "      <th>MaxAbsEStateIndex</th>\n",
       "      <th>MinEStateIndex</th>\n",
       "      <th>NumHeteroatoms</th>\n",
       "      <th>PEOE_VSA10</th>\n",
       "      <th>PEOE_VSA14</th>\n",
       "      <th>PEOE_VSA6</th>\n",
       "      <th>PEOE_VSA7</th>\n",
       "      <th>PEOE_VSA8</th>\n",
       "      <th>SMR_VSA10</th>\n",
       "      <th>SMR_VSA5</th>\n",
       "      <th>SlogP_VSA3</th>\n",
       "      <th>VSA_EState9</th>\n",
       "      <th>fr_COO</th>\n",
       "      <th>fr_COO2</th>\n",
       "      <th>EC1</th>\n",
       "      <th>EC2</th>\n",
       "      <th>EC3</th>\n",
       "      <th>EC4</th>\n",
       "      <th>EC5</th>\n",
       "      <th>EC6</th>\n",
       "    </tr>\n",
       "  </thead>\n",
       "  <tbody>\n",
       "    <tr>\n",
       "      <th>count</th>\n",
       "      <td>14838.000000</td>\n",
       "      <td>14838.000000</td>\n",
       "      <td>14838.000000</td>\n",
       "      <td>14838.000000</td>\n",
       "      <td>14838.000000</td>\n",
       "      <td>14838.000000</td>\n",
       "      <td>14838.000000</td>\n",
       "      <td>14838.000000</td>\n",
       "      <td>14838.000000</td>\n",
       "      <td>14838.000000</td>\n",
       "      <td>14838.000000</td>\n",
       "      <td>14838.000000</td>\n",
       "      <td>14838.000000</td>\n",
       "      <td>14838.000000</td>\n",
       "      <td>14838.000000</td>\n",
       "      <td>14838.000000</td>\n",
       "      <td>14838.000000</td>\n",
       "      <td>14838.000000</td>\n",
       "      <td>14838.000000</td>\n",
       "      <td>14838.000000</td>\n",
       "      <td>14838.000000</td>\n",
       "      <td>14838.000000</td>\n",
       "      <td>14838.000000</td>\n",
       "      <td>14838.000000</td>\n",
       "      <td>14838.000000</td>\n",
       "      <td>14838.000000</td>\n",
       "      <td>14838.000000</td>\n",
       "      <td>14838.000000</td>\n",
       "      <td>14838.000000</td>\n",
       "      <td>14838.000000</td>\n",
       "      <td>14838.000000</td>\n",
       "      <td>14838.000000</td>\n",
       "      <td>14838.000000</td>\n",
       "      <td>14838.000000</td>\n",
       "      <td>14838.000000</td>\n",
       "      <td>14838.000000</td>\n",
       "      <td>14838.000000</td>\n",
       "      <td>14838.000000</td>\n",
       "    </tr>\n",
       "    <tr>\n",
       "      <th>mean</th>\n",
       "      <td>7418.500000</td>\n",
       "      <td>0.126575</td>\n",
       "      <td>0.131345</td>\n",
       "      <td>0.116679</td>\n",
       "      <td>0.126114</td>\n",
       "      <td>0.137677</td>\n",
       "      <td>0.151918</td>\n",
       "      <td>0.149415</td>\n",
       "      <td>0.110340</td>\n",
       "      <td>0.080292</td>\n",
       "      <td>0.104420</td>\n",
       "      <td>0.130400</td>\n",
       "      <td>0.997364</td>\n",
       "      <td>0.997926</td>\n",
       "      <td>0.998290</td>\n",
       "      <td>0.762833</td>\n",
       "      <td>0.135102</td>\n",
       "      <td>0.068004</td>\n",
       "      <td>0.675385</td>\n",
       "      <td>0.341329</td>\n",
       "      <td>0.204384</td>\n",
       "      <td>0.112853</td>\n",
       "      <td>0.036876</td>\n",
       "      <td>0.023873</td>\n",
       "      <td>0.053517</td>\n",
       "      <td>0.066812</td>\n",
       "      <td>0.194034</td>\n",
       "      <td>0.063050</td>\n",
       "      <td>0.118165</td>\n",
       "      <td>0.140403</td>\n",
       "      <td>0.057277</td>\n",
       "      <td>0.057403</td>\n",
       "      <td>0.667745</td>\n",
       "      <td>0.798962</td>\n",
       "      <td>0.313789</td>\n",
       "      <td>0.279081</td>\n",
       "      <td>0.144831</td>\n",
       "      <td>0.151570</td>\n",
       "    </tr>\n",
       "    <tr>\n",
       "      <th>std</th>\n",
       "      <td>4283.505982</td>\n",
       "      <td>0.133283</td>\n",
       "      <td>0.098057</td>\n",
       "      <td>0.092618</td>\n",
       "      <td>0.109793</td>\n",
       "      <td>0.116803</td>\n",
       "      <td>0.142428</td>\n",
       "      <td>0.150178</td>\n",
       "      <td>0.116090</td>\n",
       "      <td>0.087237</td>\n",
       "      <td>0.136605</td>\n",
       "      <td>0.100784</td>\n",
       "      <td>0.008208</td>\n",
       "      <td>0.008212</td>\n",
       "      <td>0.008218</td>\n",
       "      <td>0.109393</td>\n",
       "      <td>0.104504</td>\n",
       "      <td>0.028293</td>\n",
       "      <td>0.099764</td>\n",
       "      <td>0.167626</td>\n",
       "      <td>0.181995</td>\n",
       "      <td>0.142929</td>\n",
       "      <td>0.071640</td>\n",
       "      <td>0.052625</td>\n",
       "      <td>0.095365</td>\n",
       "      <td>0.108277</td>\n",
       "      <td>0.223925</td>\n",
       "      <td>0.068794</td>\n",
       "      <td>0.126497</td>\n",
       "      <td>0.074830</td>\n",
       "      <td>0.083493</td>\n",
       "      <td>0.083514</td>\n",
       "      <td>0.471038</td>\n",
       "      <td>0.400790</td>\n",
       "      <td>0.464047</td>\n",
       "      <td>0.448562</td>\n",
       "      <td>0.351942</td>\n",
       "      <td>0.358616</td>\n",
       "    </tr>\n",
       "    <tr>\n",
       "      <th>min</th>\n",
       "      <td>0.000000</td>\n",
       "      <td>0.000000</td>\n",
       "      <td>0.000000</td>\n",
       "      <td>0.000000</td>\n",
       "      <td>0.000000</td>\n",
       "      <td>0.000000</td>\n",
       "      <td>0.000000</td>\n",
       "      <td>0.000000</td>\n",
       "      <td>0.000000</td>\n",
       "      <td>0.000000</td>\n",
       "      <td>0.000000</td>\n",
       "      <td>0.000000</td>\n",
       "      <td>0.000000</td>\n",
       "      <td>0.000000</td>\n",
       "      <td>0.000000</td>\n",
       "      <td>0.000000</td>\n",
       "      <td>0.000000</td>\n",
       "      <td>0.000000</td>\n",
       "      <td>0.000000</td>\n",
       "      <td>0.000000</td>\n",
       "      <td>0.000000</td>\n",
       "      <td>0.000000</td>\n",
       "      <td>0.000000</td>\n",
       "      <td>0.000000</td>\n",
       "      <td>0.000000</td>\n",
       "      <td>0.000000</td>\n",
       "      <td>0.000000</td>\n",
       "      <td>0.000000</td>\n",
       "      <td>0.000000</td>\n",
       "      <td>0.000000</td>\n",
       "      <td>0.000000</td>\n",
       "      <td>0.000000</td>\n",
       "      <td>0.000000</td>\n",
       "      <td>0.000000</td>\n",
       "      <td>0.000000</td>\n",
       "      <td>0.000000</td>\n",
       "      <td>0.000000</td>\n",
       "      <td>0.000000</td>\n",
       "    </tr>\n",
       "    <tr>\n",
       "      <th>25%</th>\n",
       "      <td>3709.250000</td>\n",
       "      <td>0.036635</td>\n",
       "      <td>0.067299</td>\n",
       "      <td>0.056693</td>\n",
       "      <td>0.054889</td>\n",
       "      <td>0.060559</td>\n",
       "      <td>0.058835</td>\n",
       "      <td>0.050731</td>\n",
       "      <td>0.031351</td>\n",
       "      <td>0.016412</td>\n",
       "      <td>0.000000</td>\n",
       "      <td>0.065747</td>\n",
       "      <td>0.997078</td>\n",
       "      <td>0.997745</td>\n",
       "      <td>0.998058</td>\n",
       "      <td>0.709942</td>\n",
       "      <td>0.066880</td>\n",
       "      <td>0.065474</td>\n",
       "      <td>0.635063</td>\n",
       "      <td>0.135300</td>\n",
       "      <td>0.095238</td>\n",
       "      <td>0.000000</td>\n",
       "      <td>0.000000</td>\n",
       "      <td>0.000000</td>\n",
       "      <td>0.000000</td>\n",
       "      <td>0.000000</td>\n",
       "      <td>0.073930</td>\n",
       "      <td>0.013031</td>\n",
       "      <td>0.041545</td>\n",
       "      <td>0.090875</td>\n",
       "      <td>0.000000</td>\n",
       "      <td>0.000000</td>\n",
       "      <td>0.000000</td>\n",
       "      <td>1.000000</td>\n",
       "      <td>0.000000</td>\n",
       "      <td>0.000000</td>\n",
       "      <td>0.000000</td>\n",
       "      <td>0.000000</td>\n",
       "    </tr>\n",
       "    <tr>\n",
       "      <th>50%</th>\n",
       "      <td>7418.500000</td>\n",
       "      <td>0.071497</td>\n",
       "      <td>0.093245</td>\n",
       "      <td>0.080772</td>\n",
       "      <td>0.082214</td>\n",
       "      <td>0.092263</td>\n",
       "      <td>0.093778</td>\n",
       "      <td>0.085164</td>\n",
       "      <td>0.066775</td>\n",
       "      <td>0.047713</td>\n",
       "      <td>0.064249</td>\n",
       "      <td>0.091685</td>\n",
       "      <td>0.997384</td>\n",
       "      <td>0.998005</td>\n",
       "      <td>0.998444</td>\n",
       "      <td>0.775439</td>\n",
       "      <td>0.095461</td>\n",
       "      <td>0.066388</td>\n",
       "      <td>0.666741</td>\n",
       "      <td>0.410638</td>\n",
       "      <td>0.142857</td>\n",
       "      <td>0.061864</td>\n",
       "      <td>0.012373</td>\n",
       "      <td>0.000000</td>\n",
       "      <td>0.000000</td>\n",
       "      <td>0.000000</td>\n",
       "      <td>0.145556</td>\n",
       "      <td>0.040743</td>\n",
       "      <td>0.083090</td>\n",
       "      <td>0.120799</td>\n",
       "      <td>0.000000</td>\n",
       "      <td>0.000000</td>\n",
       "      <td>1.000000</td>\n",
       "      <td>1.000000</td>\n",
       "      <td>0.000000</td>\n",
       "      <td>0.000000</td>\n",
       "      <td>0.000000</td>\n",
       "      <td>0.000000</td>\n",
       "    </tr>\n",
       "    <tr>\n",
       "      <th>75%</th>\n",
       "      <td>11127.750000</td>\n",
       "      <td>0.160358</td>\n",
       "      <td>0.160608</td>\n",
       "      <td>0.149215</td>\n",
       "      <td>0.159602</td>\n",
       "      <td>0.179802</td>\n",
       "      <td>0.191136</td>\n",
       "      <td>0.196762</td>\n",
       "      <td>0.157675</td>\n",
       "      <td>0.123387</td>\n",
       "      <td>0.128498</td>\n",
       "      <td>0.152968</td>\n",
       "      <td>0.997758</td>\n",
       "      <td>0.998300</td>\n",
       "      <td>0.998656</td>\n",
       "      <td>0.837427</td>\n",
       "      <td>0.160187</td>\n",
       "      <td>0.067988</td>\n",
       "      <td>0.738295</td>\n",
       "      <td>0.449440</td>\n",
       "      <td>0.238095</td>\n",
       "      <td>0.187500</td>\n",
       "      <td>0.032430</td>\n",
       "      <td>0.032317</td>\n",
       "      <td>0.065472</td>\n",
       "      <td>0.068997</td>\n",
       "      <td>0.219487</td>\n",
       "      <td>0.086716</td>\n",
       "      <td>0.129219</td>\n",
       "      <td>0.157795</td>\n",
       "      <td>0.125000</td>\n",
       "      <td>0.125000</td>\n",
       "      <td>1.000000</td>\n",
       "      <td>1.000000</td>\n",
       "      <td>1.000000</td>\n",
       "      <td>1.000000</td>\n",
       "      <td>0.000000</td>\n",
       "      <td>0.000000</td>\n",
       "    </tr>\n",
       "    <tr>\n",
       "      <th>max</th>\n",
       "      <td>14837.000000</td>\n",
       "      <td>1.000000</td>\n",
       "      <td>1.000000</td>\n",
       "      <td>1.000000</td>\n",
       "      <td>1.000000</td>\n",
       "      <td>1.000000</td>\n",
       "      <td>1.000000</td>\n",
       "      <td>1.000000</td>\n",
       "      <td>1.000000</td>\n",
       "      <td>1.000000</td>\n",
       "      <td>1.000000</td>\n",
       "      <td>1.000000</td>\n",
       "      <td>1.000000</td>\n",
       "      <td>1.000000</td>\n",
       "      <td>1.000000</td>\n",
       "      <td>1.000000</td>\n",
       "      <td>1.000000</td>\n",
       "      <td>1.000000</td>\n",
       "      <td>1.000000</td>\n",
       "      <td>1.000000</td>\n",
       "      <td>1.000000</td>\n",
       "      <td>1.000000</td>\n",
       "      <td>1.000000</td>\n",
       "      <td>1.000000</td>\n",
       "      <td>1.000000</td>\n",
       "      <td>1.000000</td>\n",
       "      <td>1.000000</td>\n",
       "      <td>1.000000</td>\n",
       "      <td>1.000000</td>\n",
       "      <td>1.000000</td>\n",
       "      <td>1.000000</td>\n",
       "      <td>1.000000</td>\n",
       "      <td>1.000000</td>\n",
       "      <td>1.000000</td>\n",
       "      <td>1.000000</td>\n",
       "      <td>1.000000</td>\n",
       "      <td>1.000000</td>\n",
       "      <td>1.000000</td>\n",
       "    </tr>\n",
       "  </tbody>\n",
       "</table>\n",
       "</div>"
      ],
      "text/plain": [
       "                 id       BertzCT          Chi1         Chi1n         Chi1v  \\\n",
       "count  14838.000000  14838.000000  14838.000000  14838.000000  14838.000000   \n",
       "mean    7418.500000      0.126575      0.131345      0.116679      0.126114   \n",
       "std     4283.505982      0.133283      0.098057      0.092618      0.109793   \n",
       "min        0.000000      0.000000      0.000000      0.000000      0.000000   \n",
       "25%     3709.250000      0.036635      0.067299      0.056693      0.054889   \n",
       "50%     7418.500000      0.071497      0.093245      0.080772      0.082214   \n",
       "75%    11127.750000      0.160358      0.160608      0.149215      0.159602   \n",
       "max    14837.000000      1.000000      1.000000      1.000000      1.000000   \n",
       "\n",
       "              Chi2n         Chi2v         Chi3v         Chi4n   EState_VSA1  \\\n",
       "count  14838.000000  14838.000000  14838.000000  14838.000000  14838.000000   \n",
       "mean       0.137677      0.151918      0.149415      0.110340      0.080292   \n",
       "std        0.116803      0.142428      0.150178      0.116090      0.087237   \n",
       "min        0.000000      0.000000      0.000000      0.000000      0.000000   \n",
       "25%        0.060559      0.058835      0.050731      0.031351      0.016412   \n",
       "50%        0.092263      0.093778      0.085164      0.066775      0.047713   \n",
       "75%        0.179802      0.191136      0.196762      0.157675      0.123387   \n",
       "max        1.000000      1.000000      1.000000      1.000000      1.000000   \n",
       "\n",
       "        EState_VSA2    ExactMolWt  FpDensityMorgan1  FpDensityMorgan2  \\\n",
       "count  14838.000000  14838.000000      14838.000000      14838.000000   \n",
       "mean       0.104420      0.130400          0.997364          0.997926   \n",
       "std        0.136605      0.100784          0.008208          0.008212   \n",
       "min        0.000000      0.000000          0.000000          0.000000   \n",
       "25%        0.000000      0.065747          0.997078          0.997745   \n",
       "50%        0.064249      0.091685          0.997384          0.998005   \n",
       "75%        0.128498      0.152968          0.997758          0.998300   \n",
       "max        1.000000      1.000000          1.000000          1.000000   \n",
       "\n",
       "       FpDensityMorgan3  HallKierAlpha  HeavyAtomMolWt        Kappa3  \\\n",
       "count      14838.000000   14838.000000    14838.000000  14838.000000   \n",
       "mean           0.998290       0.762833        0.135102      0.068004   \n",
       "std            0.008218       0.109393        0.104504      0.028293   \n",
       "min            0.000000       0.000000        0.000000      0.000000   \n",
       "25%            0.998058       0.709942        0.066880      0.065474   \n",
       "50%            0.998444       0.775439        0.095461      0.066388   \n",
       "75%            0.998656       0.837427        0.160187      0.067988   \n",
       "max            1.000000       1.000000        1.000000      1.000000   \n",
       "\n",
       "       MaxAbsEStateIndex  MinEStateIndex  NumHeteroatoms    PEOE_VSA10  \\\n",
       "count       14838.000000    14838.000000    14838.000000  14838.000000   \n",
       "mean            0.675385        0.341329        0.204384      0.112853   \n",
       "std             0.099764        0.167626        0.181995      0.142929   \n",
       "min             0.000000        0.000000        0.000000      0.000000   \n",
       "25%             0.635063        0.135300        0.095238      0.000000   \n",
       "50%             0.666741        0.410638        0.142857      0.061864   \n",
       "75%             0.738295        0.449440        0.238095      0.187500   \n",
       "max             1.000000        1.000000        1.000000      1.000000   \n",
       "\n",
       "         PEOE_VSA14     PEOE_VSA6     PEOE_VSA7     PEOE_VSA8     SMR_VSA10  \\\n",
       "count  14838.000000  14838.000000  14838.000000  14838.000000  14838.000000   \n",
       "mean       0.036876      0.023873      0.053517      0.066812      0.194034   \n",
       "std        0.071640      0.052625      0.095365      0.108277      0.223925   \n",
       "min        0.000000      0.000000      0.000000      0.000000      0.000000   \n",
       "25%        0.000000      0.000000      0.000000      0.000000      0.073930   \n",
       "50%        0.012373      0.000000      0.000000      0.000000      0.145556   \n",
       "75%        0.032430      0.032317      0.065472      0.068997      0.219487   \n",
       "max        1.000000      1.000000      1.000000      1.000000      1.000000   \n",
       "\n",
       "           SMR_VSA5    SlogP_VSA3   VSA_EState9        fr_COO       fr_COO2  \\\n",
       "count  14838.000000  14838.000000  14838.000000  14838.000000  14838.000000   \n",
       "mean       0.063050      0.118165      0.140403      0.057277      0.057403   \n",
       "std        0.068794      0.126497      0.074830      0.083493      0.083514   \n",
       "min        0.000000      0.000000      0.000000      0.000000      0.000000   \n",
       "25%        0.013031      0.041545      0.090875      0.000000      0.000000   \n",
       "50%        0.040743      0.083090      0.120799      0.000000      0.000000   \n",
       "75%        0.086716      0.129219      0.157795      0.125000      0.125000   \n",
       "max        1.000000      1.000000      1.000000      1.000000      1.000000   \n",
       "\n",
       "                EC1           EC2           EC3           EC4           EC5  \\\n",
       "count  14838.000000  14838.000000  14838.000000  14838.000000  14838.000000   \n",
       "mean       0.667745      0.798962      0.313789      0.279081      0.144831   \n",
       "std        0.471038      0.400790      0.464047      0.448562      0.351942   \n",
       "min        0.000000      0.000000      0.000000      0.000000      0.000000   \n",
       "25%        0.000000      1.000000      0.000000      0.000000      0.000000   \n",
       "50%        1.000000      1.000000      0.000000      0.000000      0.000000   \n",
       "75%        1.000000      1.000000      1.000000      1.000000      0.000000   \n",
       "max        1.000000      1.000000      1.000000      1.000000      1.000000   \n",
       "\n",
       "                EC6  \n",
       "count  14838.000000  \n",
       "mean       0.151570  \n",
       "std        0.358616  \n",
       "min        0.000000  \n",
       "25%        0.000000  \n",
       "50%        0.000000  \n",
       "75%        0.000000  \n",
       "max        1.000000  "
      ]
     },
     "execution_count": 9,
     "metadata": {},
     "output_type": "execute_result"
    }
   ],
   "source": [
    "train.describe()"
   ]
  },
  {
   "cell_type": "markdown",
   "id": "afac7030",
   "metadata": {
    "papermill": {
     "duration": 0.018347,
     "end_time": "2023-06-28T11:46:54.077154",
     "exception": false,
     "start_time": "2023-06-28T11:46:54.058807",
     "status": "completed"
    },
    "tags": []
   },
   "source": [
    "# 4. Data preparation"
   ]
  },
  {
   "cell_type": "code",
   "execution_count": 10,
   "id": "a0cceb7a",
   "metadata": {
    "execution": {
     "iopub.execute_input": "2023-06-28T11:46:54.116213Z",
     "iopub.status.busy": "2023-06-28T11:46:54.115834Z",
     "iopub.status.idle": "2023-06-28T11:46:54.128847Z",
     "shell.execute_reply": "2023-06-28T11:46:54.127913Z"
    },
    "papermill": {
     "duration": 0.035537,
     "end_time": "2023-06-28T11:46:54.131282",
     "exception": false,
     "start_time": "2023-06-28T11:46:54.095745",
     "status": "completed"
    },
    "tags": []
   },
   "outputs": [],
   "source": [
    "X = train[cols]\n",
    "Y = train[['EC1','EC2']]"
   ]
  },
  {
   "cell_type": "code",
   "execution_count": 11,
   "id": "87677394",
   "metadata": {
    "execution": {
     "iopub.execute_input": "2023-06-28T11:46:54.170874Z",
     "iopub.status.busy": "2023-06-28T11:46:54.170452Z",
     "iopub.status.idle": "2023-06-28T11:46:54.193286Z",
     "shell.execute_reply": "2023-06-28T11:46:54.192423Z"
    },
    "papermill": {
     "duration": 0.045603,
     "end_time": "2023-06-28T11:46:54.195606",
     "exception": false,
     "start_time": "2023-06-28T11:46:54.150003",
     "status": "completed"
    },
    "tags": []
   },
   "outputs": [
    {
     "data": {
      "text/plain": [
       "(8308, 2226, 2226, 2078)"
      ]
     },
     "execution_count": 11,
     "metadata": {},
     "output_type": "execute_result"
    }
   ],
   "source": [
    "x_train_full, x, y_train_full, y = train_test_split(X,Y,test_size=0.3,random_state=123)\n",
    "x_val, x_test, y_val, y_test = train_test_split(x, y, test_size=0.5,random_state=123)\n",
    "x_train, x_, y_train, y_ = train_test_split(x_train_full,y_train_full,test_size=0.2,random_state=123)\n",
    "len(x_train), len(x_val) , len(x_test), len(x_)"
   ]
  },
  {
   "cell_type": "markdown",
   "id": "728b3489",
   "metadata": {
    "papermill": {
     "duration": 0.018504,
     "end_time": "2023-06-28T11:46:54.233104",
     "exception": false,
     "start_time": "2023-06-28T11:46:54.214600",
     "status": "completed"
    },
    "tags": []
   },
   "source": [
    "# 5. LGBM Classifier Model | Optuna Hyperparamter Search"
   ]
  },
  {
   "cell_type": "code",
   "execution_count": 12,
   "id": "b90ec7e1",
   "metadata": {
    "collapsed": true,
    "execution": {
     "iopub.execute_input": "2023-06-28T11:46:54.273072Z",
     "iopub.status.busy": "2023-06-28T11:46:54.272221Z",
     "iopub.status.idle": "2023-06-28T11:47:35.257482Z",
     "shell.execute_reply": "2023-06-28T11:47:35.256150Z"
    },
    "jupyter": {
     "outputs_hidden": true
    },
    "papermill": {
     "duration": 41.008183,
     "end_time": "2023-06-28T11:47:35.260164",
     "exception": false,
     "start_time": "2023-06-28T11:46:54.251981",
     "status": "completed"
    },
    "tags": []
   },
   "outputs": [
    {
     "name": "stderr",
     "output_type": "stream",
     "text": [
      "[I 2023-06-28 11:46:54,281] A new study created in memory with name: no-name-c806ebac-7fb9-4e9f-adcf-bccf70977b07\n",
      "/opt/conda/lib/python3.10/site-packages/lightgbm/sklearn.py:726: UserWarning: 'early_stopping_rounds' argument is deprecated and will be removed in a future release of LightGBM. Pass 'early_stopping()' callback via 'callbacks' argument instead.\n",
      "  _log_warning(\"'early_stopping_rounds' argument is deprecated and will be removed in a future release of LightGBM. \"\n",
      "/opt/conda/lib/python3.10/site-packages/lightgbm/sklearn.py:736: UserWarning: 'verbose' argument is deprecated and will be removed in a future release of LightGBM. Pass 'log_evaluation()' callback via 'callbacks' argument instead.\n",
      "  _log_warning(\"'verbose' argument is deprecated and will be removed in a future release of LightGBM. \"\n"
     ]
    },
    {
     "name": "stdout",
     "output_type": "stream",
     "text": [
      "[LightGBM] [Warning] lambda_l1 is set=0, reg_alpha=0 will be ignored. Current value: lambda_l1=0\n",
      "[LightGBM] [Warning] feature_fraction is set=0.588806434233037, colsample_bytree=1.0 will be ignored. Current value: feature_fraction=0.588806434233037\n",
      "[LightGBM] [Warning] lambda_l2 is set=3, reg_lambda=0 will be ignored. Current value: lambda_l2=3\n"
     ]
    },
    {
     "name": "stderr",
     "output_type": "stream",
     "text": [
      "[I 2023-06-28 11:46:55,488] Trial 0 finished with value: 0.6912311485440736 and parameters: {'num_leaves': 28, 'max_depth': 10, 'n_estimators': 1806, 'reg_alpha': 0, 'reg_lambda': 0, 'learning_rate': 0.02309293913216091, 'subsample': 0.7999734518094546, 'lambda_l1': 0, 'lambda_l2': 3, 'feature_fraction': 0.588806434233037}. Best is trial 0 with value: 0.6912311485440736.\n",
      "/opt/conda/lib/python3.10/site-packages/lightgbm/sklearn.py:726: UserWarning: 'early_stopping_rounds' argument is deprecated and will be removed in a future release of LightGBM. Pass 'early_stopping()' callback via 'callbacks' argument instead.\n",
      "  _log_warning(\"'early_stopping_rounds' argument is deprecated and will be removed in a future release of LightGBM. \"\n",
      "/opt/conda/lib/python3.10/site-packages/lightgbm/sklearn.py:736: UserWarning: 'verbose' argument is deprecated and will be removed in a future release of LightGBM. Pass 'log_evaluation()' callback via 'callbacks' argument instead.\n",
      "  _log_warning(\"'verbose' argument is deprecated and will be removed in a future release of LightGBM. \"\n"
     ]
    },
    {
     "name": "stdout",
     "output_type": "stream",
     "text": [
      "[LightGBM] [Warning] lambda_l1 is set=3, reg_alpha=0 will be ignored. Current value: lambda_l1=3\n",
      "[LightGBM] [Warning] feature_fraction is set=0.5253044568008665, colsample_bytree=1.0 will be ignored. Current value: feature_fraction=0.5253044568008665\n",
      "[LightGBM] [Warning] lambda_l2 is set=0, reg_lambda=0 will be ignored. Current value: lambda_l2=0\n"
     ]
    },
    {
     "name": "stderr",
     "output_type": "stream",
     "text": [
      "[I 2023-06-28 11:46:58,129] Trial 1 finished with value: 0.6882994996940576 and parameters: {'num_leaves': 46, 'max_depth': 4, 'n_estimators': 630, 'reg_alpha': 0, 'reg_lambda': 0, 'learning_rate': 0.0020328763224852333, 'subsample': 0.8640651125924323, 'lambda_l1': 3, 'lambda_l2': 0, 'feature_fraction': 0.5253044568008665}. Best is trial 0 with value: 0.6912311485440736.\n",
      "/opt/conda/lib/python3.10/site-packages/lightgbm/sklearn.py:726: UserWarning: 'early_stopping_rounds' argument is deprecated and will be removed in a future release of LightGBM. Pass 'early_stopping()' callback via 'callbacks' argument instead.\n",
      "  _log_warning(\"'early_stopping_rounds' argument is deprecated and will be removed in a future release of LightGBM. \"\n",
      "/opt/conda/lib/python3.10/site-packages/lightgbm/sklearn.py:736: UserWarning: 'verbose' argument is deprecated and will be removed in a future release of LightGBM. Pass 'log_evaluation()' callback via 'callbacks' argument instead.\n",
      "  _log_warning(\"'verbose' argument is deprecated and will be removed in a future release of LightGBM. \"\n"
     ]
    },
    {
     "name": "stdout",
     "output_type": "stream",
     "text": [
      "[LightGBM] [Warning] lambda_l1 is set=4, reg_alpha=0 will be ignored. Current value: lambda_l1=4\n",
      "[LightGBM] [Warning] feature_fraction is set=0.5751773366807873, colsample_bytree=1.0 will be ignored. Current value: feature_fraction=0.5751773366807873\n",
      "[LightGBM] [Warning] lambda_l2 is set=4, reg_lambda=0 will be ignored. Current value: lambda_l2=4\n"
     ]
    },
    {
     "name": "stderr",
     "output_type": "stream",
     "text": [
      "[I 2023-06-28 11:47:04,029] Trial 2 finished with value: 0.689053557931109 and parameters: {'num_leaves': 26, 'max_depth': 9, 'n_estimators': 1653, 'reg_alpha': 0, 'reg_lambda': 0, 'learning_rate': 0.00317427538837694, 'subsample': 0.9911468302283825, 'lambda_l1': 4, 'lambda_l2': 4, 'feature_fraction': 0.5751773366807873}. Best is trial 0 with value: 0.6912311485440736.\n",
      "/opt/conda/lib/python3.10/site-packages/lightgbm/sklearn.py:726: UserWarning: 'early_stopping_rounds' argument is deprecated and will be removed in a future release of LightGBM. Pass 'early_stopping()' callback via 'callbacks' argument instead.\n",
      "  _log_warning(\"'early_stopping_rounds' argument is deprecated and will be removed in a future release of LightGBM. \"\n",
      "/opt/conda/lib/python3.10/site-packages/lightgbm/sklearn.py:736: UserWarning: 'verbose' argument is deprecated and will be removed in a future release of LightGBM. Pass 'log_evaluation()' callback via 'callbacks' argument instead.\n",
      "  _log_warning(\"'verbose' argument is deprecated and will be removed in a future release of LightGBM. \"\n"
     ]
    },
    {
     "name": "stdout",
     "output_type": "stream",
     "text": [
      "[LightGBM] [Warning] lambda_l1 is set=0, reg_alpha=0 will be ignored. Current value: lambda_l1=0\n",
      "[LightGBM] [Warning] feature_fraction is set=0.8377231358054495, colsample_bytree=1.0 will be ignored. Current value: feature_fraction=0.8377231358054495\n",
      "[LightGBM] [Warning] lambda_l2 is set=2, reg_lambda=0 will be ignored. Current value: lambda_l2=2\n"
     ]
    },
    {
     "name": "stderr",
     "output_type": "stream",
     "text": [
      "[I 2023-06-28 11:47:05,140] Trial 3 finished with value: 0.6939765324119066 and parameters: {'num_leaves': 33, 'max_depth': 9, 'n_estimators': 290, 'reg_alpha': 0, 'reg_lambda': 0, 'learning_rate': 0.09383073807047086, 'subsample': 0.5149475034484587, 'lambda_l1': 0, 'lambda_l2': 2, 'feature_fraction': 0.8377231358054495}. Best is trial 3 with value: 0.6939765324119066.\n",
      "/opt/conda/lib/python3.10/site-packages/lightgbm/sklearn.py:726: UserWarning: 'early_stopping_rounds' argument is deprecated and will be removed in a future release of LightGBM. Pass 'early_stopping()' callback via 'callbacks' argument instead.\n",
      "  _log_warning(\"'early_stopping_rounds' argument is deprecated and will be removed in a future release of LightGBM. \"\n",
      "/opt/conda/lib/python3.10/site-packages/lightgbm/sklearn.py:736: UserWarning: 'verbose' argument is deprecated and will be removed in a future release of LightGBM. Pass 'log_evaluation()' callback via 'callbacks' argument instead.\n",
      "  _log_warning(\"'verbose' argument is deprecated and will be removed in a future release of LightGBM. \"\n"
     ]
    },
    {
     "name": "stdout",
     "output_type": "stream",
     "text": [
      "[LightGBM] [Warning] lambda_l1 is set=3, reg_alpha=0 will be ignored. Current value: lambda_l1=3\n",
      "[LightGBM] [Warning] feature_fraction is set=0.9065660724450229, colsample_bytree=1.0 will be ignored. Current value: feature_fraction=0.9065660724450229\n",
      "[LightGBM] [Warning] lambda_l2 is set=3, reg_lambda=0 will be ignored. Current value: lambda_l2=3\n"
     ]
    },
    {
     "name": "stderr",
     "output_type": "stream",
     "text": [
      "[I 2023-06-28 11:47:06,142] Trial 4 finished with value: 0.6897873699744448 and parameters: {'num_leaves': 89, 'max_depth': 1, 'n_estimators': 1232, 'reg_alpha': 0, 'reg_lambda': 0, 'learning_rate': 0.031288540210678076, 'subsample': 0.7281435970434742, 'lambda_l1': 3, 'lambda_l2': 3, 'feature_fraction': 0.9065660724450229}. Best is trial 3 with value: 0.6939765324119066.\n",
      "/opt/conda/lib/python3.10/site-packages/lightgbm/sklearn.py:726: UserWarning: 'early_stopping_rounds' argument is deprecated and will be removed in a future release of LightGBM. Pass 'early_stopping()' callback via 'callbacks' argument instead.\n",
      "  _log_warning(\"'early_stopping_rounds' argument is deprecated and will be removed in a future release of LightGBM. \"\n",
      "/opt/conda/lib/python3.10/site-packages/lightgbm/sklearn.py:736: UserWarning: 'verbose' argument is deprecated and will be removed in a future release of LightGBM. Pass 'log_evaluation()' callback via 'callbacks' argument instead.\n",
      "  _log_warning(\"'verbose' argument is deprecated and will be removed in a future release of LightGBM. \"\n"
     ]
    },
    {
     "name": "stdout",
     "output_type": "stream",
     "text": [
      "[LightGBM] [Warning] lambda_l1 is set=1, reg_alpha=0 will be ignored. Current value: lambda_l1=1\n",
      "[LightGBM] [Warning] feature_fraction is set=0.5807785473863122, colsample_bytree=1.0 will be ignored. Current value: feature_fraction=0.5807785473863122\n",
      "[LightGBM] [Warning] lambda_l2 is set=4, reg_lambda=0 will be ignored. Current value: lambda_l2=4\n"
     ]
    },
    {
     "name": "stderr",
     "output_type": "stream",
     "text": [
      "[I 2023-06-28 11:47:07,457] Trial 5 finished with value: 0.6899299931612857 and parameters: {'num_leaves': 30, 'max_depth': 3, 'n_estimators': 496, 'reg_alpha': 0, 'reg_lambda': 0, 'learning_rate': 0.007772220856724495, 'subsample': 0.888080244093462, 'lambda_l1': 1, 'lambda_l2': 4, 'feature_fraction': 0.5807785473863122}. Best is trial 3 with value: 0.6939765324119066.\n",
      "/opt/conda/lib/python3.10/site-packages/lightgbm/sklearn.py:726: UserWarning: 'early_stopping_rounds' argument is deprecated and will be removed in a future release of LightGBM. Pass 'early_stopping()' callback via 'callbacks' argument instead.\n",
      "  _log_warning(\"'early_stopping_rounds' argument is deprecated and will be removed in a future release of LightGBM. \"\n",
      "/opt/conda/lib/python3.10/site-packages/lightgbm/sklearn.py:736: UserWarning: 'verbose' argument is deprecated and will be removed in a future release of LightGBM. Pass 'log_evaluation()' callback via 'callbacks' argument instead.\n",
      "  _log_warning(\"'verbose' argument is deprecated and will be removed in a future release of LightGBM. \"\n"
     ]
    },
    {
     "name": "stdout",
     "output_type": "stream",
     "text": [
      "[LightGBM] [Warning] lambda_l1 is set=2, reg_alpha=0 will be ignored. Current value: lambda_l1=2\n",
      "[LightGBM] [Warning] feature_fraction is set=0.9481378970957652, colsample_bytree=1.0 will be ignored. Current value: feature_fraction=0.9481378970957652\n",
      "[LightGBM] [Warning] lambda_l2 is set=1, reg_lambda=0 will be ignored. Current value: lambda_l2=1\n"
     ]
    },
    {
     "name": "stderr",
     "output_type": "stream",
     "text": [
      "[I 2023-06-28 11:47:08,586] Trial 6 finished with value: 0.6832514487276391 and parameters: {'num_leaves': 84, 'max_depth': 10, 'n_estimators': 1463, 'reg_alpha': 0, 'reg_lambda': 0, 'learning_rate': 0.04345423817721694, 'subsample': 0.6678173889049265, 'lambda_l1': 2, 'lambda_l2': 1, 'feature_fraction': 0.9481378970957652}. Best is trial 3 with value: 0.6939765324119066.\n",
      "/opt/conda/lib/python3.10/site-packages/lightgbm/sklearn.py:726: UserWarning: 'early_stopping_rounds' argument is deprecated and will be removed in a future release of LightGBM. Pass 'early_stopping()' callback via 'callbacks' argument instead.\n",
      "  _log_warning(\"'early_stopping_rounds' argument is deprecated and will be removed in a future release of LightGBM. \"\n",
      "/opt/conda/lib/python3.10/site-packages/lightgbm/sklearn.py:736: UserWarning: 'verbose' argument is deprecated and will be removed in a future release of LightGBM. Pass 'log_evaluation()' callback via 'callbacks' argument instead.\n",
      "  _log_warning(\"'verbose' argument is deprecated and will be removed in a future release of LightGBM. \"\n"
     ]
    },
    {
     "name": "stdout",
     "output_type": "stream",
     "text": [
      "[LightGBM] [Warning] lambda_l1 is set=2, reg_alpha=0 will be ignored. Current value: lambda_l1=2\n",
      "[LightGBM] [Warning] feature_fraction is set=0.9565258047613188, colsample_bytree=1.0 will be ignored. Current value: feature_fraction=0.9565258047613188\n",
      "[LightGBM] [Warning] lambda_l2 is set=1, reg_lambda=0 will be ignored. Current value: lambda_l2=1\n"
     ]
    },
    {
     "name": "stderr",
     "output_type": "stream",
     "text": [
      "[I 2023-06-28 11:47:13,250] Trial 7 finished with value: 0.6891894323867112 and parameters: {'num_leaves': 66, 'max_depth': 5, 'n_estimators': 1435, 'reg_alpha': 0, 'reg_lambda': 0, 'learning_rate': 0.0032690762356073727, 'subsample': 0.636397159741257, 'lambda_l1': 2, 'lambda_l2': 1, 'feature_fraction': 0.9565258047613188}. Best is trial 3 with value: 0.6939765324119066.\n",
      "/opt/conda/lib/python3.10/site-packages/lightgbm/sklearn.py:726: UserWarning: 'early_stopping_rounds' argument is deprecated and will be removed in a future release of LightGBM. Pass 'early_stopping()' callback via 'callbacks' argument instead.\n",
      "  _log_warning(\"'early_stopping_rounds' argument is deprecated and will be removed in a future release of LightGBM. \"\n",
      "/opt/conda/lib/python3.10/site-packages/lightgbm/sklearn.py:736: UserWarning: 'verbose' argument is deprecated and will be removed in a future release of LightGBM. Pass 'log_evaluation()' callback via 'callbacks' argument instead.\n",
      "  _log_warning(\"'verbose' argument is deprecated and will be removed in a future release of LightGBM. \"\n"
     ]
    },
    {
     "name": "stdout",
     "output_type": "stream",
     "text": [
      "[LightGBM] [Warning] lambda_l1 is set=3, reg_alpha=0 will be ignored. Current value: lambda_l1=3\n",
      "[LightGBM] [Warning] feature_fraction is set=0.9029882092071286, colsample_bytree=1.0 will be ignored. Current value: feature_fraction=0.9029882092071286\n",
      "[LightGBM] [Warning] lambda_l2 is set=2, reg_lambda=0 will be ignored. Current value: lambda_l2=2\n"
     ]
    },
    {
     "name": "stderr",
     "output_type": "stream",
     "text": [
      "[I 2023-06-28 11:47:15,167] Trial 8 finished with value: 0.687156264622251 and parameters: {'num_leaves': 38, 'max_depth': 6, 'n_estimators': 1670, 'reg_alpha': 0, 'reg_lambda': 0, 'learning_rate': 0.011641221518529367, 'subsample': 0.683398469856198, 'lambda_l1': 3, 'lambda_l2': 2, 'feature_fraction': 0.9029882092071286}. Best is trial 3 with value: 0.6939765324119066.\n",
      "/opt/conda/lib/python3.10/site-packages/lightgbm/sklearn.py:726: UserWarning: 'early_stopping_rounds' argument is deprecated and will be removed in a future release of LightGBM. Pass 'early_stopping()' callback via 'callbacks' argument instead.\n",
      "  _log_warning(\"'early_stopping_rounds' argument is deprecated and will be removed in a future release of LightGBM. \"\n",
      "/opt/conda/lib/python3.10/site-packages/lightgbm/sklearn.py:736: UserWarning: 'verbose' argument is deprecated and will be removed in a future release of LightGBM. Pass 'log_evaluation()' callback via 'callbacks' argument instead.\n",
      "  _log_warning(\"'verbose' argument is deprecated and will be removed in a future release of LightGBM. \"\n"
     ]
    },
    {
     "name": "stdout",
     "output_type": "stream",
     "text": [
      "[LightGBM] [Warning] lambda_l1 is set=4, reg_alpha=0 will be ignored. Current value: lambda_l1=4\n",
      "[LightGBM] [Warning] feature_fraction is set=0.9132226919392208, colsample_bytree=1.0 will be ignored. Current value: feature_fraction=0.9132226919392208\n",
      "[LightGBM] [Warning] lambda_l2 is set=3, reg_lambda=0 will be ignored. Current value: lambda_l2=3\n"
     ]
    },
    {
     "name": "stderr",
     "output_type": "stream",
     "text": [
      "[I 2023-06-28 11:47:18,686] Trial 9 finished with value: 0.6892006802721088 and parameters: {'num_leaves': 64, 'max_depth': 3, 'n_estimators': 1296, 'reg_alpha': 0, 'reg_lambda': 0, 'learning_rate': 0.002400369400721703, 'subsample': 0.5187790791207209, 'lambda_l1': 4, 'lambda_l2': 3, 'feature_fraction': 0.9132226919392208}. Best is trial 3 with value: 0.6939765324119066.\n",
      "/opt/conda/lib/python3.10/site-packages/lightgbm/sklearn.py:726: UserWarning: 'early_stopping_rounds' argument is deprecated and will be removed in a future release of LightGBM. Pass 'early_stopping()' callback via 'callbacks' argument instead.\n",
      "  _log_warning(\"'early_stopping_rounds' argument is deprecated and will be removed in a future release of LightGBM. \"\n",
      "/opt/conda/lib/python3.10/site-packages/lightgbm/sklearn.py:736: UserWarning: 'verbose' argument is deprecated and will be removed in a future release of LightGBM. Pass 'log_evaluation()' callback via 'callbacks' argument instead.\n",
      "  _log_warning(\"'verbose' argument is deprecated and will be removed in a future release of LightGBM. \"\n"
     ]
    },
    {
     "name": "stdout",
     "output_type": "stream",
     "text": [
      "[LightGBM] [Warning] lambda_l1 is set=0, reg_alpha=0 will be ignored. Current value: lambda_l1=0\n",
      "[LightGBM] [Warning] feature_fraction is set=0.784366275420451, colsample_bytree=1.0 will be ignored. Current value: feature_fraction=0.784366275420451\n",
      "[LightGBM] [Warning] lambda_l2 is set=2, reg_lambda=0 will be ignored. Current value: lambda_l2=2\n"
     ]
    },
    {
     "name": "stderr",
     "output_type": "stream",
     "text": [
      "[I 2023-06-28 11:47:19,150] Trial 10 finished with value: 0.6892870640319619 and parameters: {'num_leaves': 50, 'max_depth': 7, 'n_estimators': 33, 'reg_alpha': 0, 'reg_lambda': 0, 'learning_rate': 0.08980307592714812, 'subsample': 0.5094137356905821, 'lambda_l1': 0, 'lambda_l2': 2, 'feature_fraction': 0.784366275420451}. Best is trial 3 with value: 0.6939765324119066.\n",
      "/opt/conda/lib/python3.10/site-packages/lightgbm/sklearn.py:726: UserWarning: 'early_stopping_rounds' argument is deprecated and will be removed in a future release of LightGBM. Pass 'early_stopping()' callback via 'callbacks' argument instead.\n",
      "  _log_warning(\"'early_stopping_rounds' argument is deprecated and will be removed in a future release of LightGBM. \"\n",
      "/opt/conda/lib/python3.10/site-packages/lightgbm/sklearn.py:736: UserWarning: 'verbose' argument is deprecated and will be removed in a future release of LightGBM. Pass 'log_evaluation()' callback via 'callbacks' argument instead.\n",
      "  _log_warning(\"'verbose' argument is deprecated and will be removed in a future release of LightGBM. \"\n"
     ]
    },
    {
     "name": "stdout",
     "output_type": "stream",
     "text": [
      "[LightGBM] [Warning] lambda_l1 is set=0, reg_alpha=0 will be ignored. Current value: lambda_l1=0\n",
      "[LightGBM] [Warning] feature_fraction is set=0.7375926824292861, colsample_bytree=1.0 will be ignored. Current value: feature_fraction=0.7375926824292861\n",
      "[LightGBM] [Warning] lambda_l2 is set=3, reg_lambda=0 will be ignored. Current value: lambda_l2=3\n"
     ]
    },
    {
     "name": "stderr",
     "output_type": "stream",
     "text": [
      "[I 2023-06-28 11:47:19,548] Trial 11 finished with value: 0.6871072238419177 and parameters: {'num_leaves': 25, 'max_depth': 8, 'n_estimators': 1971, 'reg_alpha': 0, 'reg_lambda': 0, 'learning_rate': 0.09683416888861918, 'subsample': 0.5952939287860071, 'lambda_l1': 0, 'lambda_l2': 3, 'feature_fraction': 0.7375926824292861}. Best is trial 3 with value: 0.6939765324119066.\n",
      "/opt/conda/lib/python3.10/site-packages/lightgbm/sklearn.py:726: UserWarning: 'early_stopping_rounds' argument is deprecated and will be removed in a future release of LightGBM. Pass 'early_stopping()' callback via 'callbacks' argument instead.\n",
      "  _log_warning(\"'early_stopping_rounds' argument is deprecated and will be removed in a future release of LightGBM. \"\n",
      "/opt/conda/lib/python3.10/site-packages/lightgbm/sklearn.py:736: UserWarning: 'verbose' argument is deprecated and will be removed in a future release of LightGBM. Pass 'log_evaluation()' callback via 'callbacks' argument instead.\n",
      "  _log_warning(\"'verbose' argument is deprecated and will be removed in a future release of LightGBM. \"\n"
     ]
    },
    {
     "name": "stdout",
     "output_type": "stream",
     "text": [
      "[LightGBM] [Warning] lambda_l1 is set=1, reg_alpha=0 will be ignored. Current value: lambda_l1=1\n",
      "[LightGBM] [Warning] feature_fraction is set=0.6877444812764357, colsample_bytree=1.0 will be ignored. Current value: feature_fraction=0.6877444812764357\n",
      "[LightGBM] [Warning] lambda_l2 is set=2, reg_lambda=0 will be ignored. Current value: lambda_l2=2\n"
     ]
    },
    {
     "name": "stderr",
     "output_type": "stream",
     "text": [
      "[I 2023-06-28 11:47:20,779] Trial 12 finished with value: 0.690414102148796 and parameters: {'num_leaves': 51, 'max_depth': 10, 'n_estimators': 878, 'reg_alpha': 0, 'reg_lambda': 0, 'learning_rate': 0.03390422706686427, 'subsample': 0.7827020526818768, 'lambda_l1': 1, 'lambda_l2': 2, 'feature_fraction': 0.6877444812764357}. Best is trial 3 with value: 0.6939765324119066.\n",
      "/opt/conda/lib/python3.10/site-packages/lightgbm/sklearn.py:726: UserWarning: 'early_stopping_rounds' argument is deprecated and will be removed in a future release of LightGBM. Pass 'early_stopping()' callback via 'callbacks' argument instead.\n",
      "  _log_warning(\"'early_stopping_rounds' argument is deprecated and will be removed in a future release of LightGBM. \"\n",
      "/opt/conda/lib/python3.10/site-packages/lightgbm/sklearn.py:736: UserWarning: 'verbose' argument is deprecated and will be removed in a future release of LightGBM. Pass 'log_evaluation()' callback via 'callbacks' argument instead.\n",
      "  _log_warning(\"'verbose' argument is deprecated and will be removed in a future release of LightGBM. \"\n"
     ]
    },
    {
     "name": "stdout",
     "output_type": "stream",
     "text": [
      "[LightGBM] [Warning] lambda_l1 is set=0, reg_alpha=0 will be ignored. Current value: lambda_l1=0\n",
      "[LightGBM] [Warning] feature_fraction is set=0.8090674866410102, colsample_bytree=1.0 will be ignored. Current value: feature_fraction=0.8090674866410102\n",
      "[LightGBM] [Warning] lambda_l2 is set=1, reg_lambda=0 will be ignored. Current value: lambda_l2=1\n"
     ]
    },
    {
     "name": "stderr",
     "output_type": "stream",
     "text": [
      "[I 2023-06-28 11:47:21,773] Trial 13 finished with value: 0.6886283878630817 and parameters: {'num_leaves': 40, 'max_depth': 8, 'n_estimators': 87, 'reg_alpha': 0, 'reg_lambda': 0, 'learning_rate': 0.02172369504046787, 'subsample': 0.7831851474404797, 'lambda_l1': 0, 'lambda_l2': 1, 'feature_fraction': 0.8090674866410102}. Best is trial 3 with value: 0.6939765324119066.\n",
      "/opt/conda/lib/python3.10/site-packages/lightgbm/sklearn.py:726: UserWarning: 'early_stopping_rounds' argument is deprecated and will be removed in a future release of LightGBM. Pass 'early_stopping()' callback via 'callbacks' argument instead.\n",
      "  _log_warning(\"'early_stopping_rounds' argument is deprecated and will be removed in a future release of LightGBM. \"\n",
      "/opt/conda/lib/python3.10/site-packages/lightgbm/sklearn.py:736: UserWarning: 'verbose' argument is deprecated and will be removed in a future release of LightGBM. Pass 'log_evaluation()' callback via 'callbacks' argument instead.\n",
      "  _log_warning(\"'verbose' argument is deprecated and will be removed in a future release of LightGBM. \"\n"
     ]
    },
    {
     "name": "stdout",
     "output_type": "stream",
     "text": [
      "[LightGBM] [Warning] lambda_l1 is set=1, reg_alpha=0 will be ignored. Current value: lambda_l1=1\n",
      "[LightGBM] [Warning] feature_fraction is set=0.6413220755805478, colsample_bytree=1.0 will be ignored. Current value: feature_fraction=0.6413220755805478\n",
      "[LightGBM] [Warning] lambda_l2 is set=3, reg_lambda=0 will be ignored. Current value: lambda_l2=3\n"
     ]
    },
    {
     "name": "stderr",
     "output_type": "stream",
     "text": [
      "[I 2023-06-28 11:47:22,736] Trial 14 finished with value: 0.6855050750458914 and parameters: {'num_leaves': 100, 'max_depth': 10, 'n_estimators': 421, 'reg_alpha': 0, 'reg_lambda': 0, 'learning_rate': 0.06810330014251752, 'subsample': 0.582175998194153, 'lambda_l1': 1, 'lambda_l2': 3, 'feature_fraction': 0.6413220755805478}. Best is trial 3 with value: 0.6939765324119066.\n",
      "/opt/conda/lib/python3.10/site-packages/lightgbm/sklearn.py:726: UserWarning: 'early_stopping_rounds' argument is deprecated and will be removed in a future release of LightGBM. Pass 'early_stopping()' callback via 'callbacks' argument instead.\n",
      "  _log_warning(\"'early_stopping_rounds' argument is deprecated and will be removed in a future release of LightGBM. \"\n",
      "/opt/conda/lib/python3.10/site-packages/lightgbm/sklearn.py:736: UserWarning: 'verbose' argument is deprecated and will be removed in a future release of LightGBM. Pass 'log_evaluation()' callback via 'callbacks' argument instead.\n",
      "  _log_warning(\"'verbose' argument is deprecated and will be removed in a future release of LightGBM. \"\n"
     ]
    },
    {
     "name": "stdout",
     "output_type": "stream",
     "text": [
      "[LightGBM] [Warning] lambda_l1 is set=0, reg_alpha=0 will be ignored. Current value: lambda_l1=0\n",
      "[LightGBM] [Warning] feature_fraction is set=0.8337983023667228, colsample_bytree=1.0 will be ignored. Current value: feature_fraction=0.8337983023667228\n",
      "[LightGBM] [Warning] lambda_l2 is set=4, reg_lambda=0 will be ignored. Current value: lambda_l2=4\n"
     ]
    },
    {
     "name": "stderr",
     "output_type": "stream",
     "text": [
      "[I 2023-06-28 11:47:24,317] Trial 15 finished with value: 0.6891804340783931 and parameters: {'num_leaves': 36, 'max_depth': 8, 'n_estimators': 855, 'reg_alpha': 0, 'reg_lambda': 0, 'learning_rate': 0.018248288066803436, 'subsample': 0.7308936432285187, 'lambda_l1': 0, 'lambda_l2': 4, 'feature_fraction': 0.8337983023667228}. Best is trial 3 with value: 0.6939765324119066.\n",
      "/opt/conda/lib/python3.10/site-packages/lightgbm/sklearn.py:726: UserWarning: 'early_stopping_rounds' argument is deprecated and will be removed in a future release of LightGBM. Pass 'early_stopping()' callback via 'callbacks' argument instead.\n",
      "  _log_warning(\"'early_stopping_rounds' argument is deprecated and will be removed in a future release of LightGBM. \"\n",
      "/opt/conda/lib/python3.10/site-packages/lightgbm/sklearn.py:736: UserWarning: 'verbose' argument is deprecated and will be removed in a future release of LightGBM. Pass 'log_evaluation()' callback via 'callbacks' argument instead.\n",
      "  _log_warning(\"'verbose' argument is deprecated and will be removed in a future release of LightGBM. \"\n"
     ]
    },
    {
     "name": "stdout",
     "output_type": "stream",
     "text": [
      "[LightGBM] [Warning] lambda_l1 is set=1, reg_alpha=0 will be ignored. Current value: lambda_l1=1\n",
      "[LightGBM] [Warning] feature_fraction is set=0.7146686059471691, colsample_bytree=1.0 will be ignored. Current value: feature_fraction=0.7146686059471691\n",
      "[LightGBM] [Warning] lambda_l2 is set=0, reg_lambda=0 will be ignored. Current value: lambda_l2=0\n"
     ]
    },
    {
     "name": "stderr",
     "output_type": "stream",
     "text": [
      "[I 2023-06-28 11:47:25,128] Trial 16 finished with value: 0.6882932008782349 and parameters: {'num_leaves': 57, 'max_depth': 9, 'n_estimators': 1993, 'reg_alpha': 0, 'reg_lambda': 0, 'learning_rate': 0.05873179987832463, 'subsample': 0.5688719683417853, 'lambda_l1': 1, 'lambda_l2': 0, 'feature_fraction': 0.7146686059471691}. Best is trial 3 with value: 0.6939765324119066.\n",
      "/opt/conda/lib/python3.10/site-packages/lightgbm/sklearn.py:726: UserWarning: 'early_stopping_rounds' argument is deprecated and will be removed in a future release of LightGBM. Pass 'early_stopping()' callback via 'callbacks' argument instead.\n",
      "  _log_warning(\"'early_stopping_rounds' argument is deprecated and will be removed in a future release of LightGBM. \"\n",
      "/opt/conda/lib/python3.10/site-packages/lightgbm/sklearn.py:736: UserWarning: 'verbose' argument is deprecated and will be removed in a future release of LightGBM. Pass 'log_evaluation()' callback via 'callbacks' argument instead.\n",
      "  _log_warning(\"'verbose' argument is deprecated and will be removed in a future release of LightGBM. \"\n"
     ]
    },
    {
     "name": "stdout",
     "output_type": "stream",
     "text": [
      "[LightGBM] [Warning] lambda_l1 is set=0, reg_alpha=0 will be ignored. Current value: lambda_l1=0\n",
      "[LightGBM] [Warning] feature_fraction is set=0.6647383039103669, colsample_bytree=1.0 will be ignored. Current value: feature_fraction=0.6647383039103669\n",
      "[LightGBM] [Warning] lambda_l2 is set=3, reg_lambda=0 will be ignored. Current value: lambda_l2=3\n"
     ]
    },
    {
     "name": "stderr",
     "output_type": "stream",
     "text": [
      "[I 2023-06-28 11:47:25,775] Trial 17 finished with value: 0.6902557319223986 and parameters: {'num_leaves': 71, 'max_depth': 6, 'n_estimators': 282, 'reg_alpha': 0, 'reg_lambda': 0, 'learning_rate': 0.048282121637410705, 'subsample': 0.5017136406975071, 'lambda_l1': 0, 'lambda_l2': 3, 'feature_fraction': 0.6647383039103669}. Best is trial 3 with value: 0.6939765324119066.\n",
      "/opt/conda/lib/python3.10/site-packages/lightgbm/sklearn.py:726: UserWarning: 'early_stopping_rounds' argument is deprecated and will be removed in a future release of LightGBM. Pass 'early_stopping()' callback via 'callbacks' argument instead.\n",
      "  _log_warning(\"'early_stopping_rounds' argument is deprecated and will be removed in a future release of LightGBM. \"\n",
      "/opt/conda/lib/python3.10/site-packages/lightgbm/sklearn.py:736: UserWarning: 'verbose' argument is deprecated and will be removed in a future release of LightGBM. Pass 'log_evaluation()' callback via 'callbacks' argument instead.\n",
      "  _log_warning(\"'verbose' argument is deprecated and will be removed in a future release of LightGBM. \"\n"
     ]
    },
    {
     "name": "stdout",
     "output_type": "stream",
     "text": [
      "[LightGBM] [Warning] lambda_l1 is set=1, reg_alpha=0 will be ignored. Current value: lambda_l1=1\n",
      "[LightGBM] [Warning] feature_fraction is set=0.7632563202547742, colsample_bytree=1.0 will be ignored. Current value: feature_fraction=0.7632563202547742\n",
      "[LightGBM] [Warning] lambda_l2 is set=2, reg_lambda=0 will be ignored. Current value: lambda_l2=2\n"
     ]
    },
    {
     "name": "stderr",
     "output_type": "stream",
     "text": [
      "[I 2023-06-28 11:47:26,272] Trial 18 finished with value: 0.6925691969909658 and parameters: {'num_leaves': 35, 'max_depth': 9, 'n_estimators': 1041, 'reg_alpha': 0, 'reg_lambda': 0, 'learning_rate': 0.09529170940190097, 'subsample': 0.6456423535515967, 'lambda_l1': 1, 'lambda_l2': 2, 'feature_fraction': 0.7632563202547742}. Best is trial 3 with value: 0.6939765324119066.\n",
      "/opt/conda/lib/python3.10/site-packages/lightgbm/sklearn.py:726: UserWarning: 'early_stopping_rounds' argument is deprecated and will be removed in a future release of LightGBM. Pass 'early_stopping()' callback via 'callbacks' argument instead.\n",
      "  _log_warning(\"'early_stopping_rounds' argument is deprecated and will be removed in a future release of LightGBM. \"\n",
      "/opt/conda/lib/python3.10/site-packages/lightgbm/sklearn.py:736: UserWarning: 'verbose' argument is deprecated and will be removed in a future release of LightGBM. Pass 'log_evaluation()' callback via 'callbacks' argument instead.\n",
      "  _log_warning(\"'verbose' argument is deprecated and will be removed in a future release of LightGBM. \"\n"
     ]
    },
    {
     "name": "stdout",
     "output_type": "stream",
     "text": [
      "[LightGBM] [Warning] lambda_l1 is set=1, reg_alpha=0 will be ignored. Current value: lambda_l1=1\n",
      "[LightGBM] [Warning] feature_fraction is set=0.7655749361392127, colsample_bytree=1.0 will be ignored. Current value: feature_fraction=0.7655749361392127\n",
      "[LightGBM] [Warning] lambda_l2 is set=1, reg_lambda=0 will be ignored. Current value: lambda_l2=1\n"
     ]
    },
    {
     "name": "stderr",
     "output_type": "stream",
     "text": [
      "[I 2023-06-28 11:47:26,982] Trial 19 finished with value: 0.6892006802721088 and parameters: {'num_leaves': 43, 'max_depth': 7, 'n_estimators': 1081, 'reg_alpha': 0, 'reg_lambda': 0, 'learning_rate': 0.06781536386000135, 'subsample': 0.6224260216021203, 'lambda_l1': 1, 'lambda_l2': 1, 'feature_fraction': 0.7655749361392127}. Best is trial 3 with value: 0.6939765324119066.\n",
      "/opt/conda/lib/python3.10/site-packages/lightgbm/sklearn.py:726: UserWarning: 'early_stopping_rounds' argument is deprecated and will be removed in a future release of LightGBM. Pass 'early_stopping()' callback via 'callbacks' argument instead.\n",
      "  _log_warning(\"'early_stopping_rounds' argument is deprecated and will be removed in a future release of LightGBM. \"\n",
      "/opt/conda/lib/python3.10/site-packages/lightgbm/sklearn.py:736: UserWarning: 'verbose' argument is deprecated and will be removed in a future release of LightGBM. Pass 'log_evaluation()' callback via 'callbacks' argument instead.\n",
      "  _log_warning(\"'verbose' argument is deprecated and will be removed in a future release of LightGBM. \"\n"
     ]
    },
    {
     "name": "stdout",
     "output_type": "stream",
     "text": [
      "[LightGBM] [Warning] lambda_l1 is set=2, reg_alpha=0 will be ignored. Current value: lambda_l1=2\n",
      "[LightGBM] [Warning] feature_fraction is set=0.8546892666558872, colsample_bytree=1.0 will be ignored. Current value: feature_fraction=0.8546892666558872\n",
      "[LightGBM] [Warning] lambda_l2 is set=2, reg_lambda=0 will be ignored. Current value: lambda_l2=2\n"
     ]
    },
    {
     "name": "stderr",
     "output_type": "stream",
     "text": [
      "[I 2023-06-28 11:47:27,522] Trial 20 finished with value: 0.6845067127380051 and parameters: {'num_leaves': 55, 'max_depth': 7, 'n_estimators': 746, 'reg_alpha': 0, 'reg_lambda': 0, 'learning_rate': 0.09478426778372426, 'subsample': 0.5516223892916002, 'lambda_l1': 2, 'lambda_l2': 2, 'feature_fraction': 0.8546892666558872}. Best is trial 3 with value: 0.6939765324119066.\n",
      "/opt/conda/lib/python3.10/site-packages/lightgbm/sklearn.py:726: UserWarning: 'early_stopping_rounds' argument is deprecated and will be removed in a future release of LightGBM. Pass 'early_stopping()' callback via 'callbacks' argument instead.\n",
      "  _log_warning(\"'early_stopping_rounds' argument is deprecated and will be removed in a future release of LightGBM. \"\n",
      "/opt/conda/lib/python3.10/site-packages/lightgbm/sklearn.py:736: UserWarning: 'verbose' argument is deprecated and will be removed in a future release of LightGBM. Pass 'log_evaluation()' callback via 'callbacks' argument instead.\n",
      "  _log_warning(\"'verbose' argument is deprecated and will be removed in a future release of LightGBM. \"\n"
     ]
    },
    {
     "name": "stdout",
     "output_type": "stream",
     "text": [
      "[LightGBM] [Warning] lambda_l1 is set=0, reg_alpha=0 will be ignored. Current value: lambda_l1=0\n",
      "[LightGBM] [Warning] feature_fraction is set=0.7441397044119495, colsample_bytree=1.0 will be ignored. Current value: feature_fraction=0.7441397044119495\n",
      "[LightGBM] [Warning] lambda_l2 is set=2, reg_lambda=0 will be ignored. Current value: lambda_l2=2\n"
     ]
    },
    {
     "name": "stderr",
     "output_type": "stream",
     "text": [
      "[I 2023-06-28 11:47:28,283] Trial 21 finished with value: 0.6891736853471547 and parameters: {'num_leaves': 35, 'max_depth': 9, 'n_estimators': 1038, 'reg_alpha': 0, 'reg_lambda': 0, 'learning_rate': 0.04214616296250893, 'subsample': 0.6397197886460785, 'lambda_l1': 0, 'lambda_l2': 2, 'feature_fraction': 0.7441397044119495}. Best is trial 3 with value: 0.6939765324119066.\n",
      "/opt/conda/lib/python3.10/site-packages/lightgbm/sklearn.py:726: UserWarning: 'early_stopping_rounds' argument is deprecated and will be removed in a future release of LightGBM. Pass 'early_stopping()' callback via 'callbacks' argument instead.\n",
      "  _log_warning(\"'early_stopping_rounds' argument is deprecated and will be removed in a future release of LightGBM. \"\n",
      "/opt/conda/lib/python3.10/site-packages/lightgbm/sklearn.py:736: UserWarning: 'verbose' argument is deprecated and will be removed in a future release of LightGBM. Pass 'log_evaluation()' callback via 'callbacks' argument instead.\n",
      "  _log_warning(\"'verbose' argument is deprecated and will be removed in a future release of LightGBM. \"\n"
     ]
    },
    {
     "name": "stdout",
     "output_type": "stream",
     "text": [
      "[LightGBM] [Warning] lambda_l1 is set=1, reg_alpha=0 will be ignored. Current value: lambda_l1=1\n",
      "[LightGBM] [Warning] feature_fraction is set=0.7836263890711491, colsample_bytree=1.0 will be ignored. Current value: feature_fraction=0.7836263890711491\n",
      "[LightGBM] [Warning] lambda_l2 is set=2, reg_lambda=0 will be ignored. Current value: lambda_l2=2\n"
     ]
    },
    {
     "name": "stderr",
     "output_type": "stream",
     "text": [
      "[I 2023-06-28 11:47:29,273] Trial 22 finished with value: 0.6888259007306626 and parameters: {'num_leaves': 30, 'max_depth': 9, 'n_estimators': 1745, 'reg_alpha': 0, 'reg_lambda': 0, 'learning_rate': 0.027822864237533204, 'subsample': 0.5539027025129187, 'lambda_l1': 1, 'lambda_l2': 2, 'feature_fraction': 0.7836263890711491}. Best is trial 3 with value: 0.6939765324119066.\n",
      "/opt/conda/lib/python3.10/site-packages/lightgbm/sklearn.py:726: UserWarning: 'early_stopping_rounds' argument is deprecated and will be removed in a future release of LightGBM. Pass 'early_stopping()' callback via 'callbacks' argument instead.\n",
      "  _log_warning(\"'early_stopping_rounds' argument is deprecated and will be removed in a future release of LightGBM. \"\n",
      "/opt/conda/lib/python3.10/site-packages/lightgbm/sklearn.py:736: UserWarning: 'verbose' argument is deprecated and will be removed in a future release of LightGBM. Pass 'log_evaluation()' callback via 'callbacks' argument instead.\n",
      "  _log_warning(\"'verbose' argument is deprecated and will be removed in a future release of LightGBM. \"\n"
     ]
    },
    {
     "name": "stdout",
     "output_type": "stream",
     "text": [
      "[LightGBM] [Warning] lambda_l1 is set=0, reg_alpha=0 will be ignored. Current value: lambda_l1=0\n",
      "[LightGBM] [Warning] feature_fraction is set=0.8305312950034138, colsample_bytree=1.0 will be ignored. Current value: feature_fraction=0.8305312950034138\n",
      "[LightGBM] [Warning] lambda_l2 is set=3, reg_lambda=0 will be ignored. Current value: lambda_l2=3\n"
     ]
    },
    {
     "name": "stderr",
     "output_type": "stream",
     "text": [
      "[I 2023-06-28 11:47:29,878] Trial 23 finished with value: 0.688768761472843 and parameters: {'num_leaves': 31, 'max_depth': 10, 'n_estimators': 297, 'reg_alpha': 0, 'reg_lambda': 0, 'learning_rate': 0.05867643414634629, 'subsample': 0.6950392279176004, 'lambda_l1': 0, 'lambda_l2': 3, 'feature_fraction': 0.8305312950034138}. Best is trial 3 with value: 0.6939765324119066.\n",
      "/opt/conda/lib/python3.10/site-packages/lightgbm/sklearn.py:726: UserWarning: 'early_stopping_rounds' argument is deprecated and will be removed in a future release of LightGBM. Pass 'early_stopping()' callback via 'callbacks' argument instead.\n",
      "  _log_warning(\"'early_stopping_rounds' argument is deprecated and will be removed in a future release of LightGBM. \"\n",
      "/opt/conda/lib/python3.10/site-packages/lightgbm/sklearn.py:736: UserWarning: 'verbose' argument is deprecated and will be removed in a future release of LightGBM. Pass 'log_evaluation()' callback via 'callbacks' argument instead.\n",
      "  _log_warning(\"'verbose' argument is deprecated and will be removed in a future release of LightGBM. \"\n"
     ]
    },
    {
     "name": "stdout",
     "output_type": "stream",
     "text": [
      "[LightGBM] [Warning] lambda_l1 is set=1, reg_alpha=0 will be ignored. Current value: lambda_l1=1\n",
      "[LightGBM] [Warning] feature_fraction is set=0.7055040830040056, colsample_bytree=1.0 will be ignored. Current value: feature_fraction=0.7055040830040056\n",
      "[LightGBM] [Warning] lambda_l2 is set=1, reg_lambda=0 will be ignored. Current value: lambda_l2=1\n"
     ]
    },
    {
     "name": "stderr",
     "output_type": "stream",
     "text": [
      "[I 2023-06-28 11:47:31,612] Trial 24 finished with value: 0.6902102904653924 and parameters: {'num_leaves': 44, 'max_depth': 8, 'n_estimators': 707, 'reg_alpha': 0, 'reg_lambda': 0, 'learning_rate': 0.01746939296281788, 'subsample': 0.6106644023802398, 'lambda_l1': 1, 'lambda_l2': 1, 'feature_fraction': 0.7055040830040056}. Best is trial 3 with value: 0.6939765324119066.\n",
      "/opt/conda/lib/python3.10/site-packages/lightgbm/sklearn.py:726: UserWarning: 'early_stopping_rounds' argument is deprecated and will be removed in a future release of LightGBM. Pass 'early_stopping()' callback via 'callbacks' argument instead.\n",
      "  _log_warning(\"'early_stopping_rounds' argument is deprecated and will be removed in a future release of LightGBM. \"\n",
      "/opt/conda/lib/python3.10/site-packages/lightgbm/sklearn.py:736: UserWarning: 'verbose' argument is deprecated and will be removed in a future release of LightGBM. Pass 'log_evaluation()' callback via 'callbacks' argument instead.\n",
      "  _log_warning(\"'verbose' argument is deprecated and will be removed in a future release of LightGBM. \"\n"
     ]
    },
    {
     "name": "stdout",
     "output_type": "stream",
     "text": [
      "[LightGBM] [Warning] lambda_l1 is set=0, reg_alpha=0 will be ignored. Current value: lambda_l1=0\n",
      "[LightGBM] [Warning] feature_fraction is set=0.6504627061369691, colsample_bytree=1.0 will be ignored. Current value: feature_fraction=0.6504627061369691\n",
      "[LightGBM] [Warning] lambda_l2 is set=2, reg_lambda=0 will be ignored. Current value: lambda_l2=2\n"
     ]
    },
    {
     "name": "stderr",
     "output_type": "stream",
     "text": [
      "[I 2023-06-28 11:47:32,106] Trial 25 finished with value: 0.6855347694633408 and parameters: {'num_leaves': 35, 'max_depth': 9, 'n_estimators': 1219, 'reg_alpha': 0, 'reg_lambda': 0, 'learning_rate': 0.09904143575145428, 'subsample': 0.5463512800903605, 'lambda_l1': 0, 'lambda_l2': 2, 'feature_fraction': 0.6504627061369691}. Best is trial 3 with value: 0.6939765324119066.\n",
      "/opt/conda/lib/python3.10/site-packages/lightgbm/sklearn.py:726: UserWarning: 'early_stopping_rounds' argument is deprecated and will be removed in a future release of LightGBM. Pass 'early_stopping()' callback via 'callbacks' argument instead.\n",
      "  _log_warning(\"'early_stopping_rounds' argument is deprecated and will be removed in a future release of LightGBM. \"\n",
      "/opt/conda/lib/python3.10/site-packages/lightgbm/sklearn.py:736: UserWarning: 'verbose' argument is deprecated and will be removed in a future release of LightGBM. Pass 'log_evaluation()' callback via 'callbacks' argument instead.\n",
      "  _log_warning(\"'verbose' argument is deprecated and will be removed in a future release of LightGBM. \"\n"
     ]
    },
    {
     "name": "stdout",
     "output_type": "stream",
     "text": [
      "[LightGBM] [Warning] lambda_l1 is set=2, reg_alpha=0 will be ignored. Current value: lambda_l1=2\n",
      "[LightGBM] [Warning] feature_fraction is set=0.863981068405825, colsample_bytree=1.0 will be ignored. Current value: feature_fraction=0.863981068405825\n",
      "[LightGBM] [Warning] lambda_l2 is set=3, reg_lambda=0 will be ignored. Current value: lambda_l2=3\n"
     ]
    },
    {
     "name": "stderr",
     "output_type": "stream",
     "text": [
      "[I 2023-06-28 11:47:32,741] Trial 26 finished with value: 0.6870626822157434 and parameters: {'num_leaves': 25, 'max_depth': 10, 'n_estimators': 1833, 'reg_alpha': 0, 'reg_lambda': 0, 'learning_rate': 0.0449428722543651, 'subsample': 0.5979596518562217, 'lambda_l1': 2, 'lambda_l2': 3, 'feature_fraction': 0.863981068405825}. Best is trial 3 with value: 0.6939765324119066.\n",
      "/opt/conda/lib/python3.10/site-packages/lightgbm/sklearn.py:726: UserWarning: 'early_stopping_rounds' argument is deprecated and will be removed in a future release of LightGBM. Pass 'early_stopping()' callback via 'callbacks' argument instead.\n",
      "  _log_warning(\"'early_stopping_rounds' argument is deprecated and will be removed in a future release of LightGBM. \"\n",
      "/opt/conda/lib/python3.10/site-packages/lightgbm/sklearn.py:736: UserWarning: 'verbose' argument is deprecated and will be removed in a future release of LightGBM. Pass 'log_evaluation()' callback via 'callbacks' argument instead.\n",
      "  _log_warning(\"'verbose' argument is deprecated and will be removed in a future release of LightGBM. \"\n"
     ]
    },
    {
     "name": "stdout",
     "output_type": "stream",
     "text": [
      "[LightGBM] [Warning] lambda_l1 is set=1, reg_alpha=0 will be ignored. Current value: lambda_l1=1\n",
      "[LightGBM] [Warning] feature_fraction is set=0.9944184359984819, colsample_bytree=1.0 will be ignored. Current value: feature_fraction=0.9944184359984819\n",
      "[LightGBM] [Warning] lambda_l2 is set=2, reg_lambda=0 will be ignored. Current value: lambda_l2=2\n"
     ]
    },
    {
     "name": "stderr",
     "output_type": "stream",
     "text": [
      "[I 2023-06-28 11:47:33,452] Trial 27 finished with value: 0.6844270777093907 and parameters: {'num_leaves': 74, 'max_depth': 7, 'n_estimators': 1490, 'reg_alpha': 0, 'reg_lambda': 0, 'learning_rate': 0.06841592023837441, 'subsample': 0.6886170510866909, 'lambda_l1': 1, 'lambda_l2': 2, 'feature_fraction': 0.9944184359984819}. Best is trial 3 with value: 0.6939765324119066.\n",
      "/opt/conda/lib/python3.10/site-packages/lightgbm/sklearn.py:726: UserWarning: 'early_stopping_rounds' argument is deprecated and will be removed in a future release of LightGBM. Pass 'early_stopping()' callback via 'callbacks' argument instead.\n",
      "  _log_warning(\"'early_stopping_rounds' argument is deprecated and will be removed in a future release of LightGBM. \"\n",
      "/opt/conda/lib/python3.10/site-packages/lightgbm/sklearn.py:736: UserWarning: 'verbose' argument is deprecated and will be removed in a future release of LightGBM. Pass 'log_evaluation()' callback via 'callbacks' argument instead.\n",
      "  _log_warning(\"'verbose' argument is deprecated and will be removed in a future release of LightGBM. \"\n"
     ]
    },
    {
     "name": "stdout",
     "output_type": "stream",
     "text": [
      "[LightGBM] [Warning] lambda_l1 is set=0, reg_alpha=0 will be ignored. Current value: lambda_l1=0\n",
      "[LightGBM] [Warning] feature_fraction is set=0.7473950005925488, colsample_bytree=1.0 will be ignored. Current value: feature_fraction=0.7473950005925488\n",
      "[LightGBM] [Warning] lambda_l2 is set=4, reg_lambda=0 will be ignored. Current value: lambda_l2=4\n"
     ]
    },
    {
     "name": "stderr",
     "output_type": "stream",
     "text": [
      "[I 2023-06-28 11:47:34,651] Trial 28 finished with value: 0.6907461397257315 and parameters: {'num_leaves': 47, 'max_depth': 8, 'n_estimators': 244, 'reg_alpha': 0, 'reg_lambda': 0, 'learning_rate': 0.028133470670867643, 'subsample': 0.6476479297784278, 'lambda_l1': 0, 'lambda_l2': 4, 'feature_fraction': 0.7473950005925488}. Best is trial 3 with value: 0.6939765324119066.\n",
      "/opt/conda/lib/python3.10/site-packages/lightgbm/sklearn.py:726: UserWarning: 'early_stopping_rounds' argument is deprecated and will be removed in a future release of LightGBM. Pass 'early_stopping()' callback via 'callbacks' argument instead.\n",
      "  _log_warning(\"'early_stopping_rounds' argument is deprecated and will be removed in a future release of LightGBM. \"\n",
      "/opt/conda/lib/python3.10/site-packages/lightgbm/sklearn.py:736: UserWarning: 'verbose' argument is deprecated and will be removed in a future release of LightGBM. Pass 'log_evaluation()' callback via 'callbacks' argument instead.\n",
      "  _log_warning(\"'verbose' argument is deprecated and will be removed in a future release of LightGBM. \"\n"
     ]
    },
    {
     "name": "stdout",
     "output_type": "stream",
     "text": [
      "[LightGBM] [Warning] lambda_l1 is set=0, reg_alpha=0 will be ignored. Current value: lambda_l1=0\n",
      "[LightGBM] [Warning] feature_fraction is set=0.5447783836868838, colsample_bytree=1.0 will be ignored. Current value: feature_fraction=0.5447783836868838\n",
      "[LightGBM] [Warning] lambda_l2 is set=3, reg_lambda=0 will be ignored. Current value: lambda_l2=3\n"
     ]
    },
    {
     "name": "stderr",
     "output_type": "stream",
     "text": [
      "[I 2023-06-28 11:47:35,253] Trial 29 finished with value: 0.6914790519382356 and parameters: {'num_leaves': 41, 'max_depth': 5, 'n_estimators': 516, 'reg_alpha': 0, 'reg_lambda': 0, 'learning_rate': 0.037278700389625545, 'subsample': 0.7727486582905739, 'lambda_l1': 0, 'lambda_l2': 3, 'feature_fraction': 0.5447783836868838}. Best is trial 3 with value: 0.6939765324119066.\n"
     ]
    }
   ],
   "source": [
    "def objective_lgbm_ec1(trial):\n",
    "    n_leaves = trial.suggest_int('num_leaves', 25,100)\n",
    "    max_depth = trial.suggest_int(\"max_depth\", 1,10)\n",
    "    n_estimators = trial.suggest_int(\"n_estimators\", 10,2000)\n",
    "    r_alpha = trial.suggest_int(\"reg_alpha\", 0.0, 0.1)\n",
    "    r_lambda = trial.suggest_int(\"reg_lambda\", 0.0, 0.1)\n",
    "    l_rate = trial.suggest_float('learning_rate', 0.001, 0.1,log=True)\n",
    "    subsample =  trial.suggest_float('subsample', 0.5, 1.0)\n",
    "    lambda_l1 = trial.suggest_int(\"lambda_l1\", 0.0, 4)\n",
    "    lambda_l2 = trial.suggest_int(\"lambda_l2\", 0.0, 4)\n",
    "    feature_fraction =  trial.suggest_float('feature_fraction', 0.5, 1.0)\n",
    "\n",
    "    lgb = LGBMClassifier(\n",
    "            num_leaves =n_leaves,\n",
    "            max_depth=max_depth, \n",
    "            n_estimators=n_estimators,\n",
    "            reg_alpha = r_alpha,\n",
    "            reg_lambda = r_lambda,\n",
    "            learning_rate = l_rate,\n",
    "            subsample = subsample,\n",
    "            lambda_l1 = lambda_l1,\n",
    "            lambda_l2 = lambda_l2,\n",
    "            feature_fraction = feature_fraction\n",
    "        )\n",
    "    \n",
    "    lgb.fit(x_train, y_train['EC1'], eval_set=[(x_val, y_val['EC1'])], early_stopping_rounds=20, verbose=False)\n",
    "\n",
    "    y_pred_proba = lgb.predict_proba(x_val)[:, 1]\n",
    "    roc_auc = roc_auc_score(y_val['EC1'], y_pred_proba)\n",
    "    return roc_auc\n",
    "study_lgbm_ec1 = optuna.create_study(direction=\"maximize\")\n",
    "study_lgbm_ec1.optimize(objective_lgbm_ec1, n_trials=30)"
   ]
  },
  {
   "cell_type": "code",
   "execution_count": 13,
   "id": "927d4ba4",
   "metadata": {
    "execution": {
     "iopub.execute_input": "2023-06-28T11:47:35.316834Z",
     "iopub.status.busy": "2023-06-28T11:47:35.316264Z",
     "iopub.status.idle": "2023-06-28T11:47:35.323889Z",
     "shell.execute_reply": "2023-06-28T11:47:35.322442Z"
    },
    "papermill": {
     "duration": 0.038815,
     "end_time": "2023-06-28T11:47:35.326286",
     "exception": false,
     "start_time": "2023-06-28T11:47:35.287471",
     "status": "completed"
    },
    "tags": []
   },
   "outputs": [
    {
     "name": "stdout",
     "output_type": "stream",
     "text": [
      "ROC_AUC Score: 0.6939765324119066\n",
      "Best hyperparameters: {'num_leaves': 33, 'max_depth': 9, 'n_estimators': 290, 'reg_alpha': 0, 'reg_lambda': 0, 'learning_rate': 0.09383073807047086, 'subsample': 0.5149475034484587, 'lambda_l1': 0, 'lambda_l2': 2, 'feature_fraction': 0.8377231358054495}\n"
     ]
    }
   ],
   "source": [
    "trial_lgbm_ec1 = study_lgbm_ec1.best_trial\n",
    "print('ROC_AUC Score: {}'.format(trial_lgbm_ec1.value))\n",
    "print(\"Best hyperparameters: {}\".format(trial_lgbm_ec1.params))"
   ]
  },
  {
   "cell_type": "code",
   "execution_count": 14,
   "id": "ba4bab15",
   "metadata": {
    "collapsed": true,
    "execution": {
     "iopub.execute_input": "2023-06-28T11:47:35.383621Z",
     "iopub.status.busy": "2023-06-28T11:47:35.382938Z",
     "iopub.status.idle": "2023-06-28T11:48:28.194932Z",
     "shell.execute_reply": "2023-06-28T11:48:28.194044Z"
    },
    "jupyter": {
     "outputs_hidden": true
    },
    "papermill": {
     "duration": 52.843029,
     "end_time": "2023-06-28T11:48:28.197290",
     "exception": false,
     "start_time": "2023-06-28T11:47:35.354261",
     "status": "completed"
    },
    "tags": []
   },
   "outputs": [
    {
     "name": "stderr",
     "output_type": "stream",
     "text": [
      "[I 2023-06-28 11:47:35,392] A new study created in memory with name: no-name-61fe91b1-e46e-481e-9c29-2a0acb91c3ec\n",
      "/opt/conda/lib/python3.10/site-packages/lightgbm/sklearn.py:726: UserWarning: 'early_stopping_rounds' argument is deprecated and will be removed in a future release of LightGBM. Pass 'early_stopping()' callback via 'callbacks' argument instead.\n",
      "  _log_warning(\"'early_stopping_rounds' argument is deprecated and will be removed in a future release of LightGBM. \"\n",
      "/opt/conda/lib/python3.10/site-packages/lightgbm/sklearn.py:736: UserWarning: 'verbose' argument is deprecated and will be removed in a future release of LightGBM. Pass 'log_evaluation()' callback via 'callbacks' argument instead.\n",
      "  _log_warning(\"'verbose' argument is deprecated and will be removed in a future release of LightGBM. \"\n"
     ]
    },
    {
     "name": "stdout",
     "output_type": "stream",
     "text": [
      "[LightGBM] [Warning] lambda_l1 is set=4, reg_alpha=0 will be ignored. Current value: lambda_l1=4\n",
      "[LightGBM] [Warning] feature_fraction is set=0.5404283825835957, colsample_bytree=1.0 will be ignored. Current value: feature_fraction=0.5404283825835957\n",
      "[LightGBM] [Warning] lambda_l2 is set=2, reg_lambda=0 will be ignored. Current value: lambda_l2=2\n"
     ]
    },
    {
     "name": "stderr",
     "output_type": "stream",
     "text": [
      "[I 2023-06-28 11:47:38,934] Trial 0 finished with value: 0.5790717740716481 and parameters: {'num_leaves': 75, 'max_depth': 5, 'n_estimators': 1459, 'reg_alpha': 0, 'reg_lambda': 0, 'learning_rate': 0.0034116512365711645, 'subsample': 0.8197955091944968, 'lambda_l1': 4, 'lambda_l2': 2, 'feature_fraction': 0.5404283825835957}. Best is trial 0 with value: 0.5790717740716481.\n",
      "/opt/conda/lib/python3.10/site-packages/lightgbm/sklearn.py:726: UserWarning: 'early_stopping_rounds' argument is deprecated and will be removed in a future release of LightGBM. Pass 'early_stopping()' callback via 'callbacks' argument instead.\n",
      "  _log_warning(\"'early_stopping_rounds' argument is deprecated and will be removed in a future release of LightGBM. \"\n",
      "/opt/conda/lib/python3.10/site-packages/lightgbm/sklearn.py:736: UserWarning: 'verbose' argument is deprecated and will be removed in a future release of LightGBM. Pass 'log_evaluation()' callback via 'callbacks' argument instead.\n",
      "  _log_warning(\"'verbose' argument is deprecated and will be removed in a future release of LightGBM. \"\n"
     ]
    },
    {
     "name": "stdout",
     "output_type": "stream",
     "text": [
      "[LightGBM] [Warning] lambda_l1 is set=3, reg_alpha=0 will be ignored. Current value: lambda_l1=3\n",
      "[LightGBM] [Warning] feature_fraction is set=0.5812895075166464, colsample_bytree=1.0 will be ignored. Current value: feature_fraction=0.5812895075166464\n",
      "[LightGBM] [Warning] lambda_l2 is set=4, reg_lambda=0 will be ignored. Current value: lambda_l2=4\n"
     ]
    },
    {
     "name": "stderr",
     "output_type": "stream",
     "text": [
      "[I 2023-06-28 11:47:43,131] Trial 1 finished with value: 0.5742983826270973 and parameters: {'num_leaves': 54, 'max_depth': 9, 'n_estimators': 1101, 'reg_alpha': 0, 'reg_lambda': 0, 'learning_rate': 0.003628839887302343, 'subsample': 0.7345584388976334, 'lambda_l1': 3, 'lambda_l2': 4, 'feature_fraction': 0.5812895075166464}. Best is trial 0 with value: 0.5790717740716481.\n",
      "/opt/conda/lib/python3.10/site-packages/lightgbm/sklearn.py:726: UserWarning: 'early_stopping_rounds' argument is deprecated and will be removed in a future release of LightGBM. Pass 'early_stopping()' callback via 'callbacks' argument instead.\n",
      "  _log_warning(\"'early_stopping_rounds' argument is deprecated and will be removed in a future release of LightGBM. \"\n",
      "/opt/conda/lib/python3.10/site-packages/lightgbm/sklearn.py:736: UserWarning: 'verbose' argument is deprecated and will be removed in a future release of LightGBM. Pass 'log_evaluation()' callback via 'callbacks' argument instead.\n",
      "  _log_warning(\"'verbose' argument is deprecated and will be removed in a future release of LightGBM. \"\n"
     ]
    },
    {
     "name": "stdout",
     "output_type": "stream",
     "text": [
      "[LightGBM] [Warning] lambda_l1 is set=3, reg_alpha=0 will be ignored. Current value: lambda_l1=3\n",
      "[LightGBM] [Warning] feature_fraction is set=0.8471913862120387, colsample_bytree=1.0 will be ignored. Current value: feature_fraction=0.8471913862120387\n",
      "[LightGBM] [Warning] lambda_l2 is set=0, reg_lambda=0 will be ignored. Current value: lambda_l2=0\n"
     ]
    },
    {
     "name": "stderr",
     "output_type": "stream",
     "text": [
      "[I 2023-06-28 11:47:44,707] Trial 2 finished with value: 0.5690734115987304 and parameters: {'num_leaves': 74, 'max_depth': 8, 'n_estimators': 341, 'reg_alpha': 0, 'reg_lambda': 0, 'learning_rate': 0.0145210344126297, 'subsample': 0.8684327471936283, 'lambda_l1': 3, 'lambda_l2': 0, 'feature_fraction': 0.8471913862120387}. Best is trial 0 with value: 0.5790717740716481.\n",
      "/opt/conda/lib/python3.10/site-packages/lightgbm/sklearn.py:726: UserWarning: 'early_stopping_rounds' argument is deprecated and will be removed in a future release of LightGBM. Pass 'early_stopping()' callback via 'callbacks' argument instead.\n",
      "  _log_warning(\"'early_stopping_rounds' argument is deprecated and will be removed in a future release of LightGBM. \"\n",
      "/opt/conda/lib/python3.10/site-packages/lightgbm/sklearn.py:736: UserWarning: 'verbose' argument is deprecated and will be removed in a future release of LightGBM. Pass 'log_evaluation()' callback via 'callbacks' argument instead.\n",
      "  _log_warning(\"'verbose' argument is deprecated and will be removed in a future release of LightGBM. \"\n"
     ]
    },
    {
     "name": "stdout",
     "output_type": "stream",
     "text": [
      "[LightGBM] [Warning] lambda_l1 is set=3, reg_alpha=0 will be ignored. Current value: lambda_l1=3\n",
      "[LightGBM] [Warning] feature_fraction is set=0.6726689821135534, colsample_bytree=1.0 will be ignored. Current value: feature_fraction=0.6726689821135534\n",
      "[LightGBM] [Warning] lambda_l2 is set=3, reg_lambda=0 will be ignored. Current value: lambda_l2=3\n"
     ]
    },
    {
     "name": "stderr",
     "output_type": "stream",
     "text": [
      "[I 2023-06-28 11:47:45,275] Trial 3 finished with value: 0.5701491409281 and parameters: {'num_leaves': 50, 'max_depth': 7, 'n_estimators': 215, 'reg_alpha': 0, 'reg_lambda': 0, 'learning_rate': 0.05462899222354306, 'subsample': 0.7327378769285446, 'lambda_l1': 3, 'lambda_l2': 3, 'feature_fraction': 0.6726689821135534}. Best is trial 0 with value: 0.5790717740716481.\n",
      "/opt/conda/lib/python3.10/site-packages/lightgbm/sklearn.py:726: UserWarning: 'early_stopping_rounds' argument is deprecated and will be removed in a future release of LightGBM. Pass 'early_stopping()' callback via 'callbacks' argument instead.\n",
      "  _log_warning(\"'early_stopping_rounds' argument is deprecated and will be removed in a future release of LightGBM. \"\n",
      "/opt/conda/lib/python3.10/site-packages/lightgbm/sklearn.py:736: UserWarning: 'verbose' argument is deprecated and will be removed in a future release of LightGBM. Pass 'log_evaluation()' callback via 'callbacks' argument instead.\n",
      "  _log_warning(\"'verbose' argument is deprecated and will be removed in a future release of LightGBM. \"\n"
     ]
    },
    {
     "name": "stdout",
     "output_type": "stream",
     "text": [
      "[LightGBM] [Warning] lambda_l1 is set=1, reg_alpha=0 will be ignored. Current value: lambda_l1=1\n",
      "[LightGBM] [Warning] feature_fraction is set=0.9862375142539984, colsample_bytree=1.0 will be ignored. Current value: feature_fraction=0.9862375142539984\n",
      "[LightGBM] [Warning] lambda_l2 is set=3, reg_lambda=0 will be ignored. Current value: lambda_l2=3\n"
     ]
    },
    {
     "name": "stderr",
     "output_type": "stream",
     "text": [
      "[I 2023-06-28 11:47:45,986] Trial 4 finished with value: 0.5726451100922054 and parameters: {'num_leaves': 77, 'max_depth': 7, 'n_estimators': 1704, 'reg_alpha': 0, 'reg_lambda': 0, 'learning_rate': 0.04378977972009869, 'subsample': 0.9291557284756451, 'lambda_l1': 1, 'lambda_l2': 3, 'feature_fraction': 0.9862375142539984}. Best is trial 0 with value: 0.5790717740716481.\n",
      "/opt/conda/lib/python3.10/site-packages/lightgbm/sklearn.py:726: UserWarning: 'early_stopping_rounds' argument is deprecated and will be removed in a future release of LightGBM. Pass 'early_stopping()' callback via 'callbacks' argument instead.\n",
      "  _log_warning(\"'early_stopping_rounds' argument is deprecated and will be removed in a future release of LightGBM. \"\n",
      "/opt/conda/lib/python3.10/site-packages/lightgbm/sklearn.py:736: UserWarning: 'verbose' argument is deprecated and will be removed in a future release of LightGBM. Pass 'log_evaluation()' callback via 'callbacks' argument instead.\n",
      "  _log_warning(\"'verbose' argument is deprecated and will be removed in a future release of LightGBM. \"\n"
     ]
    },
    {
     "name": "stdout",
     "output_type": "stream",
     "text": [
      "[LightGBM] [Warning] lambda_l1 is set=1, reg_alpha=0 will be ignored. Current value: lambda_l1=1\n",
      "[LightGBM] [Warning] feature_fraction is set=0.7466606939754208, colsample_bytree=1.0 will be ignored. Current value: feature_fraction=0.7466606939754208\n",
      "[LightGBM] [Warning] lambda_l2 is set=4, reg_lambda=0 will be ignored. Current value: lambda_l2=4\n"
     ]
    },
    {
     "name": "stderr",
     "output_type": "stream",
     "text": [
      "[I 2023-06-28 11:47:47,037] Trial 5 finished with value: 0.5893334005139317 and parameters: {'num_leaves': 28, 'max_depth': 1, 'n_estimators': 811, 'reg_alpha': 0, 'reg_lambda': 0, 'learning_rate': 0.0010295979130807637, 'subsample': 0.7725491076390525, 'lambda_l1': 1, 'lambda_l2': 4, 'feature_fraction': 0.7466606939754208}. Best is trial 5 with value: 0.5893334005139317.\n",
      "/opt/conda/lib/python3.10/site-packages/lightgbm/sklearn.py:726: UserWarning: 'early_stopping_rounds' argument is deprecated and will be removed in a future release of LightGBM. Pass 'early_stopping()' callback via 'callbacks' argument instead.\n",
      "  _log_warning(\"'early_stopping_rounds' argument is deprecated and will be removed in a future release of LightGBM. \"\n",
      "/opt/conda/lib/python3.10/site-packages/lightgbm/sklearn.py:736: UserWarning: 'verbose' argument is deprecated and will be removed in a future release of LightGBM. Pass 'log_evaluation()' callback via 'callbacks' argument instead.\n",
      "  _log_warning(\"'verbose' argument is deprecated and will be removed in a future release of LightGBM. \"\n"
     ]
    },
    {
     "name": "stdout",
     "output_type": "stream",
     "text": [
      "[LightGBM] [Warning] lambda_l1 is set=4, reg_alpha=0 will be ignored. Current value: lambda_l1=4\n",
      "[LightGBM] [Warning] feature_fraction is set=0.5604381124197395, colsample_bytree=1.0 will be ignored. Current value: feature_fraction=0.5604381124197395\n",
      "[LightGBM] [Warning] lambda_l2 is set=3, reg_lambda=0 will be ignored. Current value: lambda_l2=3\n"
     ]
    },
    {
     "name": "stderr",
     "output_type": "stream",
     "text": [
      "[I 2023-06-28 11:47:47,804] Trial 6 finished with value: 0.5754711039451808 and parameters: {'num_leaves': 44, 'max_depth': 10, 'n_estimators': 1223, 'reg_alpha': 0, 'reg_lambda': 0, 'learning_rate': 0.027296909570116774, 'subsample': 0.5618073725044226, 'lambda_l1': 4, 'lambda_l2': 3, 'feature_fraction': 0.5604381124197395}. Best is trial 5 with value: 0.5893334005139317.\n",
      "/opt/conda/lib/python3.10/site-packages/lightgbm/sklearn.py:726: UserWarning: 'early_stopping_rounds' argument is deprecated and will be removed in a future release of LightGBM. Pass 'early_stopping()' callback via 'callbacks' argument instead.\n",
      "  _log_warning(\"'early_stopping_rounds' argument is deprecated and will be removed in a future release of LightGBM. \"\n",
      "/opt/conda/lib/python3.10/site-packages/lightgbm/sklearn.py:736: UserWarning: 'verbose' argument is deprecated and will be removed in a future release of LightGBM. Pass 'log_evaluation()' callback via 'callbacks' argument instead.\n",
      "  _log_warning(\"'verbose' argument is deprecated and will be removed in a future release of LightGBM. \"\n"
     ]
    },
    {
     "name": "stdout",
     "output_type": "stream",
     "text": [
      "[LightGBM] [Warning] lambda_l1 is set=2, reg_alpha=0 will be ignored. Current value: lambda_l1=2\n",
      "[LightGBM] [Warning] feature_fraction is set=0.7012563571745758, colsample_bytree=1.0 will be ignored. Current value: feature_fraction=0.7012563571745758\n",
      "[LightGBM] [Warning] lambda_l2 is set=0, reg_lambda=0 will be ignored. Current value: lambda_l2=0\n"
     ]
    },
    {
     "name": "stderr",
     "output_type": "stream",
     "text": [
      "[I 2023-06-28 11:47:53,567] Trial 7 finished with value: 0.5712727364337178 and parameters: {'num_leaves': 52, 'max_depth': 10, 'n_estimators': 1949, 'reg_alpha': 0, 'reg_lambda': 0, 'learning_rate': 0.0022301664859812934, 'subsample': 0.9788933474055286, 'lambda_l1': 2, 'lambda_l2': 0, 'feature_fraction': 0.7012563571745758}. Best is trial 5 with value: 0.5893334005139317.\n",
      "/opt/conda/lib/python3.10/site-packages/lightgbm/sklearn.py:726: UserWarning: 'early_stopping_rounds' argument is deprecated and will be removed in a future release of LightGBM. Pass 'early_stopping()' callback via 'callbacks' argument instead.\n",
      "  _log_warning(\"'early_stopping_rounds' argument is deprecated and will be removed in a future release of LightGBM. \"\n",
      "/opt/conda/lib/python3.10/site-packages/lightgbm/sklearn.py:736: UserWarning: 'verbose' argument is deprecated and will be removed in a future release of LightGBM. Pass 'log_evaluation()' callback via 'callbacks' argument instead.\n",
      "  _log_warning(\"'verbose' argument is deprecated and will be removed in a future release of LightGBM. \"\n"
     ]
    },
    {
     "name": "stdout",
     "output_type": "stream",
     "text": [
      "[LightGBM] [Warning] lambda_l1 is set=4, reg_alpha=0 will be ignored. Current value: lambda_l1=4\n",
      "[LightGBM] [Warning] feature_fraction is set=0.5586856598385601, colsample_bytree=1.0 will be ignored. Current value: feature_fraction=0.5586856598385601\n",
      "[LightGBM] [Warning] lambda_l2 is set=1, reg_lambda=0 will be ignored. Current value: lambda_l2=1\n"
     ]
    },
    {
     "name": "stderr",
     "output_type": "stream",
     "text": [
      "[I 2023-06-28 11:47:55,094] Trial 8 finished with value: 0.5782574192573184 and parameters: {'num_leaves': 88, 'max_depth': 7, 'n_estimators': 117, 'reg_alpha': 0, 'reg_lambda': 0, 'learning_rate': 0.0037085245726763997, 'subsample': 0.9765059455766958, 'lambda_l1': 4, 'lambda_l2': 1, 'feature_fraction': 0.5586856598385601}. Best is trial 5 with value: 0.5893334005139317.\n",
      "/opt/conda/lib/python3.10/site-packages/lightgbm/sklearn.py:726: UserWarning: 'early_stopping_rounds' argument is deprecated and will be removed in a future release of LightGBM. Pass 'early_stopping()' callback via 'callbacks' argument instead.\n",
      "  _log_warning(\"'early_stopping_rounds' argument is deprecated and will be removed in a future release of LightGBM. \"\n",
      "/opt/conda/lib/python3.10/site-packages/lightgbm/sklearn.py:736: UserWarning: 'verbose' argument is deprecated and will be removed in a future release of LightGBM. Pass 'log_evaluation()' callback via 'callbacks' argument instead.\n",
      "  _log_warning(\"'verbose' argument is deprecated and will be removed in a future release of LightGBM. \"\n"
     ]
    },
    {
     "name": "stdout",
     "output_type": "stream",
     "text": [
      "[LightGBM] [Warning] lambda_l1 is set=0, reg_alpha=0 will be ignored. Current value: lambda_l1=0\n",
      "[LightGBM] [Warning] feature_fraction is set=0.6781589620362213, colsample_bytree=1.0 will be ignored. Current value: feature_fraction=0.6781589620362213\n",
      "[LightGBM] [Warning] lambda_l2 is set=3, reg_lambda=0 will be ignored. Current value: lambda_l2=3\n"
     ]
    },
    {
     "name": "stderr",
     "output_type": "stream",
     "text": [
      "[I 2023-06-28 11:47:56,203] Trial 9 finished with value: 0.568701189096589 and parameters: {'num_leaves': 46, 'max_depth': 10, 'n_estimators': 1842, 'reg_alpha': 0, 'reg_lambda': 0, 'learning_rate': 0.015478672878807073, 'subsample': 0.6611370850069258, 'lambda_l1': 0, 'lambda_l2': 3, 'feature_fraction': 0.6781589620362213}. Best is trial 5 with value: 0.5893334005139317.\n",
      "/opt/conda/lib/python3.10/site-packages/lightgbm/sklearn.py:726: UserWarning: 'early_stopping_rounds' argument is deprecated and will be removed in a future release of LightGBM. Pass 'early_stopping()' callback via 'callbacks' argument instead.\n",
      "  _log_warning(\"'early_stopping_rounds' argument is deprecated and will be removed in a future release of LightGBM. \"\n",
      "/opt/conda/lib/python3.10/site-packages/lightgbm/sklearn.py:736: UserWarning: 'verbose' argument is deprecated and will be removed in a future release of LightGBM. Pass 'log_evaluation()' callback via 'callbacks' argument instead.\n",
      "  _log_warning(\"'verbose' argument is deprecated and will be removed in a future release of LightGBM. \"\n"
     ]
    },
    {
     "name": "stdout",
     "output_type": "stream",
     "text": [
      "[LightGBM] [Warning] lambda_l1 is set=0, reg_alpha=0 will be ignored. Current value: lambda_l1=0\n",
      "[LightGBM] [Warning] feature_fraction is set=0.8060447732700733, colsample_bytree=1.0 will be ignored. Current value: feature_fraction=0.8060447732700733\n",
      "[LightGBM] [Warning] lambda_l2 is set=4, reg_lambda=0 will be ignored. Current value: lambda_l2=4\n"
     ]
    },
    {
     "name": "stderr",
     "output_type": "stream",
     "text": [
      "[I 2023-06-28 11:47:57,211] Trial 10 finished with value: 0.5893888245074823 and parameters: {'num_leaves': 27, 'max_depth': 1, 'n_estimators': 743, 'reg_alpha': 0, 'reg_lambda': 0, 'learning_rate': 0.0010899912740637266, 'subsample': 0.5049436589934122, 'lambda_l1': 0, 'lambda_l2': 4, 'feature_fraction': 0.8060447732700733}. Best is trial 10 with value: 0.5893888245074823.\n",
      "/opt/conda/lib/python3.10/site-packages/lightgbm/sklearn.py:726: UserWarning: 'early_stopping_rounds' argument is deprecated and will be removed in a future release of LightGBM. Pass 'early_stopping()' callback via 'callbacks' argument instead.\n",
      "  _log_warning(\"'early_stopping_rounds' argument is deprecated and will be removed in a future release of LightGBM. \"\n",
      "/opt/conda/lib/python3.10/site-packages/lightgbm/sklearn.py:736: UserWarning: 'verbose' argument is deprecated and will be removed in a future release of LightGBM. Pass 'log_evaluation()' callback via 'callbacks' argument instead.\n",
      "  _log_warning(\"'verbose' argument is deprecated and will be removed in a future release of LightGBM. \"\n"
     ]
    },
    {
     "name": "stdout",
     "output_type": "stream",
     "text": [
      "[LightGBM] [Warning] lambda_l1 is set=0, reg_alpha=0 will be ignored. Current value: lambda_l1=0\n",
      "[LightGBM] [Warning] feature_fraction is set=0.8027949702671254, colsample_bytree=1.0 will be ignored. Current value: feature_fraction=0.8027949702671254\n",
      "[LightGBM] [Warning] lambda_l2 is set=4, reg_lambda=0 will be ignored. Current value: lambda_l2=4\n"
     ]
    },
    {
     "name": "stderr",
     "output_type": "stream",
     "text": [
      "[I 2023-06-28 11:47:58,083] Trial 11 finished with value: 0.5887791605784249 and parameters: {'num_leaves': 27, 'max_depth': 1, 'n_estimators': 672, 'reg_alpha': 0, 'reg_lambda': 0, 'learning_rate': 0.001185234847878433, 'subsample': 0.5051302469224833, 'lambda_l1': 0, 'lambda_l2': 4, 'feature_fraction': 0.8027949702671254}. Best is trial 10 with value: 0.5893888245074823.\n",
      "/opt/conda/lib/python3.10/site-packages/lightgbm/sklearn.py:726: UserWarning: 'early_stopping_rounds' argument is deprecated and will be removed in a future release of LightGBM. Pass 'early_stopping()' callback via 'callbacks' argument instead.\n",
      "  _log_warning(\"'early_stopping_rounds' argument is deprecated and will be removed in a future release of LightGBM. \"\n",
      "/opt/conda/lib/python3.10/site-packages/lightgbm/sklearn.py:736: UserWarning: 'verbose' argument is deprecated and will be removed in a future release of LightGBM. Pass 'log_evaluation()' callback via 'callbacks' argument instead.\n",
      "  _log_warning(\"'verbose' argument is deprecated and will be removed in a future release of LightGBM. \"\n"
     ]
    },
    {
     "name": "stdout",
     "output_type": "stream",
     "text": [
      "[LightGBM] [Warning] lambda_l1 is set=1, reg_alpha=0 will be ignored. Current value: lambda_l1=1\n",
      "[LightGBM] [Warning] feature_fraction is set=0.7860888006654135, colsample_bytree=1.0 will be ignored. Current value: feature_fraction=0.7860888006654135\n",
      "[LightGBM] [Warning] lambda_l2 is set=4, reg_lambda=0 will be ignored. Current value: lambda_l2=4\n"
     ]
    },
    {
     "name": "stderr",
     "output_type": "stream",
     "text": [
      "[I 2023-06-28 11:47:59,032] Trial 12 finished with value: 0.5891507532624578 and parameters: {'num_leaves': 26, 'max_depth': 1, 'n_estimators': 719, 'reg_alpha': 0, 'reg_lambda': 0, 'learning_rate': 0.0010407200471308998, 'subsample': 0.6376052444553301, 'lambda_l1': 1, 'lambda_l2': 4, 'feature_fraction': 0.7860888006654135}. Best is trial 10 with value: 0.5893888245074823.\n",
      "/opt/conda/lib/python3.10/site-packages/lightgbm/sklearn.py:726: UserWarning: 'early_stopping_rounds' argument is deprecated and will be removed in a future release of LightGBM. Pass 'early_stopping()' callback via 'callbacks' argument instead.\n",
      "  _log_warning(\"'early_stopping_rounds' argument is deprecated and will be removed in a future release of LightGBM. \"\n",
      "/opt/conda/lib/python3.10/site-packages/lightgbm/sklearn.py:736: UserWarning: 'verbose' argument is deprecated and will be removed in a future release of LightGBM. Pass 'log_evaluation()' callback via 'callbacks' argument instead.\n",
      "  _log_warning(\"'verbose' argument is deprecated and will be removed in a future release of LightGBM. \"\n"
     ]
    },
    {
     "name": "stdout",
     "output_type": "stream",
     "text": [
      "[LightGBM] [Warning] lambda_l1 is set=1, reg_alpha=0 will be ignored. Current value: lambda_l1=1\n",
      "[LightGBM] [Warning] feature_fraction is set=0.8687963284855179, colsample_bytree=1.0 will be ignored. Current value: feature_fraction=0.8687963284855179\n",
      "[LightGBM] [Warning] lambda_l2 is set=2, reg_lambda=0 will be ignored. Current value: lambda_l2=2\n"
     ]
    },
    {
     "name": "stderr",
     "output_type": "stream",
     "text": [
      "[I 2023-06-28 11:47:59,970] Trial 13 finished with value: 0.5798533783443343 and parameters: {'num_leaves': 35, 'max_depth': 3, 'n_estimators': 726, 'reg_alpha': 0, 'reg_lambda': 0, 'learning_rate': 0.0071357672425246595, 'subsample': 0.7957997986268281, 'lambda_l1': 1, 'lambda_l2': 2, 'feature_fraction': 0.8687963284855179}. Best is trial 10 with value: 0.5893888245074823.\n",
      "/opt/conda/lib/python3.10/site-packages/lightgbm/sklearn.py:726: UserWarning: 'early_stopping_rounds' argument is deprecated and will be removed in a future release of LightGBM. Pass 'early_stopping()' callback via 'callbacks' argument instead.\n",
      "  _log_warning(\"'early_stopping_rounds' argument is deprecated and will be removed in a future release of LightGBM. \"\n",
      "/opt/conda/lib/python3.10/site-packages/lightgbm/sklearn.py:736: UserWarning: 'verbose' argument is deprecated and will be removed in a future release of LightGBM. Pass 'log_evaluation()' callback via 'callbacks' argument instead.\n",
      "  _log_warning(\"'verbose' argument is deprecated and will be removed in a future release of LightGBM. \"\n"
     ]
    },
    {
     "name": "stdout",
     "output_type": "stream",
     "text": [
      "[LightGBM] [Warning] lambda_l1 is set=0, reg_alpha=0 will be ignored. Current value: lambda_l1=0\n",
      "[LightGBM] [Warning] feature_fraction is set=0.7343892474017137, colsample_bytree=1.0 will be ignored. Current value: feature_fraction=0.7343892474017137\n",
      "[LightGBM] [Warning] lambda_l2 is set=4, reg_lambda=0 will be ignored. Current value: lambda_l2=4\n"
     ]
    },
    {
     "name": "stderr",
     "output_type": "stream",
     "text": [
      "[I 2023-06-28 11:48:01,491] Trial 14 finished with value: 0.5816987454023278 and parameters: {'num_leaves': 35, 'max_depth': 3, 'n_estimators': 564, 'reg_alpha': 0, 'reg_lambda': 0, 'learning_rate': 0.0014882199038624535, 'subsample': 0.6611322611348478, 'lambda_l1': 0, 'lambda_l2': 4, 'feature_fraction': 0.7343892474017137}. Best is trial 10 with value: 0.5893888245074823.\n",
      "/opt/conda/lib/python3.10/site-packages/lightgbm/sklearn.py:726: UserWarning: 'early_stopping_rounds' argument is deprecated and will be removed in a future release of LightGBM. Pass 'early_stopping()' callback via 'callbacks' argument instead.\n",
      "  _log_warning(\"'early_stopping_rounds' argument is deprecated and will be removed in a future release of LightGBM. \"\n",
      "/opt/conda/lib/python3.10/site-packages/lightgbm/sklearn.py:736: UserWarning: 'verbose' argument is deprecated and will be removed in a future release of LightGBM. Pass 'log_evaluation()' callback via 'callbacks' argument instead.\n",
      "  _log_warning(\"'verbose' argument is deprecated and will be removed in a future release of LightGBM. \"\n"
     ]
    },
    {
     "name": "stdout",
     "output_type": "stream",
     "text": [
      "[LightGBM] [Warning] lambda_l1 is set=1, reg_alpha=0 will be ignored. Current value: lambda_l1=1\n",
      "[LightGBM] [Warning] feature_fraction is set=0.892844010806551, colsample_bytree=1.0 will be ignored. Current value: feature_fraction=0.892844010806551\n",
      "[LightGBM] [Warning] lambda_l2 is set=4, reg_lambda=0 will be ignored. Current value: lambda_l2=4\n"
     ]
    },
    {
     "name": "stderr",
     "output_type": "stream",
     "text": [
      "[I 2023-06-28 11:48:03,864] Trial 15 finished with value: 0.5803925026452361 and parameters: {'num_leaves': 63, 'max_depth': 3, 'n_estimators': 942, 'reg_alpha': 0, 'reg_lambda': 0, 'learning_rate': 0.0019251193065451032, 'subsample': 0.507638495606248, 'lambda_l1': 1, 'lambda_l2': 4, 'feature_fraction': 0.892844010806551}. Best is trial 10 with value: 0.5893888245074823.\n",
      "/opt/conda/lib/python3.10/site-packages/lightgbm/sklearn.py:726: UserWarning: 'early_stopping_rounds' argument is deprecated and will be removed in a future release of LightGBM. Pass 'early_stopping()' callback via 'callbacks' argument instead.\n",
      "  _log_warning(\"'early_stopping_rounds' argument is deprecated and will be removed in a future release of LightGBM. \"\n",
      "/opt/conda/lib/python3.10/site-packages/lightgbm/sklearn.py:736: UserWarning: 'verbose' argument is deprecated and will be removed in a future release of LightGBM. Pass 'log_evaluation()' callback via 'callbacks' argument instead.\n",
      "  _log_warning(\"'verbose' argument is deprecated and will be removed in a future release of LightGBM. \"\n"
     ]
    },
    {
     "name": "stdout",
     "output_type": "stream",
     "text": [
      "[LightGBM] [Warning] lambda_l1 is set=2, reg_alpha=0 will be ignored. Current value: lambda_l1=2\n",
      "[LightGBM] [Warning] feature_fraction is set=0.7512470478574617, colsample_bytree=1.0 will be ignored. Current value: feature_fraction=0.7512470478574617\n",
      "[LightGBM] [Warning] lambda_l2 is set=1, reg_lambda=0 will be ignored. Current value: lambda_l2=1\n"
     ]
    },
    {
     "name": "stderr",
     "output_type": "stream",
     "text": [
      "[I 2023-06-28 11:48:05,545] Trial 16 finished with value: 0.5778108782183706 and parameters: {'num_leaves': 99, 'max_depth': 2, 'n_estimators': 948, 'reg_alpha': 0, 'reg_lambda': 0, 'learning_rate': 0.00104972330737221, 'subsample': 0.5880089965942201, 'lambda_l1': 2, 'lambda_l2': 1, 'feature_fraction': 0.7512470478574617}. Best is trial 10 with value: 0.5893888245074823.\n",
      "/opt/conda/lib/python3.10/site-packages/lightgbm/sklearn.py:726: UserWarning: 'early_stopping_rounds' argument is deprecated and will be removed in a future release of LightGBM. Pass 'early_stopping()' callback via 'callbacks' argument instead.\n",
      "  _log_warning(\"'early_stopping_rounds' argument is deprecated and will be removed in a future release of LightGBM. \"\n",
      "/opt/conda/lib/python3.10/site-packages/lightgbm/sklearn.py:736: UserWarning: 'verbose' argument is deprecated and will be removed in a future release of LightGBM. Pass 'log_evaluation()' callback via 'callbacks' argument instead.\n",
      "  _log_warning(\"'verbose' argument is deprecated and will be removed in a future release of LightGBM. \"\n"
     ]
    },
    {
     "name": "stdout",
     "output_type": "stream",
     "text": [
      "[LightGBM] [Warning] lambda_l1 is set=0, reg_alpha=0 will be ignored. Current value: lambda_l1=0\n",
      "[LightGBM] [Warning] feature_fraction is set=0.6261972491240885, colsample_bytree=1.0 will be ignored. Current value: feature_fraction=0.6261972491240885\n",
      "[LightGBM] [Warning] lambda_l2 is set=3, reg_lambda=0 will be ignored. Current value: lambda_l2=3\n"
     ]
    },
    {
     "name": "stderr",
     "output_type": "stream",
     "text": [
      "[I 2023-06-28 11:48:09,808] Trial 17 finished with value: 0.58050649972288 and parameters: {'num_leaves': 37, 'max_depth': 5, 'n_estimators': 1407, 'reg_alpha': 0, 'reg_lambda': 0, 'learning_rate': 0.0023591416538707387, 'subsample': 0.6980179580230118, 'lambda_l1': 0, 'lambda_l2': 3, 'feature_fraction': 0.6261972491240885}. Best is trial 10 with value: 0.5893888245074823.\n",
      "/opt/conda/lib/python3.10/site-packages/lightgbm/sklearn.py:726: UserWarning: 'early_stopping_rounds' argument is deprecated and will be removed in a future release of LightGBM. Pass 'early_stopping()' callback via 'callbacks' argument instead.\n",
      "  _log_warning(\"'early_stopping_rounds' argument is deprecated and will be removed in a future release of LightGBM. \"\n",
      "/opt/conda/lib/python3.10/site-packages/lightgbm/sklearn.py:736: UserWarning: 'verbose' argument is deprecated and will be removed in a future release of LightGBM. Pass 'log_evaluation()' callback via 'callbacks' argument instead.\n",
      "  _log_warning(\"'verbose' argument is deprecated and will be removed in a future release of LightGBM. \"\n"
     ]
    },
    {
     "name": "stdout",
     "output_type": "stream",
     "text": [
      "[LightGBM] [Warning] lambda_l1 is set=2, reg_alpha=0 will be ignored. Current value: lambda_l1=2\n",
      "[LightGBM] [Warning] feature_fraction is set=0.8048141247902568, colsample_bytree=1.0 will be ignored. Current value: feature_fraction=0.8048141247902568\n",
      "[LightGBM] [Warning] lambda_l2 is set=2, reg_lambda=0 will be ignored. Current value: lambda_l2=2\n"
     ]
    },
    {
     "name": "stderr",
     "output_type": "stream",
     "text": [
      "[I 2023-06-28 11:48:11,190] Trial 18 finished with value: 0.581202448732806 and parameters: {'num_leaves': 62, 'max_depth': 4, 'n_estimators': 482, 'reg_alpha': 0, 'reg_lambda': 0, 'learning_rate': 0.005998394784473812, 'subsample': 0.7873530054552597, 'lambda_l1': 2, 'lambda_l2': 2, 'feature_fraction': 0.8048141247902568}. Best is trial 10 with value: 0.5893888245074823.\n",
      "/opt/conda/lib/python3.10/site-packages/lightgbm/sklearn.py:726: UserWarning: 'early_stopping_rounds' argument is deprecated and will be removed in a future release of LightGBM. Pass 'early_stopping()' callback via 'callbacks' argument instead.\n",
      "  _log_warning(\"'early_stopping_rounds' argument is deprecated and will be removed in a future release of LightGBM. \"\n",
      "/opt/conda/lib/python3.10/site-packages/lightgbm/sklearn.py:736: UserWarning: 'verbose' argument is deprecated and will be removed in a future release of LightGBM. Pass 'log_evaluation()' callback via 'callbacks' argument instead.\n",
      "  _log_warning(\"'verbose' argument is deprecated and will be removed in a future release of LightGBM. \"\n",
      "[I 2023-06-28 11:48:11,421] Trial 19 finished with value: 0.5829187030785509 and parameters: {'num_leaves': 27, 'max_depth': 1, 'n_estimators': 895, 'reg_alpha': 0, 'reg_lambda': 0, 'learning_rate': 0.09860742016929877, 'subsample': 0.5976719866796578, 'lambda_l1': 1, 'lambda_l2': 4, 'feature_fraction': 0.6390851340106016}. Best is trial 10 with value: 0.5893888245074823.\n"
     ]
    },
    {
     "name": "stdout",
     "output_type": "stream",
     "text": [
      "[LightGBM] [Warning] lambda_l1 is set=1, reg_alpha=0 will be ignored. Current value: lambda_l1=1\n",
      "[LightGBM] [Warning] feature_fraction is set=0.6390851340106016, colsample_bytree=1.0 will be ignored. Current value: feature_fraction=0.6390851340106016\n",
      "[LightGBM] [Warning] lambda_l2 is set=4, reg_lambda=0 will be ignored. Current value: lambda_l2=4\n"
     ]
    },
    {
     "name": "stderr",
     "output_type": "stream",
     "text": [
      "/opt/conda/lib/python3.10/site-packages/lightgbm/sklearn.py:726: UserWarning: 'early_stopping_rounds' argument is deprecated and will be removed in a future release of LightGBM. Pass 'early_stopping()' callback via 'callbacks' argument instead.\n",
      "  _log_warning(\"'early_stopping_rounds' argument is deprecated and will be removed in a future release of LightGBM. \"\n",
      "/opt/conda/lib/python3.10/site-packages/lightgbm/sklearn.py:736: UserWarning: 'verbose' argument is deprecated and will be removed in a future release of LightGBM. Pass 'log_evaluation()' callback via 'callbacks' argument instead.\n",
      "  _log_warning(\"'verbose' argument is deprecated and will be removed in a future release of LightGBM. \"\n"
     ]
    },
    {
     "name": "stdout",
     "output_type": "stream",
     "text": [
      "[LightGBM] [Warning] lambda_l1 is set=0, reg_alpha=0 will be ignored. Current value: lambda_l1=0\n",
      "[LightGBM] [Warning] feature_fraction is set=0.7270772796070766, colsample_bytree=1.0 will be ignored. Current value: feature_fraction=0.7270772796070766\n",
      "[LightGBM] [Warning] lambda_l2 is set=1, reg_lambda=0 will be ignored. Current value: lambda_l2=1\n"
     ]
    },
    {
     "name": "stderr",
     "output_type": "stream",
     "text": [
      "[I 2023-06-28 11:48:13,585] Trial 20 finished with value: 0.5770739910313901 and parameters: {'num_leaves': 38, 'max_depth': 2, 'n_estimators': 1267, 'reg_alpha': 0, 'reg_lambda': 0, 'learning_rate': 0.0017392083480152335, 'subsample': 0.7545947436254616, 'lambda_l1': 0, 'lambda_l2': 1, 'feature_fraction': 0.7270772796070766}. Best is trial 10 with value: 0.5893888245074823.\n",
      "/opt/conda/lib/python3.10/site-packages/lightgbm/sklearn.py:726: UserWarning: 'early_stopping_rounds' argument is deprecated and will be removed in a future release of LightGBM. Pass 'early_stopping()' callback via 'callbacks' argument instead.\n",
      "  _log_warning(\"'early_stopping_rounds' argument is deprecated and will be removed in a future release of LightGBM. \"\n",
      "/opt/conda/lib/python3.10/site-packages/lightgbm/sklearn.py:736: UserWarning: 'verbose' argument is deprecated and will be removed in a future release of LightGBM. Pass 'log_evaluation()' callback via 'callbacks' argument instead.\n",
      "  _log_warning(\"'verbose' argument is deprecated and will be removed in a future release of LightGBM. \"\n"
     ]
    },
    {
     "name": "stdout",
     "output_type": "stream",
     "text": [
      "[LightGBM] [Warning] lambda_l1 is set=1, reg_alpha=0 will be ignored. Current value: lambda_l1=1\n",
      "[LightGBM] [Warning] feature_fraction is set=0.7713094644346348, colsample_bytree=1.0 will be ignored. Current value: feature_fraction=0.7713094644346348\n",
      "[LightGBM] [Warning] lambda_l2 is set=4, reg_lambda=0 will be ignored. Current value: lambda_l2=4\n"
     ]
    },
    {
     "name": "stderr",
     "output_type": "stream",
     "text": [
      "[I 2023-06-28 11:48:14,618] Trial 21 finished with value: 0.5894026805058699 and parameters: {'num_leaves': 25, 'max_depth': 1, 'n_estimators': 806, 'reg_alpha': 0, 'reg_lambda': 0, 'learning_rate': 0.0011403507662051577, 'subsample': 0.6308589121580126, 'lambda_l1': 1, 'lambda_l2': 4, 'feature_fraction': 0.7713094644346348}. Best is trial 21 with value: 0.5894026805058699.\n",
      "/opt/conda/lib/python3.10/site-packages/lightgbm/sklearn.py:726: UserWarning: 'early_stopping_rounds' argument is deprecated and will be removed in a future release of LightGBM. Pass 'early_stopping()' callback via 'callbacks' argument instead.\n",
      "  _log_warning(\"'early_stopping_rounds' argument is deprecated and will be removed in a future release of LightGBM. \"\n",
      "/opt/conda/lib/python3.10/site-packages/lightgbm/sklearn.py:736: UserWarning: 'verbose' argument is deprecated and will be removed in a future release of LightGBM. Pass 'log_evaluation()' callback via 'callbacks' argument instead.\n",
      "  _log_warning(\"'verbose' argument is deprecated and will be removed in a future release of LightGBM. \"\n"
     ]
    },
    {
     "name": "stdout",
     "output_type": "stream",
     "text": [
      "[LightGBM] [Warning] lambda_l1 is set=1, reg_alpha=0 will be ignored. Current value: lambda_l1=1\n",
      "[LightGBM] [Warning] feature_fraction is set=0.7392561907338253, colsample_bytree=1.0 will be ignored. Current value: feature_fraction=0.7392561907338253\n",
      "[LightGBM] [Warning] lambda_l2 is set=4, reg_lambda=0 will be ignored. Current value: lambda_l2=4\n"
     ]
    },
    {
     "name": "stderr",
     "output_type": "stream",
     "text": [
      "[I 2023-06-28 11:48:15,470] Trial 22 finished with value: 0.5767168841638535 and parameters: {'num_leaves': 25, 'max_depth': 2, 'n_estimators': 431, 'reg_alpha': 0, 'reg_lambda': 0, 'learning_rate': 0.0014927945599290378, 'subsample': 0.5483965727137587, 'lambda_l1': 1, 'lambda_l2': 4, 'feature_fraction': 0.7392561907338253}. Best is trial 21 with value: 0.5894026805058699.\n",
      "/opt/conda/lib/python3.10/site-packages/lightgbm/sklearn.py:726: UserWarning: 'early_stopping_rounds' argument is deprecated and will be removed in a future release of LightGBM. Pass 'early_stopping()' callback via 'callbacks' argument instead.\n",
      "  _log_warning(\"'early_stopping_rounds' argument is deprecated and will be removed in a future release of LightGBM. \"\n",
      "/opt/conda/lib/python3.10/site-packages/lightgbm/sklearn.py:736: UserWarning: 'verbose' argument is deprecated and will be removed in a future release of LightGBM. Pass 'log_evaluation()' callback via 'callbacks' argument instead.\n",
      "  _log_warning(\"'verbose' argument is deprecated and will be removed in a future release of LightGBM. \"\n"
     ]
    },
    {
     "name": "stdout",
     "output_type": "stream",
     "text": [
      "[LightGBM] [Warning] lambda_l1 is set=2, reg_alpha=0 will be ignored. Current value: lambda_l1=2\n",
      "[LightGBM] [Warning] feature_fraction is set=0.7755219188539287, colsample_bytree=1.0 will be ignored. Current value: feature_fraction=0.7755219188539287\n",
      "[LightGBM] [Warning] lambda_l2 is set=3, reg_lambda=0 will be ignored. Current value: lambda_l2=3\n"
     ]
    },
    {
     "name": "stderr",
     "output_type": "stream",
     "text": [
      "[I 2023-06-28 11:48:16,589] Trial 23 finished with value: 0.5891494936262408 and parameters: {'num_leaves': 31, 'max_depth': 1, 'n_estimators': 828, 'reg_alpha': 0, 'reg_lambda': 0, 'learning_rate': 0.001007033405238301, 'subsample': 0.6193785863517505, 'lambda_l1': 2, 'lambda_l2': 3, 'feature_fraction': 0.7755219188539287}. Best is trial 21 with value: 0.5894026805058699.\n",
      "/opt/conda/lib/python3.10/site-packages/lightgbm/sklearn.py:726: UserWarning: 'early_stopping_rounds' argument is deprecated and will be removed in a future release of LightGBM. Pass 'early_stopping()' callback via 'callbacks' argument instead.\n",
      "  _log_warning(\"'early_stopping_rounds' argument is deprecated and will be removed in a future release of LightGBM. \"\n",
      "/opt/conda/lib/python3.10/site-packages/lightgbm/sklearn.py:736: UserWarning: 'verbose' argument is deprecated and will be removed in a future release of LightGBM. Pass 'log_evaluation()' callback via 'callbacks' argument instead.\n",
      "  _log_warning(\"'verbose' argument is deprecated and will be removed in a future release of LightGBM. \"\n"
     ]
    },
    {
     "name": "stdout",
     "output_type": "stream",
     "text": [
      "[LightGBM] [Warning] lambda_l1 is set=0, reg_alpha=0 will be ignored. Current value: lambda_l1=0\n",
      "[LightGBM] [Warning] feature_fraction is set=0.508703561980025, colsample_bytree=1.0 will be ignored. Current value: feature_fraction=0.508703561980025\n",
      "[LightGBM] [Warning] lambda_l2 is set=4, reg_lambda=0 will be ignored. Current value: lambda_l2=4\n"
     ]
    },
    {
     "name": "stderr",
     "output_type": "stream",
     "text": [
      "[I 2023-06-28 11:48:18,949] Trial 24 finished with value: 0.580194109941049 and parameters: {'num_leaves': 42, 'max_depth': 4, 'n_estimators': 1097, 'reg_alpha': 0, 'reg_lambda': 0, 'learning_rate': 0.0024456372007200505, 'subsample': 0.687368881907973, 'lambda_l1': 0, 'lambda_l2': 4, 'feature_fraction': 0.508703561980025}. Best is trial 21 with value: 0.5894026805058699.\n",
      "/opt/conda/lib/python3.10/site-packages/lightgbm/sklearn.py:726: UserWarning: 'early_stopping_rounds' argument is deprecated and will be removed in a future release of LightGBM. Pass 'early_stopping()' callback via 'callbacks' argument instead.\n",
      "  _log_warning(\"'early_stopping_rounds' argument is deprecated and will be removed in a future release of LightGBM. \"\n",
      "/opt/conda/lib/python3.10/site-packages/lightgbm/sklearn.py:736: UserWarning: 'verbose' argument is deprecated and will be removed in a future release of LightGBM. Pass 'log_evaluation()' callback via 'callbacks' argument instead.\n",
      "  _log_warning(\"'verbose' argument is deprecated and will be removed in a future release of LightGBM. \"\n"
     ]
    },
    {
     "name": "stdout",
     "output_type": "stream",
     "text": [
      "[LightGBM] [Warning] lambda_l1 is set=1, reg_alpha=0 will be ignored. Current value: lambda_l1=1\n",
      "[LightGBM] [Warning] feature_fraction is set=0.8316945310144137, colsample_bytree=1.0 will be ignored. Current value: feature_fraction=0.8316945310144137\n",
      "[LightGBM] [Warning] lambda_l2 is set=3, reg_lambda=0 will be ignored. Current value: lambda_l2=3\n"
     ]
    },
    {
     "name": "stderr",
     "output_type": "stream",
     "text": [
      "[I 2023-06-28 11:48:20,062] Trial 25 finished with value: 0.578696402478964 and parameters: {'num_leaves': 32, 'max_depth': 2, 'n_estimators': 588, 'reg_alpha': 0, 'reg_lambda': 0, 'learning_rate': 0.0015066678368252252, 'subsample': 0.5556075910218498, 'lambda_l1': 1, 'lambda_l2': 3, 'feature_fraction': 0.8316945310144137}. Best is trial 21 with value: 0.5894026805058699.\n",
      "/opt/conda/lib/python3.10/site-packages/lightgbm/sklearn.py:726: UserWarning: 'early_stopping_rounds' argument is deprecated and will be removed in a future release of LightGBM. Pass 'early_stopping()' callback via 'callbacks' argument instead.\n",
      "  _log_warning(\"'early_stopping_rounds' argument is deprecated and will be removed in a future release of LightGBM. \"\n",
      "/opt/conda/lib/python3.10/site-packages/lightgbm/sklearn.py:736: UserWarning: 'verbose' argument is deprecated and will be removed in a future release of LightGBM. Pass 'log_evaluation()' callback via 'callbacks' argument instead.\n",
      "  _log_warning(\"'verbose' argument is deprecated and will be removed in a future release of LightGBM. \"\n"
     ]
    },
    {
     "name": "stdout",
     "output_type": "stream",
     "text": [
      "[LightGBM] [Warning] lambda_l1 is set=0, reg_alpha=0 will be ignored. Current value: lambda_l1=0\n",
      "[LightGBM] [Warning] feature_fraction is set=0.7668596480826566, colsample_bytree=1.0 will be ignored. Current value: feature_fraction=0.7668596480826566\n",
      "[LightGBM] [Warning] lambda_l2 is set=4, reg_lambda=0 will be ignored. Current value: lambda_l2=4\n"
     ]
    },
    {
     "name": "stderr",
     "output_type": "stream",
     "text": [
      "[I 2023-06-28 11:48:21,516] Trial 26 finished with value: 0.5820715977225777 and parameters: {'num_leaves': 41, 'max_depth': 4, 'n_estimators': 343, 'reg_alpha': 0, 'reg_lambda': 0, 'learning_rate': 0.001459730983906039, 'subsample': 0.6248817944530102, 'lambda_l1': 0, 'lambda_l2': 4, 'feature_fraction': 0.7668596480826566}. Best is trial 21 with value: 0.5894026805058699.\n",
      "/opt/conda/lib/python3.10/site-packages/lightgbm/sklearn.py:726: UserWarning: 'early_stopping_rounds' argument is deprecated and will be removed in a future release of LightGBM. Pass 'early_stopping()' callback via 'callbacks' argument instead.\n",
      "  _log_warning(\"'early_stopping_rounds' argument is deprecated and will be removed in a future release of LightGBM. \"\n",
      "/opt/conda/lib/python3.10/site-packages/lightgbm/sklearn.py:736: UserWarning: 'verbose' argument is deprecated and will be removed in a future release of LightGBM. Pass 'log_evaluation()' callback via 'callbacks' argument instead.\n",
      "  _log_warning(\"'verbose' argument is deprecated and will be removed in a future release of LightGBM. \"\n"
     ]
    },
    {
     "name": "stdout",
     "output_type": "stream",
     "text": [
      "[LightGBM] [Warning] lambda_l1 is set=1, reg_alpha=0 will be ignored. Current value: lambda_l1=1\n",
      "[LightGBM] [Warning] feature_fraction is set=0.7040618579797124, colsample_bytree=1.0 will be ignored. Current value: feature_fraction=0.7040618579797124\n",
      "[LightGBM] [Warning] lambda_l2 is set=3, reg_lambda=0 will be ignored. Current value: lambda_l2=3\n"
     ]
    },
    {
     "name": "stderr",
     "output_type": "stream",
     "text": [
      "[I 2023-06-28 11:48:22,552] Trial 27 finished with value: 0.5792745755025949 and parameters: {'num_leaves': 60, 'max_depth': 1, 'n_estimators': 820, 'reg_alpha': 0, 'reg_lambda': 0, 'learning_rate': 0.002560677920276023, 'subsample': 0.6959483043850871, 'lambda_l1': 1, 'lambda_l2': 3, 'feature_fraction': 0.7040618579797124}. Best is trial 21 with value: 0.5894026805058699.\n",
      "/opt/conda/lib/python3.10/site-packages/lightgbm/sklearn.py:726: UserWarning: 'early_stopping_rounds' argument is deprecated and will be removed in a future release of LightGBM. Pass 'early_stopping()' callback via 'callbacks' argument instead.\n",
      "  _log_warning(\"'early_stopping_rounds' argument is deprecated and will be removed in a future release of LightGBM. \"\n",
      "/opt/conda/lib/python3.10/site-packages/lightgbm/sklearn.py:736: UserWarning: 'verbose' argument is deprecated and will be removed in a future release of LightGBM. Pass 'log_evaluation()' callback via 'callbacks' argument instead.\n",
      "  _log_warning(\"'verbose' argument is deprecated and will be removed in a future release of LightGBM. \"\n"
     ]
    },
    {
     "name": "stdout",
     "output_type": "stream",
     "text": [
      "[LightGBM] [Warning] lambda_l1 is set=2, reg_alpha=0 will be ignored. Current value: lambda_l1=2\n",
      "[LightGBM] [Warning] feature_fraction is set=0.8306089544207785, colsample_bytree=1.0 will be ignored. Current value: feature_fraction=0.8306089544207785\n",
      "[LightGBM] [Warning] lambda_l2 is set=4, reg_lambda=0 will be ignored. Current value: lambda_l2=4\n"
     ]
    },
    {
     "name": "stderr",
     "output_type": "stream",
     "text": [
      "[I 2023-06-28 11:48:24,464] Trial 28 finished with value: 0.5775129742530358 and parameters: {'num_leaves': 32, 'max_depth': 2, 'n_estimators': 1054, 'reg_alpha': 0, 'reg_lambda': 0, 'learning_rate': 0.0013394530882244763, 'subsample': 0.5902423581754187, 'lambda_l1': 2, 'lambda_l2': 4, 'feature_fraction': 0.8306089544207785}. Best is trial 21 with value: 0.5894026805058699.\n",
      "/opt/conda/lib/python3.10/site-packages/lightgbm/sklearn.py:726: UserWarning: 'early_stopping_rounds' argument is deprecated and will be removed in a future release of LightGBM. Pass 'early_stopping()' callback via 'callbacks' argument instead.\n",
      "  _log_warning(\"'early_stopping_rounds' argument is deprecated and will be removed in a future release of LightGBM. \"\n",
      "/opt/conda/lib/python3.10/site-packages/lightgbm/sklearn.py:736: UserWarning: 'verbose' argument is deprecated and will be removed in a future release of LightGBM. Pass 'log_evaluation()' callback via 'callbacks' argument instead.\n",
      "  _log_warning(\"'verbose' argument is deprecated and will be removed in a future release of LightGBM. \"\n"
     ]
    },
    {
     "name": "stdout",
     "output_type": "stream",
     "text": [
      "[LightGBM] [Warning] lambda_l1 is set=1, reg_alpha=0 will be ignored. Current value: lambda_l1=1\n",
      "[LightGBM] [Warning] feature_fraction is set=0.889901592456873, colsample_bytree=1.0 will be ignored. Current value: feature_fraction=0.889901592456873\n",
      "[LightGBM] [Warning] lambda_l2 is set=2, reg_lambda=0 will be ignored. Current value: lambda_l2=2\n"
     ]
    },
    {
     "name": "stderr",
     "output_type": "stream",
     "text": [
      "[I 2023-06-28 11:48:28,189] Trial 29 finished with value: 0.5730708671335719 and parameters: {'num_leaves': 71, 'max_depth': 6, 'n_estimators': 1609, 'reg_alpha': 0, 'reg_lambda': 0, 'learning_rate': 0.003186672804508503, 'subsample': 0.5250590191388823, 'lambda_l1': 1, 'lambda_l2': 2, 'feature_fraction': 0.889901592456873}. Best is trial 21 with value: 0.5894026805058699.\n"
     ]
    }
   ],
   "source": [
    "def objective_lgbm_ec2(trial):\n",
    "    n_leaves = trial.suggest_int('num_leaves', 25,100)\n",
    "    max_depth = trial.suggest_int(\"max_depth\", 1,10)\n",
    "    n_estimators = trial.suggest_int(\"n_estimators\", 10,2000)\n",
    "    r_alpha = trial.suggest_int(\"reg_alpha\", 0.0, 0.1)\n",
    "    r_lambda = trial.suggest_int(\"reg_lambda\", 0.0, 0.1)\n",
    "    l_rate = trial.suggest_float('learning_rate', 0.001, 0.1,log=True)\n",
    "    subsample =  trial.suggest_float('subsample', 0.5, 1.0)\n",
    "    lambda_l1 = trial.suggest_int(\"lambda_l1\", 0.0, 4)\n",
    "    lambda_l2 = trial.suggest_int(\"lambda_l2\", 0.0, 4)\n",
    "    feature_fraction =  trial.suggest_float('feature_fraction', 0.5, 1.0)\n",
    "\n",
    "    lgb = LGBMClassifier(\n",
    "            num_leaves =n_leaves,\n",
    "            max_depth=max_depth, \n",
    "            n_estimators=n_estimators,\n",
    "            reg_alpha = r_alpha,\n",
    "            reg_lambda = r_lambda,\n",
    "            learning_rate = l_rate,\n",
    "            subsample = subsample,\n",
    "            lambda_l1 = lambda_l1,\n",
    "            lambda_l2 = lambda_l2,\n",
    "            feature_fraction = feature_fraction\n",
    "        )\n",
    "    \n",
    "    lgb.fit(x_train, y_train['EC2'], eval_set=[(x_val, y_val['EC2'])], early_stopping_rounds=20, verbose=False)\n",
    "\n",
    "    y_pred_proba = lgb.predict_proba(x_val)[:, 1]\n",
    "    roc_auc = roc_auc_score(y_val['EC2'], y_pred_proba)\n",
    "    return roc_auc\n",
    "study_lgbm_ec2 = optuna.create_study(direction=\"maximize\")\n",
    "study_lgbm_ec2.optimize(objective_lgbm_ec2, n_trials=30)"
   ]
  },
  {
   "cell_type": "code",
   "execution_count": 15,
   "id": "002fa228",
   "metadata": {
    "execution": {
     "iopub.execute_input": "2023-06-28T11:48:28.271008Z",
     "iopub.status.busy": "2023-06-28T11:48:28.270252Z",
     "iopub.status.idle": "2023-06-28T11:48:28.276475Z",
     "shell.execute_reply": "2023-06-28T11:48:28.275341Z"
    },
    "papermill": {
     "duration": 0.045245,
     "end_time": "2023-06-28T11:48:28.278767",
     "exception": false,
     "start_time": "2023-06-28T11:48:28.233522",
     "status": "completed"
    },
    "tags": []
   },
   "outputs": [
    {
     "name": "stdout",
     "output_type": "stream",
     "text": [
      "ROC_AUC Score: 0.5894026805058699\n",
      "Best hyperparameters: {'num_leaves': 33, 'max_depth': 9, 'n_estimators': 290, 'reg_alpha': 0, 'reg_lambda': 0, 'learning_rate': 0.09383073807047086, 'subsample': 0.5149475034484587, 'lambda_l1': 0, 'lambda_l2': 2, 'feature_fraction': 0.8377231358054495}\n"
     ]
    }
   ],
   "source": [
    "trial_lgbm_ec2 = study_lgbm_ec2.best_trial\n",
    "print('ROC_AUC Score: {}'.format(trial_lgbm_ec2.value))\n",
    "print(\"Best hyperparameters: {}\".format(trial_lgbm_ec1.params))"
   ]
  },
  {
   "cell_type": "code",
   "execution_count": 16,
   "id": "1922a64a",
   "metadata": {
    "execution": {
     "iopub.execute_input": "2023-06-28T11:48:28.352010Z",
     "iopub.status.busy": "2023-06-28T11:48:28.351591Z",
     "iopub.status.idle": "2023-06-28T11:48:28.768582Z",
     "shell.execute_reply": "2023-06-28T11:48:28.767497Z"
    },
    "papermill": {
     "duration": 0.456542,
     "end_time": "2023-06-28T11:48:28.771109",
     "exception": false,
     "start_time": "2023-06-28T11:48:28.314567",
     "status": "completed"
    },
    "tags": []
   },
   "outputs": [
    {
     "name": "stderr",
     "output_type": "stream",
     "text": [
      "/opt/conda/lib/python3.10/site-packages/lightgbm/sklearn.py:726: UserWarning: 'early_stopping_rounds' argument is deprecated and will be removed in a future release of LightGBM. Pass 'early_stopping()' callback via 'callbacks' argument instead.\n",
      "  _log_warning(\"'early_stopping_rounds' argument is deprecated and will be removed in a future release of LightGBM. \"\n",
      "/opt/conda/lib/python3.10/site-packages/lightgbm/sklearn.py:736: UserWarning: 'verbose' argument is deprecated and will be removed in a future release of LightGBM. Pass 'log_evaluation()' callback via 'callbacks' argument instead.\n",
      "  _log_warning(\"'verbose' argument is deprecated and will be removed in a future release of LightGBM. \"\n"
     ]
    },
    {
     "name": "stdout",
     "output_type": "stream",
     "text": [
      "[LightGBM] [Warning] lambda_l1 is set=0, reg_alpha=0 will be ignored. Current value: lambda_l1=0\n",
      "[LightGBM] [Warning] feature_fraction is set=0.8377231358054495, colsample_bytree=1.0 will be ignored. Current value: feature_fraction=0.8377231358054495\n",
      "[LightGBM] [Warning] lambda_l2 is set=2, reg_lambda=0 will be ignored. Current value: lambda_l2=2\n"
     ]
    },
    {
     "data": {
      "text/html": [
       "<style>#sk-container-id-1 {color: black;background-color: white;}#sk-container-id-1 pre{padding: 0;}#sk-container-id-1 div.sk-toggleable {background-color: white;}#sk-container-id-1 label.sk-toggleable__label {cursor: pointer;display: block;width: 100%;margin-bottom: 0;padding: 0.3em;box-sizing: border-box;text-align: center;}#sk-container-id-1 label.sk-toggleable__label-arrow:before {content: \"▸\";float: left;margin-right: 0.25em;color: #696969;}#sk-container-id-1 label.sk-toggleable__label-arrow:hover:before {color: black;}#sk-container-id-1 div.sk-estimator:hover label.sk-toggleable__label-arrow:before {color: black;}#sk-container-id-1 div.sk-toggleable__content {max-height: 0;max-width: 0;overflow: hidden;text-align: left;background-color: #f0f8ff;}#sk-container-id-1 div.sk-toggleable__content pre {margin: 0.2em;color: black;border-radius: 0.25em;background-color: #f0f8ff;}#sk-container-id-1 input.sk-toggleable__control:checked~div.sk-toggleable__content {max-height: 200px;max-width: 100%;overflow: auto;}#sk-container-id-1 input.sk-toggleable__control:checked~label.sk-toggleable__label-arrow:before {content: \"▾\";}#sk-container-id-1 div.sk-estimator input.sk-toggleable__control:checked~label.sk-toggleable__label {background-color: #d4ebff;}#sk-container-id-1 div.sk-label input.sk-toggleable__control:checked~label.sk-toggleable__label {background-color: #d4ebff;}#sk-container-id-1 input.sk-hidden--visually {border: 0;clip: rect(1px 1px 1px 1px);clip: rect(1px, 1px, 1px, 1px);height: 1px;margin: -1px;overflow: hidden;padding: 0;position: absolute;width: 1px;}#sk-container-id-1 div.sk-estimator {font-family: monospace;background-color: #f0f8ff;border: 1px dotted black;border-radius: 0.25em;box-sizing: border-box;margin-bottom: 0.5em;}#sk-container-id-1 div.sk-estimator:hover {background-color: #d4ebff;}#sk-container-id-1 div.sk-parallel-item::after {content: \"\";width: 100%;border-bottom: 1px solid gray;flex-grow: 1;}#sk-container-id-1 div.sk-label:hover label.sk-toggleable__label {background-color: #d4ebff;}#sk-container-id-1 div.sk-serial::before {content: \"\";position: absolute;border-left: 1px solid gray;box-sizing: border-box;top: 0;bottom: 0;left: 50%;z-index: 0;}#sk-container-id-1 div.sk-serial {display: flex;flex-direction: column;align-items: center;background-color: white;padding-right: 0.2em;padding-left: 0.2em;position: relative;}#sk-container-id-1 div.sk-item {position: relative;z-index: 1;}#sk-container-id-1 div.sk-parallel {display: flex;align-items: stretch;justify-content: center;background-color: white;position: relative;}#sk-container-id-1 div.sk-item::before, #sk-container-id-1 div.sk-parallel-item::before {content: \"\";position: absolute;border-left: 1px solid gray;box-sizing: border-box;top: 0;bottom: 0;left: 50%;z-index: -1;}#sk-container-id-1 div.sk-parallel-item {display: flex;flex-direction: column;z-index: 1;position: relative;background-color: white;}#sk-container-id-1 div.sk-parallel-item:first-child::after {align-self: flex-end;width: 50%;}#sk-container-id-1 div.sk-parallel-item:last-child::after {align-self: flex-start;width: 50%;}#sk-container-id-1 div.sk-parallel-item:only-child::after {width: 0;}#sk-container-id-1 div.sk-dashed-wrapped {border: 1px dashed gray;margin: 0 0.4em 0.5em 0.4em;box-sizing: border-box;padding-bottom: 0.4em;background-color: white;}#sk-container-id-1 div.sk-label label {font-family: monospace;font-weight: bold;display: inline-block;line-height: 1.2em;}#sk-container-id-1 div.sk-label-container {text-align: center;}#sk-container-id-1 div.sk-container {/* jupyter's `normalize.less` sets `[hidden] { display: none; }` but bootstrap.min.css set `[hidden] { display: none !important; }` so we also need the `!important` here to be able to override the default hidden behavior on the sphinx rendered scikit-learn.org. See: https://github.com/scikit-learn/scikit-learn/issues/21755 */display: inline-block !important;position: relative;}#sk-container-id-1 div.sk-text-repr-fallback {display: none;}</style><div id=\"sk-container-id-1\" class=\"sk-top-container\"><div class=\"sk-text-repr-fallback\"><pre>LGBMClassifier(feature_fraction=0.8377231358054495, lambda_l1=0, lambda_l2=2,\n",
       "               learning_rate=0.09383073807047086, max_depth=9, n_estimators=290,\n",
       "               num_leaves=33, reg_alpha=0, reg_lambda=0,\n",
       "               subsample=0.5149475034484587)</pre><b>In a Jupyter environment, please rerun this cell to show the HTML representation or trust the notebook. <br />On GitHub, the HTML representation is unable to render, please try loading this page with nbviewer.org.</b></div><div class=\"sk-container\" hidden><div class=\"sk-item\"><div class=\"sk-estimator sk-toggleable\"><input class=\"sk-toggleable__control sk-hidden--visually\" id=\"sk-estimator-id-1\" type=\"checkbox\" checked><label for=\"sk-estimator-id-1\" class=\"sk-toggleable__label sk-toggleable__label-arrow\">LGBMClassifier</label><div class=\"sk-toggleable__content\"><pre>LGBMClassifier(feature_fraction=0.8377231358054495, lambda_l1=0, lambda_l2=2,\n",
       "               learning_rate=0.09383073807047086, max_depth=9, n_estimators=290,\n",
       "               num_leaves=33, reg_alpha=0, reg_lambda=0,\n",
       "               subsample=0.5149475034484587)</pre></div></div></div></div></div>"
      ],
      "text/plain": [
       "LGBMClassifier(feature_fraction=0.8377231358054495, lambda_l1=0, lambda_l2=2,\n",
       "               learning_rate=0.09383073807047086, max_depth=9, n_estimators=290,\n",
       "               num_leaves=33, reg_alpha=0, reg_lambda=0,\n",
       "               subsample=0.5149475034484587)"
      ]
     },
     "execution_count": 16,
     "metadata": {},
     "output_type": "execute_result"
    }
   ],
   "source": [
    "lgbm_ec1 = LGBMClassifier(**trial_lgbm_ec1.params)\n",
    "lgbm_ec1.fit(x_train, y_train['EC1'], eval_set=[(x_val, y_val['EC1'])], early_stopping_rounds=20, verbose=False)"
   ]
  },
  {
   "cell_type": "code",
   "execution_count": 17,
   "id": "ceceda8c",
   "metadata": {
    "execution": {
     "iopub.execute_input": "2023-06-28T11:48:28.848781Z",
     "iopub.status.busy": "2023-06-28T11:48:28.848399Z",
     "iopub.status.idle": "2023-06-28T11:48:28.863512Z",
     "shell.execute_reply": "2023-06-28T11:48:28.862379Z"
    },
    "papermill": {
     "duration": 0.057572,
     "end_time": "2023-06-28T11:48:28.865998",
     "exception": false,
     "start_time": "2023-06-28T11:48:28.808426",
     "status": "completed"
    },
    "tags": []
   },
   "outputs": [
    {
     "data": {
      "text/plain": [
       "0.6948145557172694"
      ]
     },
     "execution_count": 17,
     "metadata": {},
     "output_type": "execute_result"
    }
   ],
   "source": [
    "y_pred_proba = lgbm_ec1.predict_proba(x_test)[:, 1]\n",
    "roc_auc_score(y_test['EC1'], y_pred_proba)"
   ]
  },
  {
   "cell_type": "code",
   "execution_count": 18,
   "id": "2f0139d2",
   "metadata": {
    "execution": {
     "iopub.execute_input": "2023-06-28T11:48:28.942623Z",
     "iopub.status.busy": "2023-06-28T11:48:28.942210Z",
     "iopub.status.idle": "2023-06-28T11:48:29.883693Z",
     "shell.execute_reply": "2023-06-28T11:48:29.882813Z"
    },
    "papermill": {
     "duration": 0.981969,
     "end_time": "2023-06-28T11:48:29.885843",
     "exception": false,
     "start_time": "2023-06-28T11:48:28.903874",
     "status": "completed"
    },
    "tags": []
   },
   "outputs": [
    {
     "name": "stderr",
     "output_type": "stream",
     "text": [
      "/opt/conda/lib/python3.10/site-packages/lightgbm/sklearn.py:726: UserWarning: 'early_stopping_rounds' argument is deprecated and will be removed in a future release of LightGBM. Pass 'early_stopping()' callback via 'callbacks' argument instead.\n",
      "  _log_warning(\"'early_stopping_rounds' argument is deprecated and will be removed in a future release of LightGBM. \"\n",
      "/opt/conda/lib/python3.10/site-packages/lightgbm/sklearn.py:736: UserWarning: 'verbose' argument is deprecated and will be removed in a future release of LightGBM. Pass 'log_evaluation()' callback via 'callbacks' argument instead.\n",
      "  _log_warning(\"'verbose' argument is deprecated and will be removed in a future release of LightGBM. \"\n"
     ]
    },
    {
     "name": "stdout",
     "output_type": "stream",
     "text": [
      "[LightGBM] [Warning] lambda_l1 is set=1, reg_alpha=0 will be ignored. Current value: lambda_l1=1\n",
      "[LightGBM] [Warning] feature_fraction is set=0.7713094644346348, colsample_bytree=1.0 will be ignored. Current value: feature_fraction=0.7713094644346348\n",
      "[LightGBM] [Warning] lambda_l2 is set=4, reg_lambda=0 will be ignored. Current value: lambda_l2=4\n"
     ]
    },
    {
     "data": {
      "text/html": [
       "<style>#sk-container-id-2 {color: black;background-color: white;}#sk-container-id-2 pre{padding: 0;}#sk-container-id-2 div.sk-toggleable {background-color: white;}#sk-container-id-2 label.sk-toggleable__label {cursor: pointer;display: block;width: 100%;margin-bottom: 0;padding: 0.3em;box-sizing: border-box;text-align: center;}#sk-container-id-2 label.sk-toggleable__label-arrow:before {content: \"▸\";float: left;margin-right: 0.25em;color: #696969;}#sk-container-id-2 label.sk-toggleable__label-arrow:hover:before {color: black;}#sk-container-id-2 div.sk-estimator:hover label.sk-toggleable__label-arrow:before {color: black;}#sk-container-id-2 div.sk-toggleable__content {max-height: 0;max-width: 0;overflow: hidden;text-align: left;background-color: #f0f8ff;}#sk-container-id-2 div.sk-toggleable__content pre {margin: 0.2em;color: black;border-radius: 0.25em;background-color: #f0f8ff;}#sk-container-id-2 input.sk-toggleable__control:checked~div.sk-toggleable__content {max-height: 200px;max-width: 100%;overflow: auto;}#sk-container-id-2 input.sk-toggleable__control:checked~label.sk-toggleable__label-arrow:before {content: \"▾\";}#sk-container-id-2 div.sk-estimator input.sk-toggleable__control:checked~label.sk-toggleable__label {background-color: #d4ebff;}#sk-container-id-2 div.sk-label input.sk-toggleable__control:checked~label.sk-toggleable__label {background-color: #d4ebff;}#sk-container-id-2 input.sk-hidden--visually {border: 0;clip: rect(1px 1px 1px 1px);clip: rect(1px, 1px, 1px, 1px);height: 1px;margin: -1px;overflow: hidden;padding: 0;position: absolute;width: 1px;}#sk-container-id-2 div.sk-estimator {font-family: monospace;background-color: #f0f8ff;border: 1px dotted black;border-radius: 0.25em;box-sizing: border-box;margin-bottom: 0.5em;}#sk-container-id-2 div.sk-estimator:hover {background-color: #d4ebff;}#sk-container-id-2 div.sk-parallel-item::after {content: \"\";width: 100%;border-bottom: 1px solid gray;flex-grow: 1;}#sk-container-id-2 div.sk-label:hover label.sk-toggleable__label {background-color: #d4ebff;}#sk-container-id-2 div.sk-serial::before {content: \"\";position: absolute;border-left: 1px solid gray;box-sizing: border-box;top: 0;bottom: 0;left: 50%;z-index: 0;}#sk-container-id-2 div.sk-serial {display: flex;flex-direction: column;align-items: center;background-color: white;padding-right: 0.2em;padding-left: 0.2em;position: relative;}#sk-container-id-2 div.sk-item {position: relative;z-index: 1;}#sk-container-id-2 div.sk-parallel {display: flex;align-items: stretch;justify-content: center;background-color: white;position: relative;}#sk-container-id-2 div.sk-item::before, #sk-container-id-2 div.sk-parallel-item::before {content: \"\";position: absolute;border-left: 1px solid gray;box-sizing: border-box;top: 0;bottom: 0;left: 50%;z-index: -1;}#sk-container-id-2 div.sk-parallel-item {display: flex;flex-direction: column;z-index: 1;position: relative;background-color: white;}#sk-container-id-2 div.sk-parallel-item:first-child::after {align-self: flex-end;width: 50%;}#sk-container-id-2 div.sk-parallel-item:last-child::after {align-self: flex-start;width: 50%;}#sk-container-id-2 div.sk-parallel-item:only-child::after {width: 0;}#sk-container-id-2 div.sk-dashed-wrapped {border: 1px dashed gray;margin: 0 0.4em 0.5em 0.4em;box-sizing: border-box;padding-bottom: 0.4em;background-color: white;}#sk-container-id-2 div.sk-label label {font-family: monospace;font-weight: bold;display: inline-block;line-height: 1.2em;}#sk-container-id-2 div.sk-label-container {text-align: center;}#sk-container-id-2 div.sk-container {/* jupyter's `normalize.less` sets `[hidden] { display: none; }` but bootstrap.min.css set `[hidden] { display: none !important; }` so we also need the `!important` here to be able to override the default hidden behavior on the sphinx rendered scikit-learn.org. See: https://github.com/scikit-learn/scikit-learn/issues/21755 */display: inline-block !important;position: relative;}#sk-container-id-2 div.sk-text-repr-fallback {display: none;}</style><div id=\"sk-container-id-2\" class=\"sk-top-container\"><div class=\"sk-text-repr-fallback\"><pre>LGBMClassifier(feature_fraction=0.7713094644346348, lambda_l1=1, lambda_l2=4,\n",
       "               learning_rate=0.0011403507662051577, max_depth=1,\n",
       "               n_estimators=806, num_leaves=25, reg_alpha=0, reg_lambda=0,\n",
       "               subsample=0.6308589121580126)</pre><b>In a Jupyter environment, please rerun this cell to show the HTML representation or trust the notebook. <br />On GitHub, the HTML representation is unable to render, please try loading this page with nbviewer.org.</b></div><div class=\"sk-container\" hidden><div class=\"sk-item\"><div class=\"sk-estimator sk-toggleable\"><input class=\"sk-toggleable__control sk-hidden--visually\" id=\"sk-estimator-id-2\" type=\"checkbox\" checked><label for=\"sk-estimator-id-2\" class=\"sk-toggleable__label sk-toggleable__label-arrow\">LGBMClassifier</label><div class=\"sk-toggleable__content\"><pre>LGBMClassifier(feature_fraction=0.7713094644346348, lambda_l1=1, lambda_l2=4,\n",
       "               learning_rate=0.0011403507662051577, max_depth=1,\n",
       "               n_estimators=806, num_leaves=25, reg_alpha=0, reg_lambda=0,\n",
       "               subsample=0.6308589121580126)</pre></div></div></div></div></div>"
      ],
      "text/plain": [
       "LGBMClassifier(feature_fraction=0.7713094644346348, lambda_l1=1, lambda_l2=4,\n",
       "               learning_rate=0.0011403507662051577, max_depth=1,\n",
       "               n_estimators=806, num_leaves=25, reg_alpha=0, reg_lambda=0,\n",
       "               subsample=0.6308589121580126)"
      ]
     },
     "execution_count": 18,
     "metadata": {},
     "output_type": "execute_result"
    }
   ],
   "source": [
    "lgbm_ec2 = LGBMClassifier(**trial_lgbm_ec2.params)\n",
    "lgbm_ec2.fit(x_train, y_train['EC2'], eval_set=[(x_val, y_val['EC2'])], early_stopping_rounds=20, verbose=False)"
   ]
  },
  {
   "cell_type": "code",
   "execution_count": 19,
   "id": "cf0a5bb0",
   "metadata": {
    "execution": {
     "iopub.execute_input": "2023-06-28T11:48:29.962972Z",
     "iopub.status.busy": "2023-06-28T11:48:29.962315Z",
     "iopub.status.idle": "2023-06-28T11:48:29.985701Z",
     "shell.execute_reply": "2023-06-28T11:48:29.984869Z"
    },
    "papermill": {
     "duration": 0.064557,
     "end_time": "2023-06-28T11:48:29.988065",
     "exception": false,
     "start_time": "2023-06-28T11:48:29.923508",
     "status": "completed"
    },
    "tags": []
   },
   "outputs": [
    {
     "data": {
      "text/plain": [
       "0.601062861975296"
      ]
     },
     "execution_count": 19,
     "metadata": {},
     "output_type": "execute_result"
    }
   ],
   "source": [
    "y_pred_proba = lgbm_ec2.predict_proba(x_test)[:, 1]\n",
    "roc_auc_score(y_test['EC2'], y_pred_proba)"
   ]
  },
  {
   "cell_type": "markdown",
   "id": "f7262fc1",
   "metadata": {
    "papermill": {
     "duration": 0.036914,
     "end_time": "2023-06-28T11:48:30.062984",
     "exception": false,
     "start_time": "2023-06-28T11:48:30.026070",
     "status": "completed"
    },
    "tags": []
   },
   "source": [
    "# 6. CatBoost Classifier Model | Optuna Hyperparamter Search"
   ]
  },
  {
   "cell_type": "code",
   "execution_count": 20,
   "id": "358f579e",
   "metadata": {
    "collapsed": true,
    "execution": {
     "iopub.execute_input": "2023-06-28T11:48:30.139738Z",
     "iopub.status.busy": "2023-06-28T11:48:30.139057Z",
     "iopub.status.idle": "2023-06-28T11:51:51.505723Z",
     "shell.execute_reply": "2023-06-28T11:51:51.504466Z"
    },
    "jupyter": {
     "outputs_hidden": true
    },
    "papermill": {
     "duration": 201.40822,
     "end_time": "2023-06-28T11:51:51.508394",
     "exception": false,
     "start_time": "2023-06-28T11:48:30.100174",
     "status": "completed"
    },
    "tags": []
   },
   "outputs": [
    {
     "name": "stderr",
     "output_type": "stream",
     "text": [
      "[I 2023-06-28 11:48:30,145] A new study created in memory with name: no-name-2ec29af9-8eb0-410b-bed2-e53f97a1d9e8\n"
     ]
    },
    {
     "name": "stdout",
     "output_type": "stream",
     "text": [
      "0:\tlearn: 0.6920683\ttest: 0.6921508\tbest: 0.6921508 (0)\ttotal: 64.3ms\tremaining: 2m 8s\n",
      "100:\tlearn: 0.6216616\ttest: 0.6290983\tbest: 0.6290983 (100)\ttotal: 830ms\tremaining: 15.6s\n",
      "200:\tlearn: 0.5903189\ttest: 0.6044643\tbest: 0.6044643 (200)\ttotal: 1.59s\tremaining: 14.2s\n",
      "300:\tlearn: 0.5737984\ttest: 0.5943386\tbest: 0.5943386 (300)\ttotal: 2.35s\tremaining: 13.2s\n",
      "400:\tlearn: 0.5633968\ttest: 0.5903161\tbest: 0.5903161 (400)\ttotal: 3.1s\tremaining: 12.4s\n",
      "500:\tlearn: 0.5555964\ttest: 0.5890139\tbest: 0.5889634 (498)\ttotal: 3.85s\tremaining: 11.5s\n"
     ]
    },
    {
     "name": "stderr",
     "output_type": "stream",
     "text": [
      "[I 2023-06-28 11:48:34,881] Trial 0 finished with value: 0.6908838138429975 and parameters: {'iterations': 1998, 'max_depth': 6, 'learning_rate': 0.004578759979437687, 'subsample': 0.986401760200892, 'l2_leaf_reg': 0, 'colsample_bylevel': 0.8821879335405867}. Best is trial 0 with value: 0.6908838138429975.\n"
     ]
    },
    {
     "name": "stdout",
     "output_type": "stream",
     "text": [
      "Stopped by overfitting detector  (20 iterations wait)\n",
      "\n",
      "bestTest = 0.5884334613\n",
      "bestIteration = 566\n",
      "\n",
      "Shrink model to first 567 iterations.\n",
      "0:\tlearn: 0.6924555\ttest: 0.6924822\tbest: 0.6924822 (0)\ttotal: 7.18ms\tremaining: 7.62s\n",
      "100:\tlearn: 0.6415361\ttest: 0.6457064\tbest: 0.6457064 (100)\ttotal: 736ms\tremaining: 7s\n",
      "200:\tlearn: 0.6125982\ttest: 0.6200867\tbest: 0.6200867 (200)\ttotal: 1.46s\tremaining: 6.24s\n",
      "300:\tlearn: 0.5953613\ttest: 0.6057525\tbest: 0.6057525 (300)\ttotal: 2.21s\tremaining: 5.59s\n",
      "400:\tlearn: 0.5845755\ttest: 0.5980489\tbest: 0.5980489 (400)\ttotal: 2.94s\tremaining: 4.84s\n",
      "500:\tlearn: 0.5771692\ttest: 0.5935551\tbest: 0.5935551 (500)\ttotal: 3.67s\tremaining: 4.1s\n",
      "600:\tlearn: 0.5719406\ttest: 0.5909347\tbest: 0.5909347 (600)\ttotal: 4.39s\tremaining: 3.36s\n",
      "700:\tlearn: 0.5679607\ttest: 0.5895421\tbest: 0.5895421 (700)\ttotal: 5.27s\tremaining: 2.71s\n",
      "800:\tlearn: 0.5645415\ttest: 0.5887397\tbest: 0.5887397 (800)\ttotal: 6.08s\tremaining: 1.97s\n",
      "900:\tlearn: 0.5616329\ttest: 0.5884163\tbest: 0.5884003 (897)\ttotal: 6.8s\tremaining: 1.21s\n"
     ]
    },
    {
     "name": "stderr",
     "output_type": "stream",
     "text": [
      "[I 2023-06-28 11:48:42,629] Trial 1 finished with value: 0.6902647302307165 and parameters: {'iterations': 1061, 'max_depth': 6, 'learning_rate': 0.002974377156486166, 'subsample': 0.6165076508533966, 'l2_leaf_reg': 1, 'colsample_bylevel': 0.9328558360115304}. Best is trial 0 with value: 0.6908838138429975.\n"
     ]
    },
    {
     "name": "stdout",
     "output_type": "stream",
     "text": [
      "Stopped by overfitting detector  (20 iterations wait)\n",
      "\n",
      "bestTest = 0.5882820262\n",
      "bestIteration = 979\n",
      "\n",
      "Shrink model to first 980 iterations.\n",
      "0:\tlearn: 0.6926774\ttest: 0.6926971\tbest: 0.6926971 (0)\ttotal: 6.27ms\tremaining: 13.4s\n",
      "100:\tlearn: 0.6544005\ttest: 0.6567793\tbest: 0.6567793 (100)\ttotal: 572ms\tremaining: 11.5s\n",
      "200:\tlearn: 0.6290132\ttest: 0.6334357\tbest: 0.6334357 (200)\ttotal: 1.14s\tremaining: 11s\n",
      "300:\tlearn: 0.6119195\ttest: 0.6181828\tbest: 0.6181828 (300)\ttotal: 1.71s\tremaining: 10.4s\n",
      "400:\tlearn: 0.6002288\ttest: 0.6081687\tbest: 0.6081687 (400)\ttotal: 2.29s\tremaining: 9.87s\n",
      "500:\tlearn: 0.5919560\ttest: 0.6015070\tbest: 0.6015070 (500)\ttotal: 2.85s\tremaining: 9.29s\n",
      "600:\tlearn: 0.5861176\ttest: 0.5971484\tbest: 0.5971484 (600)\ttotal: 3.41s\tremaining: 8.68s\n",
      "700:\tlearn: 0.5818474\ttest: 0.5943948\tbest: 0.5943948 (700)\ttotal: 3.99s\tremaining: 8.14s\n",
      "800:\tlearn: 0.5784723\ttest: 0.5923667\tbest: 0.5923667 (800)\ttotal: 4.56s\tremaining: 7.58s\n",
      "900:\tlearn: 0.5758078\ttest: 0.5910230\tbest: 0.5910230 (900)\ttotal: 5.13s\tremaining: 7s\n",
      "1000:\tlearn: 0.5736103\ttest: 0.5900801\tbest: 0.5900801 (1000)\ttotal: 5.69s\tremaining: 6.42s\n",
      "1100:\tlearn: 0.5717817\ttest: 0.5894519\tbest: 0.5894519 (1100)\ttotal: 6.26s\tremaining: 5.86s\n",
      "1200:\tlearn: 0.5702027\ttest: 0.5890303\tbest: 0.5890303 (1200)\ttotal: 6.82s\tremaining: 5.28s\n",
      "1300:\tlearn: 0.5688115\ttest: 0.5887403\tbest: 0.5887403 (1300)\ttotal: 7.38s\tremaining: 4.71s\n",
      "1400:\tlearn: 0.5675523\ttest: 0.5885382\tbest: 0.5885382 (1400)\ttotal: 7.94s\tremaining: 4.14s\n",
      "1500:\tlearn: 0.5663566\ttest: 0.5883486\tbest: 0.5883486 (1500)\ttotal: 8.5s\tremaining: 3.57s\n",
      "1600:\tlearn: 0.5652467\ttest: 0.5882271\tbest: 0.5882141 (1592)\ttotal: 9.06s\tremaining: 3s\n"
     ]
    },
    {
     "name": "stderr",
     "output_type": "stream",
     "text": [
      "[I 2023-06-28 11:48:52,427] Trial 2 finished with value: 0.6899263938379585 and parameters: {'iterations': 2131, 'max_depth': 5, 'learning_rate': 0.0021426774774971876, 'subsample': 0.8444262912057712, 'l2_leaf_reg': 4, 'colsample_bylevel': 0.7063604162044035}. Best is trial 0 with value: 0.6908838138429975.\n"
     ]
    },
    {
     "name": "stdout",
     "output_type": "stream",
     "text": [
      "Stopped by overfitting detector  (20 iterations wait)\n",
      "\n",
      "bestTest = 0.5881607092\n",
      "bestIteration = 1656\n",
      "\n",
      "Shrink model to first 1657 iterations.\n",
      "0:\tlearn: 0.6841631\ttest: 0.6860246\tbest: 0.6860246 (0)\ttotal: 33.9ms\tremaining: 2m 21s\n",
      "100:\tlearn: 0.4939151\ttest: 0.5877587\tbest: 0.5872255 (96)\ttotal: 2.88s\tremaining: 1m 56s\n"
     ]
    },
    {
     "name": "stderr",
     "output_type": "stream",
     "text": [
      "[I 2023-06-28 11:48:55,866] Trial 3 finished with value: 0.692810801569305 and parameters: {'iterations': 4181, 'max_depth': 10, 'learning_rate': 0.03292706473845719, 'subsample': 0.5262405719135131, 'l2_leaf_reg': 3, 'colsample_bylevel': 0.6014582077829456}. Best is trial 3 with value: 0.692810801569305.\n"
     ]
    },
    {
     "name": "stdout",
     "output_type": "stream",
     "text": [
      "Stopped by overfitting detector  (20 iterations wait)\n",
      "\n",
      "bestTest = 0.5872255127\n",
      "bestIteration = 96\n",
      "\n",
      "Shrink model to first 97 iterations.\n",
      "0:\tlearn: 0.6799362\ttest: 0.6806473\tbest: 0.6806473 (0)\ttotal: 2.75ms\tremaining: 12.8s\n",
      "100:\tlearn: 0.5789049\ttest: 0.5916646\tbest: 0.5916646 (100)\ttotal: 261ms\tremaining: 11.7s\n"
     ]
    },
    {
     "name": "stderr",
     "output_type": "stream",
     "text": [
      "[I 2023-06-28 11:48:56,479] Trial 4 finished with value: 0.6882941007090667 and parameters: {'iterations': 4637, 'max_depth': 1, 'learning_rate': 0.07332379283847956, 'subsample': 0.7558368546638373, 'l2_leaf_reg': 3, 'colsample_bylevel': 0.8081676630909828}. Best is trial 3 with value: 0.692810801569305.\n"
     ]
    },
    {
     "name": "stdout",
     "output_type": "stream",
     "text": [
      "200:\tlearn: 0.5726314\ttest: 0.5901222\tbest: 0.5899442 (182)\ttotal: 509ms\tremaining: 11.2s\n",
      "Stopped by overfitting detector  (20 iterations wait)\n",
      "\n",
      "bestTest = 0.5899442332\n",
      "bestIteration = 182\n",
      "\n",
      "Shrink model to first 183 iterations.\n",
      "0:\tlearn: 0.6927733\ttest: 0.6927999\tbest: 0.6927999 (0)\ttotal: 44.8ms\tremaining: 2m 11s\n",
      "100:\tlearn: 0.6598303\ttest: 0.6638532\tbest: 0.6638532 (100)\ttotal: 3.87s\tremaining: 1m 48s\n",
      "200:\tlearn: 0.6352011\ttest: 0.6428803\tbest: 0.6428803 (200)\ttotal: 7.76s\tremaining: 1m 45s\n",
      "300:\tlearn: 0.6162932\ttest: 0.6276121\tbest: 0.6276121 (300)\ttotal: 11.7s\tremaining: 1m 42s\n",
      "400:\tlearn: 0.6016407\ttest: 0.6165847\tbest: 0.6165847 (400)\ttotal: 15.7s\tremaining: 1m 39s\n",
      "500:\tlearn: 0.5896560\ttest: 0.6084713\tbest: 0.6084713 (500)\ttotal: 19.8s\tremaining: 1m 36s\n",
      "600:\tlearn: 0.5799984\ttest: 0.6025489\tbest: 0.6025489 (600)\ttotal: 23.8s\tremaining: 1m 32s\n",
      "700:\tlearn: 0.5720663\ttest: 0.5981676\tbest: 0.5981676 (700)\ttotal: 27.7s\tremaining: 1m 28s\n",
      "800:\tlearn: 0.5653114\ttest: 0.5950442\tbest: 0.5950442 (800)\ttotal: 31.6s\tremaining: 1m 24s\n",
      "900:\tlearn: 0.5596640\ttest: 0.5927484\tbest: 0.5927484 (900)\ttotal: 35.5s\tremaining: 1m 20s\n",
      "1000:\tlearn: 0.5546913\ttest: 0.5909922\tbest: 0.5909922 (1000)\ttotal: 39.4s\tremaining: 1m 16s\n",
      "1100:\tlearn: 0.5500076\ttest: 0.5898612\tbest: 0.5898612 (1100)\ttotal: 43.3s\tremaining: 1m 12s\n",
      "1200:\tlearn: 0.5457601\ttest: 0.5890224\tbest: 0.5890224 (1200)\ttotal: 47.4s\tremaining: 1m 8s\n",
      "1300:\tlearn: 0.5417402\ttest: 0.5884038\tbest: 0.5884038 (1300)\ttotal: 51.6s\tremaining: 1m 4s\n",
      "1400:\tlearn: 0.5379142\ttest: 0.5880255\tbest: 0.5880204 (1399)\ttotal: 55.4s\tremaining: 1m\n",
      "1500:\tlearn: 0.5344837\ttest: 0.5877584\tbest: 0.5877584 (1500)\ttotal: 59.4s\tremaining: 57s\n",
      "1600:\tlearn: 0.5313045\ttest: 0.5875519\tbest: 0.5875519 (1600)\ttotal: 1m 3s\tremaining: 53s\n",
      "1700:\tlearn: 0.5281318\ttest: 0.5873968\tbest: 0.5873904 (1699)\ttotal: 1m 7s\tremaining: 49s\n"
     ]
    },
    {
     "name": "stderr",
     "output_type": "stream",
     "text": [
      "[I 2023-06-28 11:50:04,891] Trial 5 finished with value: 0.6918223374005686 and parameters: {'iterations': 2941, 'max_depth': 9, 'learning_rate': 0.0015474391308220093, 'subsample': 0.597955094567243, 'l2_leaf_reg': 3, 'colsample_bylevel': 0.9705729069941165}. Best is trial 3 with value: 0.692810801569305.\n"
     ]
    },
    {
     "name": "stdout",
     "output_type": "stream",
     "text": [
      "Stopped by overfitting detector  (20 iterations wait)\n",
      "\n",
      "bestTest = 0.587390436\n",
      "bestIteration = 1699\n",
      "\n",
      "Shrink model to first 1700 iterations.\n",
      "0:\tlearn: 0.6926447\ttest: 0.6926856\tbest: 0.6926856 (0)\ttotal: 2.7ms\tremaining: 5.11s\n",
      "100:\tlearn: 0.6508118\ttest: 0.6522686\tbest: 0.6522686 (100)\ttotal: 229ms\tremaining: 4.07s\n",
      "200:\tlearn: 0.6283955\ttest: 0.6308299\tbest: 0.6308299 (200)\ttotal: 444ms\tremaining: 3.73s\n",
      "300:\tlearn: 0.6163231\ttest: 0.6196137\tbest: 0.6196137 (300)\ttotal: 665ms\tremaining: 3.52s\n",
      "400:\tlearn: 0.6084102\ttest: 0.6125476\tbest: 0.6125476 (400)\ttotal: 901ms\tremaining: 3.35s\n",
      "500:\tlearn: 0.6029483\ttest: 0.6077940\tbest: 0.6077940 (500)\ttotal: 1.11s\tremaining: 3.09s\n",
      "600:\tlearn: 0.5989708\ttest: 0.6044229\tbest: 0.6044229 (600)\ttotal: 1.32s\tremaining: 2.83s\n",
      "700:\tlearn: 0.5959568\ttest: 0.6019195\tbest: 0.6019195 (700)\ttotal: 1.57s\tremaining: 2.67s\n",
      "800:\tlearn: 0.5934701\ttest: 0.5999569\tbest: 0.5999569 (800)\ttotal: 1.8s\tremaining: 2.45s\n",
      "900:\tlearn: 0.5913624\ttest: 0.5983079\tbest: 0.5983079 (900)\ttotal: 2.04s\tremaining: 2.24s\n",
      "1000:\tlearn: 0.5896158\ttest: 0.5970909\tbest: 0.5970909 (1000)\ttotal: 2.27s\tremaining: 2.02s\n",
      "1100:\tlearn: 0.5880399\ttest: 0.5960058\tbest: 0.5960058 (1100)\ttotal: 2.49s\tremaining: 1.79s\n",
      "1200:\tlearn: 0.5867422\ttest: 0.5951776\tbest: 0.5951776 (1200)\ttotal: 2.73s\tremaining: 1.57s\n",
      "1300:\tlearn: 0.5855875\ttest: 0.5944255\tbest: 0.5944255 (1300)\ttotal: 2.95s\tremaining: 1.34s\n",
      "1400:\tlearn: 0.5845755\ttest: 0.5937831\tbest: 0.5937830 (1399)\ttotal: 3.17s\tremaining: 1.11s\n",
      "1500:\tlearn: 0.5836744\ttest: 0.5932228\tbest: 0.5932228 (1500)\ttotal: 3.42s\tremaining: 891ms\n",
      "1600:\tlearn: 0.5828835\ttest: 0.5927925\tbest: 0.5927917 (1599)\ttotal: 3.67s\tremaining: 666ms\n",
      "1700:\tlearn: 0.5821529\ttest: 0.5923865\tbest: 0.5923865 (1700)\ttotal: 3.89s\tremaining: 437ms\n",
      "1800:\tlearn: 0.5815320\ttest: 0.5920597\tbest: 0.5920597 (1800)\ttotal: 4.13s\tremaining: 209ms\n"
     ]
    },
    {
     "name": "stderr",
     "output_type": "stream",
     "text": [
      "[I 2023-06-28 11:50:09,480] Trial 6 finished with value: 0.6856324011085917 and parameters: {'iterations': 1892, 'max_depth': 1, 'learning_rate': 0.0032892327464062007, 'subsample': 0.816756199546016, 'l2_leaf_reg': 1, 'colsample_bylevel': 0.5887300679120504}. Best is trial 3 with value: 0.692810801569305.\n"
     ]
    },
    {
     "name": "stdout",
     "output_type": "stream",
     "text": [
      "1891:\tlearn: 0.5810040\ttest: 0.5917923\tbest: 0.5917923 (1891)\ttotal: 4.34s\tremaining: 0us\n",
      "\n",
      "bestTest = 0.5917923058\n",
      "bestIteration = 1891\n",
      "\n",
      "0:\tlearn: 0.6928356\ttest: 0.6928513\tbest: 0.6928513 (0)\ttotal: 6.9ms\tremaining: 19.6s\n",
      "100:\tlearn: 0.6652521\ttest: 0.6670886\tbest: 0.6670886 (100)\ttotal: 610ms\tremaining: 16.5s\n",
      "200:\tlearn: 0.6441715\ttest: 0.6477404\tbest: 0.6477404 (200)\ttotal: 1.21s\tremaining: 15.9s\n",
      "300:\tlearn: 0.6281222\ttest: 0.6332573\tbest: 0.6332573 (300)\ttotal: 1.83s\tremaining: 15.4s\n",
      "400:\tlearn: 0.6156340\ttest: 0.6223038\tbest: 0.6223038 (400)\ttotal: 2.43s\tremaining: 14.8s\n",
      "500:\tlearn: 0.6059756\ttest: 0.6141024\tbest: 0.6141024 (500)\ttotal: 3.02s\tremaining: 14.1s\n",
      "600:\tlearn: 0.5983009\ttest: 0.6078301\tbest: 0.6078301 (600)\ttotal: 3.63s\tremaining: 13.5s\n",
      "700:\tlearn: 0.5922102\ttest: 0.6030335\tbest: 0.6030335 (700)\ttotal: 4.2s\tremaining: 12.8s\n",
      "800:\tlearn: 0.5873655\ttest: 0.5994686\tbest: 0.5994686 (800)\ttotal: 4.77s\tremaining: 12.1s\n",
      "900:\tlearn: 0.5833647\ttest: 0.5967367\tbest: 0.5967367 (900)\ttotal: 5.36s\tremaining: 11.5s\n",
      "1000:\tlearn: 0.5800497\ttest: 0.5946180\tbest: 0.5946180 (1000)\ttotal: 6.01s\tremaining: 11s\n",
      "1100:\tlearn: 0.5772342\ttest: 0.5930059\tbest: 0.5930059 (1100)\ttotal: 6.74s\tremaining: 10.6s\n",
      "1200:\tlearn: 0.5748357\ttest: 0.5917569\tbest: 0.5917569 (1200)\ttotal: 7.44s\tremaining: 10.1s\n",
      "1300:\tlearn: 0.5727556\ttest: 0.5908363\tbest: 0.5908363 (1300)\ttotal: 8.05s\tremaining: 9.5s\n",
      "1400:\tlearn: 0.5709484\ttest: 0.5900805\tbest: 0.5900805 (1400)\ttotal: 8.65s\tremaining: 8.87s\n",
      "1500:\tlearn: 0.5693190\ttest: 0.5895524\tbest: 0.5895524 (1500)\ttotal: 9.22s\tremaining: 8.21s\n",
      "1600:\tlearn: 0.5678597\ttest: 0.5890928\tbest: 0.5890928 (1600)\ttotal: 9.83s\tremaining: 7.59s\n",
      "1700:\tlearn: 0.5664279\ttest: 0.5887354\tbest: 0.5887354 (1700)\ttotal: 10.4s\tremaining: 6.96s\n",
      "1800:\tlearn: 0.5651965\ttest: 0.5885003\tbest: 0.5885003 (1800)\ttotal: 11s\tremaining: 6.34s\n",
      "1900:\tlearn: 0.5639787\ttest: 0.5882720\tbest: 0.5882720 (1900)\ttotal: 11.6s\tremaining: 5.73s\n",
      "2000:\tlearn: 0.5628974\ttest: 0.5881232\tbest: 0.5881231 (1995)\ttotal: 12.2s\tremaining: 5.11s\n",
      "2100:\tlearn: 0.5618539\ttest: 0.5880257\tbest: 0.5880242 (2099)\ttotal: 12.8s\tremaining: 4.5s\n",
      "2200:\tlearn: 0.5608102\ttest: 0.5879203\tbest: 0.5879172 (2199)\ttotal: 13.4s\tremaining: 3.88s\n"
     ]
    },
    {
     "name": "stderr",
     "output_type": "stream",
     "text": [
      "[I 2023-06-28 11:50:23,973] Trial 7 finished with value: 0.6904069035021416 and parameters: {'iterations': 2837, 'max_depth': 6, 'learning_rate': 0.0014195745345655087, 'subsample': 0.620968576334139, 'l2_leaf_reg': 4, 'colsample_bylevel': 0.5361174707362864}. Best is trial 3 with value: 0.692810801569305.\n"
     ]
    },
    {
     "name": "stdout",
     "output_type": "stream",
     "text": [
      "2300:\tlearn: 0.5598658\ttest: 0.5878345\tbest: 0.5878279 (2284)\ttotal: 14s\tremaining: 3.27s\n",
      "Stopped by overfitting detector  (20 iterations wait)\n",
      "\n",
      "bestTest = 0.5878278751\n",
      "bestIteration = 2284\n",
      "\n",
      "Shrink model to first 2285 iterations.\n",
      "0:\tlearn: 0.6864658\ttest: 0.6872582\tbest: 0.6872582 (0)\ttotal: 38.1ms\tremaining: 1m 23s\n",
      "100:\tlearn: 0.5316648\ttest: 0.5877486\tbest: 0.5876773 (99)\ttotal: 4.15s\tremaining: 1m 25s\n"
     ]
    },
    {
     "name": "stderr",
     "output_type": "stream",
     "text": [
      "[I 2023-06-28 11:50:29,313] Trial 8 finished with value: 0.6920310981535471 and parameters: {'iterations': 2183, 'max_depth': 9, 'learning_rate': 0.027653270093670468, 'subsample': 0.7682528312024255, 'l2_leaf_reg': 4, 'colsample_bylevel': 0.8136619404396057}. Best is trial 3 with value: 0.692810801569305.\n"
     ]
    },
    {
     "name": "stdout",
     "output_type": "stream",
     "text": [
      "Stopped by overfitting detector  (20 iterations wait)\n",
      "\n",
      "bestTest = 0.5876083274\n",
      "bestIteration = 107\n",
      "\n",
      "Shrink model to first 108 iterations.\n",
      "0:\tlearn: 0.6926893\ttest: 0.6927399\tbest: 0.6927399 (0)\ttotal: 22.4ms\tremaining: 32s\n",
      "100:\tlearn: 0.6551179\ttest: 0.6590321\tbest: 0.6590321 (100)\ttotal: 2.49s\tremaining: 32.8s\n",
      "200:\tlearn: 0.6288206\ttest: 0.6361605\tbest: 0.6361605 (200)\ttotal: 4.96s\tremaining: 30.4s\n",
      "300:\tlearn: 0.6098151\ttest: 0.6206500\tbest: 0.6206500 (300)\ttotal: 7.52s\tremaining: 28.2s\n",
      "400:\tlearn: 0.5959106\ttest: 0.6101945\tbest: 0.6101945 (400)\ttotal: 10s\tremaining: 25.7s\n",
      "500:\tlearn: 0.5852052\ttest: 0.6029748\tbest: 0.6029748 (500)\ttotal: 12.5s\tremaining: 23.2s\n",
      "600:\tlearn: 0.5768223\ttest: 0.5980553\tbest: 0.5980553 (600)\ttotal: 15s\tremaining: 20.7s\n",
      "700:\tlearn: 0.5702778\ttest: 0.5947620\tbest: 0.5947620 (700)\ttotal: 17.5s\tremaining: 18.2s\n",
      "800:\tlearn: 0.5647980\ttest: 0.5923869\tbest: 0.5923869 (800)\ttotal: 20.3s\tremaining: 16s\n",
      "900:\tlearn: 0.5599071\ttest: 0.5907034\tbest: 0.5907034 (900)\ttotal: 22.8s\tremaining: 13.4s\n",
      "1000:\tlearn: 0.5555771\ttest: 0.5896826\tbest: 0.5896826 (1000)\ttotal: 25.3s\tremaining: 10.8s\n",
      "1100:\tlearn: 0.5516466\ttest: 0.5889509\tbest: 0.5889493 (1099)\ttotal: 27.8s\tremaining: 8.3s\n",
      "1200:\tlearn: 0.5479806\ttest: 0.5884387\tbest: 0.5884343 (1199)\ttotal: 30.3s\tremaining: 5.77s\n",
      "1300:\tlearn: 0.5446628\ttest: 0.5880638\tbest: 0.5880564 (1299)\ttotal: 32.7s\tremaining: 3.24s\n",
      "1400:\tlearn: 0.5413620\ttest: 0.5878971\tbest: 0.5878939 (1395)\ttotal: 35.2s\tremaining: 728ms\n"
     ]
    },
    {
     "name": "stderr",
     "output_type": "stream",
     "text": [
      "[I 2023-06-28 11:51:05,572] Trial 9 finished with value: 0.6909252060612605 and parameters: {'iterations': 1430, 'max_depth': 8, 'learning_rate': 0.0018787080111952615, 'subsample': 0.8966878583386575, 'l2_leaf_reg': 2, 'colsample_bylevel': 0.9025153615914943}. Best is trial 3 with value: 0.692810801569305.\n"
     ]
    },
    {
     "name": "stdout",
     "output_type": "stream",
     "text": [
      "1429:\tlearn: 0.5405416\ttest: 0.5878921\tbest: 0.5878760 (1422)\ttotal: 35.9s\tremaining: 0us\n",
      "\n",
      "bestTest = 0.5878759502\n",
      "bestIteration = 1422\n",
      "\n",
      "Shrink model to first 1423 iterations.\n",
      "0:\tlearn: 0.6897743\ttest: 0.6901476\tbest: 0.6901476 (0)\ttotal: 31.8ms\tremaining: 2m 26s\n",
      "100:\tlearn: 0.5430590\ttest: 0.5933105\tbest: 0.5933105 (100)\ttotal: 3.12s\tremaining: 2m 19s\n",
      "200:\tlearn: 0.5000216\ttest: 0.5878006\tbest: 0.5877338 (198)\ttotal: 6.18s\tremaining: 2m 15s\n"
     ]
    },
    {
     "name": "stderr",
     "output_type": "stream",
     "text": [
      "[I 2023-06-28 11:51:12,786] Trial 10 finished with value: 0.6908802145196702 and parameters: {'iterations': 4605, 'max_depth': 10, 'learning_rate': 0.013512472001917426, 'subsample': 0.5006826117425562, 'l2_leaf_reg': 2, 'colsample_bylevel': 0.6534782181580616}. Best is trial 3 with value: 0.692810801569305.\n"
     ]
    },
    {
     "name": "stdout",
     "output_type": "stream",
     "text": [
      "Stopped by overfitting detector  (20 iterations wait)\n",
      "\n",
      "bestTest = 0.5876730291\n",
      "bestIteration = 208\n",
      "\n",
      "Shrink model to first 209 iterations.\n",
      "0:\tlearn: 0.6853964\ttest: 0.6870713\tbest: 0.6870713 (0)\ttotal: 35.8ms\tremaining: 2m 10s\n",
      "100:\tlearn: 0.5025716\ttest: 0.5874629\tbest: 0.5874146 (99)\ttotal: 3.44s\tremaining: 2m\n"
     ]
    },
    {
     "name": "stderr",
     "output_type": "stream",
     "text": [
      "[I 2023-06-28 11:51:17,065] Trial 11 finished with value: 0.6926258863333693 and parameters: {'iterations': 3652, 'max_depth': 10, 'learning_rate': 0.029904017867691098, 'subsample': 0.6989188650183323, 'l2_leaf_reg': 3, 'colsample_bylevel': 0.7425198749546853}. Best is trial 3 with value: 0.692810801569305.\n"
     ]
    },
    {
     "name": "stdout",
     "output_type": "stream",
     "text": [
      "Stopped by overfitting detector  (20 iterations wait)\n",
      "\n",
      "bestTest = 0.5874145773\n",
      "bestIteration = 99\n",
      "\n",
      "Shrink model to first 100 iterations.\n",
      "0:\tlearn: 0.6847619\ttest: 0.6859087\tbest: 0.6859087 (0)\ttotal: 30ms\tremaining: 1m 56s\n",
      "100:\tlearn: 0.4953535\ttest: 0.5878747\tbest: 0.5878747 (100)\ttotal: 3.46s\tremaining: 2m 9s\n"
     ]
    },
    {
     "name": "stderr",
     "output_type": "stream",
     "text": [
      "[I 2023-06-28 11:51:21,332] Trial 12 finished with value: 0.6914435086203793 and parameters: {'iterations': 3872, 'max_depth': 10, 'learning_rate': 0.03378400660960309, 'subsample': 0.6867456694733672, 'l2_leaf_reg': 3, 'colsample_bylevel': 0.6652077654750136}. Best is trial 3 with value: 0.692810801569305.\n"
     ]
    },
    {
     "name": "stdout",
     "output_type": "stream",
     "text": [
      "Stopped by overfitting detector  (20 iterations wait)\n",
      "\n",
      "bestTest = 0.5878746788\n",
      "bestIteration = 100\n",
      "\n",
      "Shrink model to first 101 iterations.\n",
      "0:\tlearn: 0.6745977\ttest: 0.6757974\tbest: 0.6757974 (0)\ttotal: 20.4ms\tremaining: 1m 16s\n"
     ]
    },
    {
     "name": "stderr",
     "output_type": "stream",
     "text": [
      "[I 2023-06-28 11:51:22,573] Trial 13 finished with value: 0.6908325234855848 and parameters: {'iterations': 3760, 'max_depth': 8, 'learning_rate': 0.08841337991335535, 'subsample': 0.5127699245063596, 'l2_leaf_reg': 3, 'colsample_bylevel': 0.7435714325377305}. Best is trial 3 with value: 0.692810801569305.\n"
     ]
    },
    {
     "name": "stdout",
     "output_type": "stream",
     "text": [
      "Stopped by overfitting detector  (20 iterations wait)\n",
      "\n",
      "bestTest = 0.5878574259\n",
      "bestIteration = 29\n",
      "\n",
      "Shrink model to first 30 iterations.\n",
      "0:\tlearn: 0.6903398\ttest: 0.6904762\tbest: 0.6904762 (0)\ttotal: 4.22ms\tremaining: 15.9s\n",
      "100:\tlearn: 0.5871252\ttest: 0.5970356\tbest: 0.5970356 (100)\ttotal: 393ms\tremaining: 14.2s\n",
      "200:\tlearn: 0.5731685\ttest: 0.5894705\tbest: 0.5894705 (200)\ttotal: 811ms\tremaining: 14.4s\n"
     ]
    },
    {
     "name": "stderr",
     "output_type": "stream",
     "text": [
      "[I 2023-06-28 11:51:23,971] Trial 14 finished with value: 0.6886679804196811 and parameters: {'iterations': 3762, 'max_depth': 4, 'learning_rate': 0.013564565465173886, 'subsample': 0.6953087387224633, 'l2_leaf_reg': 2, 'colsample_bylevel': 0.5939507848963208}. Best is trial 3 with value: 0.692810801569305.\n"
     ]
    },
    {
     "name": "stdout",
     "output_type": "stream",
     "text": [
      "300:\tlearn: 0.5677439\ttest: 0.5889674\tbest: 0.5888953 (282)\ttotal: 1.23s\tremaining: 14.2s\n",
      "Stopped by overfitting detector  (20 iterations wait)\n",
      "\n",
      "bestTest = 0.5888953443\n",
      "bestIteration = 282\n",
      "\n",
      "Shrink model to first 283 iterations.\n",
      "0:\tlearn: 0.6857858\ttest: 0.6865504\tbest: 0.6865504 (0)\ttotal: 18.4ms\tremaining: 1m 19s\n"
     ]
    },
    {
     "name": "stderr",
     "output_type": "stream",
     "text": [
      "[I 2023-06-28 11:51:25,795] Trial 15 finished with value: 0.6915631861210092 and parameters: {'iterations': 4313, 'max_depth': 8, 'learning_rate': 0.03263465407542783, 'subsample': 0.5501721630399606, 'l2_leaf_reg': 3, 'colsample_bylevel': 0.5182408424022965}. Best is trial 3 with value: 0.692810801569305.\n"
     ]
    },
    {
     "name": "stdout",
     "output_type": "stream",
     "text": [
      "Stopped by overfitting detector  (20 iterations wait)\n",
      "\n",
      "bestTest = 0.5873990358\n",
      "bestIteration = 71\n",
      "\n",
      "Shrink model to first 72 iterations.\n",
      "0:\tlearn: 0.6916380\ttest: 0.6917327\tbest: 0.6917327 (0)\ttotal: 3.53ms\tremaining: 11.3s\n",
      "100:\tlearn: 0.6081803\ttest: 0.6134872\tbest: 0.6134872 (100)\ttotal: 354ms\tremaining: 10.9s\n",
      "200:\tlearn: 0.5865611\ttest: 0.5958105\tbest: 0.5958105 (200)\ttotal: 733ms\tremaining: 11s\n",
      "300:\tlearn: 0.5789598\ttest: 0.5912286\tbest: 0.5912286 (300)\ttotal: 1.1s\tremaining: 10.6s\n",
      "400:\tlearn: 0.5752403\ttest: 0.5898358\tbest: 0.5898350 (399)\ttotal: 1.46s\tremaining: 10.2s\n",
      "500:\tlearn: 0.5729146\ttest: 0.5893731\tbest: 0.5893404 (499)\ttotal: 1.82s\tremaining: 9.82s\n",
      "Stopped by overfitting detector  (20 iterations wait)\n",
      "\n",
      "bestTest = 0.5892669977\n",
      "bestIteration = 528\n",
      "\n",
      "Shrink model to first 529 iterations.\n"
     ]
    },
    {
     "name": "stderr",
     "output_type": "stream",
     "text": [
      "[I 2023-06-28 11:51:27,964] Trial 16 finished with value: 0.6879980563654033 and parameters: {'iterations': 3205, 'max_depth': 3, 'learning_rate': 0.007913715677226159, 'subsample': 0.6744467711696859, 'l2_leaf_reg': 1, 'colsample_bylevel': 0.7623258687632781}. Best is trial 3 with value: 0.692810801569305.\n"
     ]
    },
    {
     "name": "stdout",
     "output_type": "stream",
     "text": [
      "0:\tlearn: 0.6804713\ttest: 0.6820335\tbest: 0.6820335 (0)\ttotal: 30.1ms\tremaining: 1m 40s\n"
     ]
    },
    {
     "name": "stderr",
     "output_type": "stream",
     "text": [
      "[I 2023-06-28 11:51:30,251] Trial 17 finished with value: 0.6946158622179031 and parameters: {'iterations': 3358, 'max_depth': 10, 'learning_rate': 0.05245000563306037, 'subsample': 0.5694730982549754, 'l2_leaf_reg': 4, 'colsample_bylevel': 0.6511533476707224}. Best is trial 17 with value: 0.6946158622179031.\n"
     ]
    },
    {
     "name": "stdout",
     "output_type": "stream",
     "text": [
      "Stopped by overfitting detector  (20 iterations wait)\n",
      "\n",
      "bestTest = 0.5867854283\n",
      "bestIteration = 49\n",
      "\n",
      "Shrink model to first 50 iterations.\n",
      "0:\tlearn: 0.6813806\ttest: 0.6822173\tbest: 0.6822173 (0)\ttotal: 10.9ms\tremaining: 53.6s\n"
     ]
    },
    {
     "name": "stderr",
     "output_type": "stream",
     "text": [
      "[I 2023-06-28 11:51:31,514] Trial 18 finished with value: 0.693140589569161 and parameters: {'iterations': 4903, 'max_depth': 7, 'learning_rate': 0.055584243054184274, 'subsample': 0.5686512062206756, 'l2_leaf_reg': 4, 'colsample_bylevel': 0.6118153097946595}. Best is trial 17 with value: 0.6946158622179031.\n"
     ]
    },
    {
     "name": "stdout",
     "output_type": "stream",
     "text": [
      "Stopped by overfitting detector  (20 iterations wait)\n",
      "\n",
      "bestTest = 0.5870961738\n",
      "bestIteration = 75\n",
      "\n",
      "Shrink model to first 76 iterations.\n",
      "0:\tlearn: 0.6800489\ttest: 0.6809328\tbest: 0.6809328 (0)\ttotal: 10.5ms\tremaining: 51.4s\n"
     ]
    },
    {
     "name": "stderr",
     "output_type": "stream",
     "text": [
      "[I 2023-06-28 11:51:32,639] Trial 19 finished with value: 0.6909836950653278 and parameters: {'iterations': 4899, 'max_depth': 7, 'learning_rate': 0.0613651840836494, 'subsample': 0.5701633387576897, 'l2_leaf_reg': 4, 'colsample_bylevel': 0.6548949610256509}. Best is trial 17 with value: 0.6946158622179031.\n"
     ]
    },
    {
     "name": "stdout",
     "output_type": "stream",
     "text": [
      "Stopped by overfitting detector  (20 iterations wait)\n",
      "\n",
      "bestTest = 0.5879986848\n",
      "bestIteration = 62\n",
      "\n",
      "Shrink model to first 63 iterations.\n",
      "0:\tlearn: 0.6826961\ttest: 0.6831466\tbest: 0.6831466 (0)\ttotal: 3.75ms\tremaining: 9.71s\n"
     ]
    },
    {
     "name": "stderr",
     "output_type": "stream",
     "text": [
      "[I 2023-06-28 11:51:33,187] Trial 20 finished with value: 0.6873915703847676 and parameters: {'iterations': 2589, 'max_depth': 3, 'learning_rate': 0.05331260892701071, 'subsample': 0.5576568153781408, 'l2_leaf_reg': 4, 'colsample_bylevel': 0.5724639728051835}. Best is trial 17 with value: 0.6946158622179031.\n"
     ]
    },
    {
     "name": "stdout",
     "output_type": "stream",
     "text": [
      "100:\tlearn: 0.5706290\ttest: 0.5896788\tbest: 0.5896788 (100)\ttotal: 340ms\tremaining: 8.38s\n",
      "Stopped by overfitting detector  (20 iterations wait)\n",
      "\n",
      "bestTest = 0.5895570412\n",
      "bestIteration = 103\n",
      "\n",
      "Shrink model to first 104 iterations.\n",
      "0:\tlearn: 0.6702228\ttest: 0.6737096\tbest: 0.6737096 (0)\ttotal: 31.6ms\tremaining: 2m 13s\n"
     ]
    },
    {
     "name": "stderr",
     "output_type": "stream",
     "text": [
      "[I 2023-06-28 11:51:34,695] Trial 21 finished with value: 0.6876916639671742 and parameters: {'iterations': 4209, 'max_depth': 9, 'learning_rate': 0.09897813977605364, 'subsample': 0.5165521716532657, 'l2_leaf_reg': 4, 'colsample_bylevel': 0.613245453659078}. Best is trial 17 with value: 0.6946158622179031.\n"
     ]
    },
    {
     "name": "stdout",
     "output_type": "stream",
     "text": [
      "Stopped by overfitting detector  (20 iterations wait)\n",
      "\n",
      "bestTest = 0.5897023262\n",
      "bestIteration = 20\n",
      "\n",
      "Shrink model to first 21 iterations.\n",
      "0:\tlearn: 0.6810326\ttest: 0.6819820\tbest: 0.6819820 (0)\ttotal: 12.3ms\tremaining: 1m 1s\n"
     ]
    },
    {
     "name": "stderr",
     "output_type": "stream",
     "text": [
      "[I 2023-06-28 11:51:35,737] Trial 22 finished with value: 0.691999154159018 and parameters: {'iterations': 4989, 'max_depth': 7, 'learning_rate': 0.05860785982325291, 'subsample': 0.6329720658452447, 'l2_leaf_reg': 4, 'colsample_bylevel': 0.624031719881472}. Best is trial 17 with value: 0.6946158622179031.\n"
     ]
    },
    {
     "name": "stdout",
     "output_type": "stream",
     "text": [
      "Stopped by overfitting detector  (20 iterations wait)\n",
      "\n",
      "bestTest = 0.5872930195\n",
      "bestIteration = 55\n",
      "\n",
      "Shrink model to first 56 iterations.\n",
      "0:\tlearn: 0.6814200\ttest: 0.6835975\tbest: 0.6835975 (0)\ttotal: 28.7ms\tremaining: 1m 36s\n"
     ]
    },
    {
     "name": "stderr",
     "output_type": "stream",
     "text": [
      "[I 2023-06-28 11:51:38,122] Trial 23 finished with value: 0.6917044595616024 and parameters: {'iterations': 3352, 'max_depth': 10, 'learning_rate': 0.045047223847806926, 'subsample': 0.5713084840782078, 'l2_leaf_reg': 3, 'colsample_bylevel': 0.5604799256715612}. Best is trial 17 with value: 0.6946158622179031.\n"
     ]
    },
    {
     "name": "stdout",
     "output_type": "stream",
     "text": [
      "Stopped by overfitting detector  (20 iterations wait)\n",
      "\n",
      "bestTest = 0.587344275\n",
      "bestIteration = 58\n",
      "\n",
      "Shrink model to first 59 iterations.\n",
      "0:\tlearn: 0.6879025\ttest: 0.6885522\tbest: 0.6885522 (0)\ttotal: 30ms\tremaining: 2m 6s\n",
      "100:\tlearn: 0.5423329\ttest: 0.5893844\tbest: 0.5893208 (98)\ttotal: 3.08s\tremaining: 2m 5s\n"
     ]
    },
    {
     "name": "stderr",
     "output_type": "stream",
     "text": [
      "[I 2023-06-28 11:51:43,069] Trial 24 finished with value: 0.6899200950221358 and parameters: {'iterations': 4225, 'max_depth': 9, 'learning_rate': 0.021529623834013217, 'subsample': 0.5411150373119769, 'l2_leaf_reg': 4, 'colsample_bylevel': 0.5289600942722118}. Best is trial 17 with value: 0.6946158622179031.\n"
     ]
    },
    {
     "name": "stdout",
     "output_type": "stream",
     "text": [
      "Stopped by overfitting detector  (20 iterations wait)\n",
      "\n",
      "bestTest = 0.5884317948\n",
      "bestIteration = 136\n",
      "\n",
      "Shrink model to first 137 iterations.\n",
      "0:\tlearn: 0.6825845\ttest: 0.6833261\tbest: 0.6833261 (0)\ttotal: 17.2ms\tremaining: 1m 20s\n"
     ]
    },
    {
     "name": "stderr",
     "output_type": "stream",
     "text": [
      "[I 2023-06-28 11:51:44,054] Trial 25 finished with value: 0.6884182773638556 and parameters: {'iterations': 4645, 'max_depth': 7, 'learning_rate': 0.04751891408896225, 'subsample': 0.58564313631626, 'l2_leaf_reg': 3, 'colsample_bylevel': 0.616089292097548}. Best is trial 17 with value: 0.6946158622179031.\n"
     ]
    },
    {
     "name": "stdout",
     "output_type": "stream",
     "text": [
      "Stopped by overfitting detector  (20 iterations wait)\n",
      "\n",
      "bestTest = 0.5890760015\n",
      "bestIteration = 51\n",
      "\n",
      "Shrink model to first 52 iterations.\n",
      "0:\tlearn: 0.6886438\ttest: 0.6889181\tbest: 0.6889181 (0)\ttotal: 15.8ms\tremaining: 54.5s\n",
      "100:\tlearn: 0.5552093\ttest: 0.5891222\tbest: 0.5891222 (100)\ttotal: 1.8s\tremaining: 1m\n"
     ]
    },
    {
     "name": "stderr",
     "output_type": "stream",
     "text": [
      "[I 2023-06-28 11:51:47,563] Trial 26 finished with value: 0.6917431522873699 and parameters: {'iterations': 3458, 'max_depth': 8, 'learning_rate': 0.02086770686016944, 'subsample': 0.538822093340635, 'l2_leaf_reg': 4, 'colsample_bylevel': 0.5068037964257062}. Best is trial 17 with value: 0.6946158622179031.\n"
     ]
    },
    {
     "name": "stdout",
     "output_type": "stream",
     "text": [
      "Stopped by overfitting detector  (20 iterations wait)\n",
      "\n",
      "bestTest = 0.5873345095\n",
      "bestIteration = 163\n",
      "\n",
      "Shrink model to first 164 iterations.\n",
      "0:\tlearn: 0.6847725\ttest: 0.6851774\tbest: 0.6851774 (0)\ttotal: 5.77ms\tremaining: 23.3s\n"
     ]
    },
    {
     "name": "stderr",
     "output_type": "stream",
     "text": [
      "[I 2023-06-28 11:51:48,256] Trial 27 finished with value: 0.6873371306194436 and parameters: {'iterations': 4045, 'max_depth': 5, 'learning_rate': 0.04158958586260719, 'subsample': 0.6411350226832491, 'l2_leaf_reg': 3, 'colsample_bylevel': 0.5682513461720936}. Best is trial 17 with value: 0.6946158622179031.\n"
     ]
    },
    {
     "name": "stdout",
     "output_type": "stream",
     "text": [
      "100:\tlearn: 0.5620447\ttest: 0.5894854\tbest: 0.5893712 (92)\ttotal: 486ms\tremaining: 19s\n",
      "Stopped by overfitting detector  (20 iterations wait)\n",
      "\n",
      "bestTest = 0.5893711739\n",
      "bestIteration = 92\n",
      "\n",
      "Shrink model to first 93 iterations.\n",
      "0:\tlearn: 0.6769582\ttest: 0.6784284\tbest: 0.6784284 (0)\ttotal: 32.9ms\tremaining: 2m 28s\n"
     ]
    },
    {
     "name": "stderr",
     "output_type": "stream",
     "text": [
      "[I 2023-06-28 11:51:50,399] Trial 28 finished with value: 0.693512219702696 and parameters: {'iterations': 4519, 'max_depth': 9, 'learning_rate': 0.07237905435337169, 'subsample': 0.5915495955915966, 'l2_leaf_reg': 2, 'colsample_bylevel': 0.680577546919944}. Best is trial 17 with value: 0.6946158622179031.\n"
     ]
    },
    {
     "name": "stdout",
     "output_type": "stream",
     "text": [
      "Stopped by overfitting detector  (20 iterations wait)\n",
      "\n",
      "bestTest = 0.5875194916\n",
      "bestIteration = 34\n",
      "\n",
      "Shrink model to first 35 iterations.\n",
      "0:\tlearn: 0.6787620\ttest: 0.6794210\tbest: 0.6794210 (0)\ttotal: 11.4ms\tremaining: 51.8s\n"
     ]
    },
    {
     "name": "stderr",
     "output_type": "stream",
     "text": [
      "[I 2023-06-28 11:51:51,496] Trial 29 finished with value: 0.6918119893460029 and parameters: {'iterations': 4531, 'max_depth': 7, 'learning_rate': 0.06825298814411629, 'subsample': 0.5920701179196562, 'l2_leaf_reg': 2, 'colsample_bylevel': 0.692643576990237}. Best is trial 17 with value: 0.6946158622179031.\n"
     ]
    },
    {
     "name": "stdout",
     "output_type": "stream",
     "text": [
      "Stopped by overfitting detector  (20 iterations wait)\n",
      "\n",
      "bestTest = 0.5880323992\n",
      "bestIteration = 54\n",
      "\n",
      "Shrink model to first 55 iterations.\n"
     ]
    }
   ],
   "source": [
    "def objective_cb_ec1(trial):\n",
    "    iterations = trial.suggest_int('iterations', 1000,5000)\n",
    "    max_depth = trial.suggest_int(\"max_depth\", 1,10)\n",
    "    l_rate = trial.suggest_float('learning_rate', 0.001, 0.1,log=True)\n",
    "    subsample =  trial.suggest_float('subsample', 0.5, 1.0)\n",
    "    l2_leaf_reg = trial.suggest_int(\"l2_leaf_reg\", 0.0, 4)\n",
    "    colsample_bylevel =  trial.suggest_float('colsample_bylevel', 0.5, 1.0)\n",
    "\n",
    "    cb = CatBoostClassifier(\n",
    "            iterations =iterations,\n",
    "            max_depth=max_depth, \n",
    "            learning_rate = l_rate,\n",
    "            subsample = subsample,\n",
    "            l2_leaf_reg = l2_leaf_reg,\n",
    "            colsample_bylevel = colsample_bylevel\n",
    "        )\n",
    "    \n",
    "    cb.fit(x_train, y_train['EC1'], eval_set=[(x_val, y_val['EC1'])], early_stopping_rounds=20, verbose=100)\n",
    "\n",
    "    y_pred_proba = cb.predict_proba(x_val)[:, 1]\n",
    "    roc_auc = roc_auc_score(y_val['EC1'], y_pred_proba)\n",
    "    return roc_auc\n",
    "study_cb_ec1 = optuna.create_study(direction=\"maximize\")\n",
    "study_cb_ec1.optimize(objective_cb_ec1, n_trials=30)"
   ]
  },
  {
   "cell_type": "code",
   "execution_count": 21,
   "id": "902246ae",
   "metadata": {
    "execution": {
     "iopub.execute_input": "2023-06-28T11:51:51.646772Z",
     "iopub.status.busy": "2023-06-28T11:51:51.645822Z",
     "iopub.status.idle": "2023-06-28T11:51:51.653570Z",
     "shell.execute_reply": "2023-06-28T11:51:51.652211Z"
    },
    "papermill": {
     "duration": 0.078971,
     "end_time": "2023-06-28T11:51:51.656154",
     "exception": false,
     "start_time": "2023-06-28T11:51:51.577183",
     "status": "completed"
    },
    "tags": []
   },
   "outputs": [
    {
     "name": "stdout",
     "output_type": "stream",
     "text": [
      "ROC_AUC Score: 0.6946158622179031\n",
      "Best hyperparameters: {'iterations': 3358, 'max_depth': 10, 'learning_rate': 0.05245000563306037, 'subsample': 0.5694730982549754, 'l2_leaf_reg': 4, 'colsample_bylevel': 0.6511533476707224}\n"
     ]
    }
   ],
   "source": [
    "trial_cb_ec1 = study_cb_ec1.best_trial\n",
    "print('ROC_AUC Score: {}'.format(trial_cb_ec1.value))\n",
    "print(\"Best hyperparameters: {}\".format(trial_cb_ec1.params))"
   ]
  },
  {
   "cell_type": "code",
   "execution_count": 22,
   "id": "3a252b2e",
   "metadata": {
    "collapsed": true,
    "execution": {
     "iopub.execute_input": "2023-06-28T11:51:51.777644Z",
     "iopub.status.busy": "2023-06-28T11:51:51.776774Z",
     "iopub.status.idle": "2023-06-28T11:53:37.362270Z",
     "shell.execute_reply": "2023-06-28T11:53:37.361410Z"
    },
    "jupyter": {
     "outputs_hidden": true
    },
    "papermill": {
     "duration": 105.652208,
     "end_time": "2023-06-28T11:53:37.364994",
     "exception": false,
     "start_time": "2023-06-28T11:51:51.712786",
     "status": "completed"
    },
    "tags": []
   },
   "outputs": [
    {
     "name": "stderr",
     "output_type": "stream",
     "text": [
      "[I 2023-06-28 11:51:51,784] A new study created in memory with name: no-name-2ef585f6-21a4-4c25-8cd2-801ce8bea9a1\n"
     ]
    },
    {
     "name": "stdout",
     "output_type": "stream",
     "text": [
      "0:\tlearn: 0.6641163\ttest: 0.6638140\tbest: 0.6638140 (0)\ttotal: 2.89ms\tremaining: 13.4s\n"
     ]
    },
    {
     "name": "stderr",
     "output_type": "stream",
     "text": [
      "[I 2023-06-28 11:51:52,296] Trial 0 finished with value: 0.5810103542097043 and parameters: {'iterations': 4648, 'max_depth': 1, 'learning_rate': 0.07492650799733089, 'subsample': 0.8895186900831222, 'l2_leaf_reg': 1, 'colsample_bylevel': 0.9634452854503879}. Best is trial 0 with value: 0.5810103542097043.\n"
     ]
    },
    {
     "name": "stdout",
     "output_type": "stream",
     "text": [
      "100:\tlearn: 0.4975146\ttest: 0.4949140\tbest: 0.4947522 (90)\ttotal: 290ms\tremaining: 13.1s\n",
      "Stopped by overfitting detector  (20 iterations wait)\n",
      "\n",
      "bestTest = 0.494603017\n",
      "bestIteration = 118\n",
      "\n",
      "Shrink model to first 119 iterations.\n",
      "0:\tlearn: 0.6633978\ttest: 0.6633002\tbest: 0.6633002 (0)\ttotal: 8.57ms\tremaining: 23s\n"
     ]
    },
    {
     "name": "stderr",
     "output_type": "stream",
     "text": [
      "[I 2023-06-28 11:51:52,830] Trial 1 finished with value: 0.5771363430241346 and parameters: {'iterations': 2688, 'max_depth': 6, 'learning_rate': 0.07530826804967497, 'subsample': 0.5045381625066584, 'l2_leaf_reg': 2, 'colsample_bylevel': 0.8746288080083596}. Best is trial 0 with value: 0.5810103542097043.\n"
     ]
    },
    {
     "name": "stdout",
     "output_type": "stream",
     "text": [
      "Stopped by overfitting detector  (20 iterations wait)\n",
      "\n",
      "bestTest = 0.4956196674\n",
      "bestIteration = 38\n",
      "\n",
      "Shrink model to first 39 iterations.\n",
      "0:\tlearn: 0.6878830\ttest: 0.6878284\tbest: 0.6878284 (0)\ttotal: 2.89ms\tremaining: 6.52s\n",
      "100:\tlearn: 0.5146940\ttest: 0.5121783\tbest: 0.5121783 (100)\ttotal: 253ms\tremaining: 5.41s\n",
      "200:\tlearn: 0.5021748\ttest: 0.4983777\tbest: 0.4983777 (200)\ttotal: 501ms\tremaining: 5.13s\n",
      "300:\tlearn: 0.4998236\ttest: 0.4961197\tbest: 0.4961197 (300)\ttotal: 738ms\tremaining: 4.8s\n",
      "400:\tlearn: 0.4986565\ttest: 0.4952217\tbest: 0.4952066 (399)\ttotal: 971ms\tremaining: 4.5s\n",
      "500:\tlearn: 0.4978634\ttest: 0.4946692\tbest: 0.4946666 (494)\ttotal: 1.21s\tremaining: 4.25s\n",
      "600:\tlearn: 0.4972038\ttest: 0.4944085\tbest: 0.4944085 (600)\ttotal: 1.44s\tremaining: 3.98s\n"
     ]
    },
    {
     "name": "stderr",
     "output_type": "stream",
     "text": [
      "[I 2023-06-28 11:51:54,674] Trial 2 finished with value: 0.5827089736484103 and parameters: {'iterations': 2259, 'max_depth': 1, 'learning_rate': 0.013104366237859, 'subsample': 0.8870429252902343, 'l2_leaf_reg': 2, 'colsample_bylevel': 0.7014644713191125}. Best is trial 2 with value: 0.5827089736484103.\n"
     ]
    },
    {
     "name": "stdout",
     "output_type": "stream",
     "text": [
      "700:\tlearn: 0.4964866\ttest: 0.4941399\tbest: 0.4941234 (681)\ttotal: 1.69s\tremaining: 3.76s\n",
      "Stopped by overfitting detector  (20 iterations wait)\n",
      "\n",
      "bestTest = 0.4941233654\n",
      "bestIteration = 681\n",
      "\n",
      "Shrink model to first 682 iterations.\n",
      "0:\tlearn: 0.6925852\ttest: 0.6925906\tbest: 0.6925906 (0)\ttotal: 7.32ms\tremaining: 31s\n",
      "100:\tlearn: 0.6436880\ttest: 0.6438478\tbest: 0.6438478 (100)\ttotal: 653ms\tremaining: 26.7s\n",
      "200:\tlearn: 0.6070967\ttest: 0.6074309\tbest: 0.6074309 (200)\ttotal: 1.31s\tremaining: 26.3s\n",
      "300:\tlearn: 0.5796184\ttest: 0.5800468\tbest: 0.5800468 (300)\ttotal: 1.99s\tremaining: 26.1s\n",
      "400:\tlearn: 0.5590139\ttest: 0.5596321\tbest: 0.5596321 (400)\ttotal: 2.65s\tremaining: 25.3s\n",
      "500:\tlearn: 0.5434040\ttest: 0.5443156\tbest: 0.5443156 (500)\ttotal: 3.32s\tremaining: 24.7s\n",
      "600:\tlearn: 0.5313628\ttest: 0.5325659\tbest: 0.5325659 (600)\ttotal: 3.97s\tremaining: 24s\n",
      "700:\tlearn: 0.5221178\ttest: 0.5236782\tbest: 0.5236782 (700)\ttotal: 4.63s\tremaining: 23.4s\n",
      "800:\tlearn: 0.5149998\ttest: 0.5169463\tbest: 0.5169463 (800)\ttotal: 5.29s\tremaining: 22.7s\n",
      "900:\tlearn: 0.5094804\ttest: 0.5118280\tbest: 0.5118280 (900)\ttotal: 5.95s\tremaining: 22s\n",
      "1000:\tlearn: 0.5050555\ttest: 0.5078528\tbest: 0.5078528 (1000)\ttotal: 6.61s\tremaining: 21.4s\n",
      "1100:\tlearn: 0.5014845\ttest: 0.5047834\tbest: 0.5047834 (1100)\ttotal: 7.27s\tremaining: 20.7s\n",
      "1200:\tlearn: 0.4985915\ttest: 0.5024155\tbest: 0.5024155 (1200)\ttotal: 7.93s\tremaining: 20s\n",
      "1300:\tlearn: 0.4962183\ttest: 0.5006295\tbest: 0.5006295 (1300)\ttotal: 8.59s\tremaining: 19.4s\n",
      "1400:\tlearn: 0.4941653\ttest: 0.4992088\tbest: 0.4992088 (1400)\ttotal: 9.26s\tremaining: 18.7s\n",
      "1500:\tlearn: 0.4923399\ttest: 0.4981101\tbest: 0.4981101 (1500)\ttotal: 9.91s\tremaining: 18.1s\n",
      "1600:\tlearn: 0.4908024\ttest: 0.4972512\tbest: 0.4972512 (1600)\ttotal: 10.6s\tremaining: 17.4s\n",
      "1700:\tlearn: 0.4893845\ttest: 0.4966062\tbest: 0.4966062 (1700)\ttotal: 11.2s\tremaining: 16.7s\n",
      "1800:\tlearn: 0.4880737\ttest: 0.4960771\tbest: 0.4960771 (1800)\ttotal: 11.9s\tremaining: 16.1s\n",
      "1900:\tlearn: 0.4869315\ttest: 0.4956679\tbest: 0.4956675 (1899)\ttotal: 12.6s\tremaining: 15.5s\n",
      "2000:\tlearn: 0.4858190\ttest: 0.4952891\tbest: 0.4952891 (2000)\ttotal: 13.3s\tremaining: 14.8s\n",
      "2100:\tlearn: 0.4847707\ttest: 0.4949956\tbest: 0.4949909 (2098)\ttotal: 13.9s\tremaining: 14.1s\n",
      "2200:\tlearn: 0.4837982\ttest: 0.4947740\tbest: 0.4947740 (2200)\ttotal: 14.6s\tremaining: 13.5s\n",
      "2300:\tlearn: 0.4827827\ttest: 0.4946218\tbest: 0.4946218 (2300)\ttotal: 15.3s\tremaining: 12.8s\n",
      "2400:\tlearn: 0.4818431\ttest: 0.4944980\tbest: 0.4944950 (2393)\ttotal: 15.9s\tremaining: 12.2s\n",
      "2500:\tlearn: 0.4809581\ttest: 0.4944123\tbest: 0.4944103 (2488)\ttotal: 16.6s\tremaining: 11.5s\n"
     ]
    },
    {
     "name": "stderr",
     "output_type": "stream",
     "text": [
      "[I 2023-06-28 11:52:12,007] Trial 3 finished with value: 0.5838149342469894 and parameters: {'iterations': 4235, 'max_depth': 6, 'learning_rate': 0.0013462561433731316, 'subsample': 0.5369079665219678, 'l2_leaf_reg': 1, 'colsample_bylevel': 0.7358949425343518}. Best is trial 3 with value: 0.5838149342469894.\n"
     ]
    },
    {
     "name": "stdout",
     "output_type": "stream",
     "text": [
      "Stopped by overfitting detector  (20 iterations wait)\n",
      "\n",
      "bestTest = 0.4943813295\n",
      "bestIteration = 2522\n",
      "\n",
      "Shrink model to first 2523 iterations.\n",
      "0:\tlearn: 0.6924858\ttest: 0.6924786\tbest: 0.6924786 (0)\ttotal: 4.99ms\tremaining: 24.4s\n",
      "100:\tlearn: 0.6366197\ttest: 0.6363000\tbest: 0.6363000 (100)\ttotal: 380ms\tremaining: 18s\n",
      "200:\tlearn: 0.5972453\ttest: 0.5966248\tbest: 0.5966248 (200)\ttotal: 769ms\tremaining: 18s\n",
      "300:\tlearn: 0.5694827\ttest: 0.5685295\tbest: 0.5685295 (300)\ttotal: 1.14s\tremaining: 17.4s\n",
      "400:\tlearn: 0.5496808\ttest: 0.5484884\tbest: 0.5484884 (400)\ttotal: 1.53s\tremaining: 17.1s\n",
      "500:\tlearn: 0.5356553\ttest: 0.5343073\tbest: 0.5343073 (500)\ttotal: 1.91s\tremaining: 16.7s\n",
      "600:\tlearn: 0.5255553\ttest: 0.5241005\tbest: 0.5241005 (600)\ttotal: 2.3s\tremaining: 16.4s\n",
      "700:\tlearn: 0.5182347\ttest: 0.5166945\tbest: 0.5166945 (700)\ttotal: 2.68s\tremaining: 16s\n",
      "800:\tlearn: 0.5129181\ttest: 0.5113105\tbest: 0.5113105 (800)\ttotal: 3.07s\tremaining: 15.7s\n",
      "900:\tlearn: 0.5089642\ttest: 0.5072333\tbest: 0.5072333 (900)\ttotal: 3.45s\tremaining: 15.3s\n",
      "1000:\tlearn: 0.5060716\ttest: 0.5042477\tbest: 0.5042477 (1000)\ttotal: 3.83s\tremaining: 14.9s\n",
      "1100:\tlearn: 0.5038358\ttest: 0.5019570\tbest: 0.5019570 (1100)\ttotal: 4.22s\tremaining: 14.5s\n",
      "1200:\tlearn: 0.5021547\ttest: 0.5002621\tbest: 0.5002621 (1200)\ttotal: 4.62s\tremaining: 14.2s\n",
      "1300:\tlearn: 0.5008096\ttest: 0.4989108\tbest: 0.4989108 (1300)\ttotal: 4.97s\tremaining: 13.7s\n",
      "1400:\tlearn: 0.4997763\ttest: 0.4979194\tbest: 0.4979194 (1400)\ttotal: 5.35s\tremaining: 13.3s\n",
      "1500:\tlearn: 0.4988829\ttest: 0.4970646\tbest: 0.4970646 (1500)\ttotal: 5.73s\tremaining: 12.9s\n",
      "1600:\tlearn: 0.4981483\ttest: 0.4964368\tbest: 0.4964368 (1600)\ttotal: 6.1s\tremaining: 12.5s\n",
      "1700:\tlearn: 0.4975051\ttest: 0.4959094\tbest: 0.4959094 (1700)\ttotal: 6.47s\tremaining: 12.1s\n",
      "1800:\tlearn: 0.4969398\ttest: 0.4955645\tbest: 0.4955645 (1800)\ttotal: 6.84s\tremaining: 11.7s\n",
      "1900:\tlearn: 0.4964286\ttest: 0.4952463\tbest: 0.4952463 (1900)\ttotal: 7.22s\tremaining: 11.4s\n",
      "2000:\tlearn: 0.4959478\ttest: 0.4950121\tbest: 0.4950121 (2000)\ttotal: 7.61s\tremaining: 11s\n",
      "2100:\tlearn: 0.4954857\ttest: 0.4947813\tbest: 0.4947813 (2100)\ttotal: 7.99s\tremaining: 10.6s\n",
      "2200:\tlearn: 0.4950718\ttest: 0.4946526\tbest: 0.4946502 (2198)\ttotal: 8.37s\tremaining: 10.2s\n",
      "2300:\tlearn: 0.4946759\ttest: 0.4945353\tbest: 0.4945353 (2300)\ttotal: 8.76s\tremaining: 9.87s\n",
      "2400:\tlearn: 0.4943187\ttest: 0.4944664\tbest: 0.4944604 (2393)\ttotal: 9.15s\tremaining: 9.49s\n",
      "2500:\tlearn: 0.4939486\ttest: 0.4943869\tbest: 0.4943858 (2489)\ttotal: 9.54s\tremaining: 9.12s\n"
     ]
    },
    {
     "name": "stderr",
     "output_type": "stream",
     "text": [
      "[I 2023-06-28 11:52:22,291] Trial 4 finished with value: 0.585200534085756 and parameters: {'iterations': 4892, 'max_depth': 3, 'learning_rate': 0.0016164103104649523, 'subsample': 0.9984035983335284, 'l2_leaf_reg': 1, 'colsample_bylevel': 0.7328733212147529}. Best is trial 4 with value: 0.585200534085756.\n"
     ]
    },
    {
     "name": "stdout",
     "output_type": "stream",
     "text": [
      "Stopped by overfitting detector  (20 iterations wait)\n",
      "\n",
      "bestTest = 0.494309987\n",
      "bestIteration = 2566\n",
      "\n",
      "Shrink model to first 2567 iterations.\n",
      "0:\tlearn: 0.6845616\ttest: 0.6844754\tbest: 0.6844754 (0)\ttotal: 4.7ms\tremaining: 7.84s\n",
      "100:\tlearn: 0.4987344\ttest: 0.4979977\tbest: 0.4979977 (100)\ttotal: 435ms\tremaining: 6.75s\n"
     ]
    },
    {
     "name": "stderr",
     "output_type": "stream",
     "text": [
      "[I 2023-06-28 11:52:23,425] Trial 5 finished with value: 0.58922696125359 and parameters: {'iterations': 1667, 'max_depth': 4, 'learning_rate': 0.021384282250111835, 'subsample': 0.9006698433122898, 'l2_leaf_reg': 4, 'colsample_bylevel': 0.666691205671643}. Best is trial 5 with value: 0.58922696125359.\n"
     ]
    },
    {
     "name": "stdout",
     "output_type": "stream",
     "text": [
      "200:\tlearn: 0.4901460\ttest: 0.4937315\tbest: 0.4937171 (199)\ttotal: 900ms\tremaining: 6.57s\n",
      "Stopped by overfitting detector  (20 iterations wait)\n",
      "\n",
      "bestTest = 0.4936266565\n",
      "bestIteration = 204\n",
      "\n",
      "Shrink model to first 205 iterations.\n",
      "0:\tlearn: 0.6816923\ttest: 0.6817695\tbest: 0.6817695 (0)\ttotal: 36.8ms\tremaining: 2m 30s\n",
      "100:\tlearn: 0.4523880\ttest: 0.4954067\tbest: 0.4952973 (97)\ttotal: 3.84s\tremaining: 2m 32s\n"
     ]
    },
    {
     "name": "stderr",
     "output_type": "stream",
     "text": [
      "[I 2023-06-28 11:52:30,238] Trial 6 finished with value: 0.5821963017080667 and parameters: {'iterations': 4103, 'max_depth': 9, 'learning_rate': 0.027119305133658407, 'subsample': 0.9115435815954587, 'l2_leaf_reg': 1, 'colsample_bylevel': 0.644469566743965}. Best is trial 5 with value: 0.58922696125359.\n"
     ]
    },
    {
     "name": "stdout",
     "output_type": "stream",
     "text": [
      "Stopped by overfitting detector  (20 iterations wait)\n",
      "\n",
      "bestTest = 0.4941399111\n",
      "bestIteration = 160\n",
      "\n",
      "Shrink model to first 161 iterations.\n",
      "0:\tlearn: 0.6919086\ttest: 0.6919010\tbest: 0.6919010 (0)\ttotal: 3.83ms\tremaining: 12.4s\n",
      "100:\tlearn: 0.6015068\ttest: 0.6009170\tbest: 0.6009170 (100)\ttotal: 337ms\tremaining: 10.5s\n",
      "200:\tlearn: 0.5543252\ttest: 0.5531710\tbest: 0.5531710 (200)\ttotal: 693ms\tremaining: 10.5s\n",
      "300:\tlearn: 0.5290771\ttest: 0.5275610\tbest: 0.5275610 (300)\ttotal: 1.07s\tremaining: 10.4s\n",
      "400:\tlearn: 0.5153957\ttest: 0.5136932\tbest: 0.5136932 (400)\ttotal: 1.44s\tremaining: 10.2s\n",
      "500:\tlearn: 0.5079881\ttest: 0.5061840\tbest: 0.5061840 (500)\ttotal: 1.83s\tremaining: 9.97s\n",
      "600:\tlearn: 0.5035051\ttest: 0.5014812\tbest: 0.5014812 (600)\ttotal: 2.21s\tremaining: 9.66s\n",
      "700:\tlearn: 0.5008695\ttest: 0.4988221\tbest: 0.4988221 (700)\ttotal: 2.59s\tremaining: 9.34s\n",
      "800:\tlearn: 0.4990977\ttest: 0.4970921\tbest: 0.4970921 (800)\ttotal: 2.97s\tremaining: 9.01s\n",
      "900:\tlearn: 0.4978087\ttest: 0.4960317\tbest: 0.4960317 (900)\ttotal: 3.35s\tremaining: 8.66s\n",
      "1000:\tlearn: 0.4968082\ttest: 0.4952822\tbest: 0.4952822 (1000)\ttotal: 3.73s\tremaining: 8.32s\n",
      "1100:\tlearn: 0.4959244\ttest: 0.4947659\tbest: 0.4947659 (1100)\ttotal: 4.12s\tremaining: 7.96s\n",
      "1200:\tlearn: 0.4951795\ttest: 0.4943798\tbest: 0.4943784 (1199)\ttotal: 4.5s\tremaining: 7.61s\n",
      "1300:\tlearn: 0.4945151\ttest: 0.4941326\tbest: 0.4941326 (1300)\ttotal: 4.88s\tremaining: 7.25s\n",
      "1400:\tlearn: 0.4938498\ttest: 0.4940263\tbest: 0.4940140 (1391)\ttotal: 5.27s\tremaining: 6.89s\n"
     ]
    },
    {
     "name": "stderr",
     "output_type": "stream",
     "text": [
      "[I 2023-06-28 11:52:36,130] Trial 7 finished with value: 0.5882085453720965 and parameters: {'iterations': 3232, 'max_depth': 3, 'learning_rate': 0.0030104589769054946, 'subsample': 0.8782967915782668, 'l2_leaf_reg': 2, 'colsample_bylevel': 0.6611492311389866}. Best is trial 5 with value: 0.58922696125359.\n"
     ]
    },
    {
     "name": "stdout",
     "output_type": "stream",
     "text": [
      "Stopped by overfitting detector  (20 iterations wait)\n",
      "\n",
      "bestTest = 0.4939053105\n",
      "bestIteration = 1472\n",
      "\n",
      "Shrink model to first 1473 iterations.\n",
      "0:\tlearn: 0.6911190\ttest: 0.6910939\tbest: 0.6910939 (0)\ttotal: 3.83ms\tremaining: 11.7s\n",
      "100:\tlearn: 0.5658921\ttest: 0.5648432\tbest: 0.5648432 (100)\ttotal: 369ms\tremaining: 10.8s\n",
      "200:\tlearn: 0.5229524\ttest: 0.5214806\tbest: 0.5214806 (200)\ttotal: 681ms\tremaining: 9.65s\n",
      "300:\tlearn: 0.5072084\ttest: 0.5055257\tbest: 0.5055257 (300)\ttotal: 1.03s\tremaining: 9.39s\n",
      "400:\tlearn: 0.5008138\ttest: 0.4993021\tbest: 0.4993021 (400)\ttotal: 1.37s\tremaining: 9.05s\n",
      "500:\tlearn: 0.4976865\ttest: 0.4967946\tbest: 0.4967904 (499)\ttotal: 1.71s\tremaining: 8.72s\n",
      "600:\tlearn: 0.4956724\ttest: 0.4954809\tbest: 0.4954809 (600)\ttotal: 2.06s\tremaining: 8.4s\n",
      "700:\tlearn: 0.4942250\ttest: 0.4948792\tbest: 0.4948792 (700)\ttotal: 2.4s\tremaining: 8.04s\n",
      "Stopped by overfitting detector  (20 iterations wait)\n",
      "\n",
      "bestTest = 0.494741478\n",
      "bestIteration = 732\n",
      "\n",
      "Shrink model to first 733 iterations.\n"
     ]
    },
    {
     "name": "stderr",
     "output_type": "stream",
     "text": [
      "[I 2023-06-28 11:52:38,879] Trial 8 finished with value: 0.5855217413211065 and parameters: {'iterations': 3050, 'max_depth': 3, 'learning_rate': 0.005030506069468804, 'subsample': 0.5720187382049249, 'l2_leaf_reg': 0, 'colsample_bylevel': 0.7126289693208356}. Best is trial 5 with value: 0.58922696125359.\n"
     ]
    },
    {
     "name": "stdout",
     "output_type": "stream",
     "text": [
      "0:\tlearn: 0.6553030\ttest: 0.6557175\tbest: 0.6557175 (0)\ttotal: 18.8ms\tremaining: 1m 32s\n"
     ]
    },
    {
     "name": "stderr",
     "output_type": "stream",
     "text": [
      "[I 2023-06-28 11:52:40,026] Trial 9 finished with value: 0.5796083791001159 and parameters: {'iterations': 4927, 'max_depth': 8, 'learning_rate': 0.09278481457563074, 'subsample': 0.761518101111433, 'l2_leaf_reg': 4, 'colsample_bylevel': 0.5717263605829495}. Best is trial 5 with value: 0.58922696125359.\n"
     ]
    },
    {
     "name": "stdout",
     "output_type": "stream",
     "text": [
      "Stopped by overfitting detector  (20 iterations wait)\n",
      "\n",
      "bestTest = 0.4948716025\n",
      "bestIteration = 33\n",
      "\n",
      "Shrink model to first 34 iterations.\n",
      "0:\tlearn: 0.6862040\ttest: 0.6862510\tbest: 0.6862510 (0)\ttotal: 5.16ms\tremaining: 5.36s\n",
      "100:\tlearn: 0.5010954\ttest: 0.5018099\tbest: 0.5018099 (100)\ttotal: 506ms\tremaining: 4.71s\n",
      "200:\tlearn: 0.4887555\ttest: 0.4946928\tbest: 0.4946928 (200)\ttotal: 1.01s\tremaining: 4.23s\n"
     ]
    },
    {
     "name": "stderr",
     "output_type": "stream",
     "text": [
      "[I 2023-06-28 11:52:41,516] Trial 10 finished with value: 0.5843187887338137 and parameters: {'iterations': 1040, 'max_depth': 5, 'learning_rate': 0.016814913784557864, 'subsample': 0.7525203448926531, 'l2_leaf_reg': 4, 'colsample_bylevel': 0.5086924748275937}. Best is trial 5 with value: 0.58922696125359.\n"
     ]
    },
    {
     "name": "stdout",
     "output_type": "stream",
     "text": [
      "Stopped by overfitting detector  (20 iterations wait)\n",
      "\n",
      "bestTest = 0.4943122986\n",
      "bestIteration = 243\n",
      "\n",
      "Shrink model to first 244 iterations.\n",
      "0:\tlearn: 0.6910239\ttest: 0.6910036\tbest: 0.6910036 (0)\ttotal: 4.35ms\tremaining: 5.52s\n",
      "100:\tlearn: 0.5623565\ttest: 0.5616877\tbest: 0.5616877 (100)\ttotal: 417ms\tremaining: 4.83s\n",
      "200:\tlearn: 0.5199891\ttest: 0.5192063\tbest: 0.5192063 (200)\ttotal: 868ms\tremaining: 4.62s\n",
      "300:\tlearn: 0.5049871\ttest: 0.5041609\tbest: 0.5041609 (300)\ttotal: 1.32s\tremaining: 4.25s\n",
      "400:\tlearn: 0.4988759\ttest: 0.4984041\tbest: 0.4984041 (400)\ttotal: 1.77s\tremaining: 3.83s\n",
      "500:\tlearn: 0.4956348\ttest: 0.4959201\tbest: 0.4959201 (500)\ttotal: 2.21s\tremaining: 3.4s\n",
      "600:\tlearn: 0.4933902\ttest: 0.4949935\tbest: 0.4949935 (600)\ttotal: 2.67s\tremaining: 2.97s\n",
      "700:\tlearn: 0.4916798\ttest: 0.4944352\tbest: 0.4944177 (696)\ttotal: 3.12s\tremaining: 2.54s\n",
      "800:\tlearn: 0.4901313\ttest: 0.4940969\tbest: 0.4940850 (785)\ttotal: 3.58s\tremaining: 2.09s\n"
     ]
    },
    {
     "name": "stderr",
     "output_type": "stream",
     "text": [
      "[I 2023-06-28 11:52:45,842] Trial 11 finished with value: 0.5868380611679348 and parameters: {'iterations': 1270, 'max_depth': 4, 'learning_rate': 0.005258218711421429, 'subsample': 0.8084014003370698, 'l2_leaf_reg': 3, 'colsample_bylevel': 0.6259527857442093}. Best is trial 5 with value: 0.58922696125359.\n"
     ]
    },
    {
     "name": "stdout",
     "output_type": "stream",
     "text": [
      "900:\tlearn: 0.4886732\ttest: 0.4939088\tbest: 0.4938679 (891)\ttotal: 4.03s\tremaining: 1.65s\n",
      "Stopped by overfitting detector  (20 iterations wait)\n",
      "\n",
      "bestTest = 0.4938678882\n",
      "bestIteration = 891\n",
      "\n",
      "Shrink model to first 892 iterations.\n",
      "0:\tlearn: 0.6916107\ttest: 0.6915822\tbest: 0.6915822 (0)\ttotal: 4.12ms\tremaining: 14.1s\n",
      "100:\tlearn: 0.5852942\ttest: 0.5844689\tbest: 0.5844689 (100)\ttotal: 389ms\tremaining: 12.8s\n",
      "200:\tlearn: 0.5385942\ttest: 0.5371415\tbest: 0.5371415 (200)\ttotal: 826ms\tremaining: 13.2s\n",
      "300:\tlearn: 0.5174177\ttest: 0.5156897\tbest: 0.5156897 (300)\ttotal: 1.23s\tremaining: 12.7s\n",
      "400:\tlearn: 0.5074703\ttest: 0.5055101\tbest: 0.5055101 (400)\ttotal: 1.62s\tremaining: 12.2s\n",
      "500:\tlearn: 0.5024230\ttest: 0.5004440\tbest: 0.5004440 (500)\ttotal: 2.02s\tremaining: 11.8s\n",
      "600:\tlearn: 0.4995603\ttest: 0.4976245\tbest: 0.4976245 (600)\ttotal: 2.41s\tremaining: 11.3s\n",
      "700:\tlearn: 0.4977885\ttest: 0.4961013\tbest: 0.4961013 (700)\ttotal: 2.81s\tremaining: 10.9s\n",
      "800:\tlearn: 0.4965074\ttest: 0.4952270\tbest: 0.4952270 (800)\ttotal: 3.21s\tremaining: 10.5s\n",
      "900:\tlearn: 0.4955317\ttest: 0.4946116\tbest: 0.4946116 (900)\ttotal: 3.6s\tremaining: 10.1s\n",
      "1000:\tlearn: 0.4946073\ttest: 0.4942664\tbest: 0.4942664 (1000)\ttotal: 4s\tremaining: 9.68s\n",
      "1100:\tlearn: 0.4938063\ttest: 0.4941165\tbest: 0.4941165 (1100)\ttotal: 4.4s\tremaining: 9.28s\n"
     ]
    },
    {
     "name": "stderr",
     "output_type": "stream",
     "text": [
      "[I 2023-06-28 11:52:51,012] Trial 12 finished with value: 0.5873620698342319 and parameters: {'iterations': 3422, 'max_depth': 3, 'learning_rate': 0.0038287827754401186, 'subsample': 0.9975155362008201, 'l2_leaf_reg': 3, 'colsample_bylevel': 0.8009533614917546}. Best is trial 5 with value: 0.58922696125359.\n"
     ]
    },
    {
     "name": "stdout",
     "output_type": "stream",
     "text": [
      "1200:\tlearn: 0.4930245\ttest: 0.4939481\tbest: 0.4939466 (1199)\ttotal: 4.8s\tremaining: 8.88s\n",
      "Stopped by overfitting detector  (20 iterations wait)\n",
      "\n",
      "bestTest = 0.4939466308\n",
      "bestIteration = 1199\n",
      "\n",
      "Shrink model to first 1200 iterations.\n",
      "0:\tlearn: 0.6832384\ttest: 0.6832077\tbest: 0.6832077 (0)\ttotal: 12.1ms\tremaining: 23.1s\n",
      "100:\tlearn: 0.4833709\ttest: 0.4960047\tbest: 0.4960047 (100)\ttotal: 1.24s\tremaining: 22.1s\n"
     ]
    },
    {
     "name": "stderr",
     "output_type": "stream",
     "text": [
      "[I 2023-06-28 11:52:53,713] Trial 13 finished with value: 0.5834332644732201 and parameters: {'iterations': 1903, 'max_depth': 7, 'learning_rate': 0.024550107843866246, 'subsample': 0.8449766365845366, 'l2_leaf_reg': 3, 'colsample_bylevel': 0.6345765764316771}. Best is trial 5 with value: 0.58922696125359.\n"
     ]
    },
    {
     "name": "stdout",
     "output_type": "stream",
     "text": [
      "200:\tlearn: 0.4618692\ttest: 0.4940491\tbest: 0.4938973 (186)\ttotal: 2.47s\tremaining: 20.9s\n",
      "Stopped by overfitting detector  (20 iterations wait)\n",
      "\n",
      "bestTest = 0.49389728\n",
      "bestIteration = 186\n",
      "\n",
      "Shrink model to first 187 iterations.\n",
      "0:\tlearn: 0.6895979\ttest: 0.6895677\tbest: 0.6895677 (0)\ttotal: 4.94ms\tremaining: 17.6s\n",
      "100:\tlearn: 0.5297734\ttest: 0.5287262\tbest: 0.5287262 (100)\ttotal: 446ms\tremaining: 15.3s\n",
      "200:\tlearn: 0.5024878\ttest: 0.5015216\tbest: 0.5015216 (200)\ttotal: 910ms\tremaining: 15.2s\n",
      "300:\tlearn: 0.4956938\ttest: 0.4957819\tbest: 0.4957819 (300)\ttotal: 1.41s\tremaining: 15.3s\n",
      "400:\tlearn: 0.4923805\ttest: 0.4942439\tbest: 0.4942439 (400)\ttotal: 1.96s\tremaining: 15.4s\n"
     ]
    },
    {
     "name": "stderr",
     "output_type": "stream",
     "text": [
      "[I 2023-06-28 11:52:56,331] Trial 14 finished with value: 0.5894946339497154 and parameters: {'iterations': 3559, 'max_depth': 4, 'learning_rate': 0.0087208607148801, 'subsample': 0.699372937195524, 'l2_leaf_reg': 3, 'colsample_bylevel': 0.8012374433343337}. Best is trial 14 with value: 0.5894946339497154.\n"
     ]
    },
    {
     "name": "stdout",
     "output_type": "stream",
     "text": [
      "Stopped by overfitting detector  (20 iterations wait)\n",
      "\n",
      "bestTest = 0.4936922874\n",
      "bestIteration = 464\n",
      "\n",
      "Shrink model to first 465 iterations.\n",
      "0:\tlearn: 0.6897068\ttest: 0.6897003\tbest: 0.6897003 (0)\ttotal: 10.5ms\tremaining: 38.8s\n",
      "100:\tlearn: 0.5304488\ttest: 0.5300561\tbest: 0.5300561 (100)\ttotal: 576ms\tremaining: 20.6s\n",
      "200:\tlearn: 0.5012154\ttest: 0.5017880\tbest: 0.5017880 (200)\ttotal: 1.13s\tremaining: 19.7s\n",
      "300:\tlearn: 0.4931475\ttest: 0.4957064\tbest: 0.4957064 (300)\ttotal: 1.69s\tremaining: 19.2s\n",
      "400:\tlearn: 0.4886675\ttest: 0.4944136\tbest: 0.4944136 (400)\ttotal: 2.26s\tremaining: 18.7s\n",
      "500:\tlearn: 0.4850094\ttest: 0.4940270\tbest: 0.4940051 (495)\ttotal: 2.8s\tremaining: 18s\n"
     ]
    },
    {
     "name": "stderr",
     "output_type": "stream",
     "text": [
      "[I 2023-06-28 11:52:59,610] Trial 15 finished with value: 0.5850833879175694 and parameters: {'iterations': 3712, 'max_depth': 5, 'learning_rate': 0.008355322692585621, 'subsample': 0.6625763161244534, 'l2_leaf_reg': 4, 'colsample_bylevel': 0.8006606484132097}. Best is trial 14 with value: 0.5894946339497154.\n"
     ]
    },
    {
     "name": "stdout",
     "output_type": "stream",
     "text": [
      "Stopped by overfitting detector  (20 iterations wait)\n",
      "\n",
      "bestTest = 0.4939251367\n",
      "bestIteration = 522\n",
      "\n",
      "Shrink model to first 523 iterations.\n",
      "0:\tlearn: 0.6787595\ttest: 0.6786875\tbest: 0.6786875 (0)\ttotal: 4.84ms\tremaining: 8.37s\n",
      "100:\tlearn: 0.4920020\ttest: 0.4946348\tbest: 0.4946348 (100)\ttotal: 435ms\tremaining: 7.01s\n"
     ]
    },
    {
     "name": "stderr",
     "output_type": "stream",
     "text": [
      "[I 2023-06-28 11:53:00,506] Trial 16 finished with value: 0.5829716077996675 and parameters: {'iterations': 1729, 'max_depth': 4, 'learning_rate': 0.03575826140727128, 'subsample': 0.6707775538738254, 'l2_leaf_reg': 3, 'colsample_bylevel': 0.8039823179476364}. Best is trial 14 with value: 0.5894946339497154.\n"
     ]
    },
    {
     "name": "stdout",
     "output_type": "stream",
     "text": [
      "Stopped by overfitting detector  (20 iterations wait)\n",
      "\n",
      "bestTest = 0.4940085909\n",
      "bestIteration = 147\n",
      "\n",
      "Shrink model to first 148 iterations.\n",
      "0:\tlearn: 0.6898739\ttest: 0.6898394\tbest: 0.6898394 (0)\ttotal: 3.05ms\tremaining: 7.83s\n",
      "100:\tlearn: 0.5357476\ttest: 0.5337054\tbest: 0.5337054 (100)\ttotal: 309ms\tremaining: 7.55s\n",
      "200:\tlearn: 0.5073470\ttest: 0.5044137\tbest: 0.5044137 (200)\ttotal: 585ms\tremaining: 6.89s\n",
      "300:\tlearn: 0.5007575\ttest: 0.4976257\tbest: 0.4976257 (300)\ttotal: 883ms\tremaining: 6.66s\n",
      "400:\tlearn: 0.4982694\ttest: 0.4953566\tbest: 0.4953566 (400)\ttotal: 1.17s\tremaining: 6.35s\n",
      "500:\tlearn: 0.4968618\ttest: 0.4945379\tbest: 0.4945379 (500)\ttotal: 1.46s\tremaining: 6.04s\n",
      "600:\tlearn: 0.4957078\ttest: 0.4941143\tbest: 0.4941143 (600)\ttotal: 1.77s\tremaining: 5.81s\n",
      "Stopped by overfitting detector  (20 iterations wait)\n",
      "\n",
      "bestTest = 0.4940299327\n",
      "bestIteration = 630\n",
      "\n",
      "Shrink model to first 631 iterations.\n"
     ]
    },
    {
     "name": "stderr",
     "output_type": "stream",
     "text": [
      "[I 2023-06-28 11:53:02,641] Trial 17 finished with value: 0.5875006298181085 and parameters: {'iterations': 2570, 'max_depth': 2, 'learning_rate': 0.008123406855564034, 'subsample': 0.6900222393838593, 'l2_leaf_reg': 4, 'colsample_bylevel': 0.8564603913620441}. Best is trial 14 with value: 0.5894946339497154.\n"
     ]
    },
    {
     "name": "stdout",
     "output_type": "stream",
     "text": [
      "0:\tlearn: 0.6870239\ttest: 0.6871766\tbest: 0.6871766 (0)\ttotal: 44.4ms\tremaining: 2m 45s\n",
      "100:\tlearn: 0.4833145\ttest: 0.5042529\tbest: 0.5042529 (100)\ttotal: 4.42s\tremaining: 2m 39s\n",
      "200:\tlearn: 0.4435463\ttest: 0.4943838\tbest: 0.4943261 (198)\ttotal: 8.8s\tremaining: 2m 34s\n"
     ]
    },
    {
     "name": "stderr",
     "output_type": "stream",
     "text": [
      "[I 2023-06-28 11:53:12,903] Trial 18 finished with value: 0.5826800020154179 and parameters: {'iterations': 3738, 'max_depth': 10, 'learning_rate': 0.014211742863715474, 'subsample': 0.7973603691207968, 'l2_leaf_reg': 3, 'colsample_bylevel': 0.9930841460816533}. Best is trial 14 with value: 0.5894946339497154.\n"
     ]
    },
    {
     "name": "stdout",
     "output_type": "stream",
     "text": [
      "Stopped by overfitting detector  (20 iterations wait)\n",
      "\n",
      "bestTest = 0.4942445281\n",
      "bestIteration = 209\n",
      "\n",
      "Shrink model to first 210 iterations.\n",
      "0:\tlearn: 0.6895743\ttest: 0.6895632\tbest: 0.6895632 (0)\ttotal: 4.73ms\tremaining: 8.11s\n",
      "100:\tlearn: 0.5292745\ttest: 0.5282657\tbest: 0.5282657 (100)\ttotal: 450ms\tremaining: 7.19s\n",
      "200:\tlearn: 0.5023673\ttest: 0.5013917\tbest: 0.5013917 (200)\ttotal: 910ms\tremaining: 6.86s\n",
      "300:\tlearn: 0.4956946\ttest: 0.4957558\tbest: 0.4957558 (300)\ttotal: 1.37s\tremaining: 6.45s\n",
      "400:\tlearn: 0.4923573\ttest: 0.4941335\tbest: 0.4941335 (400)\ttotal: 1.84s\tremaining: 6.02s\n"
     ]
    },
    {
     "name": "stderr",
     "output_type": "stream",
     "text": [
      "[I 2023-06-28 11:53:15,157] Trial 19 finished with value: 0.589236408525218 and parameters: {'iterations': 1716, 'max_depth': 4, 'learning_rate': 0.00876697095667802, 'subsample': 0.7166753661623249, 'l2_leaf_reg': 4, 'colsample_bylevel': 0.7690718841942507}. Best is trial 14 with value: 0.5894946339497154.\n"
     ]
    },
    {
     "name": "stdout",
     "output_type": "stream",
     "text": [
      "Stopped by overfitting detector  (20 iterations wait)\n",
      "\n",
      "bestTest = 0.4939183454\n",
      "bestIteration = 431\n",
      "\n",
      "Shrink model to first 432 iterations.\n",
      "0:\tlearn: 0.6890443\ttest: 0.6890473\tbest: 0.6890473 (0)\ttotal: 11.5ms\tremaining: 29.6s\n",
      "100:\tlearn: 0.5165508\ttest: 0.5199175\tbest: 0.5199175 (100)\ttotal: 1.25s\tremaining: 30.8s\n",
      "200:\tlearn: 0.4886346\ttest: 0.4978966\tbest: 0.4978966 (200)\ttotal: 2.49s\tremaining: 29.5s\n",
      "300:\tlearn: 0.4766579\ttest: 0.4941871\tbest: 0.4941871 (300)\ttotal: 3.71s\tremaining: 28.1s\n"
     ]
    },
    {
     "name": "stderr",
     "output_type": "stream",
     "text": [
      "[I 2023-06-28 11:53:19,737] Trial 20 finished with value: 0.5892074368922255 and parameters: {'iterations': 2582, 'max_depth': 7, 'learning_rate': 0.009873978729766416, 'subsample': 0.7064905511064704, 'l2_leaf_reg': 2, 'colsample_bylevel': 0.7676995850452437}. Best is trial 14 with value: 0.5894946339497154.\n"
     ]
    },
    {
     "name": "stdout",
     "output_type": "stream",
     "text": [
      "Stopped by overfitting detector  (20 iterations wait)\n",
      "\n",
      "bestTest = 0.4935808965\n",
      "bestIteration = 336\n",
      "\n",
      "Shrink model to first 337 iterations.\n",
      "0:\tlearn: 0.6903073\ttest: 0.6902892\tbest: 0.6902892 (0)\ttotal: 5.01ms\tremaining: 8.06s\n",
      "100:\tlearn: 0.5426140\ttest: 0.5416059\tbest: 0.5416059 (100)\ttotal: 434ms\tremaining: 6.49s\n",
      "200:\tlearn: 0.5082509\ttest: 0.5074410\tbest: 0.5074410 (200)\ttotal: 882ms\tremaining: 6.18s\n",
      "300:\tlearn: 0.4986921\ttest: 0.4982691\tbest: 0.4982691 (300)\ttotal: 1.33s\tremaining: 5.77s\n",
      "400:\tlearn: 0.4948625\ttest: 0.4954686\tbest: 0.4954686 (400)\ttotal: 1.75s\tremaining: 5.29s\n",
      "500:\tlearn: 0.4924185\ttest: 0.4945166\tbest: 0.4945166 (500)\ttotal: 2.2s\tremaining: 4.87s\n"
     ]
    },
    {
     "name": "stderr",
     "output_type": "stream",
     "text": [
      "[I 2023-06-28 11:53:22,686] Trial 21 finished with value: 0.5862510706907844 and parameters: {'iterations': 1610, 'max_depth': 4, 'learning_rate': 0.007013181718904475, 'subsample': 0.6301056211143244, 'l2_leaf_reg': 4, 'colsample_bylevel': 0.6784154112441235}. Best is trial 14 with value: 0.5894946339497154.\n"
     ]
    },
    {
     "name": "stdout",
     "output_type": "stream",
     "text": [
      "600:\tlearn: 0.4903669\ttest: 0.4940185\tbest: 0.4940185 (600)\ttotal: 2.65s\tremaining: 4.45s\n",
      "Stopped by overfitting detector  (20 iterations wait)\n",
      "\n",
      "bestTest = 0.4940185494\n",
      "bestIteration = 600\n",
      "\n",
      "Shrink model to first 601 iterations.\n",
      "0:\tlearn: 0.6880536\ttest: 0.6880643\tbest: 0.6880643 (0)\ttotal: 4.68ms\tremaining: 9.97s\n",
      "100:\tlearn: 0.5107455\ttest: 0.5107523\tbest: 0.5107523 (100)\ttotal: 536ms\tremaining: 10.8s\n",
      "200:\tlearn: 0.4932366\ttest: 0.4956169\tbest: 0.4956169 (200)\ttotal: 1.09s\tremaining: 10.5s\n",
      "300:\tlearn: 0.4870058\ttest: 0.4936993\tbest: 0.4936700 (298)\ttotal: 1.66s\tremaining: 10.1s\n"
     ]
    },
    {
     "name": "stderr",
     "output_type": "stream",
     "text": [
      "[I 2023-06-28 11:53:24,787] Trial 22 finished with value: 0.5885832871466721 and parameters: {'iterations': 2130, 'max_depth': 5, 'learning_rate': 0.0124181551047118, 'subsample': 0.7086918255929547, 'l2_leaf_reg': 4, 'colsample_bylevel': 0.7471984165759001}. Best is trial 14 with value: 0.5894946339497154.\n"
     ]
    },
    {
     "name": "stdout",
     "output_type": "stream",
     "text": [
      "Stopped by overfitting detector  (20 iterations wait)\n",
      "\n",
      "bestTest = 0.4936007597\n",
      "bestIteration = 321\n",
      "\n",
      "Shrink model to first 322 iterations.\n",
      "0:\tlearn: 0.6844510\ttest: 0.6843546\tbest: 0.6843546 (0)\ttotal: 3.25ms\tremaining: 4.68s\n",
      "100:\tlearn: 0.5021970\ttest: 0.4992969\tbest: 0.4992969 (100)\ttotal: 304ms\tremaining: 4.04s\n",
      "200:\tlearn: 0.4967123\ttest: 0.4945590\tbest: 0.4945590 (200)\ttotal: 568ms\tremaining: 3.5s\n",
      "300:\tlearn: 0.4943011\ttest: 0.4939144\tbest: 0.4939089 (299)\ttotal: 876ms\tremaining: 3.32s\n"
     ]
    },
    {
     "name": "stderr",
     "output_type": "stream",
     "text": [
      "[I 2023-06-28 11:53:26,034] Trial 23 finished with value: 0.5873406560185419 and parameters: {'iterations': 1441, 'max_depth': 2, 'learning_rate': 0.0217480245165814, 'subsample': 0.73187479660041, 'l2_leaf_reg': 3, 'colsample_bylevel': 0.6925836707843233}. Best is trial 14 with value: 0.5894946339497154.\n"
     ]
    },
    {
     "name": "stdout",
     "output_type": "stream",
     "text": [
      "Stopped by overfitting detector  (20 iterations wait)\n",
      "\n",
      "bestTest = 0.4936675328\n",
      "bestIteration = 343\n",
      "\n",
      "Shrink model to first 344 iterations.\n",
      "0:\tlearn: 0.6774206\ttest: 0.6773128\tbest: 0.6773128 (0)\ttotal: 4.18ms\tremaining: 9.34s\n"
     ]
    },
    {
     "name": "stderr",
     "output_type": "stream",
     "text": [
      "[I 2023-06-28 11:53:26,730] Trial 24 finished with value: 0.5859745805411397 and parameters: {'iterations': 2234, 'max_depth': 4, 'learning_rate': 0.03937838284809208, 'subsample': 0.6273201747728872, 'l2_leaf_reg': 4, 'colsample_bylevel': 0.8693747638352349}. Best is trial 14 with value: 0.5894946339497154.\n"
     ]
    },
    {
     "name": "stdout",
     "output_type": "stream",
     "text": [
      "100:\tlearn: 0.4908711\ttest: 0.4941646\tbest: 0.4941635 (99)\ttotal: 467ms\tremaining: 9.87s\n",
      "Stopped by overfitting detector  (20 iterations wait)\n",
      "\n",
      "bestTest = 0.4941446233\n",
      "bestIteration = 101\n",
      "\n",
      "Shrink model to first 102 iterations.\n",
      "0:\tlearn: 0.6859989\ttest: 0.6859477\tbest: 0.6859477 (0)\ttotal: 3.17ms\tremaining: 9.11s\n",
      "100:\tlearn: 0.5051252\ttest: 0.5023648\tbest: 0.5023648 (100)\ttotal: 327ms\tremaining: 8.97s\n",
      "200:\tlearn: 0.4976379\ttest: 0.4950101\tbest: 0.4949927 (194)\ttotal: 679ms\tremaining: 9.03s\n"
     ]
    },
    {
     "name": "stderr",
     "output_type": "stream",
     "text": [
      "[I 2023-06-28 11:53:27,812] Trial 25 finished with value: 0.5850399304680808 and parameters: {'iterations': 2873, 'max_depth': 2, 'learning_rate': 0.017760548339506414, 'subsample': 0.7840969007759493, 'l2_leaf_reg': 3, 'colsample_bylevel': 0.7597943412756701}. Best is trial 14 with value: 0.5894946339497154.\n"
     ]
    },
    {
     "name": "stdout",
     "output_type": "stream",
     "text": [
      "Stopped by overfitting detector  (20 iterations wait)\n",
      "\n",
      "bestTest = 0.4943590367\n",
      "bestIteration = 242\n",
      "\n",
      "Shrink model to first 243 iterations.\n",
      "0:\tlearn: 0.6886156\ttest: 0.6886147\tbest: 0.6886147 (0)\ttotal: 5.86ms\tremaining: 11.2s\n",
      "100:\tlearn: 0.5157929\ttest: 0.5157183\tbest: 0.5157183 (100)\ttotal: 585ms\tremaining: 10.5s\n",
      "200:\tlearn: 0.4953368\ttest: 0.4971613\tbest: 0.4971613 (200)\ttotal: 1.11s\tremaining: 9.4s\n",
      "300:\tlearn: 0.4892405\ttest: 0.4945151\tbest: 0.4944760 (295)\ttotal: 1.64s\tremaining: 8.74s\n"
     ]
    },
    {
     "name": "stderr",
     "output_type": "stream",
     "text": [
      "[I 2023-06-28 11:53:30,099] Trial 26 finished with value: 0.5842545472867435 and parameters: {'iterations': 1909, 'max_depth': 5, 'learning_rate': 0.010988924842196315, 'subsample': 0.7337145250492402, 'l2_leaf_reg': 4, 'colsample_bylevel': 0.6015366519988349}. Best is trial 14 with value: 0.5894946339497154.\n"
     ]
    },
    {
     "name": "stdout",
     "output_type": "stream",
     "text": [
      "Stopped by overfitting detector  (20 iterations wait)\n",
      "\n",
      "bestTest = 0.4941192535\n",
      "bestIteration = 367\n",
      "\n",
      "Shrink model to first 368 iterations.\n",
      "0:\tlearn: 0.6903911\ttest: 0.6903845\tbest: 0.6903845 (0)\ttotal: 7.16ms\tremaining: 8.5s\n",
      "100:\tlearn: 0.5434794\ttest: 0.5439697\tbest: 0.5439697 (100)\ttotal: 676ms\tremaining: 7.27s\n",
      "200:\tlearn: 0.5062563\ttest: 0.5083187\tbest: 0.5083187 (200)\ttotal: 1.35s\tremaining: 6.65s\n",
      "300:\tlearn: 0.4939394\ttest: 0.4983880\tbest: 0.4983880 (300)\ttotal: 2.03s\tremaining: 5.99s\n",
      "400:\tlearn: 0.4875460\ttest: 0.4952903\tbest: 0.4952903 (400)\ttotal: 2.69s\tremaining: 5.27s\n",
      "500:\tlearn: 0.4826523\ttest: 0.4944980\tbest: 0.4944771 (497)\ttotal: 3.37s\tremaining: 4.62s\n",
      "600:\tlearn: 0.4785457\ttest: 0.4941205\tbest: 0.4941200 (598)\ttotal: 4.06s\tremaining: 3.97s\n",
      "Stopped by overfitting detector  (20 iterations wait)\n",
      "\n",
      "bestTest = 0.4940950589\n",
      "bestIteration = 607\n",
      "\n",
      "Shrink model to first 608 iterations.\n"
     ]
    },
    {
     "name": "stderr",
     "output_type": "stream",
     "text": [
      "[I 2023-06-28 11:53:34,582] Trial 27 finished with value: 0.5840832367612234 and parameters: {'iterations': 1188, 'max_depth': 6, 'learning_rate': 0.006661229130588327, 'subsample': 0.8244177094999199, 'l2_leaf_reg': 3, 'colsample_bylevel': 0.6898182747638197}. Best is trial 14 with value: 0.5894946339497154.\n"
     ]
    },
    {
     "name": "stdout",
     "output_type": "stream",
     "text": [
      "0:\tlearn: 0.6880927\ttest: 0.6880662\tbest: 0.6880662 (0)\ttotal: 4.95ms\tremaining: 17.6s\n",
      "100:\tlearn: 0.5126454\ttest: 0.5116388\tbest: 0.5116388 (100)\ttotal: 478ms\tremaining: 16.4s\n",
      "200:\tlearn: 0.4964418\ttest: 0.4961463\tbest: 0.4961463 (200)\ttotal: 916ms\tremaining: 15.3s\n",
      "300:\tlearn: 0.4918169\ttest: 0.4939957\tbest: 0.4939822 (295)\ttotal: 1.38s\tremaining: 14.9s\n"
     ]
    },
    {
     "name": "stderr",
     "output_type": "stream",
     "text": [
      "[I 2023-06-28 11:53:36,711] Trial 28 finished with value: 0.5888805612938983 and parameters: {'iterations': 3553, 'max_depth': 4, 'learning_rate': 0.012465859301069459, 'subsample': 0.7627730088649908, 'l2_leaf_reg': 4, 'colsample_bylevel': 0.7817705813859382}. Best is trial 14 with value: 0.5894946339497154.\n"
     ]
    },
    {
     "name": "stdout",
     "output_type": "stream",
     "text": [
      "400:\tlearn: 0.4883068\ttest: 0.4935899\tbest: 0.4935378 (396)\ttotal: 1.86s\tremaining: 14.6s\n",
      "Stopped by overfitting detector  (20 iterations wait)\n",
      "\n",
      "bestTest = 0.4935378127\n",
      "bestIteration = 396\n",
      "\n",
      "Shrink model to first 397 iterations.\n",
      "0:\tlearn: 0.6766124\ttest: 0.6764172\tbest: 0.6764172 (0)\ttotal: 2.75ms\tremaining: 11.7s\n",
      "100:\tlearn: 0.4994571\ttest: 0.4956228\tbest: 0.4956228 (100)\ttotal: 245ms\tremaining: 10s\n"
     ]
    },
    {
     "name": "stderr",
     "output_type": "stream",
     "text": [
      "[I 2023-06-28 11:53:37,358] Trial 29 finished with value: 0.5856212525822543 and parameters: {'iterations': 4233, 'max_depth': 1, 'learning_rate': 0.04191148411379291, 'subsample': 0.8450901123373453, 'l2_leaf_reg': 0, 'colsample_bylevel': 0.9213442985571303}. Best is trial 14 with value: 0.5894946339497154.\n"
     ]
    },
    {
     "name": "stdout",
     "output_type": "stream",
     "text": [
      "200:\tlearn: 0.4968090\ttest: 0.4941572\tbest: 0.4941199 (180)\ttotal: 496ms\tremaining: 9.96s\n",
      "Stopped by overfitting detector  (20 iterations wait)\n",
      "\n",
      "bestTest = 0.4941198838\n",
      "bestIteration = 180\n",
      "\n",
      "Shrink model to first 181 iterations.\n"
     ]
    }
   ],
   "source": [
    "def objective_cb_ec2(trial):\n",
    "    iterations = trial.suggest_int('iterations', 1000,5000)\n",
    "    max_depth = trial.suggest_int(\"max_depth\", 1,10)\n",
    "    l_rate = trial.suggest_float('learning_rate', 0.001, 0.1,log=True)\n",
    "    subsample =  trial.suggest_float('subsample', 0.5, 1.0)\n",
    "    l2_leaf_reg = trial.suggest_int(\"l2_leaf_reg\", 0.0, 4)\n",
    "    colsample_bylevel =  trial.suggest_float('colsample_bylevel', 0.5, 1.0)\n",
    "\n",
    "    cb = CatBoostClassifier(\n",
    "            iterations = iterations,\n",
    "            max_depth=max_depth, \n",
    "            learning_rate = l_rate,\n",
    "            subsample = subsample,\n",
    "            l2_leaf_reg = l2_leaf_reg,\n",
    "            colsample_bylevel = colsample_bylevel\n",
    "        )\n",
    "    \n",
    "    cb.fit(x_train, y_train['EC2'], eval_set=[(x_val, y_val['EC2'])], early_stopping_rounds=20, verbose=100)\n",
    "\n",
    "    y_pred_proba = cb.predict_proba(x_val)[:, 1]\n",
    "    roc_auc = roc_auc_score(y_val['EC2'], y_pred_proba)\n",
    "    return roc_auc\n",
    "study_cb_ec2 = optuna.create_study(direction=\"maximize\")\n",
    "study_cb_ec2.optimize(objective_cb_ec2, n_trials=30)"
   ]
  },
  {
   "cell_type": "code",
   "execution_count": 23,
   "id": "767888ed",
   "metadata": {
    "execution": {
     "iopub.execute_input": "2023-06-28T11:53:37.514857Z",
     "iopub.status.busy": "2023-06-28T11:53:37.514087Z",
     "iopub.status.idle": "2023-06-28T11:53:37.519936Z",
     "shell.execute_reply": "2023-06-28T11:53:37.519104Z"
    },
    "papermill": {
     "duration": 0.084097,
     "end_time": "2023-06-28T11:53:37.522015",
     "exception": false,
     "start_time": "2023-06-28T11:53:37.437918",
     "status": "completed"
    },
    "tags": []
   },
   "outputs": [
    {
     "name": "stdout",
     "output_type": "stream",
     "text": [
      "ROC_AUC Score: 0.5894946339497154\n",
      "Best hyperparameters: {'iterations': 3559, 'max_depth': 4, 'learning_rate': 0.0087208607148801, 'subsample': 0.699372937195524, 'l2_leaf_reg': 3, 'colsample_bylevel': 0.8012374433343337}\n"
     ]
    }
   ],
   "source": [
    "trial_cb_ec2 = study_cb_ec2.best_trial\n",
    "print('ROC_AUC Score: {}'.format(trial_cb_ec2.value))\n",
    "print(\"Best hyperparameters: {}\".format(trial_cb_ec2.params))"
   ]
  },
  {
   "cell_type": "code",
   "execution_count": 24,
   "id": "ebbf220c",
   "metadata": {
    "execution": {
     "iopub.execute_input": "2023-06-28T11:53:37.670988Z",
     "iopub.status.busy": "2023-06-28T11:53:37.670226Z",
     "iopub.status.idle": "2023-06-28T11:53:39.895847Z",
     "shell.execute_reply": "2023-06-28T11:53:39.894953Z"
    },
    "papermill": {
     "duration": 2.302502,
     "end_time": "2023-06-28T11:53:39.898341",
     "exception": false,
     "start_time": "2023-06-28T11:53:37.595839",
     "status": "completed"
    },
    "tags": []
   },
   "outputs": [
    {
     "data": {
      "text/plain": [
       "<catboost.core.CatBoostClassifier at 0x79b40d0d48e0>"
      ]
     },
     "execution_count": 24,
     "metadata": {},
     "output_type": "execute_result"
    }
   ],
   "source": [
    "cb_ec1 = CatBoostClassifier(**trial_cb_ec1.params)\n",
    "cb_ec1.fit(x_train, y_train['EC1'], eval_set=[(x_val, y_val['EC1'])], early_stopping_rounds=20, verbose=False)"
   ]
  },
  {
   "cell_type": "code",
   "execution_count": 25,
   "id": "31470157",
   "metadata": {
    "execution": {
     "iopub.execute_input": "2023-06-28T11:53:40.048615Z",
     "iopub.status.busy": "2023-06-28T11:53:40.047880Z",
     "iopub.status.idle": "2023-06-28T11:53:40.066602Z",
     "shell.execute_reply": "2023-06-28T11:53:40.065698Z"
    },
    "papermill": {
     "duration": 0.096435,
     "end_time": "2023-06-28T11:53:40.068980",
     "exception": false,
     "start_time": "2023-06-28T11:53:39.972545",
     "status": "completed"
    },
    "tags": []
   },
   "outputs": [
    {
     "data": {
      "text/plain": [
       "0.6994613915773678"
      ]
     },
     "execution_count": 25,
     "metadata": {},
     "output_type": "execute_result"
    }
   ],
   "source": [
    "y_pred_proba = cb_ec1.predict_proba(x_test)[:, 1]\n",
    "roc_auc_score(y_test['EC1'], y_pred_proba)"
   ]
  },
  {
   "cell_type": "code",
   "execution_count": 26,
   "id": "e870b9e6",
   "metadata": {
    "execution": {
     "iopub.execute_input": "2023-06-28T11:53:40.218109Z",
     "iopub.status.busy": "2023-06-28T11:53:40.217353Z",
     "iopub.status.idle": "2023-06-28T11:53:42.596118Z",
     "shell.execute_reply": "2023-06-28T11:53:42.595129Z"
    },
    "papermill": {
     "duration": 2.456611,
     "end_time": "2023-06-28T11:53:42.599080",
     "exception": false,
     "start_time": "2023-06-28T11:53:40.142469",
     "status": "completed"
    },
    "tags": []
   },
   "outputs": [
    {
     "data": {
      "text/plain": [
       "<catboost.core.CatBoostClassifier at 0x79b40d0d5180>"
      ]
     },
     "execution_count": 26,
     "metadata": {},
     "output_type": "execute_result"
    }
   ],
   "source": [
    "cb_ec2 = CatBoostClassifier(**trial_cb_ec2.params)\n",
    "cb_ec2.fit(x_train, y_train['EC2'], eval_set=[(x_val, y_val['EC2'])], early_stopping_rounds=20, verbose=False)"
   ]
  },
  {
   "cell_type": "code",
   "execution_count": 27,
   "id": "1e09c809",
   "metadata": {
    "execution": {
     "iopub.execute_input": "2023-06-28T11:53:42.748338Z",
     "iopub.status.busy": "2023-06-28T11:53:42.747592Z",
     "iopub.status.idle": "2023-06-28T11:53:42.765777Z",
     "shell.execute_reply": "2023-06-28T11:53:42.764856Z"
    },
    "papermill": {
     "duration": 0.095038,
     "end_time": "2023-06-28T11:53:42.767893",
     "exception": false,
     "start_time": "2023-06-28T11:53:42.672855",
     "status": "completed"
    },
    "tags": []
   },
   "outputs": [
    {
     "data": {
      "text/plain": [
       "0.6167008354261698"
      ]
     },
     "execution_count": 27,
     "metadata": {},
     "output_type": "execute_result"
    }
   ],
   "source": [
    "y_pred_proba = cb_ec2.predict_proba(x_test)[:, 1]\n",
    "roc_auc_score(y_test['EC2'], y_pred_proba)"
   ]
  },
  {
   "cell_type": "markdown",
   "id": "ea1dae8d",
   "metadata": {
    "papermill": {
     "duration": 0.07325,
     "end_time": "2023-06-28T11:53:42.914775",
     "exception": false,
     "start_time": "2023-06-28T11:53:42.841525",
     "status": "completed"
    },
    "tags": []
   },
   "source": [
    "# 7. XGBoost Classifier Model | Optuna Hyper Parameter Search"
   ]
  },
  {
   "cell_type": "code",
   "execution_count": 28,
   "id": "0e02640d",
   "metadata": {
    "collapsed": true,
    "execution": {
     "iopub.execute_input": "2023-06-28T11:53:43.064829Z",
     "iopub.status.busy": "2023-06-28T11:53:43.064100Z",
     "iopub.status.idle": "2023-06-28T12:05:40.807133Z",
     "shell.execute_reply": "2023-06-28T12:05:40.805924Z"
    },
    "jupyter": {
     "outputs_hidden": true
    },
    "papermill": {
     "duration": 717.821416,
     "end_time": "2023-06-28T12:05:40.809704",
     "exception": false,
     "start_time": "2023-06-28T11:53:42.988288",
     "status": "completed"
    },
    "tags": []
   },
   "outputs": [
    {
     "name": "stderr",
     "output_type": "stream",
     "text": [
      "[I 2023-06-28 11:53:43,071] A new study created in memory with name: no-name-c9e3daa1-8088-49b8-9caf-dae193dd0a1f\n"
     ]
    },
    {
     "name": "stdout",
     "output_type": "stream",
     "text": [
      "[0]\tvalidation_0-logloss:0.69167\n"
     ]
    },
    {
     "name": "stderr",
     "output_type": "stream",
     "text": [
      "/opt/conda/lib/python3.10/site-packages/xgboost/sklearn.py:835: UserWarning: `early_stopping_rounds` in `fit` method is deprecated for better compatibility with scikit-learn, use `early_stopping_rounds` in constructor or`set_params` instead.\n",
      "  warnings.warn(\n"
     ]
    },
    {
     "name": "stdout",
     "output_type": "stream",
     "text": [
      "[100]\tvalidation_0-logloss:0.61091\n",
      "[154]\tvalidation_0-logloss:0.59796\n"
     ]
    },
    {
     "name": "stderr",
     "output_type": "stream",
     "text": [
      "[I 2023-06-28 11:53:50,773] Trial 0 finished with value: 0.6888740416801642 and parameters: {'n_estimators': 155, 'max_depth': 10, 'learning_rate': 0.007444767033813142, 'subsample': 0.7326899320716066, 'reg_alpha': 0, 'reg_lambda': 0, 'colsample_bylevel': 0.7468168942178863}. Best is trial 0 with value: 0.6888740416801642.\n"
     ]
    },
    {
     "name": "stdout",
     "output_type": "stream",
     "text": [
      "[0]\tvalidation_0-logloss:0.69052\n"
     ]
    },
    {
     "name": "stderr",
     "output_type": "stream",
     "text": [
      "/opt/conda/lib/python3.10/site-packages/xgboost/sklearn.py:835: UserWarning: `early_stopping_rounds` in `fit` method is deprecated for better compatibility with scikit-learn, use `early_stopping_rounds` in constructor or`set_params` instead.\n",
      "  warnings.warn(\n"
     ]
    },
    {
     "name": "stdout",
     "output_type": "stream",
     "text": [
      "[100]\tvalidation_0-logloss:0.59713\n",
      "[200]\tvalidation_0-logloss:0.59084\n",
      "[300]\tvalidation_0-logloss:0.59014\n",
      "[322]\tvalidation_0-logloss:0.59018\n"
     ]
    },
    {
     "name": "stderr",
     "output_type": "stream",
     "text": [
      "[I 2023-06-28 11:53:53,715] Trial 1 finished with value: 0.6879116726055501 and parameters: {'n_estimators': 1144, 'max_depth': 2, 'learning_rate': 0.015919418921806476, 'subsample': 0.9037779884536905, 'reg_alpha': 0, 'reg_lambda': 0, 'colsample_bylevel': 0.649765611410875}. Best is trial 0 with value: 0.6888740416801642.\n"
     ]
    },
    {
     "name": "stdout",
     "output_type": "stream",
     "text": [
      "[0]\tvalidation_0-logloss:0.69275\n"
     ]
    },
    {
     "name": "stderr",
     "output_type": "stream",
     "text": [
      "/opt/conda/lib/python3.10/site-packages/xgboost/sklearn.py:835: UserWarning: `early_stopping_rounds` in `fit` method is deprecated for better compatibility with scikit-learn, use `early_stopping_rounds` in constructor or`set_params` instead.\n",
      "  warnings.warn(\n"
     ]
    },
    {
     "name": "stdout",
     "output_type": "stream",
     "text": [
      "[100]\tvalidation_0-logloss:0.65941\n",
      "[200]\tvalidation_0-logloss:0.63686\n",
      "[300]\tvalidation_0-logloss:0.62190\n",
      "[400]\tvalidation_0-logloss:0.61172\n",
      "[500]\tvalidation_0-logloss:0.60491\n",
      "[600]\tvalidation_0-logloss:0.60021\n",
      "[700]\tvalidation_0-logloss:0.59699\n",
      "[800]\tvalidation_0-logloss:0.59484\n",
      "[900]\tvalidation_0-logloss:0.59336\n",
      "[1000]\tvalidation_0-logloss:0.59234\n",
      "[1100]\tvalidation_0-logloss:0.59161\n",
      "[1200]\tvalidation_0-logloss:0.59110\n",
      "[1300]\tvalidation_0-logloss:0.59075\n",
      "[1400]\tvalidation_0-logloss:0.59050\n",
      "[1406]\tvalidation_0-logloss:0.59049\n"
     ]
    },
    {
     "name": "stderr",
     "output_type": "stream",
     "text": [
      "[I 2023-06-28 11:54:07,677] Trial 2 finished with value: 0.6870068927041716 and parameters: {'n_estimators': 1530, 'max_depth': 2, 'learning_rate': 0.0023154707949510946, 'subsample': 0.674846329531463, 'reg_alpha': 0, 'reg_lambda': 0, 'colsample_bylevel': 0.741749553979625}. Best is trial 0 with value: 0.6888740416801642.\n"
     ]
    },
    {
     "name": "stdout",
     "output_type": "stream",
     "text": [
      "[0]\tvalidation_0-logloss:0.69153\n"
     ]
    },
    {
     "name": "stderr",
     "output_type": "stream",
     "text": [
      "/opt/conda/lib/python3.10/site-packages/xgboost/sklearn.py:835: UserWarning: `early_stopping_rounds` in `fit` method is deprecated for better compatibility with scikit-learn, use `early_stopping_rounds` in constructor or`set_params` instead.\n",
      "  warnings.warn(\n"
     ]
    },
    {
     "name": "stdout",
     "output_type": "stream",
     "text": [
      "[100]\tvalidation_0-logloss:0.61068\n",
      "[200]\tvalidation_0-logloss:0.59294\n",
      "[300]\tvalidation_0-logloss:0.58948\n",
      "[398]\tvalidation_0-logloss:0.58912\n"
     ]
    },
    {
     "name": "stderr",
     "output_type": "stream",
     "text": [
      "[I 2023-06-28 11:54:14,940] Trial 3 finished with value: 0.6905963178922363 and parameters: {'n_estimators': 2254, 'max_depth': 5, 'learning_rate': 0.008107839128757247, 'subsample': 0.89125579826448, 'reg_alpha': 0, 'reg_lambda': 0, 'colsample_bylevel': 0.6020402688699023}. Best is trial 3 with value: 0.6905963178922363.\n"
     ]
    },
    {
     "name": "stdout",
     "output_type": "stream",
     "text": [
      "[0]\tvalidation_0-logloss:0.69125\n"
     ]
    },
    {
     "name": "stderr",
     "output_type": "stream",
     "text": [
      "/opt/conda/lib/python3.10/site-packages/xgboost/sklearn.py:835: UserWarning: `early_stopping_rounds` in `fit` method is deprecated for better compatibility with scikit-learn, use `early_stopping_rounds` in constructor or`set_params` instead.\n",
      "  warnings.warn(\n"
     ]
    },
    {
     "name": "stdout",
     "output_type": "stream",
     "text": [
      "[100]\tvalidation_0-logloss:0.60607\n",
      "[200]\tvalidation_0-logloss:0.59195\n",
      "[256]\tvalidation_0-logloss:0.59116\n"
     ]
    },
    {
     "name": "stderr",
     "output_type": "stream",
     "text": [
      "[I 2023-06-28 11:54:26,726] Trial 4 finished with value: 0.6881393298059965 and parameters: {'n_estimators': 806, 'max_depth': 9, 'learning_rate': 0.009233727719984756, 'subsample': 0.6883160369094112, 'reg_alpha': 0, 'reg_lambda': 0, 'colsample_bylevel': 0.8110287253598352}. Best is trial 3 with value: 0.6905963178922363.\n"
     ]
    },
    {
     "name": "stdout",
     "output_type": "stream",
     "text": [
      "[0]\tvalidation_0-logloss:0.69266\n"
     ]
    },
    {
     "name": "stderr",
     "output_type": "stream",
     "text": [
      "/opt/conda/lib/python3.10/site-packages/xgboost/sklearn.py:835: UserWarning: `early_stopping_rounds` in `fit` method is deprecated for better compatibility with scikit-learn, use `early_stopping_rounds` in constructor or`set_params` instead.\n",
      "  warnings.warn(\n"
     ]
    },
    {
     "name": "stdout",
     "output_type": "stream",
     "text": [
      "[100]\tvalidation_0-logloss:0.65414\n",
      "[200]\tvalidation_0-logloss:0.63021\n",
      "[300]\tvalidation_0-logloss:0.61540\n",
      "[400]\tvalidation_0-logloss:0.60598\n",
      "[500]\tvalidation_0-logloss:0.60020\n",
      "[600]\tvalidation_0-logloss:0.59651\n",
      "[700]\tvalidation_0-logloss:0.59422\n",
      "[800]\tvalidation_0-logloss:0.59280\n",
      "[900]\tvalidation_0-logloss:0.59192\n",
      "[967]\tvalidation_0-logloss:0.59149\n"
     ]
    },
    {
     "name": "stderr",
     "output_type": "stream",
     "text": [
      "[I 2023-06-28 11:54:37,174] Trial 5 finished with value: 0.6860805168628297 and parameters: {'n_estimators': 968, 'max_depth': 2, 'learning_rate': 0.0027676630843451737, 'subsample': 0.7160109654295339, 'reg_alpha': 0, 'reg_lambda': 0, 'colsample_bylevel': 0.8495831419829921}. Best is trial 3 with value: 0.6905963178922363.\n"
     ]
    },
    {
     "name": "stdout",
     "output_type": "stream",
     "text": [
      "[0]\tvalidation_0-logloss:0.68122\n"
     ]
    },
    {
     "name": "stderr",
     "output_type": "stream",
     "text": [
      "/opt/conda/lib/python3.10/site-packages/xgboost/sklearn.py:835: UserWarning: `early_stopping_rounds` in `fit` method is deprecated for better compatibility with scikit-learn, use `early_stopping_rounds` in constructor or`set_params` instead.\n",
      "  warnings.warn(\n"
     ]
    },
    {
     "name": "stdout",
     "output_type": "stream",
     "text": [
      "[48]\tvalidation_0-logloss:0.60364\n"
     ]
    },
    {
     "name": "stderr",
     "output_type": "stream",
     "text": [
      "[I 2023-06-28 11:54:39,609] Trial 6 finished with value: 0.6765850520102221 and parameters: {'n_estimators': 561, 'max_depth': 9, 'learning_rate': 0.06348810207023663, 'subsample': 0.5249723726036897, 'reg_alpha': 0, 'reg_lambda': 0, 'colsample_bylevel': 0.9640433897026032}. Best is trial 3 with value: 0.6905963178922363.\n"
     ]
    },
    {
     "name": "stdout",
     "output_type": "stream",
     "text": [
      "[0]\tvalidation_0-logloss:0.69201\n"
     ]
    },
    {
     "name": "stderr",
     "output_type": "stream",
     "text": [
      "/opt/conda/lib/python3.10/site-packages/xgboost/sklearn.py:835: UserWarning: `early_stopping_rounds` in `fit` method is deprecated for better compatibility with scikit-learn, use `early_stopping_rounds` in constructor or`set_params` instead.\n",
      "  warnings.warn(\n"
     ]
    },
    {
     "name": "stdout",
     "output_type": "stream",
     "text": [
      "[100]\tvalidation_0-logloss:0.62330\n",
      "[200]\tvalidation_0-logloss:0.59919\n",
      "[300]\tvalidation_0-logloss:0.59119\n",
      "[389]\tvalidation_0-logloss:0.58994\n"
     ]
    },
    {
     "name": "stderr",
     "output_type": "stream",
     "text": [
      "[I 2023-06-28 11:54:54,988] Trial 7 finished with value: 0.6903889068855056 and parameters: {'n_estimators': 1929, 'max_depth': 10, 'learning_rate': 0.005479124058067749, 'subsample': 0.6475887787097758, 'reg_alpha': 0, 'reg_lambda': 0, 'colsample_bylevel': 0.575251369818109}. Best is trial 3 with value: 0.6905963178922363.\n"
     ]
    },
    {
     "name": "stdout",
     "output_type": "stream",
     "text": [
      "[0]\tvalidation_0-logloss:0.68149\n"
     ]
    },
    {
     "name": "stderr",
     "output_type": "stream",
     "text": [
      "/opt/conda/lib/python3.10/site-packages/xgboost/sklearn.py:835: UserWarning: `early_stopping_rounds` in `fit` method is deprecated for better compatibility with scikit-learn, use `early_stopping_rounds` in constructor or`set_params` instead.\n",
      "  warnings.warn(\n"
     ]
    },
    {
     "name": "stdout",
     "output_type": "stream",
     "text": [
      "[56]\tvalidation_0-logloss:0.59292\n"
     ]
    },
    {
     "name": "stderr",
     "output_type": "stream",
     "text": [
      "[I 2023-06-28 11:54:56,114] Trial 8 finished with value: 0.683027840765936 and parameters: {'n_estimators': 1441, 'max_depth': 4, 'learning_rate': 0.06324707436465582, 'subsample': 0.8065347217431292, 'reg_alpha': 0, 'reg_lambda': 0, 'colsample_bylevel': 0.8484782378140835}. Best is trial 3 with value: 0.6905963178922363.\n"
     ]
    },
    {
     "name": "stdout",
     "output_type": "stream",
     "text": [
      "[0]\tvalidation_0-logloss:0.67782\n"
     ]
    },
    {
     "name": "stderr",
     "output_type": "stream",
     "text": [
      "/opt/conda/lib/python3.10/site-packages/xgboost/sklearn.py:835: UserWarning: `early_stopping_rounds` in `fit` method is deprecated for better compatibility with scikit-learn, use `early_stopping_rounds` in constructor or`set_params` instead.\n",
      "  warnings.warn(\n"
     ]
    },
    {
     "name": "stdout",
     "output_type": "stream",
     "text": [
      "[49]\tvalidation_0-logloss:0.59984\n"
     ]
    },
    {
     "name": "stderr",
     "output_type": "stream",
     "text": [
      "[I 2023-06-28 11:54:58,025] Trial 9 finished with value: 0.6819754886081416 and parameters: {'n_estimators': 1947, 'max_depth': 7, 'learning_rate': 0.07904479386908819, 'subsample': 0.9976306649909837, 'reg_alpha': 0, 'reg_lambda': 0, 'colsample_bylevel': 0.9717039050273724}. Best is trial 3 with value: 0.6905963178922363.\n"
     ]
    },
    {
     "name": "stdout",
     "output_type": "stream",
     "text": [
      "[0]\tvalidation_0-logloss:0.69290\n"
     ]
    },
    {
     "name": "stderr",
     "output_type": "stream",
     "text": [
      "/opt/conda/lib/python3.10/site-packages/xgboost/sklearn.py:835: UserWarning: `early_stopping_rounds` in `fit` method is deprecated for better compatibility with scikit-learn, use `early_stopping_rounds` in constructor or`set_params` instead.\n",
      "  warnings.warn(\n"
     ]
    },
    {
     "name": "stdout",
     "output_type": "stream",
     "text": [
      "[100]\tvalidation_0-logloss:0.67090\n",
      "[200]\tvalidation_0-logloss:0.65357\n",
      "[300]\tvalidation_0-logloss:0.63981\n",
      "[400]\tvalidation_0-logloss:0.62890\n",
      "[500]\tvalidation_0-logloss:0.62028\n",
      "[600]\tvalidation_0-logloss:0.61332\n",
      "[700]\tvalidation_0-logloss:0.60786\n",
      "[800]\tvalidation_0-logloss:0.60349\n",
      "[900]\tvalidation_0-logloss:0.60000\n",
      "[1000]\tvalidation_0-logloss:0.59726\n",
      "[1100]\tvalidation_0-logloss:0.59514\n",
      "[1200]\tvalidation_0-logloss:0.59348\n",
      "[1300]\tvalidation_0-logloss:0.59209\n",
      "[1400]\tvalidation_0-logloss:0.59103\n",
      "[1500]\tvalidation_0-logloss:0.59025\n",
      "[1600]\tvalidation_0-logloss:0.58959\n",
      "[1700]\tvalidation_0-logloss:0.58915\n",
      "[1800]\tvalidation_0-logloss:0.58878\n",
      "[1900]\tvalidation_0-logloss:0.58849\n",
      "[1960]\tvalidation_0-logloss:0.58837\n"
     ]
    },
    {
     "name": "stderr",
     "output_type": "stream",
     "text": [
      "[I 2023-06-28 11:55:30,192] Trial 10 finished with value: 0.6921597739624951 and parameters: {'n_estimators': 2500, 'max_depth': 5, 'learning_rate': 0.0012481851694879445, 'subsample': 0.8505423070550018, 'reg_alpha': 0, 'reg_lambda': 0, 'colsample_bylevel': 0.5006741031154978}. Best is trial 10 with value: 0.6921597739624951.\n"
     ]
    },
    {
     "name": "stdout",
     "output_type": "stream",
     "text": [
      "[0]\tvalidation_0-logloss:0.69291\n"
     ]
    },
    {
     "name": "stderr",
     "output_type": "stream",
     "text": [
      "/opt/conda/lib/python3.10/site-packages/xgboost/sklearn.py:835: UserWarning: `early_stopping_rounds` in `fit` method is deprecated for better compatibility with scikit-learn, use `early_stopping_rounds` in constructor or`set_params` instead.\n",
      "  warnings.warn(\n"
     ]
    },
    {
     "name": "stdout",
     "output_type": "stream",
     "text": [
      "[100]\tvalidation_0-logloss:0.67200\n",
      "[200]\tvalidation_0-logloss:0.65531\n",
      "[300]\tvalidation_0-logloss:0.64188\n",
      "[400]\tvalidation_0-logloss:0.63109\n",
      "[500]\tvalidation_0-logloss:0.62245\n",
      "[600]\tvalidation_0-logloss:0.61543\n",
      "[700]\tvalidation_0-logloss:0.60983\n",
      "[800]\tvalidation_0-logloss:0.60530\n",
      "[900]\tvalidation_0-logloss:0.60167\n",
      "[1000]\tvalidation_0-logloss:0.59874\n",
      "[1100]\tvalidation_0-logloss:0.59642\n",
      "[1200]\tvalidation_0-logloss:0.59451\n",
      "[1300]\tvalidation_0-logloss:0.59303\n",
      "[1400]\tvalidation_0-logloss:0.59189\n",
      "[1500]\tvalidation_0-logloss:0.59099\n",
      "[1600]\tvalidation_0-logloss:0.59021\n",
      "[1700]\tvalidation_0-logloss:0.58968\n",
      "[1800]\tvalidation_0-logloss:0.58918\n",
      "[1900]\tvalidation_0-logloss:0.58885\n",
      "[2000]\tvalidation_0-logloss:0.58858\n",
      "[2100]\tvalidation_0-logloss:0.58841\n",
      "[2200]\tvalidation_0-logloss:0.58829\n",
      "[2300]\tvalidation_0-logloss:0.58821\n",
      "[2354]\tvalidation_0-logloss:0.58817\n"
     ]
    },
    {
     "name": "stderr",
     "output_type": "stream",
     "text": [
      "[I 2023-06-28 11:56:08,998] Trial 11 finished with value: 0.6921723715941404 and parameters: {'n_estimators': 2469, 'max_depth': 5, 'learning_rate': 0.001180470650246686, 'subsample': 0.8473880147962558, 'reg_alpha': 0, 'reg_lambda': 0, 'colsample_bylevel': 0.5011046236066642}. Best is trial 11 with value: 0.6921723715941404.\n"
     ]
    },
    {
     "name": "stdout",
     "output_type": "stream",
     "text": [
      "[0]\tvalidation_0-logloss:0.69294\n"
     ]
    },
    {
     "name": "stderr",
     "output_type": "stream",
     "text": [
      "/opt/conda/lib/python3.10/site-packages/xgboost/sklearn.py:835: UserWarning: `early_stopping_rounds` in `fit` method is deprecated for better compatibility with scikit-learn, use `early_stopping_rounds` in constructor or`set_params` instead.\n",
      "  warnings.warn(\n"
     ]
    },
    {
     "name": "stdout",
     "output_type": "stream",
     "text": [
      "[100]\tvalidation_0-logloss:0.67462\n",
      "[200]\tvalidation_0-logloss:0.65941\n",
      "[300]\tvalidation_0-logloss:0.64686\n",
      "[400]\tvalidation_0-logloss:0.63650\n",
      "[500]\tvalidation_0-logloss:0.62794\n",
      "[600]\tvalidation_0-logloss:0.62078\n",
      "[700]\tvalidation_0-logloss:0.61486\n",
      "[800]\tvalidation_0-logloss:0.60996\n",
      "[900]\tvalidation_0-logloss:0.60585\n",
      "[1000]\tvalidation_0-logloss:0.60248\n",
      "[1100]\tvalidation_0-logloss:0.59967\n",
      "[1200]\tvalidation_0-logloss:0.59739\n",
      "[1300]\tvalidation_0-logloss:0.59551\n",
      "[1400]\tvalidation_0-logloss:0.59403\n",
      "[1500]\tvalidation_0-logloss:0.59279\n",
      "[1600]\tvalidation_0-logloss:0.59177\n",
      "[1700]\tvalidation_0-logloss:0.59103\n",
      "[1800]\tvalidation_0-logloss:0.59037\n",
      "[1900]\tvalidation_0-logloss:0.58978\n",
      "[2000]\tvalidation_0-logloss:0.58941\n",
      "[2100]\tvalidation_0-logloss:0.58910\n",
      "[2200]\tvalidation_0-logloss:0.58888\n",
      "[2300]\tvalidation_0-logloss:0.58865\n",
      "[2400]\tvalidation_0-logloss:0.58857\n",
      "[2499]\tvalidation_0-logloss:0.58846\n"
     ]
    },
    {
     "name": "stderr",
     "output_type": "stream",
     "text": [
      "[I 2023-06-28 11:56:58,686] Trial 12 finished with value: 0.6925305042651981 and parameters: {'n_estimators': 2500, 'max_depth': 6, 'learning_rate': 0.0010052496318172302, 'subsample': 0.8242348594808815, 'reg_alpha': 0, 'reg_lambda': 0, 'colsample_bylevel': 0.5045401102524364}. Best is trial 12 with value: 0.6925305042651981.\n"
     ]
    },
    {
     "name": "stdout",
     "output_type": "stream",
     "text": [
      "[0]\tvalidation_0-logloss:0.69292\n"
     ]
    },
    {
     "name": "stderr",
     "output_type": "stream",
     "text": [
      "/opt/conda/lib/python3.10/site-packages/xgboost/sklearn.py:835: UserWarning: `early_stopping_rounds` in `fit` method is deprecated for better compatibility with scikit-learn, use `early_stopping_rounds` in constructor or`set_params` instead.\n",
      "  warnings.warn(\n"
     ]
    },
    {
     "name": "stdout",
     "output_type": "stream",
     "text": [
      "[100]\tvalidation_0-logloss:0.67244\n",
      "[200]\tvalidation_0-logloss:0.65589\n",
      "[300]\tvalidation_0-logloss:0.64260\n",
      "[400]\tvalidation_0-logloss:0.63174\n",
      "[500]\tvalidation_0-logloss:0.62297\n",
      "[600]\tvalidation_0-logloss:0.61596\n",
      "[700]\tvalidation_0-logloss:0.61031\n",
      "[800]\tvalidation_0-logloss:0.60561\n",
      "[900]\tvalidation_0-logloss:0.60182\n",
      "[1000]\tvalidation_0-logloss:0.59874\n",
      "[1100]\tvalidation_0-logloss:0.59639\n",
      "[1200]\tvalidation_0-logloss:0.59452\n",
      "[1300]\tvalidation_0-logloss:0.59301\n",
      "[1400]\tvalidation_0-logloss:0.59188\n",
      "[1500]\tvalidation_0-logloss:0.59099\n",
      "[1600]\tvalidation_0-logloss:0.59030\n",
      "[1700]\tvalidation_0-logloss:0.58984\n",
      "[1800]\tvalidation_0-logloss:0.58940\n",
      "[1900]\tvalidation_0-logloss:0.58909\n",
      "[2000]\tvalidation_0-logloss:0.58895\n",
      "[2100]\tvalidation_0-logloss:0.58878\n",
      "[2131]\tvalidation_0-logloss:0.58880\n"
     ]
    },
    {
     "name": "stderr",
     "output_type": "stream",
     "text": [
      "[I 2023-06-28 11:57:49,461] Trial 13 finished with value: 0.6920517942626786 and parameters: {'n_estimators': 2453, 'max_depth': 7, 'learning_rate': 0.0011233671918052862, 'subsample': 0.7977359987159411, 'reg_alpha': 0, 'reg_lambda': 0, 'colsample_bylevel': 0.5079916961797375}. Best is trial 12 with value: 0.6925305042651981.\n"
     ]
    },
    {
     "name": "stdout",
     "output_type": "stream",
     "text": [
      "[0]\tvalidation_0-logloss:0.69293\n"
     ]
    },
    {
     "name": "stderr",
     "output_type": "stream",
     "text": [
      "/opt/conda/lib/python3.10/site-packages/xgboost/sklearn.py:835: UserWarning: `early_stopping_rounds` in `fit` method is deprecated for better compatibility with scikit-learn, use `early_stopping_rounds` in constructor or`set_params` instead.\n",
      "  warnings.warn(\n"
     ]
    },
    {
     "name": "stdout",
     "output_type": "stream",
     "text": [
      "[100]\tvalidation_0-logloss:0.67322\n",
      "[200]\tvalidation_0-logloss:0.65731\n",
      "[300]\tvalidation_0-logloss:0.64422\n",
      "[400]\tvalidation_0-logloss:0.63368\n",
      "[500]\tvalidation_0-logloss:0.62506\n",
      "[600]\tvalidation_0-logloss:0.61799\n",
      "[700]\tvalidation_0-logloss:0.61227\n",
      "[800]\tvalidation_0-logloss:0.60770\n",
      "[900]\tvalidation_0-logloss:0.60386\n",
      "[1000]\tvalidation_0-logloss:0.60080\n",
      "[1100]\tvalidation_0-logloss:0.59828\n",
      "[1200]\tvalidation_0-logloss:0.59629\n",
      "[1300]\tvalidation_0-logloss:0.59465\n",
      "[1400]\tvalidation_0-logloss:0.59336\n",
      "[1500]\tvalidation_0-logloss:0.59233\n",
      "[1600]\tvalidation_0-logloss:0.59154\n",
      "[1700]\tvalidation_0-logloss:0.59097\n",
      "[1800]\tvalidation_0-logloss:0.59038\n",
      "[1900]\tvalidation_0-logloss:0.59000\n",
      "[1912]\tvalidation_0-logloss:0.58996\n"
     ]
    },
    {
     "name": "stderr",
     "output_type": "stream",
     "text": [
      "[I 2023-06-28 11:58:38,329] Trial 14 finished with value: 0.6912914372098047 and parameters: {'n_estimators': 1913, 'max_depth': 7, 'learning_rate': 0.001075533309785816, 'subsample': 0.94039792274966, 'reg_alpha': 0, 'reg_lambda': 0, 'colsample_bylevel': 0.5750071696670357}. Best is trial 12 with value: 0.6925305042651981.\n"
     ]
    },
    {
     "name": "stdout",
     "output_type": "stream",
     "text": [
      "[0]\tvalidation_0-logloss:0.69274\n"
     ]
    },
    {
     "name": "stderr",
     "output_type": "stream",
     "text": [
      "/opt/conda/lib/python3.10/site-packages/xgboost/sklearn.py:835: UserWarning: `early_stopping_rounds` in `fit` method is deprecated for better compatibility with scikit-learn, use `early_stopping_rounds` in constructor or`set_params` instead.\n",
      "  warnings.warn(\n"
     ]
    },
    {
     "name": "stdout",
     "output_type": "stream",
     "text": [
      "[100]\tvalidation_0-logloss:0.65915\n",
      "[200]\tvalidation_0-logloss:0.63644\n",
      "[300]\tvalidation_0-logloss:0.62098\n",
      "[400]\tvalidation_0-logloss:0.61034\n",
      "[500]\tvalidation_0-logloss:0.60318\n",
      "[600]\tvalidation_0-logloss:0.59831\n",
      "[700]\tvalidation_0-logloss:0.59497\n",
      "[800]\tvalidation_0-logloss:0.59270\n",
      "[900]\tvalidation_0-logloss:0.59120\n",
      "[1000]\tvalidation_0-logloss:0.59018\n",
      "[1100]\tvalidation_0-logloss:0.58954\n",
      "[1200]\tvalidation_0-logloss:0.58914\n",
      "[1300]\tvalidation_0-logloss:0.58897\n",
      "[1400]\tvalidation_0-logloss:0.58885\n",
      "[1461]\tvalidation_0-logloss:0.58881\n"
     ]
    },
    {
     "name": "stderr",
     "output_type": "stream",
     "text": [
      "[I 2023-06-28 11:59:01,586] Trial 15 finished with value: 0.6905157830327898 and parameters: {'n_estimators': 2165, 'max_depth': 4, 'learning_rate': 0.0021062774487151004, 'subsample': 0.8115684188590856, 'reg_alpha': 0, 'reg_lambda': 0, 'colsample_bylevel': 0.6615122382204603}. Best is trial 12 with value: 0.6925305042651981.\n"
     ]
    },
    {
     "name": "stdout",
     "output_type": "stream",
     "text": [
      "[0]\tvalidation_0-logloss:0.69254\n"
     ]
    },
    {
     "name": "stderr",
     "output_type": "stream",
     "text": [
      "/opt/conda/lib/python3.10/site-packages/xgboost/sklearn.py:835: UserWarning: `early_stopping_rounds` in `fit` method is deprecated for better compatibility with scikit-learn, use `early_stopping_rounds` in constructor or`set_params` instead.\n",
      "  warnings.warn(\n"
     ]
    },
    {
     "name": "stdout",
     "output_type": "stream",
     "text": [
      "[100]\tvalidation_0-logloss:0.64576\n",
      "[200]\tvalidation_0-logloss:0.61974\n",
      "[300]\tvalidation_0-logloss:0.60494\n",
      "[400]\tvalidation_0-logloss:0.59699\n",
      "[500]\tvalidation_0-logloss:0.59258\n",
      "[600]\tvalidation_0-logloss:0.59032\n",
      "[700]\tvalidation_0-logloss:0.58926\n",
      "[800]\tvalidation_0-logloss:0.58875\n",
      "[869]\tvalidation_0-logloss:0.58865\n"
     ]
    },
    {
     "name": "stderr",
     "output_type": "stream",
     "text": [
      "[I 2023-06-28 11:59:19,159] Trial 16 finished with value: 0.6917714969585719 and parameters: {'n_estimators': 1527, 'max_depth': 6, 'learning_rate': 0.0031099205027057338, 'subsample': 0.7722614277917702, 'reg_alpha': 0, 'reg_lambda': 0, 'colsample_bylevel': 0.515747761452622}. Best is trial 12 with value: 0.6925305042651981.\n"
     ]
    },
    {
     "name": "stdout",
     "output_type": "stream",
     "text": [
      "[0]\tvalidation_0-logloss:0.69281\n"
     ]
    },
    {
     "name": "stderr",
     "output_type": "stream",
     "text": [
      "/opt/conda/lib/python3.10/site-packages/xgboost/sklearn.py:835: UserWarning: `early_stopping_rounds` in `fit` method is deprecated for better compatibility with scikit-learn, use `early_stopping_rounds` in constructor or`set_params` instead.\n",
      "  warnings.warn(\n"
     ]
    },
    {
     "name": "stdout",
     "output_type": "stream",
     "text": [
      "[100]\tvalidation_0-logloss:0.66391\n",
      "[200]\tvalidation_0-logloss:0.64310\n",
      "[300]\tvalidation_0-logloss:0.62791\n",
      "[400]\tvalidation_0-logloss:0.61686\n",
      "[500]\tvalidation_0-logloss:0.60885\n",
      "[600]\tvalidation_0-logloss:0.60312\n",
      "[700]\tvalidation_0-logloss:0.59889\n",
      "[800]\tvalidation_0-logloss:0.59578\n",
      "[900]\tvalidation_0-logloss:0.59357\n",
      "[1000]\tvalidation_0-logloss:0.59197\n",
      "[1100]\tvalidation_0-logloss:0.59080\n",
      "[1200]\tvalidation_0-logloss:0.59002\n",
      "[1300]\tvalidation_0-logloss:0.58939\n",
      "[1400]\tvalidation_0-logloss:0.58900\n",
      "[1500]\tvalidation_0-logloss:0.58879\n",
      "[1502]\tvalidation_0-logloss:0.58879\n"
     ]
    },
    {
     "name": "stderr",
     "output_type": "stream",
     "text": [
      "[I 2023-06-28 11:59:40,651] Trial 17 finished with value: 0.6906174639167837 and parameters: {'n_estimators': 1756, 'max_depth': 4, 'learning_rate': 0.0017565589398368681, 'subsample': 0.8582954358510879, 'reg_alpha': 0, 'reg_lambda': 0, 'colsample_bylevel': 0.5546937667652478}. Best is trial 12 with value: 0.6925305042651981.\n"
     ]
    },
    {
     "name": "stdout",
     "output_type": "stream",
     "text": [
      "[0]\tvalidation_0-logloss:0.69240\n"
     ]
    },
    {
     "name": "stderr",
     "output_type": "stream",
     "text": [
      "/opt/conda/lib/python3.10/site-packages/xgboost/sklearn.py:835: UserWarning: `early_stopping_rounds` in `fit` method is deprecated for better compatibility with scikit-learn, use `early_stopping_rounds` in constructor or`set_params` instead.\n",
      "  warnings.warn(\n"
     ]
    },
    {
     "name": "stdout",
     "output_type": "stream",
     "text": [
      "[100]\tvalidation_0-logloss:0.64016\n",
      "[200]\tvalidation_0-logloss:0.61397\n",
      "[300]\tvalidation_0-logloss:0.60061\n",
      "[400]\tvalidation_0-logloss:0.59432\n",
      "[500]\tvalidation_0-logloss:0.59123\n",
      "[600]\tvalidation_0-logloss:0.58990\n",
      "[667]\tvalidation_0-logloss:0.58960\n"
     ]
    },
    {
     "name": "stderr",
     "output_type": "stream",
     "text": [
      "[I 2023-06-28 11:59:56,218] Trial 18 finished with value: 0.6908415217939028 and parameters: {'n_estimators': 2224, 'max_depth': 6, 'learning_rate': 0.0036438118449383435, 'subsample': 0.9438672113370281, 'reg_alpha': 0, 'reg_lambda': 0, 'colsample_bylevel': 0.6318122846359968}. Best is trial 12 with value: 0.6925305042651981.\n"
     ]
    },
    {
     "name": "stdout",
     "output_type": "stream",
     "text": [
      "[0]\tvalidation_0-logloss:0.69287\n"
     ]
    },
    {
     "name": "stderr",
     "output_type": "stream",
     "text": [
      "/opt/conda/lib/python3.10/site-packages/xgboost/sklearn.py:835: UserWarning: `early_stopping_rounds` in `fit` method is deprecated for better compatibility with scikit-learn, use `early_stopping_rounds` in constructor or`set_params` instead.\n",
      "  warnings.warn(\n"
     ]
    },
    {
     "name": "stdout",
     "output_type": "stream",
     "text": [
      "[100]\tvalidation_0-logloss:0.66826\n",
      "[200]\tvalidation_0-logloss:0.64958\n",
      "[300]\tvalidation_0-logloss:0.63528\n",
      "[400]\tvalidation_0-logloss:0.62443\n",
      "[500]\tvalidation_0-logloss:0.61617\n",
      "[600]\tvalidation_0-logloss:0.60984\n",
      "[700]\tvalidation_0-logloss:0.60493\n",
      "[800]\tvalidation_0-logloss:0.60113\n",
      "[900]\tvalidation_0-logloss:0.59817\n",
      "[1000]\tvalidation_0-logloss:0.59595\n",
      "[1100]\tvalidation_0-logloss:0.59411\n",
      "[1200]\tvalidation_0-logloss:0.59280\n",
      "[1300]\tvalidation_0-logloss:0.59176\n",
      "[1400]\tvalidation_0-logloss:0.59098\n",
      "[1500]\tvalidation_0-logloss:0.59042\n",
      "[1600]\tvalidation_0-logloss:0.58995\n",
      "[1700]\tvalidation_0-logloss:0.58962\n",
      "[1800]\tvalidation_0-logloss:0.58940\n",
      "[1900]\tvalidation_0-logloss:0.58929\n",
      "[1911]\tvalidation_0-logloss:0.58928\n"
     ]
    },
    {
     "name": "stderr",
     "output_type": "stream",
     "text": [
      "[I 2023-06-28 12:00:17,376] Trial 19 finished with value: 0.6896263002555519 and parameters: {'n_estimators': 2273, 'max_depth': 3, 'learning_rate': 0.001499361296790352, 'subsample': 0.757690931487167, 'reg_alpha': 0, 'reg_lambda': 0, 'colsample_bylevel': 0.5483637586793967}. Best is trial 12 with value: 0.6925305042651981.\n"
     ]
    },
    {
     "name": "stdout",
     "output_type": "stream",
     "text": [
      "[0]\tvalidation_0-logloss:0.69288\n"
     ]
    },
    {
     "name": "stderr",
     "output_type": "stream",
     "text": [
      "/opt/conda/lib/python3.10/site-packages/xgboost/sklearn.py:835: UserWarning: `early_stopping_rounds` in `fit` method is deprecated for better compatibility with scikit-learn, use `early_stopping_rounds` in constructor or`set_params` instead.\n",
      "  warnings.warn(\n"
     ]
    },
    {
     "name": "stdout",
     "output_type": "stream",
     "text": [
      "[100]\tvalidation_0-logloss:0.66785\n",
      "[200]\tvalidation_0-logloss:0.64891\n",
      "[300]\tvalidation_0-logloss:0.63445\n",
      "[400]\tvalidation_0-logloss:0.62342\n",
      "[500]\tvalidation_0-logloss:0.61484\n",
      "[600]\tvalidation_0-logloss:0.60830\n",
      "[700]\tvalidation_0-logloss:0.60331\n",
      "[800]\tvalidation_0-logloss:0.59942\n",
      "[900]\tvalidation_0-logloss:0.59663\n",
      "[1000]\tvalidation_0-logloss:0.59434\n",
      "[1100]\tvalidation_0-logloss:0.59276\n",
      "[1200]\tvalidation_0-logloss:0.59150\n",
      "[1300]\tvalidation_0-logloss:0.59052\n",
      "[1400]\tvalidation_0-logloss:0.58994\n",
      "[1500]\tvalidation_0-logloss:0.58956\n",
      "[1600]\tvalidation_0-logloss:0.58928\n",
      "[1668]\tvalidation_0-logloss:0.58921\n"
     ]
    },
    {
     "name": "stderr",
     "output_type": "stream",
     "text": [
      "[I 2023-06-28 12:01:15,700] Trial 20 finished with value: 0.6917269553323976 and parameters: {'n_estimators': 1745, 'max_depth': 8, 'learning_rate': 0.0014009295931909692, 'subsample': 0.8278002458511639, 'reg_alpha': 0, 'reg_lambda': 0, 'colsample_bylevel': 0.6822939629130584}. Best is trial 12 with value: 0.6925305042651981.\n"
     ]
    },
    {
     "name": "stdout",
     "output_type": "stream",
     "text": [
      "[0]\tvalidation_0-logloss:0.69292\n"
     ]
    },
    {
     "name": "stderr",
     "output_type": "stream",
     "text": [
      "/opt/conda/lib/python3.10/site-packages/xgboost/sklearn.py:835: UserWarning: `early_stopping_rounds` in `fit` method is deprecated for better compatibility with scikit-learn, use `early_stopping_rounds` in constructor or`set_params` instead.\n",
      "  warnings.warn(\n"
     ]
    },
    {
     "name": "stdout",
     "output_type": "stream",
     "text": [
      "[100]\tvalidation_0-logloss:0.67238\n",
      "[200]\tvalidation_0-logloss:0.65594\n",
      "[300]\tvalidation_0-logloss:0.64260\n",
      "[400]\tvalidation_0-logloss:0.63187\n",
      "[500]\tvalidation_0-logloss:0.62326\n",
      "[600]\tvalidation_0-logloss:0.61621\n",
      "[700]\tvalidation_0-logloss:0.61052\n",
      "[800]\tvalidation_0-logloss:0.60592\n",
      "[900]\tvalidation_0-logloss:0.60219\n",
      "[1000]\tvalidation_0-logloss:0.59920\n",
      "[1100]\tvalidation_0-logloss:0.59684\n",
      "[1200]\tvalidation_0-logloss:0.59493\n",
      "[1300]\tvalidation_0-logloss:0.59335\n",
      "[1400]\tvalidation_0-logloss:0.59212\n",
      "[1500]\tvalidation_0-logloss:0.59112\n",
      "[1600]\tvalidation_0-logloss:0.59032\n",
      "[1700]\tvalidation_0-logloss:0.58974\n",
      "[1800]\tvalidation_0-logloss:0.58925\n",
      "[1900]\tvalidation_0-logloss:0.58888\n",
      "[2000]\tvalidation_0-logloss:0.58862\n",
      "[2100]\tvalidation_0-logloss:0.58838\n",
      "[2179]\tvalidation_0-logloss:0.58827\n"
     ]
    },
    {
     "name": "stderr",
     "output_type": "stream",
     "text": [
      "[I 2023-06-28 12:01:51,715] Trial 21 finished with value: 0.6923424396213512 and parameters: {'n_estimators': 2423, 'max_depth': 5, 'learning_rate': 0.0011566549362231682, 'subsample': 0.8573103468840958, 'reg_alpha': 0, 'reg_lambda': 0, 'colsample_bylevel': 0.5046404994203071}. Best is trial 12 with value: 0.6925305042651981.\n"
     ]
    },
    {
     "name": "stdout",
     "output_type": "stream",
     "text": [
      "[0]\tvalidation_0-logloss:0.69294\n"
     ]
    },
    {
     "name": "stderr",
     "output_type": "stream",
     "text": [
      "/opt/conda/lib/python3.10/site-packages/xgboost/sklearn.py:835: UserWarning: `early_stopping_rounds` in `fit` method is deprecated for better compatibility with scikit-learn, use `early_stopping_rounds` in constructor or`set_params` instead.\n",
      "  warnings.warn(\n"
     ]
    },
    {
     "name": "stdout",
     "output_type": "stream",
     "text": [
      "[100]\tvalidation_0-logloss:0.67452\n",
      "[200]\tvalidation_0-logloss:0.65940\n",
      "[300]\tvalidation_0-logloss:0.64684\n",
      "[400]\tvalidation_0-logloss:0.63649\n",
      "[500]\tvalidation_0-logloss:0.62791\n",
      "[600]\tvalidation_0-logloss:0.62077\n",
      "[700]\tvalidation_0-logloss:0.61488\n",
      "[800]\tvalidation_0-logloss:0.61003\n",
      "[900]\tvalidation_0-logloss:0.60599\n",
      "[1000]\tvalidation_0-logloss:0.60265\n",
      "[1100]\tvalidation_0-logloss:0.59986\n",
      "[1200]\tvalidation_0-logloss:0.59761\n",
      "[1300]\tvalidation_0-logloss:0.59578\n",
      "[1400]\tvalidation_0-logloss:0.59423\n",
      "[1500]\tvalidation_0-logloss:0.59298\n",
      "[1600]\tvalidation_0-logloss:0.59190\n",
      "[1700]\tvalidation_0-logloss:0.59108\n",
      "[1800]\tvalidation_0-logloss:0.59037\n",
      "[1900]\tvalidation_0-logloss:0.58981\n",
      "[2000]\tvalidation_0-logloss:0.58937\n",
      "[2100]\tvalidation_0-logloss:0.58899\n",
      "[2200]\tvalidation_0-logloss:0.58871\n",
      "[2300]\tvalidation_0-logloss:0.58848\n",
      "[2400]\tvalidation_0-logloss:0.58833\n",
      "[2485]\tvalidation_0-logloss:0.58821\n"
     ]
    },
    {
     "name": "stderr",
     "output_type": "stream",
     "text": [
      "[I 2023-06-28 12:02:33,035] Trial 22 finished with value: 0.6921516754850089 and parameters: {'n_estimators': 2486, 'max_depth': 5, 'learning_rate': 0.0010239351062115256, 'subsample': 0.8740805900964647, 'reg_alpha': 0, 'reg_lambda': 0, 'colsample_bylevel': 0.5001084322014211}. Best is trial 12 with value: 0.6925305042651981.\n"
     ]
    },
    {
     "name": "stdout",
     "output_type": "stream",
     "text": [
      "[0]\tvalidation_0-logloss:0.69280\n"
     ]
    },
    {
     "name": "stderr",
     "output_type": "stream",
     "text": [
      "/opt/conda/lib/python3.10/site-packages/xgboost/sklearn.py:835: UserWarning: `early_stopping_rounds` in `fit` method is deprecated for better compatibility with scikit-learn, use `early_stopping_rounds` in constructor or`set_params` instead.\n",
      "  warnings.warn(\n"
     ]
    },
    {
     "name": "stdout",
     "output_type": "stream",
     "text": [
      "[100]\tvalidation_0-logloss:0.66339\n",
      "[200]\tvalidation_0-logloss:0.64212\n",
      "[300]\tvalidation_0-logloss:0.62673\n",
      "[400]\tvalidation_0-logloss:0.61551\n",
      "[500]\tvalidation_0-logloss:0.60749\n",
      "[600]\tvalidation_0-logloss:0.60170\n",
      "[700]\tvalidation_0-logloss:0.59761\n",
      "[800]\tvalidation_0-logloss:0.59472\n",
      "[900]\tvalidation_0-logloss:0.59270\n",
      "[1000]\tvalidation_0-logloss:0.59122\n",
      "[1100]\tvalidation_0-logloss:0.59022\n",
      "[1200]\tvalidation_0-logloss:0.58951\n",
      "[1300]\tvalidation_0-logloss:0.58909\n",
      "[1400]\tvalidation_0-logloss:0.58880\n",
      "[1455]\tvalidation_0-logloss:0.58873\n"
     ]
    },
    {
     "name": "stderr",
     "output_type": "stream",
     "text": [
      "[I 2023-06-28 12:03:04,427] Trial 23 finished with value: 0.6920607925709967 and parameters: {'n_estimators': 2090, 'max_depth': 6, 'learning_rate': 0.001730628942579718, 'subsample': 0.8379063380188585, 'reg_alpha': 0, 'reg_lambda': 0, 'colsample_bylevel': 0.555789037501502}. Best is trial 12 with value: 0.6925305042651981.\n"
     ]
    },
    {
     "name": "stdout",
     "output_type": "stream",
     "text": [
      "[0]\tvalidation_0-logloss:0.69279\n"
     ]
    },
    {
     "name": "stderr",
     "output_type": "stream",
     "text": [
      "/opt/conda/lib/python3.10/site-packages/xgboost/sklearn.py:835: UserWarning: `early_stopping_rounds` in `fit` method is deprecated for better compatibility with scikit-learn, use `early_stopping_rounds` in constructor or`set_params` instead.\n",
      "  warnings.warn(\n"
     ]
    },
    {
     "name": "stdout",
     "output_type": "stream",
     "text": [
      "[100]\tvalidation_0-logloss:0.66200\n",
      "[200]\tvalidation_0-logloss:0.64045\n",
      "[300]\tvalidation_0-logloss:0.62532\n",
      "[400]\tvalidation_0-logloss:0.61466\n",
      "[500]\tvalidation_0-logloss:0.60720\n",
      "[600]\tvalidation_0-logloss:0.60198\n",
      "[700]\tvalidation_0-logloss:0.59827\n",
      "[800]\tvalidation_0-logloss:0.59542\n",
      "[900]\tvalidation_0-logloss:0.59344\n",
      "[1000]\tvalidation_0-logloss:0.59211\n",
      "[1100]\tvalidation_0-logloss:0.59109\n",
      "[1200]\tvalidation_0-logloss:0.59047\n",
      "[1300]\tvalidation_0-logloss:0.59006\n",
      "[1400]\tvalidation_0-logloss:0.58976\n",
      "[1500]\tvalidation_0-logloss:0.58959\n",
      "[1598]\tvalidation_0-logloss:0.58946\n"
     ]
    },
    {
     "name": "stderr",
     "output_type": "stream",
     "text": [
      "[I 2023-06-28 12:03:23,139] Trial 24 finished with value: 0.689058057085268 and parameters: {'n_estimators': 2409, 'max_depth': 3, 'learning_rate': 0.0019525406982834528, 'subsample': 0.7836978272870666, 'reg_alpha': 0, 'reg_lambda': 0, 'colsample_bylevel': 0.6052889539789107}. Best is trial 12 with value: 0.6925305042651981.\n"
     ]
    },
    {
     "name": "stdout",
     "output_type": "stream",
     "text": [
      "[0]\tvalidation_0-logloss:0.69265\n"
     ]
    },
    {
     "name": "stderr",
     "output_type": "stream",
     "text": [
      "/opt/conda/lib/python3.10/site-packages/xgboost/sklearn.py:835: UserWarning: `early_stopping_rounds` in `fit` method is deprecated for better compatibility with scikit-learn, use `early_stopping_rounds` in constructor or`set_params` instead.\n",
      "  warnings.warn(\n"
     ]
    },
    {
     "name": "stdout",
     "output_type": "stream",
     "text": [
      "[100]\tvalidation_0-logloss:0.65527\n",
      "[200]\tvalidation_0-logloss:0.63394\n",
      "[300]\tvalidation_0-logloss:0.62162\n",
      "[400]\tvalidation_0-logloss:0.61419\n",
      "[500]\tvalidation_0-logloss:0.60919\n",
      "[600]\tvalidation_0-logloss:0.60569\n",
      "[700]\tvalidation_0-logloss:0.60299\n",
      "[800]\tvalidation_0-logloss:0.60090\n",
      "[900]\tvalidation_0-logloss:0.59925\n",
      "[1000]\tvalidation_0-logloss:0.59784\n",
      "[1100]\tvalidation_0-logloss:0.59668\n",
      "[1200]\tvalidation_0-logloss:0.59573\n",
      "[1300]\tvalidation_0-logloss:0.59492\n",
      "[1400]\tvalidation_0-logloss:0.59423\n",
      "[1500]\tvalidation_0-logloss:0.59363\n",
      "[1600]\tvalidation_0-logloss:0.59317\n",
      "[1700]\tvalidation_0-logloss:0.59277\n",
      "[1800]\tvalidation_0-logloss:0.59242\n",
      "[1900]\tvalidation_0-logloss:0.59206\n",
      "[2000]\tvalidation_0-logloss:0.59178\n",
      "[2046]\tvalidation_0-logloss:0.59164\n"
     ]
    },
    {
     "name": "stderr",
     "output_type": "stream",
     "text": [
      "[I 2023-06-28 12:03:35,444] Trial 25 finished with value: 0.6857426303854876 and parameters: {'n_estimators': 2047, 'max_depth': 1, 'learning_rate': 0.003222090692616794, 'subsample': 0.9186745857134131, 'reg_alpha': 0, 'reg_lambda': 0, 'colsample_bylevel': 0.5385299171000524}. Best is trial 12 with value: 0.6925305042651981.\n"
     ]
    },
    {
     "name": "stdout",
     "output_type": "stream",
     "text": [
      "[0]\tvalidation_0-logloss:0.69286\n"
     ]
    },
    {
     "name": "stderr",
     "output_type": "stream",
     "text": [
      "/opt/conda/lib/python3.10/site-packages/xgboost/sklearn.py:835: UserWarning: `early_stopping_rounds` in `fit` method is deprecated for better compatibility with scikit-learn, use `early_stopping_rounds` in constructor or`set_params` instead.\n",
      "  warnings.warn(\n"
     ]
    },
    {
     "name": "stdout",
     "output_type": "stream",
     "text": [
      "[100]\tvalidation_0-logloss:0.66748\n",
      "[200]\tvalidation_0-logloss:0.64832\n",
      "[300]\tvalidation_0-logloss:0.63371\n",
      "[400]\tvalidation_0-logloss:0.62262\n",
      "[500]\tvalidation_0-logloss:0.61421\n",
      "[600]\tvalidation_0-logloss:0.60781\n",
      "[700]\tvalidation_0-logloss:0.60291\n",
      "[800]\tvalidation_0-logloss:0.59922\n",
      "[900]\tvalidation_0-logloss:0.59638\n",
      "[1000]\tvalidation_0-logloss:0.59427\n",
      "[1100]\tvalidation_0-logloss:0.59265\n",
      "[1200]\tvalidation_0-logloss:0.59148\n",
      "[1300]\tvalidation_0-logloss:0.59050\n",
      "[1400]\tvalidation_0-logloss:0.58993\n",
      "[1500]\tvalidation_0-logloss:0.58963\n",
      "[1600]\tvalidation_0-logloss:0.58929\n",
      "[1700]\tvalidation_0-logloss:0.58902\n",
      "[1728]\tvalidation_0-logloss:0.58895\n"
     ]
    },
    {
     "name": "stderr",
     "output_type": "stream",
     "text": [
      "[I 2023-06-28 12:04:07,324] Trial 26 finished with value: 0.6910790771334989 and parameters: {'n_estimators': 1729, 'max_depth': 5, 'learning_rate': 0.0014757351360396899, 'subsample': 0.8635906609989654, 'reg_alpha': 0, 'reg_lambda': 0, 'colsample_bylevel': 0.591172771233626}. Best is trial 12 with value: 0.6925305042651981.\n"
     ]
    },
    {
     "name": "stdout",
     "output_type": "stream",
     "text": [
      "[0]\tvalidation_0-logloss:0.69295\n"
     ]
    },
    {
     "name": "stderr",
     "output_type": "stream",
     "text": [
      "/opt/conda/lib/python3.10/site-packages/xgboost/sklearn.py:835: UserWarning: `early_stopping_rounds` in `fit` method is deprecated for better compatibility with scikit-learn, use `early_stopping_rounds` in constructor or`set_params` instead.\n",
      "  warnings.warn(\n"
     ]
    },
    {
     "name": "stdout",
     "output_type": "stream",
     "text": [
      "[100]\tvalidation_0-logloss:0.67432\n",
      "[200]\tvalidation_0-logloss:0.65894\n",
      "[300]\tvalidation_0-logloss:0.64641\n",
      "[400]\tvalidation_0-logloss:0.63601\n",
      "[500]\tvalidation_0-logloss:0.62739\n",
      "[600]\tvalidation_0-logloss:0.62022\n",
      "[700]\tvalidation_0-logloss:0.61434\n",
      "[800]\tvalidation_0-logloss:0.60951\n",
      "[900]\tvalidation_0-logloss:0.60550\n",
      "[1000]\tvalidation_0-logloss:0.60214\n",
      "[1100]\tvalidation_0-logloss:0.59928\n",
      "[1200]\tvalidation_0-logloss:0.59713\n",
      "[1300]\tvalidation_0-logloss:0.59531\n",
      "[1400]\tvalidation_0-logloss:0.59390\n",
      "[1500]\tvalidation_0-logloss:0.59269\n",
      "[1600]\tvalidation_0-logloss:0.59171\n",
      "[1700]\tvalidation_0-logloss:0.59092\n",
      "[1800]\tvalidation_0-logloss:0.59033\n",
      "[1900]\tvalidation_0-logloss:0.58991\n",
      "[2000]\tvalidation_0-logloss:0.58958\n",
      "[2100]\tvalidation_0-logloss:0.58933\n",
      "[2200]\tvalidation_0-logloss:0.58924\n",
      "[2211]\tvalidation_0-logloss:0.58923\n"
     ]
    },
    {
     "name": "stderr",
     "output_type": "stream",
     "text": [
      "[I 2023-06-28 12:05:11,300] Trial 27 finished with value: 0.6920023035669294 and parameters: {'n_estimators': 2329, 'max_depth': 8, 'learning_rate': 0.0010020108432244425, 'subsample': 0.8293241328714294, 'reg_alpha': 0, 'reg_lambda': 0, 'colsample_bylevel': 0.5383927599990698}. Best is trial 12 with value: 0.6925305042651981.\n"
     ]
    },
    {
     "name": "stdout",
     "output_type": "stream",
     "text": [
      "[0]\tvalidation_0-logloss:0.69270\n"
     ]
    },
    {
     "name": "stderr",
     "output_type": "stream",
     "text": [
      "/opt/conda/lib/python3.10/site-packages/xgboost/sklearn.py:835: UserWarning: `early_stopping_rounds` in `fit` method is deprecated for better compatibility with scikit-learn, use `early_stopping_rounds` in constructor or`set_params` instead.\n",
      "  warnings.warn(\n"
     ]
    },
    {
     "name": "stdout",
     "output_type": "stream",
     "text": [
      "[100]\tvalidation_0-logloss:0.65689\n",
      "[200]\tvalidation_0-logloss:0.63349\n",
      "[300]\tvalidation_0-logloss:0.61793\n",
      "[400]\tvalidation_0-logloss:0.60773\n",
      "[500]\tvalidation_0-logloss:0.60108\n",
      "[600]\tvalidation_0-logloss:0.59664\n",
      "[700]\tvalidation_0-logloss:0.59371\n",
      "[800]\tvalidation_0-logloss:0.59166\n",
      "[900]\tvalidation_0-logloss:0.59043\n",
      "[1000]\tvalidation_0-logloss:0.58962\n",
      "[1100]\tvalidation_0-logloss:0.58921\n",
      "[1200]\tvalidation_0-logloss:0.58897\n",
      "[1268]\tvalidation_0-logloss:0.58892\n"
     ]
    },
    {
     "name": "stderr",
     "output_type": "stream",
     "text": [
      "[I 2023-06-28 12:05:30,528] Trial 28 finished with value: 0.690607115862218 and parameters: {'n_estimators': 2126, 'max_depth': 4, 'learning_rate': 0.0022852758247360887, 'subsample': 0.8944450908421433, 'reg_alpha': 0, 'reg_lambda': 0, 'colsample_bylevel': 0.6204525777041169}. Best is trial 12 with value: 0.6925305042651981.\n"
     ]
    },
    {
     "name": "stdout",
     "output_type": "stream",
     "text": [
      "[0]\tvalidation_0-logloss:0.69226\n"
     ]
    },
    {
     "name": "stderr",
     "output_type": "stream",
     "text": [
      "/opt/conda/lib/python3.10/site-packages/xgboost/sklearn.py:835: UserWarning: `early_stopping_rounds` in `fit` method is deprecated for better compatibility with scikit-learn, use `early_stopping_rounds` in constructor or`set_params` instead.\n",
      "  warnings.warn(\n"
     ]
    },
    {
     "name": "stdout",
     "output_type": "stream",
     "text": [
      "[100]\tvalidation_0-logloss:0.63305\n",
      "[200]\tvalidation_0-logloss:0.60720\n",
      "[300]\tvalidation_0-logloss:0.59551\n",
      "[400]\tvalidation_0-logloss:0.59063\n",
      "[484]\tvalidation_0-logloss:0.58883\n"
     ]
    },
    {
     "name": "stderr",
     "output_type": "stream",
     "text": [
      "[I 2023-06-28 12:05:40,802] Trial 29 finished with value: 0.692352337760501 and parameters: {'n_estimators': 485, 'max_depth': 6, 'learning_rate': 0.0044043674444351226, 'subsample': 0.747335844425485, 'reg_alpha': 0, 'reg_lambda': 0, 'colsample_bylevel': 0.5327080922066113}. Best is trial 12 with value: 0.6925305042651981.\n"
     ]
    }
   ],
   "source": [
    "def objective_xgb_ec1(trial):\n",
    "    n_estimators = trial.suggest_int('n_estimators', 100, 2500)\n",
    "    max_depth = trial.suggest_int(\"max_depth\", 1,10)\n",
    "    learning_rate = trial.suggest_float('learning_rate', 0.001, 0.1,log=True)\n",
    "    subsample =  trial.suggest_float('subsample', 0.5, 1.0)\n",
    "    r_alpha = trial.suggest_int(\"reg_alpha\", 0.0, 0.1)\n",
    "    r_lambda = trial.suggest_int(\"reg_lambda\", 0.0, 0.1)\n",
    "    colsample_bylevel =  trial.suggest_float('colsample_bylevel', 0.5, 1.0)\n",
    "\n",
    "    xgb = XGBClassifier(\n",
    "            n_estimators =n_estimators,\n",
    "            max_depth=max_depth, \n",
    "            learning_rate = learning_rate,\n",
    "            subsample = subsample,\n",
    "            reg_alpha = r_alpha,\n",
    "            reg_lambda = r_lambda,\n",
    "            colsample_bylevel = colsample_bylevel\n",
    "        )\n",
    "    \n",
    "    xgb.fit(x_train, y_train['EC1'], eval_set=[(x_val, y_val['EC1'])], early_stopping_rounds=20, verbose=100)\n",
    "\n",
    "    y_pred_proba = xgb.predict_proba(x_val)[:, 1]\n",
    "    roc_auc = roc_auc_score(y_val['EC1'], y_pred_proba)\n",
    "    return roc_auc\n",
    "study_xgb_ec1 = optuna.create_study(direction=\"maximize\")\n",
    "study_xgb_ec1.optimize(objective_xgb_ec1, n_trials=30)"
   ]
  },
  {
   "cell_type": "code",
   "execution_count": 29,
   "id": "d27dbf66",
   "metadata": {
    "execution": {
     "iopub.execute_input": "2023-06-28T12:05:41.048550Z",
     "iopub.status.busy": "2023-06-28T12:05:41.048130Z",
     "iopub.status.idle": "2023-06-28T12:05:41.054512Z",
     "shell.execute_reply": "2023-06-28T12:05:41.053370Z"
    },
    "papermill": {
     "duration": 0.128489,
     "end_time": "2023-06-28T12:05:41.057177",
     "exception": false,
     "start_time": "2023-06-28T12:05:40.928688",
     "status": "completed"
    },
    "tags": []
   },
   "outputs": [
    {
     "name": "stdout",
     "output_type": "stream",
     "text": [
      "ROC_AUC Score: 0.6925305042651981\n",
      "Best hyperparameters: {'n_estimators': 2500, 'max_depth': 6, 'learning_rate': 0.0010052496318172302, 'subsample': 0.8242348594808815, 'reg_alpha': 0, 'reg_lambda': 0, 'colsample_bylevel': 0.5045401102524364}\n"
     ]
    }
   ],
   "source": [
    "trial_xgb_ec1 = study_xgb_ec1.best_trial\n",
    "print('ROC_AUC Score: {}'.format(trial_xgb_ec1.value))\n",
    "print(\"Best hyperparameters: {}\".format(trial_xgb_ec1.params))"
   ]
  },
  {
   "cell_type": "code",
   "execution_count": 30,
   "id": "40b7b232",
   "metadata": {
    "execution": {
     "iopub.execute_input": "2023-06-28T12:05:41.293479Z",
     "iopub.status.busy": "2023-06-28T12:05:41.293069Z",
     "iopub.status.idle": "2023-06-28T12:06:30.513826Z",
     "shell.execute_reply": "2023-06-28T12:06:30.512580Z"
    },
    "papermill": {
     "duration": 49.45439,
     "end_time": "2023-06-28T12:06:30.628498",
     "exception": false,
     "start_time": "2023-06-28T12:05:41.174108",
     "status": "completed"
    },
    "tags": []
   },
   "outputs": [
    {
     "name": "stderr",
     "output_type": "stream",
     "text": [
      "/opt/conda/lib/python3.10/site-packages/xgboost/sklearn.py:835: UserWarning: `early_stopping_rounds` in `fit` method is deprecated for better compatibility with scikit-learn, use `early_stopping_rounds` in constructor or`set_params` instead.\n",
      "  warnings.warn(\n"
     ]
    },
    {
     "data": {
      "text/html": [
       "<style>#sk-container-id-3 {color: black;background-color: white;}#sk-container-id-3 pre{padding: 0;}#sk-container-id-3 div.sk-toggleable {background-color: white;}#sk-container-id-3 label.sk-toggleable__label {cursor: pointer;display: block;width: 100%;margin-bottom: 0;padding: 0.3em;box-sizing: border-box;text-align: center;}#sk-container-id-3 label.sk-toggleable__label-arrow:before {content: \"▸\";float: left;margin-right: 0.25em;color: #696969;}#sk-container-id-3 label.sk-toggleable__label-arrow:hover:before {color: black;}#sk-container-id-3 div.sk-estimator:hover label.sk-toggleable__label-arrow:before {color: black;}#sk-container-id-3 div.sk-toggleable__content {max-height: 0;max-width: 0;overflow: hidden;text-align: left;background-color: #f0f8ff;}#sk-container-id-3 div.sk-toggleable__content pre {margin: 0.2em;color: black;border-radius: 0.25em;background-color: #f0f8ff;}#sk-container-id-3 input.sk-toggleable__control:checked~div.sk-toggleable__content {max-height: 200px;max-width: 100%;overflow: auto;}#sk-container-id-3 input.sk-toggleable__control:checked~label.sk-toggleable__label-arrow:before {content: \"▾\";}#sk-container-id-3 div.sk-estimator input.sk-toggleable__control:checked~label.sk-toggleable__label {background-color: #d4ebff;}#sk-container-id-3 div.sk-label input.sk-toggleable__control:checked~label.sk-toggleable__label {background-color: #d4ebff;}#sk-container-id-3 input.sk-hidden--visually {border: 0;clip: rect(1px 1px 1px 1px);clip: rect(1px, 1px, 1px, 1px);height: 1px;margin: -1px;overflow: hidden;padding: 0;position: absolute;width: 1px;}#sk-container-id-3 div.sk-estimator {font-family: monospace;background-color: #f0f8ff;border: 1px dotted black;border-radius: 0.25em;box-sizing: border-box;margin-bottom: 0.5em;}#sk-container-id-3 div.sk-estimator:hover {background-color: #d4ebff;}#sk-container-id-3 div.sk-parallel-item::after {content: \"\";width: 100%;border-bottom: 1px solid gray;flex-grow: 1;}#sk-container-id-3 div.sk-label:hover label.sk-toggleable__label {background-color: #d4ebff;}#sk-container-id-3 div.sk-serial::before {content: \"\";position: absolute;border-left: 1px solid gray;box-sizing: border-box;top: 0;bottom: 0;left: 50%;z-index: 0;}#sk-container-id-3 div.sk-serial {display: flex;flex-direction: column;align-items: center;background-color: white;padding-right: 0.2em;padding-left: 0.2em;position: relative;}#sk-container-id-3 div.sk-item {position: relative;z-index: 1;}#sk-container-id-3 div.sk-parallel {display: flex;align-items: stretch;justify-content: center;background-color: white;position: relative;}#sk-container-id-3 div.sk-item::before, #sk-container-id-3 div.sk-parallel-item::before {content: \"\";position: absolute;border-left: 1px solid gray;box-sizing: border-box;top: 0;bottom: 0;left: 50%;z-index: -1;}#sk-container-id-3 div.sk-parallel-item {display: flex;flex-direction: column;z-index: 1;position: relative;background-color: white;}#sk-container-id-3 div.sk-parallel-item:first-child::after {align-self: flex-end;width: 50%;}#sk-container-id-3 div.sk-parallel-item:last-child::after {align-self: flex-start;width: 50%;}#sk-container-id-3 div.sk-parallel-item:only-child::after {width: 0;}#sk-container-id-3 div.sk-dashed-wrapped {border: 1px dashed gray;margin: 0 0.4em 0.5em 0.4em;box-sizing: border-box;padding-bottom: 0.4em;background-color: white;}#sk-container-id-3 div.sk-label label {font-family: monospace;font-weight: bold;display: inline-block;line-height: 1.2em;}#sk-container-id-3 div.sk-label-container {text-align: center;}#sk-container-id-3 div.sk-container {/* jupyter's `normalize.less` sets `[hidden] { display: none; }` but bootstrap.min.css set `[hidden] { display: none !important; }` so we also need the `!important` here to be able to override the default hidden behavior on the sphinx rendered scikit-learn.org. See: https://github.com/scikit-learn/scikit-learn/issues/21755 */display: inline-block !important;position: relative;}#sk-container-id-3 div.sk-text-repr-fallback {display: none;}</style><div id=\"sk-container-id-3\" class=\"sk-top-container\"><div class=\"sk-text-repr-fallback\"><pre>XGBClassifier(base_score=None, booster=None, callbacks=None,\n",
       "              colsample_bylevel=0.5045401102524364, colsample_bynode=None,\n",
       "              colsample_bytree=None, early_stopping_rounds=None,\n",
       "              enable_categorical=False, eval_metric=None, feature_types=None,\n",
       "              gamma=None, gpu_id=None, grow_policy=None, importance_type=None,\n",
       "              interaction_constraints=None, learning_rate=0.0010052496318172302,\n",
       "              max_bin=None, max_cat_threshold=None, max_cat_to_onehot=None,\n",
       "              max_delta_step=None, max_depth=6, max_leaves=None,\n",
       "              min_child_weight=None, missing=nan, monotone_constraints=None,\n",
       "              n_estimators=2500, n_jobs=None, num_parallel_tree=None,\n",
       "              predictor=None, random_state=None, ...)</pre><b>In a Jupyter environment, please rerun this cell to show the HTML representation or trust the notebook. <br />On GitHub, the HTML representation is unable to render, please try loading this page with nbviewer.org.</b></div><div class=\"sk-container\" hidden><div class=\"sk-item\"><div class=\"sk-estimator sk-toggleable\"><input class=\"sk-toggleable__control sk-hidden--visually\" id=\"sk-estimator-id-3\" type=\"checkbox\" checked><label for=\"sk-estimator-id-3\" class=\"sk-toggleable__label sk-toggleable__label-arrow\">XGBClassifier</label><div class=\"sk-toggleable__content\"><pre>XGBClassifier(base_score=None, booster=None, callbacks=None,\n",
       "              colsample_bylevel=0.5045401102524364, colsample_bynode=None,\n",
       "              colsample_bytree=None, early_stopping_rounds=None,\n",
       "              enable_categorical=False, eval_metric=None, feature_types=None,\n",
       "              gamma=None, gpu_id=None, grow_policy=None, importance_type=None,\n",
       "              interaction_constraints=None, learning_rate=0.0010052496318172302,\n",
       "              max_bin=None, max_cat_threshold=None, max_cat_to_onehot=None,\n",
       "              max_delta_step=None, max_depth=6, max_leaves=None,\n",
       "              min_child_weight=None, missing=nan, monotone_constraints=None,\n",
       "              n_estimators=2500, n_jobs=None, num_parallel_tree=None,\n",
       "              predictor=None, random_state=None, ...)</pre></div></div></div></div></div>"
      ],
      "text/plain": [
       "XGBClassifier(base_score=None, booster=None, callbacks=None,\n",
       "              colsample_bylevel=0.5045401102524364, colsample_bynode=None,\n",
       "              colsample_bytree=None, early_stopping_rounds=None,\n",
       "              enable_categorical=False, eval_metric=None, feature_types=None,\n",
       "              gamma=None, gpu_id=None, grow_policy=None, importance_type=None,\n",
       "              interaction_constraints=None, learning_rate=0.0010052496318172302,\n",
       "              max_bin=None, max_cat_threshold=None, max_cat_to_onehot=None,\n",
       "              max_delta_step=None, max_depth=6, max_leaves=None,\n",
       "              min_child_weight=None, missing=nan, monotone_constraints=None,\n",
       "              n_estimators=2500, n_jobs=None, num_parallel_tree=None,\n",
       "              predictor=None, random_state=None, ...)"
      ]
     },
     "execution_count": 30,
     "metadata": {},
     "output_type": "execute_result"
    }
   ],
   "source": [
    "xgb_ec1 = XGBClassifier(**trial_xgb_ec1.params)\n",
    "xgb_ec1.fit(x_train, y_train['EC1'], eval_set=[(x_val, y_val['EC1'])], early_stopping_rounds=20, verbose=False)"
   ]
  },
  {
   "cell_type": "code",
   "execution_count": 31,
   "id": "a5f9b6d9",
   "metadata": {
    "execution": {
     "iopub.execute_input": "2023-06-28T12:06:30.865242Z",
     "iopub.status.busy": "2023-06-28T12:06:30.864799Z",
     "iopub.status.idle": "2023-06-28T12:08:57.871515Z",
     "shell.execute_reply": "2023-06-28T12:08:57.870172Z"
    },
    "papermill": {
     "duration": 147.128391,
     "end_time": "2023-06-28T12:08:57.874150",
     "exception": false,
     "start_time": "2023-06-28T12:06:30.745759",
     "status": "completed"
    },
    "tags": []
   },
   "outputs": [
    {
     "name": "stderr",
     "output_type": "stream",
     "text": [
      "[I 2023-06-28 12:06:30,872] A new study created in memory with name: no-name-d238ab5e-fd4c-4569-9ede-160034496cbf\n"
     ]
    },
    {
     "name": "stdout",
     "output_type": "stream",
     "text": [
      "[0]\tvalidation_0-logloss:0.68848\n",
      "[100]\tvalidation_0-logloss:0.51477\n",
      "[200]\tvalidation_0-logloss:0.49676\n",
      "[300]\tvalidation_0-logloss:0.49543\n",
      "[314]\tvalidation_0-logloss:0.49548\n"
     ]
    },
    {
     "name": "stderr",
     "output_type": "stream",
     "text": [
      "[I 2023-06-28 12:06:34,940] Trial 0 finished with value: 0.5829268907139618 and parameters: {'n_estimators': 1647, 'max_depth': 3, 'learning_rate': 0.012861411224157899, 'subsample': 0.8859496138079741, 'reg_alpha': 0, 'reg_lambda': 0, 'colsample_bylevel': 0.7466866144267571}. Best is trial 0 with value: 0.5829268907139618.\n"
     ]
    },
    {
     "name": "stdout",
     "output_type": "stream",
     "text": [
      "[0]\tvalidation_0-logloss:0.67677\n"
     ]
    },
    {
     "name": "stderr",
     "output_type": "stream",
     "text": [
      "/opt/conda/lib/python3.10/site-packages/xgboost/sklearn.py:835: UserWarning: `early_stopping_rounds` in `fit` method is deprecated for better compatibility with scikit-learn, use `early_stopping_rounds` in constructor or`set_params` instead.\n",
      "  warnings.warn(\n"
     ]
    },
    {
     "name": "stdout",
     "output_type": "stream",
     "text": [
      "[87]\tvalidation_0-logloss:0.49741\n"
     ]
    },
    {
     "name": "stderr",
     "output_type": "stream",
     "text": [
      "[I 2023-06-28 12:06:36,597] Trial 1 finished with value: 0.574031969567189 and parameters: {'n_estimators': 401, 'max_depth': 4, 'learning_rate': 0.046089870624290034, 'subsample': 0.5212084035230513, 'reg_alpha': 0, 'reg_lambda': 0, 'colsample_bylevel': 0.8512959892587174}. Best is trial 0 with value: 0.5829268907139618.\n"
     ]
    },
    {
     "name": "stdout",
     "output_type": "stream",
     "text": [
      "[0]\tvalidation_0-logloss:0.68668\n"
     ]
    },
    {
     "name": "stderr",
     "output_type": "stream",
     "text": [
      "/opt/conda/lib/python3.10/site-packages/xgboost/sklearn.py:835: UserWarning: `early_stopping_rounds` in `fit` method is deprecated for better compatibility with scikit-learn, use `early_stopping_rounds` in constructor or`set_params` instead.\n",
      "  warnings.warn(\n"
     ]
    },
    {
     "name": "stdout",
     "output_type": "stream",
     "text": [
      "[100]\tvalidation_0-logloss:0.50485\n",
      "[149]\tvalidation_0-logloss:0.50279\n"
     ]
    },
    {
     "name": "stderr",
     "output_type": "stream",
     "text": [
      "[I 2023-06-28 12:06:42,499] Trial 2 finished with value: 0.561313422683529 and parameters: {'n_estimators': 1842, 'max_depth': 9, 'learning_rate': 0.018220833336848076, 'subsample': 0.5505146760579683, 'reg_alpha': 0, 'reg_lambda': 0, 'colsample_bylevel': 0.7279225699166219}. Best is trial 0 with value: 0.5829268907139618.\n"
     ]
    },
    {
     "name": "stdout",
     "output_type": "stream",
     "text": [
      "[0]\tvalidation_0-logloss:0.69273\n"
     ]
    },
    {
     "name": "stderr",
     "output_type": "stream",
     "text": [
      "/opt/conda/lib/python3.10/site-packages/xgboost/sklearn.py:835: UserWarning: `early_stopping_rounds` in `fit` method is deprecated for better compatibility with scikit-learn, use `early_stopping_rounds` in constructor or`set_params` instead.\n",
      "  warnings.warn(\n"
     ]
    },
    {
     "name": "stdout",
     "output_type": "stream",
     "text": [
      "[100]\tvalidation_0-logloss:0.65569\n",
      "[200]\tvalidation_0-logloss:0.62598\n",
      "[300]\tvalidation_0-logloss:0.60193\n",
      "[400]\tvalidation_0-logloss:0.58245\n",
      "[500]\tvalidation_0-logloss:0.56665\n",
      "[600]\tvalidation_0-logloss:0.55360\n",
      "[700]\tvalidation_0-logloss:0.54292\n",
      "[800]\tvalidation_0-logloss:0.53420\n",
      "[900]\tvalidation_0-logloss:0.52696\n",
      "[1000]\tvalidation_0-logloss:0.52110\n",
      "[1100]\tvalidation_0-logloss:0.51639\n",
      "[1200]\tvalidation_0-logloss:0.51243\n",
      "[1262]\tvalidation_0-logloss:0.51038\n"
     ]
    },
    {
     "name": "stderr",
     "output_type": "stream",
     "text": [
      "[I 2023-06-28 12:07:26,728] Trial 3 finished with value: 0.5758363984481282 and parameters: {'n_estimators': 1263, 'max_depth': 7, 'learning_rate': 0.0011390499776114935, 'subsample': 0.59434367119431, 'reg_alpha': 0, 'reg_lambda': 0, 'colsample_bylevel': 0.9263879776804246}. Best is trial 0 with value: 0.5829268907139618.\n"
     ]
    },
    {
     "name": "stdout",
     "output_type": "stream",
     "text": [
      "[0]\tvalidation_0-logloss:0.69168\n"
     ]
    },
    {
     "name": "stderr",
     "output_type": "stream",
     "text": [
      "/opt/conda/lib/python3.10/site-packages/xgboost/sklearn.py:835: UserWarning: `early_stopping_rounds` in `fit` method is deprecated for better compatibility with scikit-learn, use `early_stopping_rounds` in constructor or`set_params` instead.\n",
      "  warnings.warn(\n"
     ]
    },
    {
     "name": "stdout",
     "output_type": "stream",
     "text": [
      "[100]\tvalidation_0-logloss:0.59107\n",
      "[200]\tvalidation_0-logloss:0.54234\n",
      "[283]\tvalidation_0-logloss:0.52125\n"
     ]
    },
    {
     "name": "stderr",
     "output_type": "stream",
     "text": [
      "[I 2023-06-28 12:07:30,679] Trial 4 finished with value: 0.5859090794578525 and parameters: {'n_estimators': 284, 'max_depth': 4, 'learning_rate': 0.003998727218143966, 'subsample': 0.5475311823456912, 'reg_alpha': 0, 'reg_lambda': 0, 'colsample_bylevel': 0.5259137023585395}. Best is trial 4 with value: 0.5859090794578525.\n"
     ]
    },
    {
     "name": "stdout",
     "output_type": "stream",
     "text": [
      "[0]\tvalidation_0-logloss:0.69001\n"
     ]
    },
    {
     "name": "stderr",
     "output_type": "stream",
     "text": [
      "/opt/conda/lib/python3.10/site-packages/xgboost/sklearn.py:835: UserWarning: `early_stopping_rounds` in `fit` method is deprecated for better compatibility with scikit-learn, use `early_stopping_rounds` in constructor or`set_params` instead.\n",
      "  warnings.warn(\n"
     ]
    },
    {
     "name": "stdout",
     "output_type": "stream",
     "text": [
      "[100]\tvalidation_0-logloss:0.53949\n",
      "[200]\tvalidation_0-logloss:0.50740\n",
      "[300]\tvalidation_0-logloss:0.50285\n",
      "[348]\tvalidation_0-logloss:0.50245\n"
     ]
    },
    {
     "name": "stderr",
     "output_type": "stream",
     "text": [
      "[I 2023-06-28 12:07:49,376] Trial 5 finished with value: 0.5554535950017635 and parameters: {'n_estimators': 778, 'max_depth': 10, 'learning_rate': 0.008605189488472973, 'subsample': 0.8145426950476804, 'reg_alpha': 0, 'reg_lambda': 0, 'colsample_bylevel': 0.9474385291843062}. Best is trial 4 with value: 0.5859090794578525.\n"
     ]
    },
    {
     "name": "stdout",
     "output_type": "stream",
     "text": [
      "[0]\tvalidation_0-logloss:0.68124\n"
     ]
    },
    {
     "name": "stderr",
     "output_type": "stream",
     "text": [
      "/opt/conda/lib/python3.10/site-packages/xgboost/sklearn.py:835: UserWarning: `early_stopping_rounds` in `fit` method is deprecated for better compatibility with scikit-learn, use `early_stopping_rounds` in constructor or`set_params` instead.\n",
      "  warnings.warn(\n"
     ]
    },
    {
     "name": "stdout",
     "output_type": "stream",
     "text": [
      "[100]\tvalidation_0-logloss:0.49485\n",
      "[146]\tvalidation_0-logloss:0.49508\n"
     ]
    },
    {
     "name": "stderr",
     "output_type": "stream",
     "text": [
      "[I 2023-06-28 12:07:51,282] Trial 6 finished with value: 0.5855966896760215 and parameters: {'n_estimators': 811, 'max_depth': 3, 'learning_rate': 0.033009685241291296, 'subsample': 0.6857518879292264, 'reg_alpha': 0, 'reg_lambda': 0, 'colsample_bylevel': 0.7037173229148325}. Best is trial 4 with value: 0.5859090794578525.\n"
     ]
    },
    {
     "name": "stdout",
     "output_type": "stream",
     "text": [
      "[0]\tvalidation_0-logloss:0.67840\n"
     ]
    },
    {
     "name": "stderr",
     "output_type": "stream",
     "text": [
      "/opt/conda/lib/python3.10/site-packages/xgboost/sklearn.py:835: UserWarning: `early_stopping_rounds` in `fit` method is deprecated for better compatibility with scikit-learn, use `early_stopping_rounds` in constructor or`set_params` instead.\n",
      "  warnings.warn(\n"
     ]
    },
    {
     "name": "stdout",
     "output_type": "stream",
     "text": [
      "[100]\tvalidation_0-logloss:0.49457\n",
      "[118]\tvalidation_0-logloss:0.49478\n"
     ]
    },
    {
     "name": "stderr",
     "output_type": "stream",
     "text": [
      "[I 2023-06-28 12:07:52,338] Trial 7 finished with value: 0.5869589862447725 and parameters: {'n_estimators': 2199, 'max_depth': 2, 'learning_rate': 0.04101062147432062, 'subsample': 0.8201704456304622, 'reg_alpha': 0, 'reg_lambda': 0, 'colsample_bylevel': 0.5730209266569164}. Best is trial 7 with value: 0.5869589862447725.\n"
     ]
    },
    {
     "name": "stdout",
     "output_type": "stream",
     "text": [
      "[0]\tvalidation_0-logloss:0.68647\n"
     ]
    },
    {
     "name": "stderr",
     "output_type": "stream",
     "text": [
      "/opt/conda/lib/python3.10/site-packages/xgboost/sklearn.py:835: UserWarning: `early_stopping_rounds` in `fit` method is deprecated for better compatibility with scikit-learn, use `early_stopping_rounds` in constructor or`set_params` instead.\n",
      "  warnings.warn(\n"
     ]
    },
    {
     "name": "stdout",
     "output_type": "stream",
     "text": [
      "[100]\tvalidation_0-logloss:0.50210\n",
      "[200]\tvalidation_0-logloss:0.49644\n",
      "[212]\tvalidation_0-logloss:0.49650\n"
     ]
    },
    {
     "name": "stderr",
     "output_type": "stream",
     "text": [
      "[I 2023-06-28 12:07:55,181] Trial 8 finished with value: 0.5739299390336071 and parameters: {'n_estimators': 2281, 'max_depth': 4, 'learning_rate': 0.018460531409873908, 'subsample': 0.700179344010702, 'reg_alpha': 0, 'reg_lambda': 0, 'colsample_bylevel': 0.5038522044481383}. Best is trial 7 with value: 0.5869589862447725.\n"
     ]
    },
    {
     "name": "stdout",
     "output_type": "stream",
     "text": [
      "[0]\tvalidation_0-logloss:0.69020\n"
     ]
    },
    {
     "name": "stderr",
     "output_type": "stream",
     "text": [
      "/opt/conda/lib/python3.10/site-packages/xgboost/sklearn.py:835: UserWarning: `early_stopping_rounds` in `fit` method is deprecated for better compatibility with scikit-learn, use `early_stopping_rounds` in constructor or`set_params` instead.\n",
      "  warnings.warn(\n"
     ]
    },
    {
     "name": "stdout",
     "output_type": "stream",
     "text": [
      "[100]\tvalidation_0-logloss:0.54197\n",
      "[200]\tvalidation_0-logloss:0.50653\n",
      "[300]\tvalidation_0-logloss:0.49811\n",
      "[400]\tvalidation_0-logloss:0.49599\n",
      "[462]\tvalidation_0-logloss:0.49575\n"
     ]
    },
    {
     "name": "stderr",
     "output_type": "stream",
     "text": [
      "[I 2023-06-28 12:08:03,576] Trial 9 finished with value: 0.5788853479115231 and parameters: {'n_estimators': 967, 'max_depth': 4, 'learning_rate': 0.008015164120008396, 'subsample': 0.6357438435579112, 'reg_alpha': 0, 'reg_lambda': 0, 'colsample_bylevel': 0.8076581056651861}. Best is trial 7 with value: 0.5869589862447725.\n"
     ]
    },
    {
     "name": "stdout",
     "output_type": "stream",
     "text": [
      "[0]\tvalidation_0-logloss:0.67024\n"
     ]
    },
    {
     "name": "stderr",
     "output_type": "stream",
     "text": [
      "/opt/conda/lib/python3.10/site-packages/xgboost/sklearn.py:835: UserWarning: `early_stopping_rounds` in `fit` method is deprecated for better compatibility with scikit-learn, use `early_stopping_rounds` in constructor or`set_params` instead.\n",
      "  warnings.warn(\n"
     ]
    },
    {
     "name": "stdout",
     "output_type": "stream",
     "text": [
      "[100]\tvalidation_0-logloss:0.49475\n",
      "[146]\tvalidation_0-logloss:0.49494\n"
     ]
    },
    {
     "name": "stderr",
     "output_type": "stream",
     "text": [
      "[I 2023-06-28 12:08:04,548] Trial 10 finished with value: 0.5852439915352446 and parameters: {'n_estimators': 2359, 'max_depth': 1, 'learning_rate': 0.06570966153198979, 'subsample': 0.9704478219305848, 'reg_alpha': 0, 'reg_lambda': 0, 'colsample_bylevel': 0.6035748837228676}. Best is trial 7 with value: 0.5869589862447725.\n"
     ]
    },
    {
     "name": "stdout",
     "output_type": "stream",
     "text": [
      "[0]\tvalidation_0-logloss:0.69167\n"
     ]
    },
    {
     "name": "stderr",
     "output_type": "stream",
     "text": [
      "/opt/conda/lib/python3.10/site-packages/xgboost/sklearn.py:835: UserWarning: `early_stopping_rounds` in `fit` method is deprecated for better compatibility with scikit-learn, use `early_stopping_rounds` in constructor or`set_params` instead.\n",
      "  warnings.warn(\n"
     ]
    },
    {
     "name": "stdout",
     "output_type": "stream",
     "text": [
      "[100]\tvalidation_0-logloss:0.59038\n",
      "[200]\tvalidation_0-logloss:0.54234\n",
      "[300]\tvalidation_0-logloss:0.51897\n",
      "[400]\tvalidation_0-logloss:0.50741\n",
      "[431]\tvalidation_0-logloss:0.50510\n"
     ]
    },
    {
     "name": "stderr",
     "output_type": "stream",
     "text": [
      "[I 2023-06-28 12:08:07,216] Trial 11 finished with value: 0.5781352345442635 and parameters: {'n_estimators': 432, 'max_depth': 1, 'learning_rate': 0.0040923651540780885, 'subsample': 0.7682174786764631, 'reg_alpha': 0, 'reg_lambda': 0, 'colsample_bylevel': 0.5025181704161493}. Best is trial 7 with value: 0.5869589862447725.\n"
     ]
    },
    {
     "name": "stdout",
     "output_type": "stream",
     "text": [
      "[0]\tvalidation_0-logloss:0.69177\n"
     ]
    },
    {
     "name": "stderr",
     "output_type": "stream",
     "text": [
      "/opt/conda/lib/python3.10/site-packages/xgboost/sklearn.py:835: UserWarning: `early_stopping_rounds` in `fit` method is deprecated for better compatibility with scikit-learn, use `early_stopping_rounds` in constructor or`set_params` instead.\n",
      "  warnings.warn(\n"
     ]
    },
    {
     "name": "stdout",
     "output_type": "stream",
     "text": [
      "[100]\tvalidation_0-logloss:0.59464\n",
      "[200]\tvalidation_0-logloss:0.54599\n",
      "[300]\tvalidation_0-logloss:0.52132\n",
      "[400]\tvalidation_0-logloss:0.50893\n",
      "[500]\tvalidation_0-logloss:0.50254\n",
      "[600]\tvalidation_0-logloss:0.49970\n",
      "[700]\tvalidation_0-logloss:0.49887\n",
      "[800]\tvalidation_0-logloss:0.49842\n",
      "[830]\tvalidation_0-logloss:0.49854\n"
     ]
    },
    {
     "name": "stderr",
     "output_type": "stream",
     "text": [
      "[I 2023-06-28 12:08:27,985] Trial 12 finished with value: 0.5668029173174787 and parameters: {'n_estimators': 1862, 'max_depth': 7, 'learning_rate': 0.003805319325889323, 'subsample': 0.8006423788259094, 'reg_alpha': 0, 'reg_lambda': 0, 'colsample_bylevel': 0.5957157325657737}. Best is trial 7 with value: 0.5869589862447725.\n"
     ]
    },
    {
     "name": "stdout",
     "output_type": "stream",
     "text": [
      "[0]\tvalidation_0-logloss:0.65888\n"
     ]
    },
    {
     "name": "stderr",
     "output_type": "stream",
     "text": [
      "/opt/conda/lib/python3.10/site-packages/xgboost/sklearn.py:835: UserWarning: `early_stopping_rounds` in `fit` method is deprecated for better compatibility with scikit-learn, use `early_stopping_rounds` in constructor or`set_params` instead.\n",
      "  warnings.warn(\n"
     ]
    },
    {
     "name": "stdout",
     "output_type": "stream",
     "text": [
      "[41]\tvalidation_0-logloss:0.50974\n"
     ]
    },
    {
     "name": "stderr",
     "output_type": "stream",
     "text": [
      "[I 2023-06-28 12:08:28,942] Trial 13 finished with value: 0.5592967451000151 and parameters: {'n_estimators': 1422, 'max_depth': 6, 'learning_rate': 0.09874069872125234, 'subsample': 0.5018984018271588, 'reg_alpha': 0, 'reg_lambda': 0, 'colsample_bylevel': 0.6042351803386297}. Best is trial 7 with value: 0.5869589862447725.\n"
     ]
    },
    {
     "name": "stdout",
     "output_type": "stream",
     "text": [
      "[0]\tvalidation_0-logloss:0.68185\n"
     ]
    },
    {
     "name": "stderr",
     "output_type": "stream",
     "text": [
      "/opt/conda/lib/python3.10/site-packages/xgboost/sklearn.py:835: UserWarning: `early_stopping_rounds` in `fit` method is deprecated for better compatibility with scikit-learn, use `early_stopping_rounds` in constructor or`set_params` instead.\n",
      "  warnings.warn(\n"
     ]
    },
    {
     "name": "stdout",
     "output_type": "stream",
     "text": [
      "[100]\tvalidation_0-logloss:0.49485\n",
      "[127]\tvalidation_0-logloss:0.49401\n"
     ]
    },
    {
     "name": "stderr",
     "output_type": "stream",
     "text": [
      "[I 2023-06-28 12:08:30,210] Trial 14 finished with value: 0.5904072403889757 and parameters: {'n_estimators': 128, 'max_depth': 2, 'learning_rate': 0.03135028500954679, 'subsample': 0.709760649490834, 'reg_alpha': 0, 'reg_lambda': 0, 'colsample_bylevel': 0.6494116026555482}. Best is trial 14 with value: 0.5904072403889757.\n"
     ]
    },
    {
     "name": "stdout",
     "output_type": "stream",
     "text": [
      "[0]\tvalidation_0-logloss:0.68042\n"
     ]
    },
    {
     "name": "stderr",
     "output_type": "stream",
     "text": [
      "/opt/conda/lib/python3.10/site-packages/xgboost/sklearn.py:835: UserWarning: `early_stopping_rounds` in `fit` method is deprecated for better compatibility with scikit-learn, use `early_stopping_rounds` in constructor or`set_params` instead.\n",
      "  warnings.warn(\n"
     ]
    },
    {
     "name": "stdout",
     "output_type": "stream",
     "text": [
      "[100]\tvalidation_0-logloss:0.49414\n",
      "[146]\tvalidation_0-logloss:0.49384\n"
     ]
    },
    {
     "name": "stderr",
     "output_type": "stream",
     "text": [
      "[I 2023-06-28 12:08:31,659] Trial 15 finished with value: 0.5925454728674359 and parameters: {'n_estimators': 2047, 'max_depth': 2, 'learning_rate': 0.0354963497491049, 'subsample': 0.7412371799723116, 'reg_alpha': 0, 'reg_lambda': 0, 'colsample_bylevel': 0.6709273064478266}. Best is trial 15 with value: 0.5925454728674359.\n"
     ]
    },
    {
     "name": "stdout",
     "output_type": "stream",
     "text": [
      "[0]\tvalidation_0-logloss:0.68258\n"
     ]
    },
    {
     "name": "stderr",
     "output_type": "stream",
     "text": [
      "/opt/conda/lib/python3.10/site-packages/xgboost/sklearn.py:835: UserWarning: `early_stopping_rounds` in `fit` method is deprecated for better compatibility with scikit-learn, use `early_stopping_rounds` in constructor or`set_params` instead.\n",
      "  warnings.warn(\n"
     ]
    },
    {
     "name": "stdout",
     "output_type": "stream",
     "text": [
      "[100]\tvalidation_0-logloss:0.49519\n",
      "[152]\tvalidation_0-logloss:0.49422\n"
     ]
    },
    {
     "name": "stderr",
     "output_type": "stream",
     "text": [
      "[I 2023-06-28 12:08:33,169] Trial 16 finished with value: 0.5887678238524714 and parameters: {'n_estimators': 1997, 'max_depth': 2, 'learning_rate': 0.029295720757636007, 'subsample': 0.7022058831391876, 'reg_alpha': 0, 'reg_lambda': 0, 'colsample_bylevel': 0.660704123766124}. Best is trial 15 with value: 0.5925454728674359.\n"
     ]
    },
    {
     "name": "stdout",
     "output_type": "stream",
     "text": [
      "[0]\tvalidation_0-logloss:0.66836\n"
     ]
    },
    {
     "name": "stderr",
     "output_type": "stream",
     "text": [
      "/opt/conda/lib/python3.10/site-packages/xgboost/sklearn.py:835: UserWarning: `early_stopping_rounds` in `fit` method is deprecated for better compatibility with scikit-learn, use `early_stopping_rounds` in constructor or`set_params` instead.\n",
      "  warnings.warn(\n"
     ]
    },
    {
     "name": "stdout",
     "output_type": "stream",
     "text": [
      "[74]\tvalidation_0-logloss:0.49437\n"
     ]
    },
    {
     "name": "stderr",
     "output_type": "stream",
     "text": [
      "[I 2023-06-28 12:08:33,959] Trial 17 finished with value: 0.5875346399959691 and parameters: {'n_estimators': 1236, 'max_depth': 2, 'learning_rate': 0.07030927183960636, 'subsample': 0.7398520649968394, 'reg_alpha': 0, 'reg_lambda': 0, 'colsample_bylevel': 0.6658824561001213}. Best is trial 15 with value: 0.5925454728674359.\n"
     ]
    },
    {
     "name": "stdout",
     "output_type": "stream",
     "text": [
      "[0]\tvalidation_0-logloss:0.68432\n"
     ]
    },
    {
     "name": "stderr",
     "output_type": "stream",
     "text": [
      "/opt/conda/lib/python3.10/site-packages/xgboost/sklearn.py:835: UserWarning: `early_stopping_rounds` in `fit` method is deprecated for better compatibility with scikit-learn, use `early_stopping_rounds` in constructor or`set_params` instead.\n",
      "  warnings.warn(\n"
     ]
    },
    {
     "name": "stdout",
     "output_type": "stream",
     "text": [
      "[100]\tvalidation_0-logloss:0.49773\n",
      "[155]\tvalidation_0-logloss:0.49693\n"
     ]
    },
    {
     "name": "stderr",
     "output_type": "stream",
     "text": [
      "[I 2023-06-28 12:08:37,416] Trial 18 finished with value: 0.5755945482944526 and parameters: {'n_estimators': 1638, 'max_depth': 5, 'learning_rate': 0.024407519728708447, 'subsample': 0.6294105686730584, 'reg_alpha': 0, 'reg_lambda': 0, 'colsample_bylevel': 0.7920190736385668}. Best is trial 15 with value: 0.5925454728674359.\n"
     ]
    },
    {
     "name": "stdout",
     "output_type": "stream",
     "text": [
      "[0]\tvalidation_0-logloss:0.67523\n"
     ]
    },
    {
     "name": "stderr",
     "output_type": "stream",
     "text": [
      "/opt/conda/lib/python3.10/site-packages/xgboost/sklearn.py:835: UserWarning: `early_stopping_rounds` in `fit` method is deprecated for better compatibility with scikit-learn, use `early_stopping_rounds` in constructor or`set_params` instead.\n",
      "  warnings.warn(\n"
     ]
    },
    {
     "name": "stdout",
     "output_type": "stream",
     "text": [
      "[100]\tvalidation_0-logloss:0.49483\n",
      "[145]\tvalidation_0-logloss:0.49477\n"
     ]
    },
    {
     "name": "stderr",
     "output_type": "stream",
     "text": [
      "[I 2023-06-28 12:08:38,441] Trial 19 finished with value: 0.5844308963571321 and parameters: {'n_estimators': 569, 'max_depth': 1, 'learning_rate': 0.05058495162998045, 'subsample': 0.8648527915057802, 'reg_alpha': 0, 'reg_lambda': 0, 'colsample_bylevel': 0.6633640168455627}. Best is trial 15 with value: 0.5925454728674359.\n"
     ]
    },
    {
     "name": "stdout",
     "output_type": "stream",
     "text": [
      "[0]\tvalidation_0-logloss:0.68456\n"
     ]
    },
    {
     "name": "stderr",
     "output_type": "stream",
     "text": [
      "/opt/conda/lib/python3.10/site-packages/xgboost/sklearn.py:835: UserWarning: `early_stopping_rounds` in `fit` method is deprecated for better compatibility with scikit-learn, use `early_stopping_rounds` in constructor or`set_params` instead.\n",
      "  warnings.warn(\n"
     ]
    },
    {
     "name": "stdout",
     "output_type": "stream",
     "text": [
      "[100]\tvalidation_0-logloss:0.50076\n",
      "[119]\tvalidation_0-logloss:0.50038\n"
     ]
    },
    {
     "name": "stderr",
     "output_type": "stream",
     "text": [
      "[I 2023-06-28 12:08:42,150] Trial 20 finished with value: 0.5608486169194336 and parameters: {'n_estimators': 120, 'max_depth': 6, 'learning_rate': 0.02415799150499304, 'subsample': 0.7583213172227805, 'reg_alpha': 0, 'reg_lambda': 0, 'colsample_bylevel': 0.9960610448028742}. Best is trial 15 with value: 0.5925454728674359.\n"
     ]
    },
    {
     "name": "stdout",
     "output_type": "stream",
     "text": [
      "[0]\tvalidation_0-logloss:0.68013\n"
     ]
    },
    {
     "name": "stderr",
     "output_type": "stream",
     "text": [
      "/opt/conda/lib/python3.10/site-packages/xgboost/sklearn.py:835: UserWarning: `early_stopping_rounds` in `fit` method is deprecated for better compatibility with scikit-learn, use `early_stopping_rounds` in constructor or`set_params` instead.\n",
      "  warnings.warn(\n"
     ]
    },
    {
     "name": "stdout",
     "output_type": "stream",
     "text": [
      "[100]\tvalidation_0-logloss:0.49431\n",
      "[136]\tvalidation_0-logloss:0.49411\n"
     ]
    },
    {
     "name": "stderr",
     "output_type": "stream",
     "text": [
      "[I 2023-06-28 12:08:43,562] Trial 21 finished with value: 0.5905823298231472 and parameters: {'n_estimators': 2043, 'max_depth': 2, 'learning_rate': 0.03619652922190076, 'subsample': 0.7125309966607795, 'reg_alpha': 0, 'reg_lambda': 0, 'colsample_bylevel': 0.6513223784025611}. Best is trial 15 with value: 0.5925454728674359.\n"
     ]
    },
    {
     "name": "stdout",
     "output_type": "stream",
     "text": [
      "[0]\tvalidation_0-logloss:0.67889\n"
     ]
    },
    {
     "name": "stderr",
     "output_type": "stream",
     "text": [
      "/opt/conda/lib/python3.10/site-packages/xgboost/sklearn.py:835: UserWarning: `early_stopping_rounds` in `fit` method is deprecated for better compatibility with scikit-learn, use `early_stopping_rounds` in constructor or`set_params` instead.\n",
      "  warnings.warn(\n"
     ]
    },
    {
     "name": "stdout",
     "output_type": "stream",
     "text": [
      "[100]\tvalidation_0-logloss:0.49475\n",
      "[105]\tvalidation_0-logloss:0.49498\n"
     ]
    },
    {
     "name": "stderr",
     "output_type": "stream",
     "text": [
      "[I 2023-06-28 12:08:45,078] Trial 22 finished with value: 0.5864708772106615 and parameters: {'n_estimators': 2072, 'max_depth': 3, 'learning_rate': 0.03965075383574193, 'subsample': 0.6727029250456891, 'reg_alpha': 0, 'reg_lambda': 0, 'colsample_bylevel': 0.696369552101108}. Best is trial 15 with value: 0.5925454728674359.\n"
     ]
    },
    {
     "name": "stdout",
     "output_type": "stream",
     "text": [
      "[0]\tvalidation_0-logloss:0.67025\n"
     ]
    },
    {
     "name": "stderr",
     "output_type": "stream",
     "text": [
      "/opt/conda/lib/python3.10/site-packages/xgboost/sklearn.py:835: UserWarning: `early_stopping_rounds` in `fit` method is deprecated for better compatibility with scikit-learn, use `early_stopping_rounds` in constructor or`set_params` instead.\n",
      "  warnings.warn(\n"
     ]
    },
    {
     "name": "stdout",
     "output_type": "stream",
     "text": [
      "[100]\tvalidation_0-logloss:0.49418\n",
      "[103]\tvalidation_0-logloss:0.49429\n"
     ]
    },
    {
     "name": "stderr",
     "output_type": "stream",
     "text": [
      "[I 2023-06-28 12:08:46,140] Trial 23 finished with value: 0.5885033002468887 and parameters: {'n_estimators': 2486, 'max_depth': 2, 'learning_rate': 0.06493271629873901, 'subsample': 0.7262962563658731, 'reg_alpha': 0, 'reg_lambda': 0, 'colsample_bylevel': 0.6603220315749787}. Best is trial 15 with value: 0.5925454728674359.\n"
     ]
    },
    {
     "name": "stdout",
     "output_type": "stream",
     "text": [
      "[0]\tvalidation_0-logloss:0.68123\n"
     ]
    },
    {
     "name": "stderr",
     "output_type": "stream",
     "text": [
      "/opt/conda/lib/python3.10/site-packages/xgboost/sklearn.py:835: UserWarning: `early_stopping_rounds` in `fit` method is deprecated for better compatibility with scikit-learn, use `early_stopping_rounds` in constructor or`set_params` instead.\n",
      "  warnings.warn(\n"
     ]
    },
    {
     "name": "stdout",
     "output_type": "stream",
     "text": [
      "[100]\tvalidation_0-logloss:0.49594\n",
      "[155]\tvalidation_0-logloss:0.49474\n"
     ]
    },
    {
     "name": "stderr",
     "output_type": "stream",
     "text": [
      "[I 2023-06-28 12:08:47,257] Trial 24 finished with value: 0.5847584017735679 and parameters: {'n_estimators': 1583, 'max_depth': 1, 'learning_rate': 0.0329129525257518, 'subsample': 0.6544197527368996, 'reg_alpha': 0, 'reg_lambda': 0, 'colsample_bylevel': 0.6388436028674459}. Best is trial 15 with value: 0.5925454728674359.\n"
     ]
    },
    {
     "name": "stdout",
     "output_type": "stream",
     "text": [
      "[0]\tvalidation_0-logloss:0.65867\n"
     ]
    },
    {
     "name": "stderr",
     "output_type": "stream",
     "text": [
      "/opt/conda/lib/python3.10/site-packages/xgboost/sklearn.py:835: UserWarning: `early_stopping_rounds` in `fit` method is deprecated for better compatibility with scikit-learn, use `early_stopping_rounds` in constructor or`set_params` instead.\n",
      "  warnings.warn(\n"
     ]
    },
    {
     "name": "stdout",
     "output_type": "stream",
     "text": [
      "[66]\tvalidation_0-logloss:0.49633\n"
     ]
    },
    {
     "name": "stderr",
     "output_type": "stream",
     "text": [
      "[I 2023-06-28 12:08:48,196] Trial 25 finished with value: 0.5848371290371341 and parameters: {'n_estimators': 1075, 'max_depth': 3, 'learning_rate': 0.09967205673640211, 'subsample': 0.7247491793656209, 'reg_alpha': 0, 'reg_lambda': 0, 'colsample_bylevel': 0.7040926357683938}. Best is trial 15 with value: 0.5925454728674359.\n"
     ]
    },
    {
     "name": "stdout",
     "output_type": "stream",
     "text": [
      "[0]\tvalidation_0-logloss:0.68558\n"
     ]
    },
    {
     "name": "stderr",
     "output_type": "stream",
     "text": [
      "/opt/conda/lib/python3.10/site-packages/xgboost/sklearn.py:835: UserWarning: `early_stopping_rounds` in `fit` method is deprecated for better compatibility with scikit-learn, use `early_stopping_rounds` in constructor or`set_params` instead.\n",
      "  warnings.warn(\n"
     ]
    },
    {
     "name": "stdout",
     "output_type": "stream",
     "text": [
      "[100]\tvalidation_0-logloss:0.49950\n",
      "[176]\tvalidation_0-logloss:0.49645\n"
     ]
    },
    {
     "name": "stderr",
     "output_type": "stream",
     "text": [
      "[I 2023-06-28 12:08:51,362] Trial 26 finished with value: 0.5751902050687762 and parameters: {'n_estimators': 1835, 'max_depth': 5, 'learning_rate': 0.020768409302229934, 'subsample': 0.6125268791690268, 'reg_alpha': 0, 'reg_lambda': 0, 'colsample_bylevel': 0.5657410950118753}. Best is trial 15 with value: 0.5925454728674359.\n"
     ]
    },
    {
     "name": "stdout",
     "output_type": "stream",
     "text": [
      "[0]\tvalidation_0-logloss:0.67449\n"
     ]
    },
    {
     "name": "stderr",
     "output_type": "stream",
     "text": [
      "/opt/conda/lib/python3.10/site-packages/xgboost/sklearn.py:835: UserWarning: `early_stopping_rounds` in `fit` method is deprecated for better compatibility with scikit-learn, use `early_stopping_rounds` in constructor or`set_params` instead.\n",
      "  warnings.warn(\n"
     ]
    },
    {
     "name": "stdout",
     "output_type": "stream",
     "text": [
      "[100]\tvalidation_0-logloss:0.49391\n",
      "[115]\tvalidation_0-logloss:0.49422\n"
     ]
    },
    {
     "name": "stderr",
     "output_type": "stream",
     "text": [
      "[I 2023-06-28 12:08:52,520] Trial 27 finished with value: 0.5903392200332543 and parameters: {'n_estimators': 1424, 'max_depth': 2, 'learning_rate': 0.05186413081539484, 'subsample': 0.6622476763243095, 'reg_alpha': 0, 'reg_lambda': 0, 'colsample_bylevel': 0.6292002395781479}. Best is trial 15 with value: 0.5925454728674359.\n"
     ]
    },
    {
     "name": "stdout",
     "output_type": "stream",
     "text": [
      "[0]\tvalidation_0-logloss:0.68163\n"
     ]
    },
    {
     "name": "stderr",
     "output_type": "stream",
     "text": [
      "/opt/conda/lib/python3.10/site-packages/xgboost/sklearn.py:835: UserWarning: `early_stopping_rounds` in `fit` method is deprecated for better compatibility with scikit-learn, use `early_stopping_rounds` in constructor or`set_params` instead.\n",
      "  warnings.warn(\n"
     ]
    },
    {
     "name": "stdout",
     "output_type": "stream",
     "text": [
      "[100]\tvalidation_0-logloss:0.49504\n",
      "[145]\tvalidation_0-logloss:0.49518\n"
     ]
    },
    {
     "name": "stderr",
     "output_type": "stream",
     "text": [
      "[I 2023-06-28 12:08:54,564] Trial 28 finished with value: 0.5841481080264019 and parameters: {'n_estimators': 2084, 'max_depth': 3, 'learning_rate': 0.032041747010068344, 'subsample': 0.7082894819633031, 'reg_alpha': 0, 'reg_lambda': 0, 'colsample_bylevel': 0.7673382170570685}. Best is trial 15 with value: 0.5925454728674359.\n"
     ]
    },
    {
     "name": "stdout",
     "output_type": "stream",
     "text": [
      "[0]\tvalidation_0-logloss:0.68833\n"
     ]
    },
    {
     "name": "stderr",
     "output_type": "stream",
     "text": [
      "/opt/conda/lib/python3.10/site-packages/xgboost/sklearn.py:835: UserWarning: `early_stopping_rounds` in `fit` method is deprecated for better compatibility with scikit-learn, use `early_stopping_rounds` in constructor or`set_params` instead.\n",
      "  warnings.warn(\n"
     ]
    },
    {
     "name": "stdout",
     "output_type": "stream",
     "text": [
      "[100]\tvalidation_0-logloss:0.51422\n",
      "[200]\tvalidation_0-logloss:0.49760\n",
      "[300]\tvalidation_0-logloss:0.49543\n",
      "[400]\tvalidation_0-logloss:0.49489\n",
      "[468]\tvalidation_0-logloss:0.49464\n"
     ]
    },
    {
     "name": "stderr",
     "output_type": "stream",
     "text": [
      "[I 2023-06-28 12:08:57,866] Trial 29 finished with value: 0.5834446011991737 and parameters: {'n_estimators': 1515, 'max_depth': 1, 'learning_rate': 0.013391201994018666, 'subsample': 0.766481492105883, 'reg_alpha': 0, 'reg_lambda': 0, 'colsample_bylevel': 0.7448262231576901}. Best is trial 15 with value: 0.5925454728674359.\n"
     ]
    }
   ],
   "source": [
    "def objective_xgb_ec2(trial):\n",
    "    n_estimators = trial.suggest_int('n_estimators', 100, 2500)\n",
    "    max_depth = trial.suggest_int(\"max_depth\", 1,10)\n",
    "    learning_rate = trial.suggest_float('learning_rate', 0.001, 0.1,log=True)\n",
    "    subsample =  trial.suggest_float('subsample', 0.5, 1.0)\n",
    "    r_alpha = trial.suggest_int(\"reg_alpha\", 0.0, 0.1)\n",
    "    r_lambda = trial.suggest_int(\"reg_lambda\", 0.0, 0.1)\n",
    "    colsample_bylevel =  trial.suggest_float('colsample_bylevel', 0.5, 1.0)\n",
    "\n",
    "    xgb = XGBClassifier(\n",
    "            n_estimators =n_estimators,\n",
    "            max_depth=max_depth, \n",
    "            learning_rate = learning_rate,\n",
    "            subsample = subsample,\n",
    "            reg_alpha = r_alpha,\n",
    "            reg_lambda = r_lambda,\n",
    "            colsample_bylevel = colsample_bylevel\n",
    "        )\n",
    "    \n",
    "    xgb.fit(x_train, y_train['EC2'], eval_set=[(x_val, y_val['EC2'])], early_stopping_rounds=20, verbose=100)\n",
    "\n",
    "    y_pred_proba = xgb.predict_proba(x_val)[:, 1]\n",
    "    roc_auc = roc_auc_score(y_val['EC2'], y_pred_proba)\n",
    "    return roc_auc\n",
    "study_xgb_ec2 = optuna.create_study(direction=\"maximize\")\n",
    "study_xgb_ec2.optimize(objective_xgb_ec2, n_trials=30)"
   ]
  },
  {
   "cell_type": "code",
   "execution_count": 32,
   "id": "59a53666",
   "metadata": {
    "execution": {
     "iopub.execute_input": "2023-06-28T12:08:58.143730Z",
     "iopub.status.busy": "2023-06-28T12:08:58.143264Z",
     "iopub.status.idle": "2023-06-28T12:08:58.149774Z",
     "shell.execute_reply": "2023-06-28T12:08:58.148637Z"
    },
    "papermill": {
     "duration": 0.14393,
     "end_time": "2023-06-28T12:08:58.152114",
     "exception": false,
     "start_time": "2023-06-28T12:08:58.008184",
     "status": "completed"
    },
    "tags": []
   },
   "outputs": [
    {
     "name": "stdout",
     "output_type": "stream",
     "text": [
      "ROC_AUC Score: 0.5925454728674359\n",
      "Best hyperparameters: {'n_estimators': 2047, 'max_depth': 2, 'learning_rate': 0.0354963497491049, 'subsample': 0.7412371799723116, 'reg_alpha': 0, 'reg_lambda': 0, 'colsample_bylevel': 0.6709273064478266}\n"
     ]
    }
   ],
   "source": [
    "trial_xgb_ec2 = study_xgb_ec2.best_trial\n",
    "print('ROC_AUC Score: {}'.format(trial_xgb_ec2.value))\n",
    "print(\"Best hyperparameters: {}\".format(trial_xgb_ec2.params))"
   ]
  },
  {
   "cell_type": "code",
   "execution_count": 33,
   "id": "22393109",
   "metadata": {
    "execution": {
     "iopub.execute_input": "2023-06-28T12:08:58.419436Z",
     "iopub.status.busy": "2023-06-28T12:08:58.418955Z",
     "iopub.status.idle": "2023-06-28T12:08:59.813241Z",
     "shell.execute_reply": "2023-06-28T12:08:59.812054Z"
    },
    "papermill": {
     "duration": 1.530661,
     "end_time": "2023-06-28T12:08:59.815871",
     "exception": false,
     "start_time": "2023-06-28T12:08:58.285210",
     "status": "completed"
    },
    "tags": []
   },
   "outputs": [
    {
     "name": "stderr",
     "output_type": "stream",
     "text": [
      "/opt/conda/lib/python3.10/site-packages/xgboost/sklearn.py:835: UserWarning: `early_stopping_rounds` in `fit` method is deprecated for better compatibility with scikit-learn, use `early_stopping_rounds` in constructor or`set_params` instead.\n",
      "  warnings.warn(\n"
     ]
    },
    {
     "data": {
      "text/html": [
       "<style>#sk-container-id-4 {color: black;background-color: white;}#sk-container-id-4 pre{padding: 0;}#sk-container-id-4 div.sk-toggleable {background-color: white;}#sk-container-id-4 label.sk-toggleable__label {cursor: pointer;display: block;width: 100%;margin-bottom: 0;padding: 0.3em;box-sizing: border-box;text-align: center;}#sk-container-id-4 label.sk-toggleable__label-arrow:before {content: \"▸\";float: left;margin-right: 0.25em;color: #696969;}#sk-container-id-4 label.sk-toggleable__label-arrow:hover:before {color: black;}#sk-container-id-4 div.sk-estimator:hover label.sk-toggleable__label-arrow:before {color: black;}#sk-container-id-4 div.sk-toggleable__content {max-height: 0;max-width: 0;overflow: hidden;text-align: left;background-color: #f0f8ff;}#sk-container-id-4 div.sk-toggleable__content pre {margin: 0.2em;color: black;border-radius: 0.25em;background-color: #f0f8ff;}#sk-container-id-4 input.sk-toggleable__control:checked~div.sk-toggleable__content {max-height: 200px;max-width: 100%;overflow: auto;}#sk-container-id-4 input.sk-toggleable__control:checked~label.sk-toggleable__label-arrow:before {content: \"▾\";}#sk-container-id-4 div.sk-estimator input.sk-toggleable__control:checked~label.sk-toggleable__label {background-color: #d4ebff;}#sk-container-id-4 div.sk-label input.sk-toggleable__control:checked~label.sk-toggleable__label {background-color: #d4ebff;}#sk-container-id-4 input.sk-hidden--visually {border: 0;clip: rect(1px 1px 1px 1px);clip: rect(1px, 1px, 1px, 1px);height: 1px;margin: -1px;overflow: hidden;padding: 0;position: absolute;width: 1px;}#sk-container-id-4 div.sk-estimator {font-family: monospace;background-color: #f0f8ff;border: 1px dotted black;border-radius: 0.25em;box-sizing: border-box;margin-bottom: 0.5em;}#sk-container-id-4 div.sk-estimator:hover {background-color: #d4ebff;}#sk-container-id-4 div.sk-parallel-item::after {content: \"\";width: 100%;border-bottom: 1px solid gray;flex-grow: 1;}#sk-container-id-4 div.sk-label:hover label.sk-toggleable__label {background-color: #d4ebff;}#sk-container-id-4 div.sk-serial::before {content: \"\";position: absolute;border-left: 1px solid gray;box-sizing: border-box;top: 0;bottom: 0;left: 50%;z-index: 0;}#sk-container-id-4 div.sk-serial {display: flex;flex-direction: column;align-items: center;background-color: white;padding-right: 0.2em;padding-left: 0.2em;position: relative;}#sk-container-id-4 div.sk-item {position: relative;z-index: 1;}#sk-container-id-4 div.sk-parallel {display: flex;align-items: stretch;justify-content: center;background-color: white;position: relative;}#sk-container-id-4 div.sk-item::before, #sk-container-id-4 div.sk-parallel-item::before {content: \"\";position: absolute;border-left: 1px solid gray;box-sizing: border-box;top: 0;bottom: 0;left: 50%;z-index: -1;}#sk-container-id-4 div.sk-parallel-item {display: flex;flex-direction: column;z-index: 1;position: relative;background-color: white;}#sk-container-id-4 div.sk-parallel-item:first-child::after {align-self: flex-end;width: 50%;}#sk-container-id-4 div.sk-parallel-item:last-child::after {align-self: flex-start;width: 50%;}#sk-container-id-4 div.sk-parallel-item:only-child::after {width: 0;}#sk-container-id-4 div.sk-dashed-wrapped {border: 1px dashed gray;margin: 0 0.4em 0.5em 0.4em;box-sizing: border-box;padding-bottom: 0.4em;background-color: white;}#sk-container-id-4 div.sk-label label {font-family: monospace;font-weight: bold;display: inline-block;line-height: 1.2em;}#sk-container-id-4 div.sk-label-container {text-align: center;}#sk-container-id-4 div.sk-container {/* jupyter's `normalize.less` sets `[hidden] { display: none; }` but bootstrap.min.css set `[hidden] { display: none !important; }` so we also need the `!important` here to be able to override the default hidden behavior on the sphinx rendered scikit-learn.org. See: https://github.com/scikit-learn/scikit-learn/issues/21755 */display: inline-block !important;position: relative;}#sk-container-id-4 div.sk-text-repr-fallback {display: none;}</style><div id=\"sk-container-id-4\" class=\"sk-top-container\"><div class=\"sk-text-repr-fallback\"><pre>XGBClassifier(base_score=None, booster=None, callbacks=None,\n",
       "              colsample_bylevel=0.6709273064478266, colsample_bynode=None,\n",
       "              colsample_bytree=None, early_stopping_rounds=None,\n",
       "              enable_categorical=False, eval_metric=None, feature_types=None,\n",
       "              gamma=None, gpu_id=None, grow_policy=None, importance_type=None,\n",
       "              interaction_constraints=None, learning_rate=0.0354963497491049,\n",
       "              max_bin=None, max_cat_threshold=None, max_cat_to_onehot=None,\n",
       "              max_delta_step=None, max_depth=2, max_leaves=None,\n",
       "              min_child_weight=None, missing=nan, monotone_constraints=None,\n",
       "              n_estimators=2047, n_jobs=None, num_parallel_tree=None,\n",
       "              predictor=None, random_state=None, ...)</pre><b>In a Jupyter environment, please rerun this cell to show the HTML representation or trust the notebook. <br />On GitHub, the HTML representation is unable to render, please try loading this page with nbviewer.org.</b></div><div class=\"sk-container\" hidden><div class=\"sk-item\"><div class=\"sk-estimator sk-toggleable\"><input class=\"sk-toggleable__control sk-hidden--visually\" id=\"sk-estimator-id-4\" type=\"checkbox\" checked><label for=\"sk-estimator-id-4\" class=\"sk-toggleable__label sk-toggleable__label-arrow\">XGBClassifier</label><div class=\"sk-toggleable__content\"><pre>XGBClassifier(base_score=None, booster=None, callbacks=None,\n",
       "              colsample_bylevel=0.6709273064478266, colsample_bynode=None,\n",
       "              colsample_bytree=None, early_stopping_rounds=None,\n",
       "              enable_categorical=False, eval_metric=None, feature_types=None,\n",
       "              gamma=None, gpu_id=None, grow_policy=None, importance_type=None,\n",
       "              interaction_constraints=None, learning_rate=0.0354963497491049,\n",
       "              max_bin=None, max_cat_threshold=None, max_cat_to_onehot=None,\n",
       "              max_delta_step=None, max_depth=2, max_leaves=None,\n",
       "              min_child_weight=None, missing=nan, monotone_constraints=None,\n",
       "              n_estimators=2047, n_jobs=None, num_parallel_tree=None,\n",
       "              predictor=None, random_state=None, ...)</pre></div></div></div></div></div>"
      ],
      "text/plain": [
       "XGBClassifier(base_score=None, booster=None, callbacks=None,\n",
       "              colsample_bylevel=0.6709273064478266, colsample_bynode=None,\n",
       "              colsample_bytree=None, early_stopping_rounds=None,\n",
       "              enable_categorical=False, eval_metric=None, feature_types=None,\n",
       "              gamma=None, gpu_id=None, grow_policy=None, importance_type=None,\n",
       "              interaction_constraints=None, learning_rate=0.0354963497491049,\n",
       "              max_bin=None, max_cat_threshold=None, max_cat_to_onehot=None,\n",
       "              max_delta_step=None, max_depth=2, max_leaves=None,\n",
       "              min_child_weight=None, missing=nan, monotone_constraints=None,\n",
       "              n_estimators=2047, n_jobs=None, num_parallel_tree=None,\n",
       "              predictor=None, random_state=None, ...)"
      ]
     },
     "execution_count": 33,
     "metadata": {},
     "output_type": "execute_result"
    }
   ],
   "source": [
    "xgb_ec2 = XGBClassifier(**trial_xgb_ec2.params)\n",
    "xgb_ec2.fit(x_train, y_train['EC2'], eval_set=[(x_val, y_val['EC2'])], early_stopping_rounds=20, verbose=False)"
   ]
  },
  {
   "cell_type": "markdown",
   "id": "9259d713",
   "metadata": {
    "papermill": {
     "duration": 0.132987,
     "end_time": "2023-06-28T12:09:00.082587",
     "exception": false,
     "start_time": "2023-06-28T12:08:59.949600",
     "status": "completed"
    },
    "tags": []
   },
   "source": [
    "# 7. Ensemble"
   ]
  },
  {
   "cell_type": "code",
   "execution_count": 34,
   "id": "bb77895b",
   "metadata": {
    "execution": {
     "iopub.execute_input": "2023-06-28T12:09:00.352018Z",
     "iopub.status.busy": "2023-06-28T12:09:00.351646Z",
     "iopub.status.idle": "2023-06-28T12:09:00.356900Z",
     "shell.execute_reply": "2023-06-28T12:09:00.355835Z"
    },
    "papermill": {
     "duration": 0.141921,
     "end_time": "2023-06-28T12:09:00.359120",
     "exception": false,
     "start_time": "2023-06-28T12:09:00.217199",
     "status": "completed"
    },
    "tags": []
   },
   "outputs": [],
   "source": [
    "def get_scores(model,x):\n",
    "    y_pred_proba = model.predict_proba(x_test)[:, 1]\n",
    "    roc_auc = roc_auc_score(y_test[x], y_pred_proba)\n",
    "    return roc_auc"
   ]
  },
  {
   "cell_type": "code",
   "execution_count": 35,
   "id": "3a339f7a",
   "metadata": {
    "execution": {
     "iopub.execute_input": "2023-06-28T12:09:00.627263Z",
     "iopub.status.busy": "2023-06-28T12:09:00.626860Z",
     "iopub.status.idle": "2023-06-28T12:09:01.061232Z",
     "shell.execute_reply": "2023-06-28T12:09:01.060064Z"
    },
    "papermill": {
     "duration": 0.572363,
     "end_time": "2023-06-28T12:09:01.063998",
     "exception": false,
     "start_time": "2023-06-28T12:09:00.491635",
     "status": "completed"
    },
    "tags": []
   },
   "outputs": [],
   "source": [
    "ec1_scores=[get_scores(lgbm_ec1,'EC1'),get_scores(cb_ec1,'EC1'),get_scores(xgb_ec1,'EC1')]\n",
    "ec2_scores=[get_scores(lgbm_ec1,'EC2'),get_scores(cb_ec1,'EC2'),get_scores(xgb_ec1,'EC2')]"
   ]
  },
  {
   "cell_type": "code",
   "execution_count": 36,
   "id": "788947f9",
   "metadata": {
    "execution": {
     "iopub.execute_input": "2023-06-28T12:09:01.335770Z",
     "iopub.status.busy": "2023-06-28T12:09:01.335370Z",
     "iopub.status.idle": "2023-06-28T12:09:01.342543Z",
     "shell.execute_reply": "2023-06-28T12:09:01.341400Z"
    },
    "papermill": {
     "duration": 0.147131,
     "end_time": "2023-06-28T12:09:01.345277",
     "exception": false,
     "start_time": "2023-06-28T12:09:01.198146",
     "status": "completed"
    },
    "tags": []
   },
   "outputs": [],
   "source": [
    "ec1_models = [('lgbm',LGBMClassifier(**trial_lgbm_ec1.params,verbose=-1)),\n",
    "             ('cat',CatBoostClassifier(**trial_cb_ec1.params,verbose=100)),\n",
    "             ('xgb',XGBClassifier(**trial_xgb_ec1.params,verbose=100))]\n",
    "ec2_models = [('lgbm',LGBMClassifier(**trial_lgbm_ec2.params,verbose=-1)),\n",
    "             ('cat',CatBoostClassifier(**trial_cb_ec2.params,verbose=100)),\n",
    "             ('xgb',XGBClassifier(**trial_xgb_ec2.params,verbose=100))]"
   ]
  },
  {
   "cell_type": "code",
   "execution_count": 37,
   "id": "ab3fe34e",
   "metadata": {
    "execution": {
     "iopub.execute_input": "2023-06-28T12:09:01.615297Z",
     "iopub.status.busy": "2023-06-28T12:09:01.614908Z",
     "iopub.status.idle": "2023-06-28T12:12:26.036228Z",
     "shell.execute_reply": "2023-06-28T12:12:26.034758Z"
    },
    "papermill": {
     "duration": 204.708147,
     "end_time": "2023-06-28T12:12:26.186947",
     "exception": false,
     "start_time": "2023-06-28T12:09:01.478800",
     "status": "completed"
    },
    "tags": []
   },
   "outputs": [
    {
     "name": "stdout",
     "output_type": "stream",
     "text": [
      "[LightGBM] [Warning] lambda_l1 is set=0, reg_alpha=0 will be ignored. Current value: lambda_l1=0\n",
      "[LightGBM] [Warning] feature_fraction is set=0.8377231358054495, colsample_bytree=1.0 will be ignored. Current value: feature_fraction=0.8377231358054495\n",
      "[LightGBM] [Warning] lambda_l2 is set=2, reg_lambda=0 will be ignored. Current value: lambda_l2=2\n",
      "0:\tlearn: 0.6800288\ttotal: 40.4ms\tremaining: 2m 15s\n",
      "100:\tlearn: 0.4768567\ttotal: 4.44s\tremaining: 2m 23s\n",
      "200:\tlearn: 0.4095500\ttotal: 8.68s\tremaining: 2m 16s\n",
      "300:\tlearn: 0.3472451\ttotal: 13.2s\tremaining: 2m 14s\n",
      "400:\tlearn: 0.2956497\ttotal: 17.5s\tremaining: 2m 9s\n",
      "500:\tlearn: 0.2523719\ttotal: 21.8s\tremaining: 2m 4s\n",
      "600:\tlearn: 0.2174922\ttotal: 26.2s\tremaining: 2m\n",
      "700:\tlearn: 0.1879529\ttotal: 30.4s\tremaining: 1m 55s\n",
      "800:\tlearn: 0.1654067\ttotal: 34.7s\tremaining: 1m 50s\n",
      "900:\tlearn: 0.1466552\ttotal: 38.9s\tremaining: 1m 46s\n",
      "1000:\tlearn: 0.1302604\ttotal: 43.4s\tremaining: 1m 42s\n",
      "1100:\tlearn: 0.1153569\ttotal: 47.8s\tremaining: 1m 37s\n",
      "1200:\tlearn: 0.1032493\ttotal: 52s\tremaining: 1m 33s\n",
      "1300:\tlearn: 0.0932138\ttotal: 56.2s\tremaining: 1m 28s\n",
      "1400:\tlearn: 0.0848877\ttotal: 1m\tremaining: 1m 24s\n",
      "1500:\tlearn: 0.0769426\ttotal: 1m 4s\tremaining: 1m 20s\n",
      "1600:\tlearn: 0.0697617\ttotal: 1m 9s\tremaining: 1m 15s\n",
      "1700:\tlearn: 0.0638822\ttotal: 1m 13s\tremaining: 1m 11s\n",
      "1800:\tlearn: 0.0587674\ttotal: 1m 17s\tremaining: 1m 7s\n",
      "1900:\tlearn: 0.0538868\ttotal: 1m 22s\tremaining: 1m 2s\n",
      "2000:\tlearn: 0.0497782\ttotal: 1m 26s\tremaining: 58.5s\n",
      "2100:\tlearn: 0.0466169\ttotal: 1m 30s\tremaining: 54.1s\n",
      "2200:\tlearn: 0.0432778\ttotal: 1m 34s\tremaining: 49.8s\n",
      "2300:\tlearn: 0.0402929\ttotal: 1m 39s\tremaining: 45.5s\n",
      "2400:\tlearn: 0.0374347\ttotal: 1m 43s\tremaining: 41.2s\n",
      "2500:\tlearn: 0.0354129\ttotal: 1m 47s\tremaining: 36.9s\n",
      "2600:\tlearn: 0.0332283\ttotal: 1m 51s\tremaining: 32.6s\n",
      "2700:\tlearn: 0.0314634\ttotal: 1m 56s\tremaining: 28.2s\n",
      "2800:\tlearn: 0.0296638\ttotal: 2m\tremaining: 23.9s\n",
      "2900:\tlearn: 0.0280000\ttotal: 2m 4s\tremaining: 19.6s\n",
      "3000:\tlearn: 0.0266272\ttotal: 2m 8s\tremaining: 15.3s\n",
      "3100:\tlearn: 0.0251937\ttotal: 2m 12s\tremaining: 11s\n",
      "3200:\tlearn: 0.0239769\ttotal: 2m 17s\tremaining: 6.73s\n",
      "3300:\tlearn: 0.0228324\ttotal: 2m 21s\tremaining: 2.44s\n",
      "3357:\tlearn: 0.0221967\ttotal: 2m 23s\tremaining: 0us\n",
      "[12:11:29] WARNING: ../src/learner.cc:767: \n",
      "Parameters: { \"verbose\" } are not used.\n",
      "\n"
     ]
    },
    {
     "data": {
      "text/html": [
       "<style>#sk-container-id-5 {color: black;background-color: white;}#sk-container-id-5 pre{padding: 0;}#sk-container-id-5 div.sk-toggleable {background-color: white;}#sk-container-id-5 label.sk-toggleable__label {cursor: pointer;display: block;width: 100%;margin-bottom: 0;padding: 0.3em;box-sizing: border-box;text-align: center;}#sk-container-id-5 label.sk-toggleable__label-arrow:before {content: \"▸\";float: left;margin-right: 0.25em;color: #696969;}#sk-container-id-5 label.sk-toggleable__label-arrow:hover:before {color: black;}#sk-container-id-5 div.sk-estimator:hover label.sk-toggleable__label-arrow:before {color: black;}#sk-container-id-5 div.sk-toggleable__content {max-height: 0;max-width: 0;overflow: hidden;text-align: left;background-color: #f0f8ff;}#sk-container-id-5 div.sk-toggleable__content pre {margin: 0.2em;color: black;border-radius: 0.25em;background-color: #f0f8ff;}#sk-container-id-5 input.sk-toggleable__control:checked~div.sk-toggleable__content {max-height: 200px;max-width: 100%;overflow: auto;}#sk-container-id-5 input.sk-toggleable__control:checked~label.sk-toggleable__label-arrow:before {content: \"▾\";}#sk-container-id-5 div.sk-estimator input.sk-toggleable__control:checked~label.sk-toggleable__label {background-color: #d4ebff;}#sk-container-id-5 div.sk-label input.sk-toggleable__control:checked~label.sk-toggleable__label {background-color: #d4ebff;}#sk-container-id-5 input.sk-hidden--visually {border: 0;clip: rect(1px 1px 1px 1px);clip: rect(1px, 1px, 1px, 1px);height: 1px;margin: -1px;overflow: hidden;padding: 0;position: absolute;width: 1px;}#sk-container-id-5 div.sk-estimator {font-family: monospace;background-color: #f0f8ff;border: 1px dotted black;border-radius: 0.25em;box-sizing: border-box;margin-bottom: 0.5em;}#sk-container-id-5 div.sk-estimator:hover {background-color: #d4ebff;}#sk-container-id-5 div.sk-parallel-item::after {content: \"\";width: 100%;border-bottom: 1px solid gray;flex-grow: 1;}#sk-container-id-5 div.sk-label:hover label.sk-toggleable__label {background-color: #d4ebff;}#sk-container-id-5 div.sk-serial::before {content: \"\";position: absolute;border-left: 1px solid gray;box-sizing: border-box;top: 0;bottom: 0;left: 50%;z-index: 0;}#sk-container-id-5 div.sk-serial {display: flex;flex-direction: column;align-items: center;background-color: white;padding-right: 0.2em;padding-left: 0.2em;position: relative;}#sk-container-id-5 div.sk-item {position: relative;z-index: 1;}#sk-container-id-5 div.sk-parallel {display: flex;align-items: stretch;justify-content: center;background-color: white;position: relative;}#sk-container-id-5 div.sk-item::before, #sk-container-id-5 div.sk-parallel-item::before {content: \"\";position: absolute;border-left: 1px solid gray;box-sizing: border-box;top: 0;bottom: 0;left: 50%;z-index: -1;}#sk-container-id-5 div.sk-parallel-item {display: flex;flex-direction: column;z-index: 1;position: relative;background-color: white;}#sk-container-id-5 div.sk-parallel-item:first-child::after {align-self: flex-end;width: 50%;}#sk-container-id-5 div.sk-parallel-item:last-child::after {align-self: flex-start;width: 50%;}#sk-container-id-5 div.sk-parallel-item:only-child::after {width: 0;}#sk-container-id-5 div.sk-dashed-wrapped {border: 1px dashed gray;margin: 0 0.4em 0.5em 0.4em;box-sizing: border-box;padding-bottom: 0.4em;background-color: white;}#sk-container-id-5 div.sk-label label {font-family: monospace;font-weight: bold;display: inline-block;line-height: 1.2em;}#sk-container-id-5 div.sk-label-container {text-align: center;}#sk-container-id-5 div.sk-container {/* jupyter's `normalize.less` sets `[hidden] { display: none; }` but bootstrap.min.css set `[hidden] { display: none !important; }` so we also need the `!important` here to be able to override the default hidden behavior on the sphinx rendered scikit-learn.org. See: https://github.com/scikit-learn/scikit-learn/issues/21755 */display: inline-block !important;position: relative;}#sk-container-id-5 div.sk-text-repr-fallback {display: none;}</style><div id=\"sk-container-id-5\" class=\"sk-top-container\"><div class=\"sk-text-repr-fallback\"><pre>VotingClassifier(estimators=[(&#x27;lgbm&#x27;,\n",
       "                              LGBMClassifier(feature_fraction=0.8377231358054495,\n",
       "                                             lambda_l1=0, lambda_l2=2,\n",
       "                                             learning_rate=0.09383073807047086,\n",
       "                                             max_depth=9, n_estimators=290,\n",
       "                                             num_leaves=33, reg_alpha=0,\n",
       "                                             reg_lambda=0,\n",
       "                                             subsample=0.5149475034484587,\n",
       "                                             verbose=-1)),\n",
       "                             (&#x27;cat&#x27;,\n",
       "                              &lt;catboost.core.CatBoostClassifier object at 0x79b40d1142b0&gt;),\n",
       "                             (&#x27;xgb&#x27;,\n",
       "                              XGBClassifier(base_sco...\n",
       "                                            learning_rate=0.0010052496318172302,\n",
       "                                            max_bin=None,\n",
       "                                            max_cat_threshold=None,\n",
       "                                            max_cat_to_onehot=None,\n",
       "                                            max_delta_step=None, max_depth=6,\n",
       "                                            max_leaves=None,\n",
       "                                            min_child_weight=None, missing=nan,\n",
       "                                            monotone_constraints=None,\n",
       "                                            n_estimators=2500, n_jobs=None,\n",
       "                                            num_parallel_tree=None,\n",
       "                                            predictor=None, random_state=None, ...))],\n",
       "                 voting=&#x27;soft&#x27;,\n",
       "                 weights=[0.6948145557172694, 0.6994613915773678,\n",
       "                          0.6960738620789584])</pre><b>In a Jupyter environment, please rerun this cell to show the HTML representation or trust the notebook. <br />On GitHub, the HTML representation is unable to render, please try loading this page with nbviewer.org.</b></div><div class=\"sk-container\" hidden><div class=\"sk-item sk-dashed-wrapped\"><div class=\"sk-label-container\"><div class=\"sk-label sk-toggleable\"><input class=\"sk-toggleable__control sk-hidden--visually\" id=\"sk-estimator-id-5\" type=\"checkbox\" ><label for=\"sk-estimator-id-5\" class=\"sk-toggleable__label sk-toggleable__label-arrow\">VotingClassifier</label><div class=\"sk-toggleable__content\"><pre>VotingClassifier(estimators=[(&#x27;lgbm&#x27;,\n",
       "                              LGBMClassifier(feature_fraction=0.8377231358054495,\n",
       "                                             lambda_l1=0, lambda_l2=2,\n",
       "                                             learning_rate=0.09383073807047086,\n",
       "                                             max_depth=9, n_estimators=290,\n",
       "                                             num_leaves=33, reg_alpha=0,\n",
       "                                             reg_lambda=0,\n",
       "                                             subsample=0.5149475034484587,\n",
       "                                             verbose=-1)),\n",
       "                             (&#x27;cat&#x27;,\n",
       "                              &lt;catboost.core.CatBoostClassifier object at 0x79b40d1142b0&gt;),\n",
       "                             (&#x27;xgb&#x27;,\n",
       "                              XGBClassifier(base_sco...\n",
       "                                            learning_rate=0.0010052496318172302,\n",
       "                                            max_bin=None,\n",
       "                                            max_cat_threshold=None,\n",
       "                                            max_cat_to_onehot=None,\n",
       "                                            max_delta_step=None, max_depth=6,\n",
       "                                            max_leaves=None,\n",
       "                                            min_child_weight=None, missing=nan,\n",
       "                                            monotone_constraints=None,\n",
       "                                            n_estimators=2500, n_jobs=None,\n",
       "                                            num_parallel_tree=None,\n",
       "                                            predictor=None, random_state=None, ...))],\n",
       "                 voting=&#x27;soft&#x27;,\n",
       "                 weights=[0.6948145557172694, 0.6994613915773678,\n",
       "                          0.6960738620789584])</pre></div></div></div><div class=\"sk-parallel\"><div class=\"sk-parallel-item\"><div class=\"sk-item\"><div class=\"sk-label-container\"><div class=\"sk-label sk-toggleable\"><label>lgbm</label></div></div><div class=\"sk-serial\"><div class=\"sk-item\"><div class=\"sk-estimator sk-toggleable\"><input class=\"sk-toggleable__control sk-hidden--visually\" id=\"sk-estimator-id-6\" type=\"checkbox\" ><label for=\"sk-estimator-id-6\" class=\"sk-toggleable__label sk-toggleable__label-arrow\">LGBMClassifier</label><div class=\"sk-toggleable__content\"><pre>LGBMClassifier(feature_fraction=0.8377231358054495, lambda_l1=0, lambda_l2=2,\n",
       "               learning_rate=0.09383073807047086, max_depth=9, n_estimators=290,\n",
       "               num_leaves=33, reg_alpha=0, reg_lambda=0,\n",
       "               subsample=0.5149475034484587, verbose=-1)</pre></div></div></div></div></div></div><div class=\"sk-parallel-item\"><div class=\"sk-item\"><div class=\"sk-label-container\"><div class=\"sk-label sk-toggleable\"><label>cat</label></div></div><div class=\"sk-serial\"><div class=\"sk-item\"><div class=\"sk-estimator sk-toggleable\"><input class=\"sk-toggleable__control sk-hidden--visually\" id=\"sk-estimator-id-7\" type=\"checkbox\" ><label for=\"sk-estimator-id-7\" class=\"sk-toggleable__label sk-toggleable__label-arrow\">CatBoostClassifier</label><div class=\"sk-toggleable__content\"><pre>&lt;catboost.core.CatBoostClassifier object at 0x79b40d1142b0&gt;</pre></div></div></div></div></div></div><div class=\"sk-parallel-item\"><div class=\"sk-item\"><div class=\"sk-label-container\"><div class=\"sk-label sk-toggleable\"><label>xgb</label></div></div><div class=\"sk-serial\"><div class=\"sk-item\"><div class=\"sk-estimator sk-toggleable\"><input class=\"sk-toggleable__control sk-hidden--visually\" id=\"sk-estimator-id-8\" type=\"checkbox\" ><label for=\"sk-estimator-id-8\" class=\"sk-toggleable__label sk-toggleable__label-arrow\">XGBClassifier</label><div class=\"sk-toggleable__content\"><pre>XGBClassifier(base_score=None, booster=None, callbacks=None,\n",
       "              colsample_bylevel=0.5045401102524364, colsample_bynode=None,\n",
       "              colsample_bytree=None, early_stopping_rounds=None,\n",
       "              enable_categorical=False, eval_metric=None, feature_types=None,\n",
       "              gamma=None, gpu_id=None, grow_policy=None, importance_type=None,\n",
       "              interaction_constraints=None, learning_rate=0.0010052496318172302,\n",
       "              max_bin=None, max_cat_threshold=None, max_cat_to_onehot=None,\n",
       "              max_delta_step=None, max_depth=6, max_leaves=None,\n",
       "              min_child_weight=None, missing=nan, monotone_constraints=None,\n",
       "              n_estimators=2500, n_jobs=None, num_parallel_tree=None,\n",
       "              predictor=None, random_state=None, ...)</pre></div></div></div></div></div></div></div></div></div></div>"
      ],
      "text/plain": [
       "VotingClassifier(estimators=[('lgbm',\n",
       "                              LGBMClassifier(feature_fraction=0.8377231358054495,\n",
       "                                             lambda_l1=0, lambda_l2=2,\n",
       "                                             learning_rate=0.09383073807047086,\n",
       "                                             max_depth=9, n_estimators=290,\n",
       "                                             num_leaves=33, reg_alpha=0,\n",
       "                                             reg_lambda=0,\n",
       "                                             subsample=0.5149475034484587,\n",
       "                                             verbose=-1)),\n",
       "                             ('cat',\n",
       "                              <catboost.core.CatBoostClassifier object at 0x79b40d1142b0>),\n",
       "                             ('xgb',\n",
       "                              XGBClassifier(base_sco...\n",
       "                                            learning_rate=0.0010052496318172302,\n",
       "                                            max_bin=None,\n",
       "                                            max_cat_threshold=None,\n",
       "                                            max_cat_to_onehot=None,\n",
       "                                            max_delta_step=None, max_depth=6,\n",
       "                                            max_leaves=None,\n",
       "                                            min_child_weight=None, missing=nan,\n",
       "                                            monotone_constraints=None,\n",
       "                                            n_estimators=2500, n_jobs=None,\n",
       "                                            num_parallel_tree=None,\n",
       "                                            predictor=None, random_state=None, ...))],\n",
       "                 voting='soft',\n",
       "                 weights=[0.6948145557172694, 0.6994613915773678,\n",
       "                          0.6960738620789584])"
      ]
     },
     "execution_count": 37,
     "metadata": {},
     "output_type": "execute_result"
    }
   ],
   "source": [
    "ensemble_ec1 = VotingClassifier(estimators=ec1_models, voting='soft', weights=ec1_scores)\n",
    "ensemble_ec1.fit(x_train_full,y_train_full['EC1'])"
   ]
  },
  {
   "cell_type": "code",
   "execution_count": 38,
   "id": "6bd19d85",
   "metadata": {
    "execution": {
     "iopub.execute_input": "2023-06-28T12:12:26.514369Z",
     "iopub.status.busy": "2023-06-28T12:12:26.513944Z",
     "iopub.status.idle": "2023-06-28T12:12:26.837630Z",
     "shell.execute_reply": "2023-06-28T12:12:26.836290Z"
    },
    "papermill": {
     "duration": 0.499976,
     "end_time": "2023-06-28T12:12:26.840670",
     "exception": false,
     "start_time": "2023-06-28T12:12:26.340694",
     "status": "completed"
    },
    "tags": []
   },
   "outputs": [
    {
     "data": {
      "text/plain": [
       "(0.6943489492244352,\n",
       " [0.6948145557172694, 0.6994613915773678, 0.6960738620789584])"
      ]
     },
     "execution_count": 38,
     "metadata": {},
     "output_type": "execute_result"
    }
   ],
   "source": [
    "get_scores(ensemble_ec1,'EC1'), ec1_scores"
   ]
  },
  {
   "cell_type": "code",
   "execution_count": 39,
   "id": "40c5dbf3",
   "metadata": {
    "execution": {
     "iopub.execute_input": "2023-06-28T12:12:27.123207Z",
     "iopub.status.busy": "2023-06-28T12:12:27.122551Z",
     "iopub.status.idle": "2023-06-28T12:13:05.933490Z",
     "shell.execute_reply": "2023-06-28T12:13:05.932313Z"
    },
    "papermill": {
     "duration": 39.095662,
     "end_time": "2023-06-28T12:13:06.077822",
     "exception": false,
     "start_time": "2023-06-28T12:12:26.982160",
     "status": "completed"
    },
    "tags": []
   },
   "outputs": [
    {
     "name": "stdout",
     "output_type": "stream",
     "text": [
      "[LightGBM] [Warning] lambda_l1 is set=1, reg_alpha=0 will be ignored. Current value: lambda_l1=1\n",
      "[LightGBM] [Warning] feature_fraction is set=0.7713094644346348, colsample_bytree=1.0 will be ignored. Current value: feature_fraction=0.7713094644346348\n",
      "[LightGBM] [Warning] lambda_l2 is set=4, reg_lambda=0 will be ignored. Current value: lambda_l2=4\n",
      "0:\tlearn: 0.6895621\ttotal: 5.09ms\tremaining: 18.1s\n",
      "100:\tlearn: 0.5287750\ttotal: 482ms\tremaining: 16.5s\n",
      "200:\tlearn: 0.5021233\ttotal: 971ms\tremaining: 16.2s\n",
      "300:\tlearn: 0.4958847\ttotal: 1.46s\tremaining: 15.8s\n",
      "400:\tlearn: 0.4929951\ttotal: 1.94s\tremaining: 15.3s\n",
      "500:\tlearn: 0.4907710\ttotal: 2.44s\tremaining: 14.9s\n",
      "600:\tlearn: 0.4888580\ttotal: 2.92s\tremaining: 14.4s\n",
      "700:\tlearn: 0.4870145\ttotal: 3.41s\tremaining: 13.9s\n",
      "800:\tlearn: 0.4852508\ttotal: 3.89s\tremaining: 13.4s\n",
      "900:\tlearn: 0.4834801\ttotal: 4.37s\tremaining: 12.9s\n",
      "1000:\tlearn: 0.4817145\ttotal: 4.84s\tremaining: 12.4s\n",
      "1100:\tlearn: 0.4797935\ttotal: 5.32s\tremaining: 11.9s\n",
      "1200:\tlearn: 0.4779041\ttotal: 5.8s\tremaining: 11.4s\n",
      "1300:\tlearn: 0.4758808\ttotal: 6.28s\tremaining: 10.9s\n",
      "1400:\tlearn: 0.4736522\ttotal: 6.77s\tremaining: 10.4s\n",
      "1500:\tlearn: 0.4715297\ttotal: 7.25s\tremaining: 9.94s\n",
      "1600:\tlearn: 0.4694996\ttotal: 7.72s\tremaining: 9.44s\n",
      "1700:\tlearn: 0.4673625\ttotal: 8.24s\tremaining: 9.01s\n",
      "1800:\tlearn: 0.4654537\ttotal: 8.72s\tremaining: 8.51s\n",
      "1900:\tlearn: 0.4635564\ttotal: 9.19s\tremaining: 8.02s\n",
      "2000:\tlearn: 0.4615920\ttotal: 9.67s\tremaining: 7.53s\n",
      "2100:\tlearn: 0.4597409\ttotal: 10.1s\tremaining: 7.04s\n",
      "2200:\tlearn: 0.4579388\ttotal: 10.6s\tremaining: 6.56s\n",
      "2300:\tlearn: 0.4561270\ttotal: 11.1s\tremaining: 6.07s\n",
      "2400:\tlearn: 0.4543840\ttotal: 11.6s\tremaining: 5.58s\n",
      "2500:\tlearn: 0.4525945\ttotal: 12.1s\tremaining: 5.1s\n",
      "2600:\tlearn: 0.4509503\ttotal: 12.5s\tremaining: 4.61s\n",
      "2700:\tlearn: 0.4491754\ttotal: 13s\tremaining: 4.13s\n",
      "2800:\tlearn: 0.4474877\ttotal: 13.5s\tremaining: 3.65s\n",
      "2900:\tlearn: 0.4458376\ttotal: 13.9s\tremaining: 3.16s\n",
      "3000:\tlearn: 0.4443395\ttotal: 14.4s\tremaining: 2.68s\n",
      "3100:\tlearn: 0.4426663\ttotal: 14.9s\tremaining: 2.2s\n",
      "3200:\tlearn: 0.4411487\ttotal: 15.4s\tremaining: 1.72s\n",
      "3300:\tlearn: 0.4396763\ttotal: 15.8s\tremaining: 1.24s\n",
      "3400:\tlearn: 0.4381405\ttotal: 16.3s\tremaining: 757ms\n",
      "3500:\tlearn: 0.4365658\ttotal: 16.8s\tremaining: 278ms\n",
      "3558:\tlearn: 0.4357410\ttotal: 17.1s\tremaining: 0us\n",
      "[12:12:45] WARNING: ../src/learner.cc:767: \n",
      "Parameters: { \"verbose\" } are not used.\n",
      "\n"
     ]
    },
    {
     "data": {
      "text/html": [
       "<style>#sk-container-id-6 {color: black;background-color: white;}#sk-container-id-6 pre{padding: 0;}#sk-container-id-6 div.sk-toggleable {background-color: white;}#sk-container-id-6 label.sk-toggleable__label {cursor: pointer;display: block;width: 100%;margin-bottom: 0;padding: 0.3em;box-sizing: border-box;text-align: center;}#sk-container-id-6 label.sk-toggleable__label-arrow:before {content: \"▸\";float: left;margin-right: 0.25em;color: #696969;}#sk-container-id-6 label.sk-toggleable__label-arrow:hover:before {color: black;}#sk-container-id-6 div.sk-estimator:hover label.sk-toggleable__label-arrow:before {color: black;}#sk-container-id-6 div.sk-toggleable__content {max-height: 0;max-width: 0;overflow: hidden;text-align: left;background-color: #f0f8ff;}#sk-container-id-6 div.sk-toggleable__content pre {margin: 0.2em;color: black;border-radius: 0.25em;background-color: #f0f8ff;}#sk-container-id-6 input.sk-toggleable__control:checked~div.sk-toggleable__content {max-height: 200px;max-width: 100%;overflow: auto;}#sk-container-id-6 input.sk-toggleable__control:checked~label.sk-toggleable__label-arrow:before {content: \"▾\";}#sk-container-id-6 div.sk-estimator input.sk-toggleable__control:checked~label.sk-toggleable__label {background-color: #d4ebff;}#sk-container-id-6 div.sk-label input.sk-toggleable__control:checked~label.sk-toggleable__label {background-color: #d4ebff;}#sk-container-id-6 input.sk-hidden--visually {border: 0;clip: rect(1px 1px 1px 1px);clip: rect(1px, 1px, 1px, 1px);height: 1px;margin: -1px;overflow: hidden;padding: 0;position: absolute;width: 1px;}#sk-container-id-6 div.sk-estimator {font-family: monospace;background-color: #f0f8ff;border: 1px dotted black;border-radius: 0.25em;box-sizing: border-box;margin-bottom: 0.5em;}#sk-container-id-6 div.sk-estimator:hover {background-color: #d4ebff;}#sk-container-id-6 div.sk-parallel-item::after {content: \"\";width: 100%;border-bottom: 1px solid gray;flex-grow: 1;}#sk-container-id-6 div.sk-label:hover label.sk-toggleable__label {background-color: #d4ebff;}#sk-container-id-6 div.sk-serial::before {content: \"\";position: absolute;border-left: 1px solid gray;box-sizing: border-box;top: 0;bottom: 0;left: 50%;z-index: 0;}#sk-container-id-6 div.sk-serial {display: flex;flex-direction: column;align-items: center;background-color: white;padding-right: 0.2em;padding-left: 0.2em;position: relative;}#sk-container-id-6 div.sk-item {position: relative;z-index: 1;}#sk-container-id-6 div.sk-parallel {display: flex;align-items: stretch;justify-content: center;background-color: white;position: relative;}#sk-container-id-6 div.sk-item::before, #sk-container-id-6 div.sk-parallel-item::before {content: \"\";position: absolute;border-left: 1px solid gray;box-sizing: border-box;top: 0;bottom: 0;left: 50%;z-index: -1;}#sk-container-id-6 div.sk-parallel-item {display: flex;flex-direction: column;z-index: 1;position: relative;background-color: white;}#sk-container-id-6 div.sk-parallel-item:first-child::after {align-self: flex-end;width: 50%;}#sk-container-id-6 div.sk-parallel-item:last-child::after {align-self: flex-start;width: 50%;}#sk-container-id-6 div.sk-parallel-item:only-child::after {width: 0;}#sk-container-id-6 div.sk-dashed-wrapped {border: 1px dashed gray;margin: 0 0.4em 0.5em 0.4em;box-sizing: border-box;padding-bottom: 0.4em;background-color: white;}#sk-container-id-6 div.sk-label label {font-family: monospace;font-weight: bold;display: inline-block;line-height: 1.2em;}#sk-container-id-6 div.sk-label-container {text-align: center;}#sk-container-id-6 div.sk-container {/* jupyter's `normalize.less` sets `[hidden] { display: none; }` but bootstrap.min.css set `[hidden] { display: none !important; }` so we also need the `!important` here to be able to override the default hidden behavior on the sphinx rendered scikit-learn.org. See: https://github.com/scikit-learn/scikit-learn/issues/21755 */display: inline-block !important;position: relative;}#sk-container-id-6 div.sk-text-repr-fallback {display: none;}</style><div id=\"sk-container-id-6\" class=\"sk-top-container\"><div class=\"sk-text-repr-fallback\"><pre>VotingClassifier(estimators=[(&#x27;lgbm&#x27;,\n",
       "                              LGBMClassifier(feature_fraction=0.7713094644346348,\n",
       "                                             lambda_l1=1, lambda_l2=4,\n",
       "                                             learning_rate=0.0011403507662051577,\n",
       "                                             max_depth=1, n_estimators=806,\n",
       "                                             num_leaves=25, reg_alpha=0,\n",
       "                                             reg_lambda=0,\n",
       "                                             subsample=0.6308589121580126,\n",
       "                                             verbose=-1)),\n",
       "                             (&#x27;cat&#x27;,\n",
       "                              &lt;catboost.core.CatBoostClassifier object at 0x79b40d117fa0&gt;),\n",
       "                             (&#x27;xgb&#x27;,\n",
       "                              XGBClassifier(base_s...\n",
       "                                            learning_rate=0.0354963497491049,\n",
       "                                            max_bin=None,\n",
       "                                            max_cat_threshold=None,\n",
       "                                            max_cat_to_onehot=None,\n",
       "                                            max_delta_step=None, max_depth=2,\n",
       "                                            max_leaves=None,\n",
       "                                            min_child_weight=None, missing=nan,\n",
       "                                            monotone_constraints=None,\n",
       "                                            n_estimators=2047, n_jobs=None,\n",
       "                                            num_parallel_tree=None,\n",
       "                                            predictor=None, random_state=None, ...))],\n",
       "                 voting=&#x27;soft&#x27;,\n",
       "                 weights=[0.46489608426016094, 0.47359694531290036,\n",
       "                          0.4603018809902107])</pre><b>In a Jupyter environment, please rerun this cell to show the HTML representation or trust the notebook. <br />On GitHub, the HTML representation is unable to render, please try loading this page with nbviewer.org.</b></div><div class=\"sk-container\" hidden><div class=\"sk-item sk-dashed-wrapped\"><div class=\"sk-label-container\"><div class=\"sk-label sk-toggleable\"><input class=\"sk-toggleable__control sk-hidden--visually\" id=\"sk-estimator-id-9\" type=\"checkbox\" ><label for=\"sk-estimator-id-9\" class=\"sk-toggleable__label sk-toggleable__label-arrow\">VotingClassifier</label><div class=\"sk-toggleable__content\"><pre>VotingClassifier(estimators=[(&#x27;lgbm&#x27;,\n",
       "                              LGBMClassifier(feature_fraction=0.7713094644346348,\n",
       "                                             lambda_l1=1, lambda_l2=4,\n",
       "                                             learning_rate=0.0011403507662051577,\n",
       "                                             max_depth=1, n_estimators=806,\n",
       "                                             num_leaves=25, reg_alpha=0,\n",
       "                                             reg_lambda=0,\n",
       "                                             subsample=0.6308589121580126,\n",
       "                                             verbose=-1)),\n",
       "                             (&#x27;cat&#x27;,\n",
       "                              &lt;catboost.core.CatBoostClassifier object at 0x79b40d117fa0&gt;),\n",
       "                             (&#x27;xgb&#x27;,\n",
       "                              XGBClassifier(base_s...\n",
       "                                            learning_rate=0.0354963497491049,\n",
       "                                            max_bin=None,\n",
       "                                            max_cat_threshold=None,\n",
       "                                            max_cat_to_onehot=None,\n",
       "                                            max_delta_step=None, max_depth=2,\n",
       "                                            max_leaves=None,\n",
       "                                            min_child_weight=None, missing=nan,\n",
       "                                            monotone_constraints=None,\n",
       "                                            n_estimators=2047, n_jobs=None,\n",
       "                                            num_parallel_tree=None,\n",
       "                                            predictor=None, random_state=None, ...))],\n",
       "                 voting=&#x27;soft&#x27;,\n",
       "                 weights=[0.46489608426016094, 0.47359694531290036,\n",
       "                          0.4603018809902107])</pre></div></div></div><div class=\"sk-parallel\"><div class=\"sk-parallel-item\"><div class=\"sk-item\"><div class=\"sk-label-container\"><div class=\"sk-label sk-toggleable\"><label>lgbm</label></div></div><div class=\"sk-serial\"><div class=\"sk-item\"><div class=\"sk-estimator sk-toggleable\"><input class=\"sk-toggleable__control sk-hidden--visually\" id=\"sk-estimator-id-10\" type=\"checkbox\" ><label for=\"sk-estimator-id-10\" class=\"sk-toggleable__label sk-toggleable__label-arrow\">LGBMClassifier</label><div class=\"sk-toggleable__content\"><pre>LGBMClassifier(feature_fraction=0.7713094644346348, lambda_l1=1, lambda_l2=4,\n",
       "               learning_rate=0.0011403507662051577, max_depth=1,\n",
       "               n_estimators=806, num_leaves=25, reg_alpha=0, reg_lambda=0,\n",
       "               subsample=0.6308589121580126, verbose=-1)</pre></div></div></div></div></div></div><div class=\"sk-parallel-item\"><div class=\"sk-item\"><div class=\"sk-label-container\"><div class=\"sk-label sk-toggleable\"><label>cat</label></div></div><div class=\"sk-serial\"><div class=\"sk-item\"><div class=\"sk-estimator sk-toggleable\"><input class=\"sk-toggleable__control sk-hidden--visually\" id=\"sk-estimator-id-11\" type=\"checkbox\" ><label for=\"sk-estimator-id-11\" class=\"sk-toggleable__label sk-toggleable__label-arrow\">CatBoostClassifier</label><div class=\"sk-toggleable__content\"><pre>&lt;catboost.core.CatBoostClassifier object at 0x79b40d117fa0&gt;</pre></div></div></div></div></div></div><div class=\"sk-parallel-item\"><div class=\"sk-item\"><div class=\"sk-label-container\"><div class=\"sk-label sk-toggleable\"><label>xgb</label></div></div><div class=\"sk-serial\"><div class=\"sk-item\"><div class=\"sk-estimator sk-toggleable\"><input class=\"sk-toggleable__control sk-hidden--visually\" id=\"sk-estimator-id-12\" type=\"checkbox\" ><label for=\"sk-estimator-id-12\" class=\"sk-toggleable__label sk-toggleable__label-arrow\">XGBClassifier</label><div class=\"sk-toggleable__content\"><pre>XGBClassifier(base_score=None, booster=None, callbacks=None,\n",
       "              colsample_bylevel=0.6709273064478266, colsample_bynode=None,\n",
       "              colsample_bytree=None, early_stopping_rounds=None,\n",
       "              enable_categorical=False, eval_metric=None, feature_types=None,\n",
       "              gamma=None, gpu_id=None, grow_policy=None, importance_type=None,\n",
       "              interaction_constraints=None, learning_rate=0.0354963497491049,\n",
       "              max_bin=None, max_cat_threshold=None, max_cat_to_onehot=None,\n",
       "              max_delta_step=None, max_depth=2, max_leaves=None,\n",
       "              min_child_weight=None, missing=nan, monotone_constraints=None,\n",
       "              n_estimators=2047, n_jobs=None, num_parallel_tree=None,\n",
       "              predictor=None, random_state=None, ...)</pre></div></div></div></div></div></div></div></div></div></div>"
      ],
      "text/plain": [
       "VotingClassifier(estimators=[('lgbm',\n",
       "                              LGBMClassifier(feature_fraction=0.7713094644346348,\n",
       "                                             lambda_l1=1, lambda_l2=4,\n",
       "                                             learning_rate=0.0011403507662051577,\n",
       "                                             max_depth=1, n_estimators=806,\n",
       "                                             num_leaves=25, reg_alpha=0,\n",
       "                                             reg_lambda=0,\n",
       "                                             subsample=0.6308589121580126,\n",
       "                                             verbose=-1)),\n",
       "                             ('cat',\n",
       "                              <catboost.core.CatBoostClassifier object at 0x79b40d117fa0>),\n",
       "                             ('xgb',\n",
       "                              XGBClassifier(base_s...\n",
       "                                            learning_rate=0.0354963497491049,\n",
       "                                            max_bin=None,\n",
       "                                            max_cat_threshold=None,\n",
       "                                            max_cat_to_onehot=None,\n",
       "                                            max_delta_step=None, max_depth=2,\n",
       "                                            max_leaves=None,\n",
       "                                            min_child_weight=None, missing=nan,\n",
       "                                            monotone_constraints=None,\n",
       "                                            n_estimators=2047, n_jobs=None,\n",
       "                                            num_parallel_tree=None,\n",
       "                                            predictor=None, random_state=None, ...))],\n",
       "                 voting='soft',\n",
       "                 weights=[0.46489608426016094, 0.47359694531290036,\n",
       "                          0.4603018809902107])"
      ]
     },
     "execution_count": 39,
     "metadata": {},
     "output_type": "execute_result"
    }
   ],
   "source": [
    "ensemble_ec2 = VotingClassifier(estimators=ec2_models, voting='soft', weights=ec2_scores)\n",
    "ensemble_ec2.fit(x_train_full,y_train_full['EC2'])"
   ]
  },
  {
   "cell_type": "code",
   "execution_count": 40,
   "id": "3e2e2e25",
   "metadata": {
    "execution": {
     "iopub.execute_input": "2023-06-28T12:13:06.367759Z",
     "iopub.status.busy": "2023-06-28T12:13:06.367052Z",
     "iopub.status.idle": "2023-06-28T12:13:06.452568Z",
     "shell.execute_reply": "2023-06-28T12:13:06.451234Z"
    },
    "papermill": {
     "duration": 0.236805,
     "end_time": "2023-06-28T12:13:06.456280",
     "exception": false,
     "start_time": "2023-06-28T12:13:06.219475",
     "status": "completed"
    },
    "tags": []
   },
   "outputs": [
    {
     "data": {
      "text/plain": [
       "(0.6160986110399261,\n",
       " [0.46489608426016094, 0.47359694531290036, 0.4603018809902107])"
      ]
     },
     "execution_count": 40,
     "metadata": {},
     "output_type": "execute_result"
    }
   ],
   "source": [
    "get_scores(ensemble_ec2,'EC2'), ec2_scores"
   ]
  },
  {
   "cell_type": "markdown",
   "id": "300787c4",
   "metadata": {
    "papermill": {
     "duration": 0.14298,
     "end_time": "2023-06-28T12:13:06.753619",
     "exception": false,
     "start_time": "2023-06-28T12:13:06.610639",
     "status": "completed"
    },
    "tags": []
   },
   "source": [
    "# 8. Preparing submission"
   ]
  },
  {
   "cell_type": "code",
   "execution_count": 41,
   "id": "4b5c646a",
   "metadata": {
    "execution": {
     "iopub.execute_input": "2023-06-28T12:13:07.043217Z",
     "iopub.status.busy": "2023-06-28T12:13:07.042482Z",
     "iopub.status.idle": "2023-06-28T12:13:07.088027Z",
     "shell.execute_reply": "2023-06-28T12:13:07.086950Z"
    },
    "papermill": {
     "duration": 0.196233,
     "end_time": "2023-06-28T12:13:07.091265",
     "exception": false,
     "start_time": "2023-06-28T12:13:06.895032",
     "status": "completed"
    },
    "tags": []
   },
   "outputs": [
    {
     "data": {
      "text/html": [
       "<div>\n",
       "<style scoped>\n",
       "    .dataframe tbody tr th:only-of-type {\n",
       "        vertical-align: middle;\n",
       "    }\n",
       "\n",
       "    .dataframe tbody tr th {\n",
       "        vertical-align: top;\n",
       "    }\n",
       "\n",
       "    .dataframe thead th {\n",
       "        text-align: right;\n",
       "    }\n",
       "</style>\n",
       "<table border=\"1\" class=\"dataframe\">\n",
       "  <thead>\n",
       "    <tr style=\"text-align: right;\">\n",
       "      <th></th>\n",
       "      <th>BertzCT</th>\n",
       "      <th>Chi1</th>\n",
       "      <th>Chi1n</th>\n",
       "      <th>Chi1v</th>\n",
       "      <th>Chi2n</th>\n",
       "      <th>Chi2v</th>\n",
       "      <th>Chi3v</th>\n",
       "      <th>Chi4n</th>\n",
       "      <th>EState_VSA1</th>\n",
       "      <th>EState_VSA2</th>\n",
       "      <th>ExactMolWt</th>\n",
       "      <th>FpDensityMorgan1</th>\n",
       "      <th>FpDensityMorgan2</th>\n",
       "      <th>FpDensityMorgan3</th>\n",
       "      <th>HallKierAlpha</th>\n",
       "      <th>HeavyAtomMolWt</th>\n",
       "      <th>Kappa3</th>\n",
       "      <th>MaxAbsEStateIndex</th>\n",
       "      <th>MinEStateIndex</th>\n",
       "      <th>NumHeteroatoms</th>\n",
       "      <th>PEOE_VSA10</th>\n",
       "      <th>PEOE_VSA14</th>\n",
       "      <th>PEOE_VSA6</th>\n",
       "      <th>PEOE_VSA7</th>\n",
       "      <th>PEOE_VSA8</th>\n",
       "      <th>SMR_VSA10</th>\n",
       "      <th>SMR_VSA5</th>\n",
       "      <th>SlogP_VSA3</th>\n",
       "      <th>VSA_EState9</th>\n",
       "      <th>fr_COO</th>\n",
       "      <th>fr_COO2</th>\n",
       "    </tr>\n",
       "  </thead>\n",
       "  <tbody>\n",
       "    <tr>\n",
       "      <th>14343</th>\n",
       "      <td>0.086159</td>\n",
       "      <td>0.085014</td>\n",
       "      <td>0.067604</td>\n",
       "      <td>0.063483</td>\n",
       "      <td>0.084467</td>\n",
       "      <td>0.078644</td>\n",
       "      <td>0.081599</td>\n",
       "      <td>0.057771</td>\n",
       "      <td>0.135985</td>\n",
       "      <td>0.119919</td>\n",
       "      <td>0.075567</td>\n",
       "      <td>0.996761</td>\n",
       "      <td>0.997543</td>\n",
       "      <td>0.998075</td>\n",
       "      <td>0.694737</td>\n",
       "      <td>0.079643</td>\n",
       "      <td>0.065636</td>\n",
       "      <td>0.672983</td>\n",
       "      <td>0.416767</td>\n",
       "      <td>0.261905</td>\n",
       "      <td>0.061864</td>\n",
       "      <td>0.024747</td>\n",
       "      <td>0.0</td>\n",
       "      <td>0.000000</td>\n",
       "      <td>0.000000</td>\n",
       "      <td>0.219487</td>\n",
       "      <td>0.051607</td>\n",
       "      <td>0.083090</td>\n",
       "      <td>0.162265</td>\n",
       "      <td>0.250</td>\n",
       "      <td>0.250</td>\n",
       "    </tr>\n",
       "    <tr>\n",
       "      <th>13008</th>\n",
       "      <td>0.311083</td>\n",
       "      <td>0.259483</td>\n",
       "      <td>0.210701</td>\n",
       "      <td>0.197856</td>\n",
       "      <td>0.261616</td>\n",
       "      <td>0.243579</td>\n",
       "      <td>0.250352</td>\n",
       "      <td>0.239694</td>\n",
       "      <td>0.232482</td>\n",
       "      <td>0.416338</td>\n",
       "      <td>0.244632</td>\n",
       "      <td>0.997095</td>\n",
       "      <td>0.997784</td>\n",
       "      <td>0.998444</td>\n",
       "      <td>0.580117</td>\n",
       "      <td>0.256555</td>\n",
       "      <td>0.069108</td>\n",
       "      <td>0.806006</td>\n",
       "      <td>0.062688</td>\n",
       "      <td>0.666667</td>\n",
       "      <td>0.371274</td>\n",
       "      <td>0.048645</td>\n",
       "      <td>0.0</td>\n",
       "      <td>0.000000</td>\n",
       "      <td>0.305717</td>\n",
       "      <td>0.856321</td>\n",
       "      <td>0.103327</td>\n",
       "      <td>0.439296</td>\n",
       "      <td>0.268910</td>\n",
       "      <td>0.000</td>\n",
       "      <td>0.000</td>\n",
       "    </tr>\n",
       "    <tr>\n",
       "      <th>12068</th>\n",
       "      <td>0.174533</td>\n",
       "      <td>0.191058</td>\n",
       "      <td>0.196687</td>\n",
       "      <td>0.184696</td>\n",
       "      <td>0.229396</td>\n",
       "      <td>0.213581</td>\n",
       "      <td>0.252654</td>\n",
       "      <td>0.259404</td>\n",
       "      <td>0.043017</td>\n",
       "      <td>0.066111</td>\n",
       "      <td>0.183947</td>\n",
       "      <td>0.996191</td>\n",
       "      <td>0.996230</td>\n",
       "      <td>0.996270</td>\n",
       "      <td>0.812865</td>\n",
       "      <td>0.179014</td>\n",
       "      <td>0.065730</td>\n",
       "      <td>0.718993</td>\n",
       "      <td>0.102313</td>\n",
       "      <td>0.214286</td>\n",
       "      <td>0.000000</td>\n",
       "      <td>0.032430</td>\n",
       "      <td>0.0</td>\n",
       "      <td>0.000000</td>\n",
       "      <td>0.000000</td>\n",
       "      <td>0.193770</td>\n",
       "      <td>0.108332</td>\n",
       "      <td>0.155663</td>\n",
       "      <td>0.153342</td>\n",
       "      <td>0.000</td>\n",
       "      <td>0.000</td>\n",
       "    </tr>\n",
       "    <tr>\n",
       "      <th>12390</th>\n",
       "      <td>0.075167</td>\n",
       "      <td>0.084583</td>\n",
       "      <td>0.062412</td>\n",
       "      <td>0.058607</td>\n",
       "      <td>0.063456</td>\n",
       "      <td>0.059081</td>\n",
       "      <td>0.052061</td>\n",
       "      <td>0.044495</td>\n",
       "      <td>0.032221</td>\n",
       "      <td>0.113202</td>\n",
       "      <td>0.071134</td>\n",
       "      <td>0.997260</td>\n",
       "      <td>0.997833</td>\n",
       "      <td>0.998282</td>\n",
       "      <td>0.727485</td>\n",
       "      <td>0.072758</td>\n",
       "      <td>0.065233</td>\n",
       "      <td>0.651453</td>\n",
       "      <td>0.374485</td>\n",
       "      <td>0.071429</td>\n",
       "      <td>0.058871</td>\n",
       "      <td>0.012373</td>\n",
       "      <td>0.0</td>\n",
       "      <td>0.114730</td>\n",
       "      <td>0.000000</td>\n",
       "      <td>0.073930</td>\n",
       "      <td>0.000000</td>\n",
       "      <td>0.000000</td>\n",
       "      <td>0.099852</td>\n",
       "      <td>0.125</td>\n",
       "      <td>0.125</td>\n",
       "    </tr>\n",
       "    <tr>\n",
       "      <th>12715</th>\n",
       "      <td>0.036635</td>\n",
       "      <td>0.058038</td>\n",
       "      <td>0.045627</td>\n",
       "      <td>0.042845</td>\n",
       "      <td>0.050877</td>\n",
       "      <td>0.047370</td>\n",
       "      <td>0.040615</td>\n",
       "      <td>0.000000</td>\n",
       "      <td>0.066380</td>\n",
       "      <td>0.000000</td>\n",
       "      <td>0.058594</td>\n",
       "      <td>0.997907</td>\n",
       "      <td>0.999103</td>\n",
       "      <td>0.998805</td>\n",
       "      <td>0.842105</td>\n",
       "      <td>0.060957</td>\n",
       "      <td>0.065349</td>\n",
       "      <td>0.687187</td>\n",
       "      <td>0.449440</td>\n",
       "      <td>0.071429</td>\n",
       "      <td>0.000000</td>\n",
       "      <td>0.101522</td>\n",
       "      <td>0.0</td>\n",
       "      <td>0.000000</td>\n",
       "      <td>0.000000</td>\n",
       "      <td>0.219762</td>\n",
       "      <td>0.000000</td>\n",
       "      <td>0.041545</td>\n",
       "      <td>0.071211</td>\n",
       "      <td>0.000</td>\n",
       "      <td>0.000</td>\n",
       "    </tr>\n",
       "    <tr>\n",
       "      <th>...</th>\n",
       "      <td>...</td>\n",
       "      <td>...</td>\n",
       "      <td>...</td>\n",
       "      <td>...</td>\n",
       "      <td>...</td>\n",
       "      <td>...</td>\n",
       "      <td>...</td>\n",
       "      <td>...</td>\n",
       "      <td>...</td>\n",
       "      <td>...</td>\n",
       "      <td>...</td>\n",
       "      <td>...</td>\n",
       "      <td>...</td>\n",
       "      <td>...</td>\n",
       "      <td>...</td>\n",
       "      <td>...</td>\n",
       "      <td>...</td>\n",
       "      <td>...</td>\n",
       "      <td>...</td>\n",
       "      <td>...</td>\n",
       "      <td>...</td>\n",
       "      <td>...</td>\n",
       "      <td>...</td>\n",
       "      <td>...</td>\n",
       "      <td>...</td>\n",
       "      <td>...</td>\n",
       "      <td>...</td>\n",
       "      <td>...</td>\n",
       "      <td>...</td>\n",
       "      <td>...</td>\n",
       "      <td>...</td>\n",
       "    </tr>\n",
       "    <tr>\n",
       "      <th>6539</th>\n",
       "      <td>0.076987</td>\n",
       "      <td>0.124190</td>\n",
       "      <td>0.120919</td>\n",
       "      <td>0.139634</td>\n",
       "      <td>0.152516</td>\n",
       "      <td>0.166363</td>\n",
       "      <td>0.142034</td>\n",
       "      <td>0.051568</td>\n",
       "      <td>0.038291</td>\n",
       "      <td>0.196985</td>\n",
       "      <td>0.117662</td>\n",
       "      <td>0.997418</td>\n",
       "      <td>0.998207</td>\n",
       "      <td>0.998656</td>\n",
       "      <td>0.832749</td>\n",
       "      <td>0.119996</td>\n",
       "      <td>0.070307</td>\n",
       "      <td>0.725940</td>\n",
       "      <td>0.180433</td>\n",
       "      <td>0.190476</td>\n",
       "      <td>0.000000</td>\n",
       "      <td>0.231962</td>\n",
       "      <td>0.0</td>\n",
       "      <td>0.000000</td>\n",
       "      <td>0.000000</td>\n",
       "      <td>0.257203</td>\n",
       "      <td>0.012388</td>\n",
       "      <td>0.200044</td>\n",
       "      <td>0.101099</td>\n",
       "      <td>0.000</td>\n",
       "      <td>0.000</td>\n",
       "    </tr>\n",
       "    <tr>\n",
       "      <th>1471</th>\n",
       "      <td>0.272046</td>\n",
       "      <td>0.254120</td>\n",
       "      <td>0.192378</td>\n",
       "      <td>0.239023</td>\n",
       "      <td>0.267926</td>\n",
       "      <td>0.344508</td>\n",
       "      <td>0.345903</td>\n",
       "      <td>0.239694</td>\n",
       "      <td>0.279230</td>\n",
       "      <td>0.119919</td>\n",
       "      <td>0.244632</td>\n",
       "      <td>0.997010</td>\n",
       "      <td>0.998057</td>\n",
       "      <td>0.997909</td>\n",
       "      <td>0.753216</td>\n",
       "      <td>0.256555</td>\n",
       "      <td>0.068178</td>\n",
       "      <td>0.793095</td>\n",
       "      <td>0.060968</td>\n",
       "      <td>0.500000</td>\n",
       "      <td>0.375000</td>\n",
       "      <td>0.044224</td>\n",
       "      <td>0.0</td>\n",
       "      <td>0.032736</td>\n",
       "      <td>0.181180</td>\n",
       "      <td>0.290654</td>\n",
       "      <td>0.115994</td>\n",
       "      <td>0.318497</td>\n",
       "      <td>0.269562</td>\n",
       "      <td>0.000</td>\n",
       "      <td>0.000</td>\n",
       "    </tr>\n",
       "    <tr>\n",
       "      <th>976</th>\n",
       "      <td>0.160384</td>\n",
       "      <td>0.162239</td>\n",
       "      <td>0.125873</td>\n",
       "      <td>0.149141</td>\n",
       "      <td>0.136695</td>\n",
       "      <td>0.168741</td>\n",
       "      <td>0.173900</td>\n",
       "      <td>0.186210</td>\n",
       "      <td>0.021508</td>\n",
       "      <td>0.196985</td>\n",
       "      <td>0.252670</td>\n",
       "      <td>0.997075</td>\n",
       "      <td>0.997687</td>\n",
       "      <td>0.998444</td>\n",
       "      <td>0.901754</td>\n",
       "      <td>0.232015</td>\n",
       "      <td>0.067382</td>\n",
       "      <td>0.645599</td>\n",
       "      <td>0.119022</td>\n",
       "      <td>0.190476</td>\n",
       "      <td>0.187500</td>\n",
       "      <td>0.016215</td>\n",
       "      <td>0.0</td>\n",
       "      <td>0.000000</td>\n",
       "      <td>0.000000</td>\n",
       "      <td>0.096885</td>\n",
       "      <td>0.088520</td>\n",
       "      <td>0.097182</td>\n",
       "      <td>0.142814</td>\n",
       "      <td>0.000</td>\n",
       "      <td>0.000</td>\n",
       "    </tr>\n",
       "    <tr>\n",
       "      <th>14032</th>\n",
       "      <td>0.041998</td>\n",
       "      <td>0.073508</td>\n",
       "      <td>0.064604</td>\n",
       "      <td>0.060666</td>\n",
       "      <td>0.068142</td>\n",
       "      <td>0.063444</td>\n",
       "      <td>0.061732</td>\n",
       "      <td>0.045522</td>\n",
       "      <td>0.033024</td>\n",
       "      <td>0.000000</td>\n",
       "      <td>0.073367</td>\n",
       "      <td>0.997418</td>\n",
       "      <td>0.998207</td>\n",
       "      <td>0.998723</td>\n",
       "      <td>0.694737</td>\n",
       "      <td>0.075722</td>\n",
       "      <td>0.065283</td>\n",
       "      <td>0.641471</td>\n",
       "      <td>0.430196</td>\n",
       "      <td>0.095238</td>\n",
       "      <td>0.061864</td>\n",
       "      <td>0.012373</td>\n",
       "      <td>0.0</td>\n",
       "      <td>0.060717</td>\n",
       "      <td>0.000000</td>\n",
       "      <td>0.150899</td>\n",
       "      <td>0.038324</td>\n",
       "      <td>0.041545</td>\n",
       "      <td>0.106265</td>\n",
       "      <td>0.125</td>\n",
       "      <td>0.125</td>\n",
       "    </tr>\n",
       "    <tr>\n",
       "      <th>11815</th>\n",
       "      <td>0.049600</td>\n",
       "      <td>0.087886</td>\n",
       "      <td>0.069031</td>\n",
       "      <td>0.107607</td>\n",
       "      <td>0.075258</td>\n",
       "      <td>0.105910</td>\n",
       "      <td>0.076443</td>\n",
       "      <td>0.035633</td>\n",
       "      <td>0.073740</td>\n",
       "      <td>0.000000</td>\n",
       "      <td>0.088589</td>\n",
       "      <td>0.997758</td>\n",
       "      <td>0.998207</td>\n",
       "      <td>0.998549</td>\n",
       "      <td>0.902924</td>\n",
       "      <td>0.089487</td>\n",
       "      <td>0.068001</td>\n",
       "      <td>0.615683</td>\n",
       "      <td>0.151463</td>\n",
       "      <td>0.214286</td>\n",
       "      <td>0.000000</td>\n",
       "      <td>0.141523</td>\n",
       "      <td>0.0</td>\n",
       "      <td>0.000000</td>\n",
       "      <td>0.000000</td>\n",
       "      <td>0.168511</td>\n",
       "      <td>0.051216</td>\n",
       "      <td>0.120300</td>\n",
       "      <td>0.099307</td>\n",
       "      <td>0.000</td>\n",
       "      <td>0.000</td>\n",
       "    </tr>\n",
       "  </tbody>\n",
       "</table>\n",
       "<p>2226 rows × 31 columns</p>\n",
       "</div>"
      ],
      "text/plain": [
       "        BertzCT      Chi1     Chi1n     Chi1v     Chi2n     Chi2v     Chi3v  \\\n",
       "14343  0.086159  0.085014  0.067604  0.063483  0.084467  0.078644  0.081599   \n",
       "13008  0.311083  0.259483  0.210701  0.197856  0.261616  0.243579  0.250352   \n",
       "12068  0.174533  0.191058  0.196687  0.184696  0.229396  0.213581  0.252654   \n",
       "12390  0.075167  0.084583  0.062412  0.058607  0.063456  0.059081  0.052061   \n",
       "12715  0.036635  0.058038  0.045627  0.042845  0.050877  0.047370  0.040615   \n",
       "...         ...       ...       ...       ...       ...       ...       ...   \n",
       "6539   0.076987  0.124190  0.120919  0.139634  0.152516  0.166363  0.142034   \n",
       "1471   0.272046  0.254120  0.192378  0.239023  0.267926  0.344508  0.345903   \n",
       "976    0.160384  0.162239  0.125873  0.149141  0.136695  0.168741  0.173900   \n",
       "14032  0.041998  0.073508  0.064604  0.060666  0.068142  0.063444  0.061732   \n",
       "11815  0.049600  0.087886  0.069031  0.107607  0.075258  0.105910  0.076443   \n",
       "\n",
       "          Chi4n  EState_VSA1  EState_VSA2  ExactMolWt  FpDensityMorgan1  \\\n",
       "14343  0.057771     0.135985     0.119919    0.075567          0.996761   \n",
       "13008  0.239694     0.232482     0.416338    0.244632          0.997095   \n",
       "12068  0.259404     0.043017     0.066111    0.183947          0.996191   \n",
       "12390  0.044495     0.032221     0.113202    0.071134          0.997260   \n",
       "12715  0.000000     0.066380     0.000000    0.058594          0.997907   \n",
       "...         ...          ...          ...         ...               ...   \n",
       "6539   0.051568     0.038291     0.196985    0.117662          0.997418   \n",
       "1471   0.239694     0.279230     0.119919    0.244632          0.997010   \n",
       "976    0.186210     0.021508     0.196985    0.252670          0.997075   \n",
       "14032  0.045522     0.033024     0.000000    0.073367          0.997418   \n",
       "11815  0.035633     0.073740     0.000000    0.088589          0.997758   \n",
       "\n",
       "       FpDensityMorgan2  FpDensityMorgan3  HallKierAlpha  HeavyAtomMolWt  \\\n",
       "14343          0.997543          0.998075       0.694737        0.079643   \n",
       "13008          0.997784          0.998444       0.580117        0.256555   \n",
       "12068          0.996230          0.996270       0.812865        0.179014   \n",
       "12390          0.997833          0.998282       0.727485        0.072758   \n",
       "12715          0.999103          0.998805       0.842105        0.060957   \n",
       "...                 ...               ...            ...             ...   \n",
       "6539           0.998207          0.998656       0.832749        0.119996   \n",
       "1471           0.998057          0.997909       0.753216        0.256555   \n",
       "976            0.997687          0.998444       0.901754        0.232015   \n",
       "14032          0.998207          0.998723       0.694737        0.075722   \n",
       "11815          0.998207          0.998549       0.902924        0.089487   \n",
       "\n",
       "         Kappa3  MaxAbsEStateIndex  MinEStateIndex  NumHeteroatoms  \\\n",
       "14343  0.065636           0.672983        0.416767        0.261905   \n",
       "13008  0.069108           0.806006        0.062688        0.666667   \n",
       "12068  0.065730           0.718993        0.102313        0.214286   \n",
       "12390  0.065233           0.651453        0.374485        0.071429   \n",
       "12715  0.065349           0.687187        0.449440        0.071429   \n",
       "...         ...                ...             ...             ...   \n",
       "6539   0.070307           0.725940        0.180433        0.190476   \n",
       "1471   0.068178           0.793095        0.060968        0.500000   \n",
       "976    0.067382           0.645599        0.119022        0.190476   \n",
       "14032  0.065283           0.641471        0.430196        0.095238   \n",
       "11815  0.068001           0.615683        0.151463        0.214286   \n",
       "\n",
       "       PEOE_VSA10  PEOE_VSA14  PEOE_VSA6  PEOE_VSA7  PEOE_VSA8  SMR_VSA10  \\\n",
       "14343    0.061864    0.024747        0.0   0.000000   0.000000   0.219487   \n",
       "13008    0.371274    0.048645        0.0   0.000000   0.305717   0.856321   \n",
       "12068    0.000000    0.032430        0.0   0.000000   0.000000   0.193770   \n",
       "12390    0.058871    0.012373        0.0   0.114730   0.000000   0.073930   \n",
       "12715    0.000000    0.101522        0.0   0.000000   0.000000   0.219762   \n",
       "...           ...         ...        ...        ...        ...        ...   \n",
       "6539     0.000000    0.231962        0.0   0.000000   0.000000   0.257203   \n",
       "1471     0.375000    0.044224        0.0   0.032736   0.181180   0.290654   \n",
       "976      0.187500    0.016215        0.0   0.000000   0.000000   0.096885   \n",
       "14032    0.061864    0.012373        0.0   0.060717   0.000000   0.150899   \n",
       "11815    0.000000    0.141523        0.0   0.000000   0.000000   0.168511   \n",
       "\n",
       "       SMR_VSA5  SlogP_VSA3  VSA_EState9  fr_COO  fr_COO2  \n",
       "14343  0.051607    0.083090     0.162265   0.250    0.250  \n",
       "13008  0.103327    0.439296     0.268910   0.000    0.000  \n",
       "12068  0.108332    0.155663     0.153342   0.000    0.000  \n",
       "12390  0.000000    0.000000     0.099852   0.125    0.125  \n",
       "12715  0.000000    0.041545     0.071211   0.000    0.000  \n",
       "...         ...         ...          ...     ...      ...  \n",
       "6539   0.012388    0.200044     0.101099   0.000    0.000  \n",
       "1471   0.115994    0.318497     0.269562   0.000    0.000  \n",
       "976    0.088520    0.097182     0.142814   0.000    0.000  \n",
       "14032  0.038324    0.041545     0.106265   0.125    0.125  \n",
       "11815  0.051216    0.120300     0.099307   0.000    0.000  \n",
       "\n",
       "[2226 rows x 31 columns]"
      ]
     },
     "execution_count": 41,
     "metadata": {},
     "output_type": "execute_result"
    }
   ],
   "source": [
    "x_test"
   ]
  },
  {
   "cell_type": "code",
   "execution_count": 42,
   "id": "8a4dd2ad",
   "metadata": {
    "execution": {
     "iopub.execute_input": "2023-06-28T12:13:07.378962Z",
     "iopub.status.busy": "2023-06-28T12:13:07.378563Z",
     "iopub.status.idle": "2023-06-28T12:13:07.392411Z",
     "shell.execute_reply": "2023-06-28T12:13:07.390954Z"
    },
    "papermill": {
     "duration": 0.161038,
     "end_time": "2023-06-28T12:13:07.395255",
     "exception": false,
     "start_time": "2023-06-28T12:13:07.234217",
     "status": "completed"
    },
    "tags": []
   },
   "outputs": [],
   "source": [
    "scaled_test = ms.fit_transform(test.drop(['id'],axis=1))"
   ]
  },
  {
   "cell_type": "markdown",
   "id": "961c5566",
   "metadata": {
    "papermill": {
     "duration": 0.142772,
     "end_time": "2023-06-28T12:13:07.681015",
     "exception": false,
     "start_time": "2023-06-28T12:13:07.538243",
     "status": "completed"
    },
    "tags": []
   },
   "source": [
    "# 9. Submission"
   ]
  },
  {
   "cell_type": "code",
   "execution_count": 43,
   "id": "d42fd3a2",
   "metadata": {
    "execution": {
     "iopub.execute_input": "2023-06-28T12:13:08.045216Z",
     "iopub.status.busy": "2023-06-28T12:13:08.044796Z",
     "iopub.status.idle": "2023-06-28T12:13:09.470485Z",
     "shell.execute_reply": "2023-06-28T12:13:09.469538Z"
    },
    "papermill": {
     "duration": 1.574381,
     "end_time": "2023-06-28T12:13:09.473161",
     "exception": false,
     "start_time": "2023-06-28T12:13:07.898780",
     "status": "completed"
    },
    "tags": []
   },
   "outputs": [],
   "source": [
    "sub = pd.DataFrame({\n",
    "    \"id\":test['id'],\n",
    "    \"EC1\":ensemble_ec1.predict_proba(scaled_test)[:, 1],\n",
    "    \"EC2\":ensemble_ec2.predict_proba(scaled_test)[:, 1]\n",
    "})"
   ]
  },
  {
   "cell_type": "code",
   "execution_count": 44,
   "id": "5b7bb086",
   "metadata": {
    "execution": {
     "iopub.execute_input": "2023-06-28T12:13:09.763669Z",
     "iopub.status.busy": "2023-06-28T12:13:09.762977Z",
     "iopub.status.idle": "2023-06-28T12:13:09.775406Z",
     "shell.execute_reply": "2023-06-28T12:13:09.774569Z"
    },
    "papermill": {
     "duration": 0.162225,
     "end_time": "2023-06-28T12:13:09.777651",
     "exception": false,
     "start_time": "2023-06-28T12:13:09.615426",
     "status": "completed"
    },
    "tags": []
   },
   "outputs": [
    {
     "data": {
      "text/html": [
       "<div>\n",
       "<style scoped>\n",
       "    .dataframe tbody tr th:only-of-type {\n",
       "        vertical-align: middle;\n",
       "    }\n",
       "\n",
       "    .dataframe tbody tr th {\n",
       "        vertical-align: top;\n",
       "    }\n",
       "\n",
       "    .dataframe thead th {\n",
       "        text-align: right;\n",
       "    }\n",
       "</style>\n",
       "<table border=\"1\" class=\"dataframe\">\n",
       "  <thead>\n",
       "    <tr style=\"text-align: right;\">\n",
       "      <th></th>\n",
       "      <th>id</th>\n",
       "      <th>EC1</th>\n",
       "      <th>EC2</th>\n",
       "    </tr>\n",
       "  </thead>\n",
       "  <tbody>\n",
       "    <tr>\n",
       "      <th>0</th>\n",
       "      <td>14838</td>\n",
       "      <td>0.439999</td>\n",
       "      <td>0.884735</td>\n",
       "    </tr>\n",
       "    <tr>\n",
       "      <th>1</th>\n",
       "      <td>14839</td>\n",
       "      <td>0.862360</td>\n",
       "      <td>0.823504</td>\n",
       "    </tr>\n",
       "    <tr>\n",
       "      <th>2</th>\n",
       "      <td>14840</td>\n",
       "      <td>0.909445</td>\n",
       "      <td>0.830138</td>\n",
       "    </tr>\n",
       "    <tr>\n",
       "      <th>3</th>\n",
       "      <td>14841</td>\n",
       "      <td>0.873707</td>\n",
       "      <td>0.856673</td>\n",
       "    </tr>\n",
       "    <tr>\n",
       "      <th>4</th>\n",
       "      <td>14842</td>\n",
       "      <td>0.606773</td>\n",
       "      <td>0.815481</td>\n",
       "    </tr>\n",
       "    <tr>\n",
       "      <th>...</th>\n",
       "      <td>...</td>\n",
       "      <td>...</td>\n",
       "      <td>...</td>\n",
       "    </tr>\n",
       "    <tr>\n",
       "      <th>9888</th>\n",
       "      <td>24726</td>\n",
       "      <td>0.691554</td>\n",
       "      <td>0.860636</td>\n",
       "    </tr>\n",
       "    <tr>\n",
       "      <th>9889</th>\n",
       "      <td>24727</td>\n",
       "      <td>0.880800</td>\n",
       "      <td>0.853519</td>\n",
       "    </tr>\n",
       "    <tr>\n",
       "      <th>9890</th>\n",
       "      <td>24728</td>\n",
       "      <td>0.434957</td>\n",
       "      <td>0.882547</td>\n",
       "    </tr>\n",
       "    <tr>\n",
       "      <th>9891</th>\n",
       "      <td>24729</td>\n",
       "      <td>0.296313</td>\n",
       "      <td>0.888158</td>\n",
       "    </tr>\n",
       "    <tr>\n",
       "      <th>9892</th>\n",
       "      <td>24730</td>\n",
       "      <td>0.131227</td>\n",
       "      <td>0.892048</td>\n",
       "    </tr>\n",
       "  </tbody>\n",
       "</table>\n",
       "<p>9893 rows × 3 columns</p>\n",
       "</div>"
      ],
      "text/plain": [
       "         id       EC1       EC2\n",
       "0     14838  0.439999  0.884735\n",
       "1     14839  0.862360  0.823504\n",
       "2     14840  0.909445  0.830138\n",
       "3     14841  0.873707  0.856673\n",
       "4     14842  0.606773  0.815481\n",
       "...     ...       ...       ...\n",
       "9888  24726  0.691554  0.860636\n",
       "9889  24727  0.880800  0.853519\n",
       "9890  24728  0.434957  0.882547\n",
       "9891  24729  0.296313  0.888158\n",
       "9892  24730  0.131227  0.892048\n",
       "\n",
       "[9893 rows x 3 columns]"
      ]
     },
     "execution_count": 44,
     "metadata": {},
     "output_type": "execute_result"
    }
   ],
   "source": [
    "sub"
   ]
  },
  {
   "cell_type": "code",
   "execution_count": 45,
   "id": "e25fa1dd",
   "metadata": {
    "execution": {
     "iopub.execute_input": "2023-06-28T12:13:10.069886Z",
     "iopub.status.busy": "2023-06-28T12:13:10.069182Z",
     "iopub.status.idle": "2023-06-28T12:13:10.139210Z",
     "shell.execute_reply": "2023-06-28T12:13:10.138317Z"
    },
    "papermill": {
     "duration": 0.220458,
     "end_time": "2023-06-28T12:13:10.141847",
     "exception": false,
     "start_time": "2023-06-28T12:13:09.921389",
     "status": "completed"
    },
    "tags": []
   },
   "outputs": [],
   "source": [
    "sub.to_csv('submission.csv',index=False)"
   ]
  }
 ],
 "metadata": {
  "kernelspec": {
   "display_name": "Python 3",
   "language": "python",
   "name": "python3"
  },
  "language_info": {
   "codemirror_mode": {
    "name": "ipython",
    "version": 3
   },
   "file_extension": ".py",
   "mimetype": "text/x-python",
   "name": "python",
   "nbconvert_exporter": "python",
   "pygments_lexer": "ipython3",
   "version": "3.10.10"
  },
  "papermill": {
   "default_parameters": {},
   "duration": 1595.057806,
   "end_time": "2023-06-28T12:13:11.611997",
   "environment_variables": {},
   "exception": null,
   "input_path": "__notebook__.ipynb",
   "output_path": "__notebook__.ipynb",
   "parameters": {},
   "start_time": "2023-06-28T11:46:36.554191",
   "version": "2.4.0"
  }
 },
 "nbformat": 4,
 "nbformat_minor": 5
}
